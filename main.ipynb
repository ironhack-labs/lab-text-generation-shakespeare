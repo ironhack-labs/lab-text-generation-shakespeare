{
 "cells": [
  {
   "cell_type": "markdown",
   "metadata": {},
   "source": [
    "# Lab | Text Generation from Shakespeare's Sonnet\n",
    "\n",
    "This notebook explores the fascinating domain of text generation using a deep learning model trained on Shakespeare's sonnets. \n",
    "\n",
    "The objective is to create a neural network capable of generating text sequences that mimic the style and language of Shakespeare.\n",
    "\n",
    "By utilizing a Recurrent Neural Network (RNN) with Long Short-Term Memory (LSTM) layers, this project aims to demonstrate how a model can learn and replicate the complex patterns of early modern English. \n",
    "\n",
    "The dataset used consists of Shakespeare's sonnets, which are preprocessed and tokenized to serve as input for the model.\n",
    "\n",
    "Throughout this notebook, you will see the steps taken to prepare the data, build and train the model, and evaluate its performance in generating text. \n",
    "\n",
    "This lab provides a hands-on approach to understanding the intricacies of natural language processing (NLP) and the potential of machine learning in creative text generation."
   ]
  },
  {
   "cell_type": "markdown",
   "metadata": {},
   "source": [
    "Let's import necessary libraries"
   ]
  },
  {
   "cell_type": "code",
   "execution_count": 1,
   "metadata": {
    "id": "BOwsuGQQY9OL",
    "tags": []
   },
   "outputs": [],
   "source": [
    "from tensorflow.keras.preprocessing.sequence import pad_sequences\n",
    "from tensorflow.keras.layers import Embedding, LSTM, Dense, Dropout, Bidirectional\n",
    "from tensorflow.keras.preprocessing.text import Tokenizer\n",
    "from tensorflow.keras.models import Sequential\n",
    "from tensorflow.keras.optimizers import Adam\n",
    "from tensorflow.keras import regularizers\n",
    "import tensorflow.keras.utils as ku \n",
    "import numpy as np"
   ]
  },
  {
   "cell_type": "markdown",
   "metadata": {},
   "source": [
    "Let's get the data!"
   ]
  },
  {
   "cell_type": "code",
   "execution_count": 2,
   "metadata": {
    "tags": []
   },
   "outputs": [],
   "source": [
    "import requests\n",
    "url = 'https://raw.githubusercontent.com/martin-gorner/tensorflow-rnn-shakespeare/master/shakespeare/sonnets.txt'\n",
    "resp = requests.get(url)\n",
    "with open('sonnets.txt', 'wb') as f:\n",
    "    f.write(resp.content)\n",
    "\n",
    "data = open('sonnets.txt').read()\n",
    "\n",
    "corpus = data.lower().split(\"\\n\")"
   ]
  },
  {
   "cell_type": "markdown",
   "metadata": {},
   "source": [
    "Step 1: Initialise a tokenizer and fit it on the corpus variable using .fit_on_texts"
   ]
  },
  {
   "cell_type": "code",
   "execution_count": 3,
   "metadata": {},
   "outputs": [
    {
     "name": "stdout",
     "output_type": "stream",
     "text": [
      "Word index:\n",
      " {'and': 1, 'the': 2, 'to': 3, 'of': 4, 'my': 5, 'i': 6, 'in': 7, 'that': 8, 'thy': 9, 'thou': 10, 'with': 11, 'for': 12, 'is': 13, 'not': 14, 'love': 15, 'but': 16, 'a': 17, 'me': 18, 'thee': 19, 'so': 20, 'be': 21, 'as': 22, 'all': 23, 'you': 24, 'his': 25, 'which': 26, 'when': 27, 'it': 28, 'this': 29, 'by': 30, 'your': 31, 'doth': 32, 'do': 33, 'from': 34, 'on': 35, 'or': 36, 'no': 37, 'then': 38, 'have': 39, 'what': 40, 'are': 41, 'if': 42, 'more': 43, 'mine': 44, 'their': 45, 'shall': 46, 'sweet': 47, 'time': 48, 'will': 49, 'they': 50, 'beauty': 51, 'nor': 52, 'eyes': 53, 'art': 54, 'her': 55, 'heart': 56, 'yet': 57, 'o': 58, 'than': 59, 'can': 60, 'should': 61, 'thine': 62, 'now': 63, 'where': 64, 'make': 65, 'one': 66, 'hath': 67, 'he': 68, 'fair': 69, 'still': 70, 'how': 71, 'eye': 72, 'him': 73, 'like': 74, 'true': 75, 'see': 76, 'am': 77, 'she': 78, 'those': 79, 'though': 80, 'being': 81, 'some': 82, 'every': 83, 'such': 84, 'own': 85, 'were': 86, 'dost': 87, 'who': 88, 'live': 89, 'upon': 90, 'was': 91, 'may': 92, 'myself': 93, 'world': 94, 'say': 95, 'praise': 96, 'day': 97, 'well': 98, 'new': 99, 'give': 100, 'most': 101, \"love's\": 102, 'might': 103, 'did': 104, 'let': 105, 'at': 106, 'why': 107, 'since': 108, 'even': 109, 'show': 110, 'life': 111, 'old': 112, 'look': 113, 'best': 114, 'night': 115, 'dear': 116, 'truth': 117, 'these': 118, 'thyself': 119, 'must': 120, 'would': 121, 'thus': 122, 'self': 123, 'ill': 124, 'part': 125, 'our': 126, 'worth': 127, 'made': 128, 'face': 129, 'whose': 130, 'nothing': 131, 'alone': 132, 'false': 133, 'better': 134, \"beauty's\": 135, 'too': 136, 'much': 137, 'there': 138, 'hand': 139, 'thought': 140, 'away': 141, 'against': 142, 'them': 143, 'thoughts': 144, 'days': 145, 'an': 146, \"'\": 147, 'up': 148, 'sight': 149, 'out': 150, 'hast': 151, 'know': 152, 'therefore': 153, 'both': 154, 'name': 155, 'never': 156, 'death': 157, 'mind': 158, \"time's\": 159, 'other': 160, 'find': 161, 'had': 162, 'muse': 163, 'far': 164, 'dead': 165, 'we': 166, 'tell': 167, 'age': 168, 'each': 169, 'youth': 170, 'good': 171, 'men': 172, 'before': 173, 'verse': 174, 'come': 175, 'tongue': 176, 'poor': 177, 'think': 178, 'proud': 179, 'gentle': 180, 'wilt': 181, 'state': 182, 'till': 183, 'things': 184, 'friend': 185, 'ever': 186, 'use': 187, 'many': 188, 'prove': 189, 'none': 190, 'hate': 191, 'hold': 192, 'heaven': 193, 'first': 194, 'whilst': 195, 'black': 196, 'lie': 197, 'take': 198, 'die': 199, 'bear': 200, 'making': 201, 'lies': 202, 'hours': 203, 'looks': 204, 'change': 205, 'kind': 206, 'mayst': 207, 'whom': 208, 'thing': 209, 'long': 210, 'seem': 211, 'woe': 212, 'full': 213, 'desire': 214, 'bright': 215, 'within': 216, 'form': 217, \"summer's\": 218, 'pleasure': 219, 'happy': 220, 'shalt': 221, 'end': 222, 'others': 223, 'any': 224, \"o'er\": 225, 'yourself': 226, 'after': 227, 'rich': 228, 'knows': 229, 'earth': 230, 'sun': 231, \"'tis\": 232, 'grace': 233, 'pride': 234, 'seen': 235, 'shame': 236, 'glass': 237, 'another': 238, 'great': 239, 'nature': 240, 'leave': 241, 'place': 242, 'could': 243, 'call': 244, 'again': 245, 'pen': 246, 'write': 247, 'once': 248, 'words': 249, 'loving': 250, 'deeds': 251, 'found': 252, 'fire': 253, 'right': 254, 'spirit': 255, 'soul': 256, 'pity': 257, 'treasure': 258, 'back': 259, 'beauteous': 260, 'gone': 261, 'lives': 262, 'times': 263, 'strong': 264, 'keep': 265, 'without': 266, 'decay': 267, 'store': 268, 'past': 269, 'stay': 270, 'lose': 271, 'makes': 272, 'loss': 273, 'two': 274, 'although': 275, 'cannot': 276, 'power': 277, 'living': 278, 'forth': 279, 'memory': 280, 'cruel': 281, 'brow': 282, 'deep': 283, 'child': 284, 'blood': 285, 'lovely': 286, 'gives': 287, 'summer': 288, 'leaves': 289, 'flowers': 290, 'joy': 291, 'fear': 292, 'grow': 293, 'save': 294, 'blessed': 295, 'stand': 296, 'lines': 297, 'skill': 298, 'born': 299, 'glory': 300, 'view': 301, 'disgrace': 302, 'speak': 303, 'faults': 304, 'bring': 305, 'loves': 306, 'delight': 307, 'lest': 308, 'sake': 309, 'thence': 310, 'hell': 311, 'sin': 312, 'only': 313, 'tender': 314, 'fresh': 315, 'waste': 316, 'excuse': 317, 'cold': 318, 'through': 319, 'canst': 320, 'very': 321, 'same': 322, 'ten': 323, 'parts': 324, 'sing': 325, 'ah': 326, 'behold': 327, 'white': 328, 'honour': 329, 'outward': 330, 'less': 331, 'wide': 332, 'worst': 333, 'itself': 334, 'breast': 335, 'put': 336, 'shadow': 337, 'sad': 338, \"i'll\": 339, 'roses': 340, 'steal': 341, 'whether': 342, 'straight': 343, 'set': 344, 'breath': 345, 'virtue': 346, 'slave': 347, 'seeing': 348, 'bad': 349, 'three': 350, 'foul': 351, 'swear': 352, 'rose': 353, 'else': 354, 'due': 355, 'despite': 356, \"nature's\": 357, 'having': 358, 'dwell': 359, 'ere': 360, 'shouldst': 361, 'light': 362, 'head': 363, 'under': 364, 'way': 365, 'unless': 366, 'music': 367, 'hear': 368, 'sweets': 369, 'war': 370, 'lovest': 371, \"'gainst\": 372, 'green': 373, 'go': 374, 'themselves': 375, 'hence': 376, 'longer': 377, 'eternal': 378, 'judgment': 379, 'fortune': 380, 'read': 381, 'shows': 382, 'rhyme': 383, 'compare': 384, 'sometime': 385, 'swift': 386, 'wrong': 387, \"heaven's\": 388, 'strength': 389, 'dumb': 390, 'writ': 391, 'wit': 392, 'book': 393, 'rest': 394, 'hope': 395, 'blind': 396, 'return': 397, 'wealth': 398, 'precious': 399, 'while': 400, 'enough': 401, 'argument': 402, 'heavy': 403, 'dull': 404, \"heart's\": 405, 'care': 406, 'strange': 407, 'been': 408, 'painting': 409, 'taught': 410, 'fears': 411, 'spent': 412, 'sick': 413, 'reason': 414, 'lips': 415, 'mad': 416, \"'will\": 417, 'fairest': 418, \"world's\": 419, 'ornament': 420, 'spring': 421, 'tomb': 422, 'calls': 423, 'wrinkles': 424, 'golden': 425, 'spend': 426, 'lend': 427, 'play': 428, 'winter': 429, 'quite': 430, 'left': 431, 'gracious': 432, 'mortal': 433, 'chide': 434, 'shape': 435, 'beloved': 436, 'least': 437, 'fast': 438, 'year': 439, 'gave': 440, 'gift': 441, 'barren': 442, 'yours': 443, 'rage': 444, 'stars': 445, 'oft': 446, 'doom': 447, 'date': 448, 'holds': 449, 'wish': 450, 'painted': 451, 'keeps': 452, 'graces': 453, 'antique': 454, 'short': 455, 'lived': 456, 'man': 457, 'hue': 458, \"men's\": 459, 'fell': 460, 'purpose': 461, 'truly': 462, 'trust': 463, 'speaking': 464, 'wherein': 465, 'done': 466, 'boast': 467, 'buried': 468, 'merit': 469, 'worthy': 470, 'scope': 471, 'moan': 472, 'hearts': 473, \"stol'n\": 474, 'loved': 475, 'birth': 476, 'hide': 477, 'base': 478, 'grief': 479, 'sorrow': 480, 'tears': 481, 'canker': 482, 'sweetest': 483, 'needs': 484, 'spite': 485, 'subject': 486, 'into': 487, 'invention': 488, 'pain': 489, 'absence': 490, 'kill': 491, 'large': 492, 'water': 493, 'slow': 494, 'present': 495, 'motion': 496, 'down': 497, 'says': 498, 'took': 499, 'side': 500, 'need': 501, 'cheek': 502, 'worse': 503, 'near': 504, 'flower': 505, 'faith': 506, 'tied': 507, 'rank': 508, 'brain': 509, 'saw': 510, 'grew': 511, 'brand': 512, 'cure': 513, \"mistress'\": 514, \"'will'\": 515, 'angel': 516, 'eternity': 517, 'increase': 518, 'abundance': 519, 'sum': 520, 'count': 521, 'prime': 522, 'single': 523, 'image': 524, 'lends': 525, 'free': 526, 'given': 527, 'unused': 528, 'used': 529, 'frame': 530, 'substance': 531, \"death's\": 532, 'worms': 533, 'weary': 534, 'mark': 535, 'song': 536, 'behind': 537, 'grant': 538, 'rude': 539, 'heat': 540, 'beauties': 541, 'scythe': 542, 'here': 543, 'lease': 544, 'pluck': 545, 'methinks': 546, 'evil': 547, 'minutes': 548, 'grows': 549, 'wherefore': 550, 'inward': 551, 'believe': 552, 'high': 553, 'numbers': 554, 'touches': 555, \"ne'er\": 556, 'buds': 557, 'shade': 558, 'crime': 559, 'young': 560, 'mistress': 561, 'rehearse': 562, 'rare': 563, 'air': 564, 'babe': 565, 'body': 566, 'want': 567, 'public': 568, 'forgot': 569, 'removed': 570, 'bare': 571, 'respect': 572, 'dare': 573, 'toil': 574, 'tired': 575, 'jewel': 576, 'please': 577, 'clouds': 578, 'contented': 579, 'break': 580, 'lack': 581, 'account': 582, 'holy': 583, 'appear': 584, 'grown': 585, 'sovereign': 586, 'shine': 587, 'hour': 588, 'wound': 589, 'sense': 590, 'thief': 591, 'help': 592, 'report': 593, 'comfort': 594, 'leisure': 595, 'blame': 596, 'taste': 597, 'absent': 598, 'said': 599, 'gain': 600, 'sleep': 601, 'sea': 602, 'assured': 603, 'told': 604, 'seek': 605, 'groan': 606, 'morrow': 607, 'former': 608, 'second': 609, 'knife': 610, 'brass': 611, 'win': 612, 'forsworn': 613, 'tongues': 614, 'add': 615, 'smell': 616, 'weeds': 617, 'common': 618, 'lost': 619, \"others'\": 620, 'knowing': 621, 'cheeks': 622, 'story': 623, 'praises': 624, 'above': 625, 'wretched': 626, 'turn': 627, 'errors': 628, 'lays': 629, 'red': 630, 'just': 631, 'catch': 632, 'laid': 633, 'bath': 634, 'poet': 635, 'decease': 636, 'heir': 637, 'flame': 638, 'eat': 639, 'grave': 640, 'weed': 641, 'answer': 642, 'repair': 643, 'posterity': 644, \"mother's\": 645, 'april': 646, 'windows': 647, \"remember'd\": 648, 'abuse': 649, 'audit': 650, 'work': 651, 'confounds': 652, 'effect': 653, \"distill'd\": 654, \"winter's\": 655, 'pay': 656, 'happier': 657, 'conquest': 658, 'lo': 659, 'heavenly': 660, 'son': 661, 'receivest': 662, 'ear': 663, 'husband': 664, 'seeming': 665, 'weep': 666, 'kept': 667, 'murderous': 668, 'fairer': 669, 'brave': 670, 'among': 671, 'takes': 672, 'fall': 673, 'father': 674, 'brief': 675, 'rain': 676, 'knowledge': 677, 'constant': 678, 'wouldst': 679, 'nought': 680, 'whereon': 681, 'height': 682, 'wear': 683, 'conceit': 684, 'bloody': 685, 'tyrant': 686, 'means': 687, 'maiden': 688, 'virtuous': 689, 'drawn': 690, \"fill'd\": 691, 'half': 692, 'number': 693, 'shake': 694, 'hot': 695, 'complexion': 696, 'course': 697, 'fade': 698, 'blunt': 699, 'burn': 700, 'forbid': 701, 'draw': 702, \"woman's\": 703, \"women's\": 704, 'woman': 705, 'wert': 706, 'moon': 707, 'cover': 708, 'bearing': 709, 'gavest': 710, 'burden': 711, \"express'd\": 712, 'turns': 713, 'therein': 714, 'cunning': 715, 'favour': 716, 'triumph': 717, 'frown': 718, 'fight': 719, 'thousand': 720, 'razed': 721, 'duty': 722, 'witness': 723, 'wanting': 724, 'star': 725, 'haste': 726, 'bed': 727, \"body's\": 728, 'looking': 729, 'farther': 730, 'blot': 731, 'flatter': 732, 'daily': 733, 'friends': 734, 'almost': 735, 'haply': 736, 'expense': 737, 'survey': 738, 'growing': 739, 'brought': 740, 'style': 741, 'basest': 742, 'ride': 743, 'west': 744, 'alack': 745, 'stain': 746, 'didst': 747, 'bears': 748, 'cross': 749, 'thorns': 750, 'amiss': 751, 'sins': 752, 'fault': 753, 'lawful': 754, 'plea': 755, 'twain': 756, 'remain': 757, 'evermore': 758, \"fortune's\": 759, 'dearest': 760, 'despised': 761, 'vulgar': 762, 'outlive': 763, 'manners': 764, 'greater': 765, 'injury': 766, 'foes': 767, 'because': 768, 'approve': 769, 'losing': 770, 'flattery': 771, 'dark': 772, 'shadows': 773, 'clear': 774, 'flesh': 775, 'matter': 776, 'foot': 777, 'soon': 778, \"eye's\": 779, 'picture': 780, 'sure': 781, 'chest': 782, 'whence': 783, 'prize': 784, 'pass': 785, 'greet': 786, 'reasons': 787, 'desert': 788, 'cause': 789, 'teach': 790, 'speed': 791, 'pace': 792, 'blest': 793, 'tend': 794, 'odour': 795, 'hang': 796, 'stone': 797, 'quick': 798, 'record': 799, 'edge': 800, 'appetite': 801, 'feeding': 802, 'fill': 803, 'ocean': 804, 'shore': 805, 'thrice': 806, 'fool': 807, 'god': 808, 'control': 809, 'doing': 810, 'five': 811, 'character': 812, 'wonder': 813, 'main': 814, \"crown'd\": 815, 'stands': 816, 'mock': 817, 'home': 818, 'elsewhere': 819, 'cost': 820, 'advantage': 821, 'action': 822, 'steel': 823, 'simple': 824, 'infection': 825, 'bastard': 826, \"another's\": 827, 'mend': 828, 'suspect': 829, 'flies': 830, 'mourn': 831, 'vile': 832, 'line': 833, 'thinking': 834, 'birds': 835, 'ground': 836, 'pine': 837, 'acquaintance': 838, 'got': 839, 'double': 840, 'works': 841, 'fame': 842, 'sail': 843, 'anew': 844, 'silence': 845, \"know'st\": 846, 'bonds': 847, 'vow': 848, 'general': 849, \"what's\": 850, \"seem'd\": 851, 'despair': 852, 'growth': 853, 'colour': 854, 'over': 855, 'sinful': 856, 'constancy': 857, 'confined': 858, \"'fair\": 859, 'boy': 860, 'proved': 861, 'proof': 862, 'receives': 863, 'plague': 864, 'minds': 865, 'taken': 866, 'whereto': 867, 'unkind': 868, 'fingers': 869, 'kiss': 870, 'perjured': 871, 'came': 872, \"'i\": 873, \"hate'\": 874, 'sworn': 875, 'conscience': 876, 'oaths': 877, 'sonnets': 878, 'wishing': 879, 't': 880, 'creatures': 881, 'thereby': 882, 'riper': 883, 'contracted': 884, 'bud': 885, 'content': 886, 'churl': 887, 'makest': 888, 'winters': 889, \"tatter'd\": 890, 'small': 891, 'held': 892, 'lusty': 893, \"'this\": 894, 'mother': 895, 'womb': 896, 'husbandry': 897, 'fond': 898, 'stop': 899, 'niggard': 900, 'bounteous': 901, 'usurer': 902, 'deceive': 903, 'gaze': 904, 'leads': 905, 'hideous': 906, 'sap': 907, \"cheque'd\": 908, 'bareness': 909, 'pent': 910, 'walls': 911, 'remembrance': 912, 'meet': 913, 'willing': 914, 'breed': 915, 'depart': 916, 'serving': 917, 'sacred': 918, 'majesty': 919, 'steep': 920, 'resembling': 921, 'attending': 922, 'pilgrimage': 923, 'pitch': 924, 'converted': 925, 'going': 926, \"unlook'd\": 927, 'delights': 928, 'concord': 929, 'sounds': 930, 'married': 931, 'sweetly': 932, 'mutual': 933, 'pleasing': 934, 'note': 935, 'speechless': 936, 'sings': 937, 'wail': 938, 'widow': 939, 'bosom': 940, 'himself': 941, 'commits': 942, 'deny': 943, \"possess'd\": 944, 'chief': 945, 'presence': 946, 'growest': 947, 'folly': 948, 'bounty': 949, 'copy': 950, 'clock': 951, 'tells': 952, 'violet': 953, 'lofty': 954, 'canopy': 955, 'borne': 956, 'question': 957, 'wastes': 958, 'forsake': 959, 'defence': 960, 'coming': 961, 'prepare': 962, 'issue': 963, 'wind': 964, 'princes': 965, 'thrive': 966, 'perfection': 967, 'little': 968, 'huge': 969, 'stage': 970, 'influence': 971, 'comment': 972, 'youthful': 973, 'inconstant': 974, 'sets': 975, 'wasteful': 976, 'fortify': 977, 'counterfeit': 978, 'pencil': 979, 'neither': 980, 'deserts': 981, 'faces': 982, \"poet's\": 983, 'alive': 984, 'twice': 985, 'winds': 986, 'shines': 987, 'often': 988, 'gold': 989, 'changing': 990, 'possession': 991, 'breathe': 992, 'keen': 993, 'fierce': 994, 'glad': 995, 'seasons': 996, \"whate'er\": 997, 'fading': 998, 'allow': 999, 'pattern': 1000, 'master': 1001, 'acquainted': 1002, 'fashion': 1003, 'theirs': 1004, 'gilding': 1005, 'controlling': 1006, 'souls': 1007, 'created': 1008, 'wrought': 1009, 'doting': 1010, 'addition': 1011, \"fix'd\": 1012, 'slain': 1013, 'besides': 1014, 'replete': 1015, 'forget': 1016, 'perfect': 1017, 'plead': 1018, 'learn': 1019, 'silent': 1020, 'belongs': 1021, 'fine': 1022, 'painter': 1023, \"bosom's\": 1024, 'bars': 1025, 'remove': 1026, 'strongly': 1027, 'send': 1028, \"soul's\": 1029, 'moving': 1030, 'repose': 1031, 'limbs': 1032, 'travel': 1033, 'journey': 1034, 'abide': 1035, 'eyelids': 1036, 'open': 1037, 'sightless': 1038, 'hung': 1039, 'benefit': 1040, \"oppress'd\": 1041, 'enemies': 1042, \"either's\": 1043, 'reign': 1044, 'hands': 1045, 'torture': 1046, 'off': 1047, 'sorrows': 1048, 'nightly': 1049, 'stronger': 1050, 'cries': 1051, 'curse': 1052, \"man's\": 1053, 'sullen': 1054, 'hymns': 1055, 'brings': 1056, 'scorn': 1057, 'kings': 1058, 'hid': 1059, 'dateless': 1060, \"vanish'd\": 1061, 'heavily': 1062, 'supposed': 1063, 'obsequious': 1064, 'interest': 1065, 'lovers': 1066, 'survive': 1067, 'dust': 1068, 'deceased': 1069, 'bettering': 1070, 'reserve': 1071, 'vouchsafe': 1072, \"friend's\": 1073, 'dearer': 1074, 'died': 1075, 'poets': 1076, 'morning': 1077, 'mountain': 1078, 'pale': 1079, 'alchemy': 1080, 'anon': 1081, 'stealing': 1082, 'unseen': 1083, 'morn': 1084, 'triumphant': 1085, 'cloud': 1086, \"mask'd\": 1087, 'rotten': 1088, 'physic': 1089, 'weak': 1090, 'ransom': 1091, 'trespass': 1092, 'sensual': 1093, 'sourly': 1094, 'robs': 1095, 'kindness': 1096, 'sort': 1097, 'lame': 1098, 'sit': 1099, 'invent': 1100, 'aught': 1101, 'slight': 1102, \"'t\": 1103, 'us': 1104, 'torment': 1105, 'sour': 1106, 'praising': 1107, 'hadst': 1108, 'blamed': 1109, 'wilful': 1110, 'robbery': 1111, 'poverty': 1112, 'lascivious': 1113, 'petty': 1114, 'wrongs': 1115, 'liberty': 1116, 'years': 1117, 'temptation': 1118, 'ay': 1119, 'seat': 1120, 'forbear': 1121, 'try': 1122, 'lead': 1123, 'ye': 1124, 'lay': 1125, 'wink': 1126, 'unrespected': 1127, 'dreams': 1128, 'clearer': 1129, 'nights': 1130, 'injurious': 1131, 'farthest': 1132, 'nimble': 1133, 'leap': 1134, 'miles': 1135, 'elements': 1136, 'health': 1137, 'title': 1138, 'quest': 1139, 'feast': 1140, 'guest': 1141, 'either': 1142, 'careful': 1143, 'falsehood': 1144, 'jewels': 1145, 'prey': 1146, 'feel': 1147, 'thievish': 1148, 'cast': 1149, \"call'd\": 1150, 'strangely': 1151, 'guard': 1152, 'ease': 1153, 'beast': 1154, 'wretch': 1155, 'spur': 1156, 'offence': 1157, 'horse': 1158, 'towards': 1159, 'point': 1160, 'seldom': 1161, 'captain': 1162, 'special': 1163, \"imprison'd\": 1164, \"lack'd\": 1165, 'whereof': 1166, 'deaths': 1167, 'gilded': 1168, 'powerful': 1169, 'root': 1170, \"lover's\": 1171, 'force': 1172, 'hungry': 1173, 'perpetual': 1174, 'welcome': 1175, 'watch': 1176, 'bitterness': 1177, 'affairs': 1178, 'thinks': 1179, 'vassal': 1180, 'bound': 1181, 'suffer': 1182, 'patience': 1183, 'bide': 1184, 'cheque': 1185, 'charter': 1186, 'privilege': 1187, 'belong': 1188, 'wait': 1189, 'wits': 1190, 'subjects': 1191, 'goes': 1192, 'crooked': 1193, 'confound': 1194, 'feeds': 1195, 'shames': 1196, 'idle': 1197, 'remedy': 1198, 'grounded': 1199, 'antiquity': 1200, \"age's\": 1201, 'king': 1202, 'outworn': 1203, 'ink': 1204, 'cry': 1205, 'sway': 1206, 'lively': 1207, 'veins': 1208, 'last': 1209, 'map': 1210, 'gay': 1211, 'shown': 1212, 'guess': 1213, 'measure': 1214, 'defect': 1215, 'crow': 1216, 'slander': 1217, 'pure': 1218, \"pass'd\": 1219, 'tie': 1220, 'envy': 1221, 'fled': 1222, 'nay': 1223, 'remember': 1224, 'wise': 1225, 'devise': 1226, 'untrue': 1227, 'yellow': 1228, \"ruin'd\": 1229, 'bail': 1230, 'showers': 1231, 'peace': 1232, \"'twixt\": 1233, 'doubting': 1234, 'counting': 1235, 'possessing': 1236, 'glance': 1237, 'aside': 1238, 'compounds': 1239, 'noted': 1240, 'word': 1241, 'telling': 1242, 'dial': 1243, 'learning': 1244, 'ignorance': 1245, 'added': 1246, 'aid': 1247, 'pays': 1248, 'humble': 1249, 'saucy': 1250, 'bark': 1251, 'worthless': 1252, 'yield': 1253, 'monument': 1254, 'finding': 1255, 'gross': 1256, 'quill': 1257, 'mute': 1258, 'example': 1259, 'comments': 1260, 'affords': 1261, 'praised': 1262, 'something': 1263, 'spirits': 1264, 'giving': 1265, 'riches': 1266, 'comes': 1267, 'dream': 1268, 'bending': 1269, 'injuries': 1270, 'vantage': 1271, 'desired': 1272, 'walks': 1273, 'bent': 1274, 'bow': 1275, 'hawks': 1276, 'humour': 1277, 'adjunct': 1278, 'finds': 1279, 'depends': 1280, 'vex': 1281, 'deceived': 1282, \"alter'd\": 1283, 'creation': 1284, 'sweetness': 1285, 'excellence': 1286, 'sport': 1287, 'mansion': 1288, \"esteem'd\": 1289, \"deem'd\": 1290, 'betray': 1291, 'autumn': 1292, 'dyed': 1293, 'blushing': 1294, 'esteem': 1295, 'rise': 1296, 'neglect': 1297, 'seems': 1298, \"turn'd\": 1299, 'perfumes': 1300, 'wondrous': 1301, \"true'\": 1302, \"look'd\": 1303, 'forfeit': 1304, 'express': 1305, 'divine': 1306, 'bred': 1307, 'frailties': 1308, 'alas': 1309, 'newer': 1310, 'next': 1311, 'guilty': 1312, 'goddess': 1313, 'drink': 1314, 'potions': 1315, 'bitter': 1316, 'strive': 1317, 'objects': 1318, 'palate': 1319, 'vows': 1320, 'alters': 1321, 'shaken': 1322, 'unknown': 1323, 'accuse': 1324, 'level': 1325, 'urge': 1326, 'maladies': 1327, 'shun': 1328, 'diseased': 1329, 'policy': 1330, 'healthful': 1331, 'goodness': 1332, 'hopes': 1333, 'fever': 1334, 'built': 1335, 'unkindness': 1336, 'becomes': 1337, 'feeling': 1338, 'wills': 1339, 'tables': 1340, 'bold': 1341, 'discontent': 1342, 'bore': 1343, 'render': 1344, \"borrow'd\": 1345, 'profaned': 1346, 'mourners': 1347, 'becoming': 1348, 'wood': 1349, 'jacks': 1350, 'lust': 1351, 'extreme': 1352, 'sooner': 1353, 'pursuit': 1354, 'wires': 1355, 'sound': 1356, 'belied': 1357, 'disdain': 1358, 'pretty': 1359, 'mourning': 1360, 'suit': 1361, 'fulfil': 1362, 'corrupt': 1363, 'vainly': 1364, 'ears': 1365, 'despise': 1366, 'dote': 1367, 'broke': 1368, 'chase': 1369, 'follow': 1370, 'fiend': 1371, 'abhor': 1372, 'cupid': 1373, 'asleep': 1374, 'begetter': 1375, 'insuing': 1376, 'mr': 1377, 'w': 1378, 'h': 1379, 'happiness': 1380, 'promised': 1381, 'wisheth': 1382, 'adventurer': 1383, 'setting': 1384, \"feed'st\": 1385, \"light'st\": 1386, 'substantial': 1387, 'fuel': 1388, 'famine': 1389, 'foe': 1390, 'herald': 1391, 'gaudy': 1392, 'buriest': 1393, 'niggarding': 1394, 'glutton': 1395, 'ii': 1396, 'forty': 1397, 'beseige': 1398, 'dig': 1399, 'trenches': 1400, 'field': 1401, \"youth's\": 1402, 'livery': 1403, 'gazed': 1404, \"ask'd\": 1405, 'sunken': 1406, 'eating': 1407, 'thriftless': 1408, 'deserved': 1409, 'couldst': 1410, 'proving': 1411, 'succession': 1412, 'warm': 1413, \"feel'st\": 1414, 'iii': 1415, 'viewest': 1416, 'renewest': 1417, 'beguile': 1418, 'unbless': 1419, \"unear'd\": 1420, 'disdains': 1421, 'tillage': 1422, 'dies': 1423, 'iv': 1424, 'unthrifty': 1425, 'loveliness': 1426, 'legacy': 1427, 'bequest': 1428, 'frank': 1429, 'largess': 1430, 'profitless': 1431, 'sums': 1432, 'traffic': 1433, 'acceptable': 1434, \"tomb'd\": 1435, \"th'\": 1436, 'executor': 1437, 'v': 1438, 'tyrants': 1439, 'unfair': 1440, 'fairly': 1441, 'excel': 1442, 'resting': 1443, 'frost': 1444, \"o'ersnow'd\": 1445, 'distillation': 1446, 'liquid': 1447, 'prisoner': 1448, 'bereft': 1449, 'leese': 1450, 'vi': 1451, 'ragged': 1452, 'deface': 1453, 'vial': 1454, \"kill'd\": 1455, 'forbidden': 1456, 'usury': 1457, 'happies': 1458, 'loan': 1459, \"that's\": 1460, 'refigured': 1461, 'leaving': 1462, \"will'd\": 1463, 'vii': 1464, 'orient': 1465, 'lifts': 1466, 'burning': 1467, 'homage': 1468, 'appearing': 1469, \"climb'd\": 1470, 'hill': 1471, 'middle': 1472, 'adore': 1473, 'highmost': 1474, 'car': 1475, 'feeble': 1476, 'reeleth': 1477, \"'fore\": 1478, 'duteous': 1479, 'low': 1480, 'tract': 1481, 'noon': 1482, 'diest': 1483, 'get': 1484, 'viii': 1485, \"hear'st\": 1486, 'sadly': 1487, 'gladly': 1488, 'annoy': 1489, 'tuned': 1490, 'unions': 1491, 'offend': 1492, 'singleness': 1493, 'string': 1494, 'strikes': 1495, 'ordering': 1496, 'sire': 1497, \"'thou\": 1498, 'ix': 1499, 'wet': 1500, \"widow's\": 1501, 'consumest': 1502, 'issueless': 1503, 'hap': 1504, 'makeless': 1505, 'wife': 1506, 'private': 1507, \"children's\": 1508, \"husband's\": 1509, 'unthrift': 1510, 'shifts': 1511, 'enjoys': 1512, 'user': 1513, 'destroys': 1514, 'toward': 1515, 'sits': 1516, 'x': 1517, \"bear'st\": 1518, 'unprovident': 1519, 'evident': 1520, \"stick'st\": 1521, 'conspire': 1522, 'seeking': 1523, 'roof': 1524, 'ruinate': 1525, 'lodged': 1526, 'hearted': 1527, 'xi': 1528, 'wane': 1529, 'departest': 1530, 'youngly': 1531, 'bestowest': 1532, 'convertest': 1533, 'herein': 1534, 'wisdom': 1535, 'minded': 1536, 'cease': 1537, 'threescore': 1538, 'harsh': 1539, 'featureless': 1540, 'barrenly': 1541, 'perish': 1542, \"endow'd\": 1543, 'cherish': 1544, 'carved': 1545, 'seal': 1546, 'meant': 1547, 'print': 1548, 'xii': 1549, 'sunk': 1550, 'sable': 1551, 'curls': 1552, \"silver'd\": 1553, 'trees': 1554, 'erst': 1555, 'herd': 1556, 'girded': 1557, 'sheaves': 1558, 'bier': 1559, 'bristly': 1560, 'beard': 1561, 'xiii': 1562, 'semblance': 1563, 'determination': 1564, \"yourself's\": 1565, 'lets': 1566, 'house': 1567, 'uphold': 1568, 'stormy': 1569, 'gusts': 1570, 'unthrifts': 1571, 'xiv': 1572, 'astronomy': 1573, 'luck': 1574, 'plagues': 1575, 'dearths': 1576, \"seasons'\": 1577, 'quality': 1578, 'pointing': 1579, 'thunder': 1580, 'predict': 1581, 'derive': 1582, 'together': 1583, 'convert': 1584, 'prognosticate': 1585, \"truth's\": 1586, 'xv': 1587, 'consider': 1588, 'moment': 1589, 'presenteth': 1590, 'secret': 1591, 'perceive': 1592, 'plants': 1593, 'cheered': 1594, 'sky': 1595, 'vaunt': 1596, 'decrease': 1597, 'debateth': 1598, 'sullied': 1599, 'engraft': 1600, 'xvi': 1601, 'mightier': 1602, 'top': 1603, 'gardens': 1604, 'unset': 1605, 'liker': 1606, 'pupil': 1607, 'xvii': 1608, 'hides': 1609, \"touch'd\": 1610, 'earthly': 1611, 'papers': 1612, \"yellow'd\": 1613, \"scorn'd\": 1614, 'rights': 1615, \"term'd\": 1616, 'stretched': 1617, 'metre': 1618, 'xviii': 1619, 'temperate': 1620, 'rough': 1621, 'darling': 1622, \"dimm'd\": 1623, 'declines': 1624, 'chance': 1625, \"untrimm'd\": 1626, 'owest': 1627, 'brag': 1628, \"wander'st\": 1629, 'xix': 1630, 'devouring': 1631, \"lion's\": 1632, 'paws': 1633, 'devour': 1634, 'brood': 1635, 'teeth': 1636, \"tiger's\": 1637, 'jaws': 1638, 'phoenix': 1639, 'sorry': 1640, 'fleets': 1641, 'footed': 1642, 'heinous': 1643, 'carve': 1644, 'untainted': 1645, 'succeeding': 1646, 'xx': 1647, 'passion': 1648, 'shifting': 1649, 'rolling': 1650, 'object': 1651, 'whereupon': 1652, 'gazeth': 1653, \"'hues'\": 1654, 'steals': 1655, 'amazeth': 1656, 'defeated': 1657, 'adding': 1658, \"prick'd\": 1659, 'xxi': 1660, \"stirr'd\": 1661, 'couplement': 1662, \"sea's\": 1663, 'gems': 1664, \"april's\": 1665, 'rondure': 1666, 'hems': 1667, \"o'\": 1668, 'candles': 1669, 'hearsay': 1670, 'sell': 1671, 'xxii': 1672, 'persuade': 1673, 'furrows': 1674, 'expiate': 1675, 'seemly': 1676, 'raiment': 1677, 'elder': 1678, 'wary': 1679, 'chary': 1680, 'nurse': 1681, 'faring': 1682, 'presume': 1683, 'xxiii': 1684, 'unperfect': 1685, 'actor': 1686, \"strength's\": 1687, 'weakens': 1688, 'ceremony': 1689, 'rite': 1690, \"o'ercharged\": 1691, 'books': 1692, 'eloquence': 1693, 'presagers': 1694, 'recompense': 1695, 'xxiv': 1696, \"play'd\": 1697, \"stell'd\": 1698, 'table': 1699, 'perspective': 1700, \"painter's\": 1701, 'pictured': 1702, 'shop': 1703, 'hanging': 1704, 'glazed': 1705, 'peep': 1706, 'xxv': 1707, 'titles': 1708, \"princes'\": 1709, 'favourites': 1710, 'spread': 1711, 'marigold': 1712, \"sun's\": 1713, 'painful': 1714, 'warrior': 1715, 'famoused': 1716, 'victories': 1717, \"foil'd\": 1718, \"toil'd\": 1719, 'xxvi': 1720, 'lord': 1721, 'vassalage': 1722, 'knit': 1723, 'written': 1724, 'embassage': 1725, 'naked': 1726, 'bestow': 1727, 'whatsoever': 1728, 'guides': 1729, 'points': 1730, 'graciously': 1731, 'aspect': 1732, 'puts': 1733, 'apparel': 1734, 'xxvii': 1735, 'begins': 1736, \"work's\": 1737, 'expired': 1738, 'intend': 1739, 'zealous': 1740, 'drooping': 1741, 'darkness': 1742, 'imaginary': 1743, 'presents': 1744, 'ghastly': 1745, 'quiet': 1746, 'xxviii': 1747, 'plight': 1748, \"debarr'd\": 1749, \"day's\": 1750, 'oppression': 1751, 'eased': 1752, 'consent': 1753, 'complain': 1754, 'swart': 1755, \"complexion'd\": 1756, 'sparkling': 1757, 'twire': 1758, \"gild'st\": 1759, \"grief's\": 1760, 'xxix': 1761, 'beweep': 1762, 'outcast': 1763, 'trouble': 1764, 'deal': 1765, 'bootless': 1766, 'fate': 1767, 'featured': 1768, 'desiring': 1769, 'enjoy': 1770, 'despising': 1771, 'lark': 1772, 'arising': 1773, 'gate': 1774, 'xxx': 1775, 'sessions': 1776, 'summon': 1777, 'sigh': 1778, 'sought': 1779, 'woes': 1780, 'drown': 1781, 'flow': 1782, 'afresh': 1783, \"cancell'd\": 1784, 'grieve': 1785, 'grievances': 1786, 'foregone': 1787, 'fore': 1788, 'bemoaned': 1789, 'paid': 1790, 'losses': 1791, 'restored': 1792, 'xxxi': 1793, 'endeared': 1794, 'lacking': 1795, 'reigns': 1796, 'tear': 1797, 'religious': 1798, 'hidden': 1799, 'trophies': 1800, 'images': 1801, 'xxxii': 1802, 'bones': 1803, 're': 1804, 'lover': 1805, \"outstripp'd\": 1806, 'exceeded': 1807, \"'had\": 1808, 'march': 1809, 'ranks': 1810, 'equipage': 1811, 'xxxiii': 1812, 'glorious': 1813, 'tops': 1814, 'kissing': 1815, 'meadows': 1816, 'streams': 1817, 'permit': 1818, 'ugly': 1819, 'rack': 1820, 'celestial': 1821, 'forlorn': 1822, 'visage': 1823, 'early': 1824, 'splendor': 1825, 'region': 1826, 'whit': 1827, 'disdaineth': 1828, 'suns': 1829, 'staineth': 1830, 'xxxiv': 1831, 'promise': 1832, 'cloak': 1833, \"o'ertake\": 1834, 'hiding': 1835, 'bravery': 1836, 'smoke': 1837, 'dry': 1838, 'storm': 1839, 'beaten': 1840, 'salve': 1841, 'heals': 1842, 'cures': 1843, 'repent': 1844, \"offender's\": 1845, 'relief': 1846, \"offence's\": 1847, 'pearl': 1848, 'sheds': 1849, 'xxxv': 1850, 'grieved': 1851, 'silver': 1852, 'fountains': 1853, 'mud': 1854, 'eclipses': 1855, 'loathsome': 1856, 'authorizing': 1857, 'corrupting': 1858, 'salving': 1859, 'excusing': 1860, 'adverse': 1861, 'party': 1862, 'advocate': 1863, 'commence': 1864, 'civil': 1865, 'accessary': 1866, 'xxxvi': 1867, 'confess': 1868, 'undivided': 1869, 'blots': 1870, 'separable': 1871, 'alter': 1872, 'sole': 1873, 'acknowledge': 1874, 'bewailed': 1875, 'guilt': 1876, 'xxxvii': 1877, 'decrepit': 1878, 'active': 1879, 'entitled': 1880, 'crowned': 1881, 'engrafted': 1882, 'sufficed': 1883, 'xxxviii': 1884, \"pour'st\": 1885, 'excellent': 1886, 'paper': 1887, 'thanks': 1888, 'perusal': 1889, \"who's\": 1890, 'tenth': 1891, 'nine': 1892, 'rhymers': 1893, 'invocate': 1894, 'curious': 1895, 'xxxix': 1896, 'divided': 1897, 'separation': 1898, 'deservest': 1899, 'entertain': 1900, 'teachest': 1901, 'xl': 1902, 'yea': 1903, 'usest': 1904, 'deceivest': 1905, 'refusest': 1906, 'forgive': 1907, \"hate's\": 1908, 'known': 1909, 'spites': 1910, 'xli': 1911, 'befits': 1912, 'follows': 1913, 'won': 1914, 'assailed': 1915, 'woos': 1916, 'prevailed': 1917, 'mightest': 1918, 'straying': 1919, 'riot': 1920, 'forced': 1921, 'twofold': 1922, 'hers': 1923, 'tempting': 1924, 'xlii': 1925, 'dearly': 1926, 'wailing': 1927, 'nearly': 1928, 'offenders': 1929, 'knowst': 1930, 'suffering': 1931, \"here's\": 1932, 'xliii': 1933, 'darkly': 1934, 'directed': 1935, \"shadow's\": 1936, 'unseeing': 1937, 'imperfect': 1938, 'xliv': 1939, 'distance': 1940, 'space': 1941, 'limits': 1942, 'remote': 1943, 'jump': 1944, 'land': 1945, 'kills': 1946, 'lengths': 1947, 'attend': 1948, 'receiving': 1949, 'badges': 1950, 'xlv': 1951, 'purging': 1952, 'wherever': 1953, 'slide': 1954, 'quicker': 1955, 'embassy': 1956, 'four': 1957, 'sinks': 1958, 'melancholy': 1959, 'until': 1960, \"life's\": 1961, 'composition': 1962, 'recured': 1963, 'messengers': 1964, \"return'd\": 1965, 'recounting': 1966, 'xlvi': 1967, 'divide': 1968, \"picture's\": 1969, 'bar': 1970, 'freedom': 1971, 'closet': 1972, 'pierced': 1973, 'crystal': 1974, 'defendant': 1975, 'appearance': 1976, \"'cide\": 1977, 'impanneled': 1978, 'tenants': 1979, 'verdict': 1980, 'determined': 1981, 'moiety': 1982, 'xlvii': 1983, 'betwixt': 1984, 'league': 1985, 'unto': 1986, \"famish'd\": 1987, 'sighs': 1988, 'smother': 1989, 'banquet': 1990, 'bids': 1991, 'share': 1992, 'resent': 1993, 'move': 1994, 'awakes': 1995, 'xlviii': 1996, 'trifle': 1997, 'truest': 1998, 'thrust': 1999, 'wards': 2000, 'trifles': 2001, 'greatest': 2002, \"lock'd\": 2003, 'closure': 2004, 'proves': 2005, 'xlix': 2006, 'defects': 2007, 'utmost': 2008, 'advised': 2009, 'respects': 2010, 'scarcely': 2011, 'settled': 2012, 'gravity': 2013, 'ensconce': 2014, 'uprear': 2015, 'laws': 2016, 'allege': 2017, 'l': 2018, \"travel's\": 2019, \"'thus\": 2020, 'measured': 2021, 'plods': 2022, 'dully': 2023, 'weight': 2024, 'instinct': 2025, 'rider': 2026, 'provoke': 2027, 'sometimes': 2028, 'anger': 2029, 'thrusts': 2030, 'answers': 2031, 'sharp': 2032, 'spurring': 2033, 'onward': 2034, 'li': 2035, 'bearer': 2036, 'posting': 2037, 'extremity': 2038, 'mounted': 2039, 'winged': 2040, \"perfect'st\": 2041, 'neigh': 2042, 'fiery': 2043, 'race': 2044, 'jade': 2045, 'went': 2046, 'run': 2047, 'lii': 2048, 'key': 2049, 'locked': 2050, 'blunting': 2051, 'feasts': 2052, 'solemn': 2053, 'stones': 2054, 'thinly': 2055, 'placed': 2056, 'carcanet': 2057, 'wardrobe': 2058, 'robe': 2059, 'instant': 2060, 'unfolding': 2061, 'worthiness': 2062, 'liii': 2063, 'millions': 2064, 'describe': 2065, 'adonis': 2066, 'poorly': 2067, 'imitated': 2068, \"helen's\": 2069, 'grecian': 2070, 'tires': 2071, 'foison': 2072, 'external': 2073, 'liv': 2074, 'deem': 2075, 'blooms': 2076, 'dye': 2077, 'perfumed': 2078, 'tincture': 2079, 'wantonly': 2080, 'masked': 2081, 'discloses': 2082, \"unwoo'd\": 2083, 'odours': 2084, 'distills': 2085, 'lv': 2086, 'marble': 2087, 'monuments': 2088, 'contents': 2089, 'unswept': 2090, \"besmear'd\": 2091, 'sluttish': 2092, 'statues': 2093, 'overturn': 2094, 'broils': 2095, 'masonry': 2096, 'mars': 2097, 'sword': 2098, \"war's\": 2099, 'oblivious': 2100, 'enmity': 2101, 'room': 2102, 'ending': 2103, 'arise': 2104, 'lvi': 2105, 'renew': 2106, 'blunter': 2107, \"allay'd\": 2108, \"sharpen'd\": 2109, 'fullness': 2110, 'dullness': 2111, 'interim': 2112, 'banks': 2113, \"wish'd\": 2114, 'lvii': 2115, 'services': 2116, 'require': 2117, 'bid': 2118, 'servant': 2119, 'adieu': 2120, 'jealous': 2121, 'suppose': 2122, 'lviii': 2123, 'crave': 2124, 'beck': 2125, 'tame': 2126, 'sufferance': 2127, 'accusing': 2128, 'list': 2129, 'pardon': 2130, 'waiting': 2131, 'lix': 2132, 'brains': 2133, 'beguiled': 2134, 'labouring': 2135, 'backward': 2136, 'hundred': 2137, 'courses': 2138, 'composed': 2139, 'mended': 2140, 'revolution': 2141, 'admiring': 2142, 'lx': 2143, 'waves': 2144, 'pebbled': 2145, 'hasten': 2146, 'sequent': 2147, 'forwards': 2148, 'contend': 2149, 'nativity': 2150, 'crawls': 2151, 'maturity': 2152, 'wherewith': 2153, 'elipses': 2154, 'transfix': 2155, 'flourish': 2156, 'delves': 2157, 'parallels': 2158, 'rarities': 2159, 'mow': 2160, 'lxi': 2161, 'slumbers': 2162, 'broken': 2163, \"send'st\": 2164, 'pry': 2165, 'tenor': 2166, 'jealousy': 2167, 'awake': 2168, 'defeat': 2169, 'watchman': 2170, 'wake': 2171, 'lxii': 2172, 'possesseth': 2173, 'define': 2174, 'worths': 2175, 'surmount': 2176, 'indeed': 2177, 'beated': 2178, \"chopp'd\": 2179, \"tann'd\": 2180, 'contrary': 2181, 'iniquity': 2182, 'lxiii': 2183, \"crush'd\": 2184, 'worn': 2185, \"drain'd\": 2186, \"travell'd\": 2187, 'steepy': 2188, \"he's\": 2189, 'vanishing': 2190, 'confounding': 2191, 'cut': 2192, 'lxiv': 2193, 'defaced': 2194, 'towers': 2195, 'kingdom': 2196, 'firm': 2197, 'soil': 2198, 'watery': 2199, 'increasing': 2200, 'interchange': 2201, 'confounded': 2202, 'ruin': 2203, 'ruminate': 2204, 'choose': 2205, 'lxv': 2206, 'boundless': 2207, 'mortality': 2208, 'sways': 2209, 'honey': 2210, 'wreckful': 2211, 'siege': 2212, 'battering': 2213, 'rocks': 2214, 'impregnable': 2215, 'stout': 2216, 'gates': 2217, 'decays': 2218, 'fearful': 2219, 'meditation': 2220, 'spoil': 2221, 'miracle': 2222, 'lxvi': 2223, 'restful': 2224, 'beggar': 2225, 'needy': 2226, \"trimm'd\": 2227, 'jollity': 2228, 'purest': 2229, 'unhappily': 2230, 'guilded': 2231, 'shamefully': 2232, 'misplaced': 2233, 'rudely': 2234, 'strumpeted': 2235, 'wrongfully': 2236, 'disgraced': 2237, 'limping': 2238, 'disabled': 2239, 'authority': 2240, 'doctor': 2241, \"miscall'd\": 2242, 'simplicity': 2243, 'captive': 2244, 'lxvii': 2245, 'impiety': 2246, 'achieve': 2247, 'lace': 2248, 'society': 2249, 'imitate': 2250, 'indirectly': 2251, 'bankrupt': 2252, \"beggar'd\": 2253, 'blush': 2254, 'exchequer': 2255, 'gains': 2256, 'stores': 2257, 'lxviii': 2258, 'signs': 2259, 'durst': 2260, 'inhabit': 2261, 'tresses': 2262, 'sepulchres': 2263, 'shorn': 2264, 'fleece': 2265, 'robbing': 2266, 'dress': 2267, 'yore': 2268, 'lxix': 2269, 'voice': 2270, 'uttering': 2271, 'commend': 2272, 'accents': 2273, 'churls': 2274, 'matcheth': 2275, 'solve': 2276, 'lxx': 2277, \"slander's\": 2278, \"woo'd\": 2279, 'vice': 2280, \"present'st\": 2281, 'unstained': 2282, 'ambush': 2283, \"assail'd\": 2284, 'victor': 2285, 'charged': 2286, 'enlarged': 2287, 'kingdoms': 2288, 'owe': 2289, 'lxxi': 2290, 'surly': 2291, 'bell': 2292, 'warning': 2293, 'vilest': 2294, 'perhaps': 2295, 'compounded': 2296, 'clay': 2297, 'lxxii': 2298, 'task': 2299, 'recite': 2300, 'willingly': 2301, 'impart': 2302, 'shamed': 2303, 'lxxiii': 2304, 'few': 2305, 'boughs': 2306, 'choirs': 2307, 'late': 2308, 'sang': 2309, 'seest': 2310, 'twilight': 2311, 'sunset': 2312, 'fadeth': 2313, 'seals': 2314, \"see'st\": 2315, 'glowing': 2316, 'ashes': 2317, 'expire': 2318, 'consumed': 2319, \"nourish'd\": 2320, 'perceivest': 2321, 'lxxiv': 2322, 'arrest': 2323, 'carry': 2324, 'memorial': 2325, 'reviewest': 2326, 'review': 2327, 'consecrate': 2328, 'dregs': 2329, 'coward': 2330, \"wretch's\": 2331, 'remembered': 2332, 'contains': 2333, 'remains': 2334, 'lxxv': 2335, 'food': 2336, \"season'd\": 2337, 'strife': 2338, 'miser': 2339, 'enjoyer': 2340, 'filching': 2341, \"better'd\": 2342, 'feasting': 2343, 'clean': 2344, 'starved': 2345, 'pursuing': 2346, 'surfeit': 2347, 'gluttoning': 2348, 'lxxvi': 2349, 'variation': 2350, 'methods': 2351, 'showing': 2352, 'proceed': 2353, 'always': 2354, 'dressing': 2355, 'spending': 2356, 'already': 2357, 'lxxvii': 2358, 'vacant': 2359, \"mind's\": 2360, 'imprint': 2361, 'mouthed': 2362, 'graves': 2363, \"dial's\": 2364, 'shady': 2365, 'stealth': 2366, 'progress': 2367, 'contain': 2368, 'commit': 2369, 'blanks': 2370, 'children': 2371, 'nursed': 2372, \"deliver'd\": 2373, 'offices': 2374, 'profit': 2375, 'enrich': 2376, 'lxxviii': 2377, 'invoked': 2378, 'assistance': 2379, 'alien': 2380, 'poesy': 2381, 'disperse': 2382, 'aloft': 2383, 'fly': 2384, 'feathers': 2385, \"learned's\": 2386, 'wing': 2387, 'compile': 2388, 'arts': 2389, 'graced': 2390, 'advance': 2391, 'lxxix': 2392, \"decay'd\": 2393, 'deserves': 2394, 'travail': 2395, 'worthier': 2396, 'stole': 2397, 'behavior': 2398, 'afford': 2399, 'thank': 2400, 'owes': 2401, 'lxxx': 2402, 'faint': 2403, 'thereof': 2404, 'spends': 2405, 'proudest': 2406, 'inferior': 2407, 'broad': 2408, 'wilfully': 2409, 'shallowest': 2410, 'afloat': 2411, 'soundless': 2412, \"wreck'd\": 2413, 'boat': 2414, 'tall': 2415, 'building': 2416, 'goodly': 2417, 'lxxxi': 2418, 'epitaph': 2419, 'forgotten': 2420, 'immortal': 2421, 'entombed': 2422, 'breathers': 2423, 'breathes': 2424, 'mouths': 2425, 'lxxxii': 2426, 'attaint': 2427, \"o'erlook\": 2428, 'dedicated': 2429, 'writers': 2430, 'blessing': 2431, 'limit': 2432, 'enforced': 2433, 'fresher': 2434, 'stamp': 2435, 'devised': 2436, 'strained': 2437, 'rhetoric': 2438, 'sympathized': 2439, 'plain': 2440, 'abused': 2441, 'lxxxiii': 2442, 'exceed': 2443, 'debt': 2444, 'slept': 2445, 'extant': 2446, 'modern': 2447, 'impute': 2448, 'impair': 2449, 'lxxxiv': 2450, 'confine': 2451, 'immured': 2452, 'equal': 2453, 'lean': 2454, 'penury': 2455, 'writes': 2456, 'dignifies': 2457, 'counterpart': 2458, 'admired': 2459, 'blessings': 2460, 'lxxxv': 2461, 'richly': 2462, 'compiled': 2463, 'phrase': 2464, 'muses': 2465, 'filed': 2466, \"unletter'd\": 2467, 'clerk': 2468, \"'amen'\": 2469, 'hymn': 2470, 'able': 2471, \"polish'd\": 2472, 'refined': 2473, 'hearing': 2474, \"''tis\": 2475, 'hindmost': 2476, 'lxxxvi': 2477, 'ripe': 2478, 'inhearse': 2479, 'struck': 2480, 'compeers': 2481, 'astonished': 2482, 'affable': 2483, 'familiar': 2484, 'ghost': 2485, 'gulls': 2486, 'intelligence': 2487, 'victors': 2488, 'countenance': 2489, 'enfeebled': 2490, 'lxxxvii': 2491, 'farewell': 2492, 'estimate': 2493, 'releasing': 2494, 'determinate': 2495, 'granting': 2496, 'deserving': 2497, 'patent': 2498, 'swerving': 2499, 'mistaking': 2500, 'misprision': 2501, 'waking': 2502, 'lxxxviii': 2503, 'disposed': 2504, 'weakness': 2505, \"conceal'd\": 2506, 'attainted': 2507, 'gainer': 2508, 'lxxxix': 2509, 'lameness': 2510, 'halt': 2511, 'strangle': 2512, 'profane': 2513, 'debate': 2514, 'xc': 2515, 'join': 2516, 'drop': 2517, \"'scoped\": 2518, 'rearward': 2519, \"conquer'd\": 2520, 'windy': 2521, 'rainy': 2522, 'linger': 2523, 'purposed': 2524, 'overthrow': 2525, 'griefs': 2526, 'onset': 2527, 'strains': 2528, 'compared': 2529, 'xci': 2530, \"bodies'\": 2531, 'garments': 2532, 'fangled': 2533, 'hounds': 2534, 'particulars': 2535, 'richer': 2536, 'prouder': 2537, \"garments'\": 2538, 'horses': 2539, 'xcii': 2540, 'term': 2541, 'depend': 2542, 'revolt': 2543, 'xciii': 2544, 'supposing': 2545, 'hatred': 2546, \"many's\": 2547, 'history': 2548, 'moods': 2549, 'frowns': 2550, 'decree': 2551, 'workings': 2552, \"eve's\": 2553, 'apple': 2554, 'xciv': 2555, 'hurt': 2556, 'unmoved': 2557, 'rightly': 2558, 'inherit': 2559, 'lords': 2560, 'owners': 2561, 'stewards': 2562, 'outbraves': 2563, 'dignity': 2564, 'sourest': 2565, 'lilies': 2566, 'fester': 2567, 'xcv': 2568, 'fragrant': 2569, 'spot': 2570, 'budding': 2571, 'enclose': 2572, 'dispraise': 2573, 'naming': 2574, 'blesses': 2575, 'vices': 2576, 'habitation': 2577, 'chose': 2578, 'veil': 2579, 'heed': 2580, 'hardest': 2581, 'xcvi': 2582, 'wantonness': 2583, 'resort': 2584, 'finger': 2585, 'throned': 2586, 'queen': 2587, 'truths': 2588, 'translated': 2589, 'lambs': 2590, 'stem': 2591, 'wolf': 2592, 'lamb': 2593, 'translate': 2594, 'gazers': 2595, 'mightst': 2596, 'xcvii': 2597, 'fleeting': 2598, 'freezings': 2599, 'felt': 2600, \"december's\": 2601, 'teeming': 2602, 'big': 2603, 'wanton': 2604, \"widow'd\": 2605, 'wombs': 2606, \"lords'\": 2607, 'abundant': 2608, 'orphans': 2609, \"unfather'd\": 2610, 'fruit': 2611, 'pleasures': 2612, 'cheer': 2613, 'dreading': 2614, 'xcviii': 2615, 'pied': 2616, \"dress'd\": 2617, 'trim': 2618, 'saturn': 2619, \"laugh'd\": 2620, \"leap'd\": 2621, 'different': 2622, 'lap': 2623, \"lily's\": 2624, 'vermilion': 2625, 'figures': 2626, 'xcix': 2627, 'forward': 2628, 'smells': 2629, 'purple': 2630, 'soft': 2631, 'dwells': 2632, 'grossly': 2633, 'lily': 2634, 'condemned': 2635, 'marjoram': 2636, 'hair': 2637, 'fearfully': 2638, 'third': 2639, \"annex'd\": 2640, 'theft': 2641, 'vengeful': 2642, 'c': 2643, \"forget'st\": 2644, \"spend'st\": 2645, 'fury': 2646, 'darkening': 2647, 'forgetful': 2648, 'redeem': 2649, 'idly': 2650, 'resty': 2651, 'wrinkle': 2652, 'graven': 2653, 'satire': 2654, 'spoils': 2655, 'faster': 2656, \"prevent'st\": 2657, 'ci': 2658, 'truant': 2659, 'amends': 2660, 'dignified': 2661, \"'truth\": 2662, \"intermix'd\": 2663, \"for't\": 2664, 'ages': 2665, 'office': 2666, 'cii': 2667, \"strengthen'd\": 2668, 'merchandized': 2669, 'esteeming': 2670, \"owner's\": 2671, 'publish': 2672, 'wont': 2673, 'philomel': 2674, 'front': 2675, 'stops': 2676, 'pipe': 2677, 'pleasant': 2678, 'mournful': 2679, 'hush': 2680, 'wild': 2681, 'burthens': 2682, 'bough': 2683, 'ciii': 2684, 'beside': 2685, 'appears': 2686, 'dulling': 2687, 'striving': 2688, 'mar': 2689, 'verses': 2690, 'gifts': 2691, 'civ': 2692, 'eyed': 2693, 'forests': 2694, 'shook': 2695, \"summers'\": 2696, 'springs': 2697, 'process': 2698, 'junes': 2699, \"burn'd\": 2700, 'figure': 2701, 'perceived': 2702, 'unbred': 2703, 'cv': 2704, 'idolatry': 2705, 'idol': 2706, 'alike': 2707, 'songs': 2708, 'expressing': 2709, 'difference': 2710, 'varying': 2711, 'themes': 2712, 'cvi': 2713, 'chronicle': 2714, 'wasted': 2715, 'descriptions': 2716, 'wights': 2717, 'beautiful': 2718, 'ladies': 2719, 'knights': 2720, 'blazon': 2721, 'lip': 2722, 'prophecies': 2723, 'prefiguring': 2724, 'divining': 2725, 'cvii': 2726, 'prophetic': 2727, 'dreaming': 2728, 'eclipse': 2729, 'endured': 2730, 'augurs': 2731, 'presage': 2732, 'incertainties': 2733, 'crown': 2734, 'proclaims': 2735, 'olives': 2736, 'endless': 2737, 'drops': 2738, 'balmy': 2739, 'subscribes': 2740, 'insults': 2741, 'tribes': 2742, \"tyrants'\": 2743, 'crests': 2744, 'tombs': 2745, 'cviii': 2746, 'figured': 2747, 'register': 2748, 'prayers': 2749, \"hallow'd\": 2750, 'case': 2751, 'weighs': 2752, 'necessary': 2753, 'aye': 2754, 'page': 2755, 'cix': 2756, 'qualify': 2757, 'easy': 2758, 'ranged': 2759, 'travels': 2760, 'exchanged': 2761, \"reign'd\": 2762, 'besiege': 2763, 'kinds': 2764, 'preposterously': 2765, \"stain'd\": 2766, 'universe': 2767, 'cx': 2768, 'motley': 2769, 'gored': 2770, 'sold': 2771, 'cheap': 2772, 'offences': 2773, 'affections': 2774, 'askance': 2775, 'blenches': 2776, 'essays': 2777, 'grind': 2778, 'older': 2779, 'cxi': 2780, 'harmful': 2781, 'provide': 2782, 'breeds': 2783, 'subdued': 2784, \"dyer's\": 2785, \"renew'd\": 2786, 'patient': 2787, 'eisel': 2788, 'penance': 2789, 'correct': 2790, 'correction': 2791, 'assure': 2792, 'cxii': 2793, 'impression': 2794, 'scandal': 2795, \"stamp'd\": 2796, \"steel'd\": 2797, 'changes': 2798, 'profound': 2799, 'abysm': 2800, 'throw': 2801, 'voices': 2802, \"adder's\": 2803, 'critic': 2804, 'flatterer': 2805, 'stopped': 2806, 'dispense': 2807, 'cxiii': 2808, 'governs': 2809, 'about': 2810, 'function': 2811, 'partly': 2812, 'effectually': 2813, 'delivers': 2814, 'bird': 2815, 'latch': 2816, 'vision': 2817, 'rudest': 2818, 'gentlest': 2819, \"deformed'st\": 2820, 'creature': 2821, 'dove': 2822, 'shapes': 2823, 'feature': 2824, 'incapable': 2825, 'cxiv': 2826, \"monarch's\": 2827, 'saith': 2828, 'monsters': 2829, 'indigest': 2830, 'cherubins': 2831, 'resemble': 2832, 'creating': 2833, 'beams': 2834, 'assemble': 2835, 'kingly': 2836, 'drinks': 2837, 'gust': 2838, \"'greeing\": 2839, 'cup': 2840, \"poison'd\": 2841, 'lesser': 2842, 'begin': 2843, 'cxv': 2844, 'knew': 2845, 'afterwards': 2846, 'reckoning': 2847, \"million'd\": 2848, 'accidents': 2849, 'creep': 2850, 'decrees': 2851, 'tan': 2852, \"sharp'st\": 2853, 'intents': 2854, 'divert': 2855, 'altering': 2856, 'fearing': 2857, 'tyranny': 2858, \"'now\": 2859, 'certain': 2860, 'incertainty': 2861, 'crowning': 2862, 'cxvi': 2863, 'marriage': 2864, 'admit': 2865, 'impediments': 2866, 'alteration': 2867, 'bends': 2868, 'remover': 2869, 'fixed': 2870, 'tempests': 2871, 'wandering': 2872, \"worth's\": 2873, 'rosy': 2874, \"sickle's\": 2875, 'compass': 2876, 'weeks': 2877, 'error': 2878, 'cxvii': 2879, 'scanted': 2880, 'repay': 2881, 'frequent': 2882, 'purchased': 2883, 'hoisted': 2884, 'transport': 2885, 'wilfulness': 2886, 'surmise': 2887, 'accumulate': 2888, 'shoot': 2889, \"waken'd\": 2890, 'appeal': 2891, 'cxviii': 2892, 'appetites': 2893, 'eager': 2894, 'prevent': 2895, 'sicken': 2896, 'sickness': 2897, 'purge': 2898, 'tuff': 2899, 'cloying': 2900, 'sauces': 2901, 'welfare': 2902, 'meetness': 2903, 'needing': 2904, 'anticipate': 2905, 'ills': 2906, 'medicine': 2907, 'cured': 2908, 'lesson': 2909, 'drugs': 2910, 'poison': 2911, 'cxix': 2912, 'drunk': 2913, 'siren': 2914, 'limbecks': 2915, 'applying': 2916, 'committed': 2917, 'spheres': 2918, 'fitted': 2919, 'distraction': 2920, 'madding': 2921, 'rebuked': 2922, 'cxx': 2923, 'befriends': 2924, 'transgression': 2925, 'nerves': 2926, \"hammer'd\": 2927, \"you've\": 2928, 'weigh': 2929, 'suffered': 2930, 'deepest': 2931, 'hard': 2932, 'hits': 2933, \"tender'd\": 2934, 'wounded': 2935, 'bosoms': 2936, 'fits': 2937, 'fee': 2938, 'ransoms': 2939, 'cxxi': 2940, 'reproach': 2941, 'adulterate': 2942, 'salutation': 2943, 'sportive': 2944, 'frailer': 2945, 'spies': 2946, 'abuses': 2947, 'reckon': 2948, 'bevel': 2949, 'maintain': 2950, 'badness': 2951, 'cxxii': 2952, \"character'd\": 2953, 'lasting': 2954, 'beyond': 2955, 'faculty': 2956, 'subsist': 2957, 'oblivion': 2958, \"miss'd\": 2959, 'retention': 2960, 'tallies': 2961, 'score': 2962, 'receive': 2963, 'import': 2964, 'forgetfulness': 2965, 'cxxiii': 2966, 'pyramids': 2967, 'novel': 2968, 'dressings': 2969, 'dates': 2970, 'admire': 2971, 'foist': 2972, 'rather': 2973, 'heard': 2974, 'registers': 2975, 'defy': 2976, 'wondering': 2977, 'records': 2978, 'continual': 2979, 'cxxiv': 2980, \"unfather'd'\": 2981, \"gather'd\": 2982, 'builded': 2983, 'accident': 2984, 'suffers': 2985, 'smiling': 2986, 'pomp': 2987, 'falls': 2988, 'blow': 2989, 'thralled': 2990, 'inviting': 2991, 'heretic': 2992, 'leases': 2993, \"number'd\": 2994, 'hugely': 2995, 'politic': 2996, 'drowns': 2997, 'fools': 2998, 'cxxv': 2999, 'extern': 3000, 'honouring': 3001, 'bases': 3002, 'ruining': 3003, 'dwellers': 3004, 'paying': 3005, 'rent': 3006, 'compound': 3007, 'forgoing': 3008, 'savour': 3009, 'pitiful': 3010, 'thrivers': 3011, 'gazing': 3012, 'oblation': 3013, \"mix'd\": 3014, 'seconds': 3015, \"suborn'd\": 3016, 'informer': 3017, \"impeach'd\": 3018, 'cxxvi': 3019, 'fickle': 3020, 'sickle': 3021, 'waning': 3022, \"show'st\": 3023, 'withering': 3024, \"grow'st\": 3025, 'wrack': 3026, 'goest': 3027, 'onwards': 3028, 'minion': 3029, 'detain': 3030, \"delay'd\": 3031, \"answer'd\": 3032, 'quietus': 3033, 'cxxvii': 3034, 'counted': 3035, 'successive': 3036, \"slander'd\": 3037, 'fairing': 3038, \"art's\": 3039, 'bower': 3040, 'brows': 3041, 'raven': 3042, 'suited': 3043, 'slandering': 3044, 'cxxviii': 3045, \"play'st\": 3046, 'gently': 3047, \"sway'st\": 3048, 'wiry': 3049, 'harvest': 3050, 'reap': 3051, \"wood's\": 3052, 'boldness': 3053, 'tickled': 3054, 'situation': 3055, 'dancing': 3056, 'chips': 3057, 'walk': 3058, 'gait': 3059, 'cxxix': 3060, 'savage': 3061, \"enjoy'd\": 3062, 'hunted': 3063, 'hated': 3064, \"swallow'd\": 3065, 'bait': 3066, 'taker': 3067, 'bliss': 3068, 'proposed': 3069, 'cxxx': 3070, 'coral': 3071, \"lips'\": 3072, 'snow': 3073, 'breasts': 3074, 'dun': 3075, 'hairs': 3076, \"damask'd\": 3077, 'reeks': 3078, 'treads': 3079, 'cxxxi': 3080, 'tyrannous': 3081, 'proudly': 3082, 'err': 3083, 'groans': 3084, 'neck': 3085, \"judgment's\": 3086, 'proceeds': 3087, 'cxxxii': 3088, 'pitying': 3089, 'torments': 3090, 'ruth': 3091, 'grey': 3092, 'east': 3093, 'ushers': 3094, 'sober': 3095, 'become': 3096, 'beseem': 3097, 'herself': 3098, 'cxxxiii': 3099, 'beshrew': 3100, \"is't\": 3101, 'slavery': 3102, \"sweet'st\": 3103, 'harder': 3104, \"engross'd\": 3105, 'forsaken': 3106, 'threefold': 3107, \"cross'd\": 3108, 'prison': 3109, 'ward': 3110, \"whoe'er\": 3111, 'rigor': 3112, 'gaol': 3113, 'perforce': 3114, 'cxxxiv': 3115, \"confess'd\": 3116, 'mortgaged': 3117, 'restore': 3118, 'covetous': 3119, \"learn'd\": 3120, 'surety': 3121, 'bond': 3122, 'bind': 3123, 'statute': 3124, \"put'st\": 3125, 'sue': 3126, 'debtor': 3127, 'whole': 3128, 'cxxxv': 3129, 'whoever': 3130, 'boot': 3131, 'overplus': 3132, 'spacious': 3133, 'acceptance': 3134, 'addeth': 3135, 'beseechers': 3136, 'cxxxvi': 3137, 'admitted': 3138, 'receipt': 3139, \"reckon'd\": 3140, 'untold': 3141, \"stores'\": 3142, 'cxxxvii': 3143, 'partial': 3144, \"anchor'd\": 3145, 'bay': 3146, \"eyes'\": 3147, 'forged': 3148, 'hooks': 3149, 'several': 3150, 'plot': 3151, 'erred': 3152, \"transferr'd\": 3153, 'cxxxviii': 3154, 'swears': 3155, \"untutor'd\": 3156, 'unlearned': 3157, 'subtleties': 3158, 'simply': 3159, 'credit': 3160, 'sides': 3161, \"suppress'd\": 3162, 'unjust': 3163, 'habit': 3164, \"flatter'd\": 3165, 'cxxxix': 3166, 'justify': 3167, 'slay': 3168, \"need'st\": 3169, \"press'd\": 3170, 'defense': 3171, 'dart': 3172, 'outright': 3173, 'rid': 3174, 'cxl': 3175, 'press': 3176, 'manner': 3177, 'testy': 3178, 'news': 3179, 'physicians': 3180, 'madness': 3181, 'wresting': 3182, 'slanderers': 3183, 'believed': 3184, 'cxli': 3185, 'pleased': 3186, \"tongue's\": 3187, 'tune': 3188, 'delighted': 3189, 'prone': 3190, 'invited': 3191, 'senses': 3192, 'dissuade': 3193, 'foolish': 3194, \"unsway'd\": 3195, 'likeness': 3196, 'awards': 3197, 'cxlii': 3198, 'merits': 3199, 'reproving': 3200, 'scarlet': 3201, 'ornaments': 3202, \"seal'd\": 3203, \"robb'd\": 3204, \"beds'\": 3205, 'revenues': 3206, 'rents': 3207, 'woo': 3208, 'importune': 3209, 'deserve': 3210, 'pitied': 3211, 'denied': 3212, 'cxliii': 3213, 'housewife': 3214, 'runs': 3215, \"feather'd\": 3216, 'dispatch': 3217, 'neglected': 3218, 'busy': 3219, 'prizing': 3220, \"infant's\": 3221, \"runn'st\": 3222, 'afar': 3223, 'pray': 3224, 'loud': 3225, 'crying': 3226, 'cxliv': 3227, 'suggest': 3228, 'worser': 3229, \"colour'd\": 3230, 'female': 3231, 'tempteth': 3232, 'saint': 3233, 'devil': 3234, 'wooing': 3235, 'purity': 3236, 'directly': 3237, 'doubt': 3238, 'cxlv': 3239, 'breathed': 3240, \"languish'd\": 3241, 'woeful': 3242, 'mercy': 3243, 'chiding': 3244, \"follow'd\": 3245, 'flown': 3246, 'threw': 3247, 'saved': 3248, 'saying': 3249, \"'not\": 3250, 'cxlvi': 3251, 'centre': 3252, 'rebel': 3253, 'powers': 3254, 'array': 3255, 'dearth': 3256, 'costly': 3257, 'inheritors': 3258, 'excess': 3259, 'charge': 3260, \"servant's\": 3261, 'aggravate': 3262, 'buy': 3263, 'terms': 3264, 'selling': 3265, 'dross': 3266, 'fed': 3267, 'feed': 3268, \"there's\": 3269, 'dying': 3270, 'cxlvii': 3271, 'longing': 3272, 'nurseth': 3273, 'disease': 3274, 'preserve': 3275, 'uncertain': 3276, 'sickly': 3277, 'physician': 3278, 'angry': 3279, 'prescriptions': 3280, 'desperate': 3281, 'except': 3282, 'frantic': 3283, 'unrest': 3284, 'discourse': 3285, \"madmen's\": 3286, 'random': 3287, 'cxlviii': 3288, 'correspondence': 3289, 'censures': 3290, 'falsely': 3291, 'aright': 3292, 'denote': 3293, \"'no\": 3294, \"vex'd\": 3295, 'watching': 3296, 'marvel': 3297, 'mistake': 3298, 'sees': 3299, 'clears': 3300, \"keep'st\": 3301, 'cxlix': 3302, 'partake': 3303, 'hateth': 3304, \"frown'st\": 3305, 'fawn': 3306, \"lour'st\": 3307, 'revenge': 3308, 'service': 3309, 'worship': 3310, 'commanded': 3311, 'cl': 3312, 'insufficiency': 3313, 'brightness': 3314, 'refuse': 3315, 'warrantize': 3316, 'exceeds': 3317, 'unworthiness': 3318, 'raised': 3319, 'cli': 3320, 'cheater': 3321, 'betraying': 3322, 'nobler': 3323, 'treason': 3324, 'stays': 3325, 'rising': 3326, 'drudge': 3327, \"'love'\": 3328, 'clii': 3329, 'swearing': 3330, 'act': 3331, 'torn': 3332, 'vowing': 3333, \"oaths'\": 3334, 'breach': 3335, 'twenty': 3336, 'misuse': 3337, 'honest': 3338, 'enlighten': 3339, 'blindness': 3340, 'cliii': 3341, 'maid': 3342, \"dian's\": 3343, 'kindling': 3344, 'quickly': 3345, 'valley': 3346, 'fountain': 3347, 'endure': 3348, 'seething': 3349, 'fired': 3350, 'trial': 3351, 'touch': 3352, 'withal': 3353, 'thither': 3354, 'hied': 3355, \"distemper'd\": 3356, 'cliv': 3357, 'lying': 3358, 'inflaming': 3359, 'nymphs': 3360, \"vow'd\": 3361, 'chaste': 3362, 'tripping': 3363, 'votary': 3364, 'legions': 3365, \"warm'd\": 3366, 'sleeping': 3367, 'virgin': 3368, \"disarm'd\": 3369, 'quenched': 3370, 'cool': 3371, 'thrall': 3372, 'heats': 3373, 'cools': 3374}\n",
      "Tokenized sequences:\n",
      " [[878], [], [], [], [3, 2, 313, 1375, 4], [118, 1376, 878], [1377, 1378, 1379, 23, 1380], [1, 8, 517], [1381, 30], [126, 186, 278, 635, 1382], [2, 98, 879], [1383, 7], [1384, 279], [880, 880], [], [], [6], [], [34, 418, 881, 166, 214, 518], [8, 882, 135, 353, 103, 156, 199], [16, 22, 2, 883, 61, 30, 48, 636], [25, 314, 637, 103, 200, 25, 280], [16, 10, 884, 3, 62, 85, 215, 53], [1385, 9, 1386, 638, 11, 123, 1387, 1388], [201, 17, 1389, 64, 519, 202], [119, 9, 1390, 3, 9, 47, 123, 136, 281], [10, 8, 54, 63, 2, 419, 315, 420], [1, 313, 1391, 3, 2, 1392, 421], [216, 62, 85, 885, 1393, 9, 886], [1, 314, 887, 888, 316, 7, 1394], [257, 2, 94, 36, 354, 29, 1395, 21], [3, 639, 2, 419, 355, 30, 2, 640, 1, 19], [], [1396], [], [27, 1397, 889, 46, 1398, 9, 282], [1, 1399, 283, 1400, 7, 9, 135, 1401], [9, 1402, 179, 1403, 20, 1404, 35, 63], [49, 21, 17, 890, 641, 4, 891, 127, 892], [38, 81, 1405, 64, 23, 9, 51, 202], [64, 23, 2, 258, 4, 9, 893, 145], [3, 95, 216, 62, 85, 283, 1406, 53], [86, 146, 23, 1407, 236, 1, 1408, 96], [71, 137, 43, 96, 1409, 9, 135, 187], [42, 10, 1410, 642, 894, 69, 284, 4, 44], [46, 520, 5, 521, 1, 65, 5, 112, 317, 147], [1411, 25, 51, 30, 1412, 62], [29, 86, 3, 21, 99, 128, 27, 10, 54, 112], [1, 76, 9, 285, 1413, 27, 10, 1414, 28, 318], [], [1415], [], [113, 7, 9, 237, 1, 167, 2, 129, 10, 1416], [63, 13, 2, 48, 8, 129, 61, 217, 238], [130, 315, 643, 42, 63, 10, 14, 1417], [10, 87, 1418, 2, 94, 1419, 82, 895], [12, 64, 13, 78, 20, 69, 130, 1420, 896], [1421, 2, 1422, 4, 9, 897], [36, 88, 13, 68, 20, 898, 49, 21, 2, 422], [4, 25, 123, 15, 3, 899, 644], [10, 54, 9, 645, 237, 1, 78, 7, 19], [423, 259, 2, 286, 646, 4, 55, 522], [20, 10, 319, 647, 4, 62, 168, 46, 76], [356, 4, 424, 29, 9, 425, 48], [16, 42, 10, 89, 648, 14, 3, 21], [199, 523, 1, 62, 524, 1423, 11, 19], [], [1424], [], [1425, 1426, 107, 87, 10, 426], [90, 119, 9, 135, 1427], [357, 1428, 287, 131, 16, 32, 427], [1, 81, 1429, 78, 525, 3, 79, 41, 526], [38, 260, 900, 107, 87, 10, 649], [2, 901, 1430, 527, 19, 3, 100], [1431, 902, 107, 87, 10, 187], [20, 239, 17, 520, 4, 1432, 57, 320, 14, 89], [12, 358, 1433, 11, 119, 132], [10, 4, 119, 9, 47, 123, 87, 903], [38, 71, 27, 240, 423, 19, 3, 21, 261], [40, 1434, 650, 320, 10, 241], [9, 528, 51, 120, 21, 1435, 11, 19], [26, 529, 262, 1436, 1437, 3, 21], [], [1438], [], [79, 203, 8, 11, 180, 651, 104, 530], [2, 286, 904, 64, 83, 72, 32, 359], [49, 428, 2, 1439, 3, 2, 321, 322], [1, 8, 1440, 26, 1441, 32, 1442], [12, 156, 1443, 48, 905, 288, 35], [3, 906, 429, 1, 652, 73, 138], [907, 908, 11, 1444, 1, 893, 289, 430, 261], [51, 1445, 1, 909, 83, 64], [38, 86, 14, 218, 1446, 431], [17, 1447, 1448, 910, 7, 911, 4, 237], [135, 653, 11, 51, 86, 1449], [52, 28, 52, 37, 912, 40, 28, 91], [16, 290, 654, 80, 50, 11, 429, 913], [1450, 16, 45, 110, 45, 531, 70, 262, 47], [], [1451], [], [38, 105, 14, 655, 1452, 139, 1453], [7, 19, 9, 288, 360, 10, 21, 654], [65, 47, 82, 1454, 258, 10, 82, 242], [11, 135, 258, 360, 28, 21, 123, 1455], [8, 187, 13, 14, 1456, 1457], [26, 1458, 79, 8, 656, 2, 914, 1459], [1460, 12, 119, 3, 915, 238, 19], [36, 323, 263, 657, 21, 28, 323, 12, 66], [323, 263, 119, 86, 657, 59, 10, 54], [42, 323, 4, 62, 323, 263, 1461, 19], [38, 40, 243, 157, 33, 42, 10, 361, 916], [1462, 19, 278, 7, 644], [21, 14, 123, 1463, 12, 10, 54, 137, 136, 69], [3, 21, 532, 658, 1, 65, 533, 62, 637], [], [1464], [], [659, 7, 2, 1465, 27, 2, 432, 362], [1466, 148, 25, 1467, 363, 169, 364, 72], [32, 1468, 3, 25, 99, 1469, 149], [917, 11, 204, 25, 918, 919], [1, 358, 1470, 2, 920, 148, 660, 1471], [921, 264, 170, 7, 25, 1472, 168], [57, 433, 204, 1473, 25, 51, 70], [922, 35, 25, 425, 923], [16, 27, 34, 1474, 924, 11, 534, 1475], [74, 1476, 168, 68, 1477, 34, 2, 97], [2, 53, 1478, 1479, 63, 925, 41], [34, 25, 1480, 1481, 1, 113, 238, 365], [20, 10, 119, 150, 926, 7, 9, 1482], [927, 35, 1483, 366, 10, 1484, 17, 661], [], [1485], [], [367, 3, 368, 107, 1486, 10, 367, 1487], [369, 11, 369, 370, 14, 291, 928, 7, 291], [107, 371, 10, 8, 26, 10, 662, 14, 1488], [36, 354, 662, 11, 219, 62, 1489], [42, 2, 75, 929, 4, 98, 1490, 930], [30, 1491, 931, 33, 1492, 62, 663], [50, 33, 16, 932, 434, 19, 88, 652], [7, 1493, 2, 324, 8, 10, 361, 200], [535, 71, 66, 1494, 47, 664, 3, 238], [1495, 169, 7, 169, 30, 933, 1496], [921, 1497, 1, 284, 1, 220, 895], [88, 23, 7, 66, 66, 934, 935, 33, 325], [130, 936, 536, 81, 188, 665, 66], [937, 29, 3, 19, 1498, 523, 181, 189, 190, 147], [], [1499], [], [13, 28, 12, 292, 3, 1500, 17, 1501, 72], [8, 10, 1502, 119, 7, 523, 111], [326, 42, 10, 1503, 221, 1504, 3, 199], [2, 94, 49, 938, 19, 74, 17, 1505, 1506], [2, 94, 49, 21, 9, 939, 1, 70, 666], [8, 10, 37, 217, 4, 19, 151, 431, 537], [27, 83, 1507, 939, 98, 92, 265], [30, 1508, 53, 55, 1509, 435, 7, 158], [113, 40, 146, 1510, 7, 2, 94, 32, 426], [1511, 16, 25, 242, 12, 70, 2, 94, 1512, 28], [16, 135, 316, 67, 7, 2, 94, 146, 222], [1, 667, 528, 2, 1513, 20, 1514, 28], [37, 15, 1515, 223, 7, 8, 940, 1516], [8, 35, 941, 84, 668, 236, 942], [], [1517], [], [12, 236, 943, 8, 10, 1518, 15, 3, 224], [88, 12, 119, 54, 20, 1519], [538, 42, 10, 181, 10, 54, 436, 4, 188], [16, 8, 10, 190, 371, 13, 101, 1520], [12, 10, 54, 20, 944, 11, 668, 191], [8, 372, 119, 10, 1521, 14, 3, 1522], [1523, 8, 260, 1524, 3, 1525], [26, 3, 643, 61, 21, 9, 945, 214], [58, 205, 9, 140, 8, 6, 92, 205, 5, 158], [46, 191, 21, 669, 1526, 59, 180, 15], [21, 22, 9, 946, 13, 432, 1, 206], [36, 3, 119, 106, 437, 206, 1527, 189], [65, 19, 238, 123, 12, 15, 4, 18], [8, 51, 70, 92, 89, 7, 62, 36, 19], [], [1528], [], [22, 438, 22, 10, 221, 1529, 20, 438, 10, 947], [7, 66, 4, 62, 34, 8, 26, 10, 1530], [1, 8, 315, 285, 26, 1531, 10, 1532], [10, 207, 244, 62, 27, 10, 34, 170, 1533], [1534, 262, 1535, 51, 1, 518], [266, 29, 948, 168, 1, 318, 267], [42, 23, 86, 1536, 20, 2, 263, 61, 1537], [1, 1538, 439, 121, 65, 2, 94, 141], [105, 79, 208, 240, 67, 14, 128, 12, 268], [1539, 1540, 1, 539, 1541, 1542], [113, 208, 78, 114, 1543, 78, 440, 2, 43], [26, 901, 441, 10, 361, 7, 949, 1544], [78, 1545, 19, 12, 55, 1546, 1, 1547, 882], [10, 361, 1548, 43, 14, 105, 8, 950, 199], [], [1549], [], [27, 6, 33, 521, 2, 951, 8, 952, 2, 48], [1, 76, 2, 670, 97, 1550, 7, 906, 115], [27, 6, 327, 2, 953, 269, 522], [1, 1551, 1552, 23, 1553, 225, 11, 328], [27, 954, 1554, 6, 76, 442, 4, 289], [26, 1555, 34, 540, 104, 955, 2, 1556], [1, 218, 373, 23, 1557, 148, 7, 1558], [956, 35, 2, 1559, 11, 328, 1, 1560, 1561], [38, 4, 9, 51, 33, 6, 957, 65], [8, 10, 671, 2, 958, 4, 48, 120, 374], [108, 369, 1, 541, 33, 375, 959], [1, 199, 22, 438, 22, 50, 76, 223, 293], [1, 131, 372, 159, 542, 60, 65, 960], [294, 915, 3, 670, 73, 27, 68, 672, 19, 376], [], [1562], [], [58, 8, 24, 86, 226, 16, 15, 24, 41], [37, 377, 443, 59, 24, 226, 543, 89], [142, 29, 961, 222, 24, 61, 962], [1, 31, 47, 1563, 3, 82, 160, 100], [20, 61, 8, 51, 26, 24, 192, 7, 544], [161, 37, 1564, 38, 24, 86], [226, 245, 227, 1565, 636], [27, 31, 47, 963, 31, 47, 217, 61, 200], [88, 1566, 20, 69, 17, 1567, 673, 3, 267], [26, 897, 7, 329, 103, 1568], [142, 2, 1569, 1570, 4, 655, 97], [1, 442, 444, 4, 532, 378, 318], [58, 190, 16, 1571, 116, 5, 15, 24, 152], [24, 162, 17, 674, 105, 31, 661, 95, 20], [], [1572], [], [14, 34, 2, 445, 33, 6, 5, 379, 545], [1, 57, 546, 6, 39, 1573], [16, 14, 3, 167, 4, 171, 36, 547, 1574], [4, 1575, 4, 1576, 36, 1577, 1578], [52, 60, 6, 380, 3, 675, 548, 167], [1579, 3, 169, 25, 1580, 676, 1, 964], [36, 95, 11, 965, 42, 28, 46, 374, 98], [30, 446, 1581, 8, 6, 7, 193, 161], [16, 34, 62, 53, 5, 677, 6, 1582], [1, 678, 445, 7, 143, 6, 381, 84, 54], [22, 117, 1, 51, 46, 1583, 966], [42, 34, 119, 3, 268, 10, 679, 1584], [36, 354, 4, 19, 29, 6, 1585], [9, 222, 13, 1586, 1, 135, 447, 1, 448], [], [1587], [], [27, 6, 1588, 83, 209, 8, 549], [449, 7, 967, 16, 17, 968, 1589], [8, 29, 969, 970, 1590, 680, 16, 382], [681, 2, 445, 7, 1591, 971, 972], [27, 6, 1592, 8, 172, 22, 1593, 518], [1594, 1, 908, 109, 30, 2, 123, 322, 1595], [1596, 7, 45, 973, 907, 106, 682, 1597], [1, 683, 45, 670, 182, 150, 4, 280], [38, 2, 684, 4, 29, 974, 270], [975, 24, 101, 228, 7, 170, 173, 5, 149], [64, 976, 48, 1598, 11, 267], [3, 205, 31, 97, 4, 170, 3, 1599, 115], [1, 23, 7, 370, 11, 48, 12, 15, 4, 24], [22, 68, 672, 34, 24, 6, 1600, 24, 99], [], [1601], [], [16, 550, 33, 14, 24, 17, 1602, 365], [65, 370, 90, 29, 685, 686, 48], [1, 977, 226, 7, 31, 267], [11, 687, 43, 295, 59, 5, 442, 383], [63, 296, 24, 35, 2, 1603, 4, 220, 203], [1, 188, 688, 1604, 57, 1605], [11, 689, 450, 121, 200, 31, 278, 290], [137, 1606, 59, 31, 451, 978], [20, 61, 2, 297, 4, 111, 8, 111, 643], [26, 29, 159, 979, 36, 5, 1607, 246], [980, 7, 551, 127, 52, 330, 69], [60, 65, 24, 89, 226, 7, 53, 4, 172], [3, 100, 141, 226, 452, 226, 70], [1, 24, 120, 89, 690, 30, 31, 85, 47, 298], [], [1608], [], [88, 49, 552, 5, 174, 7, 48, 3, 175], [42, 28, 86, 691, 11, 31, 101, 553, 981], [80, 57, 193, 229, 28, 13, 16, 22, 17, 422], [26, 1609, 31, 111, 1, 382, 14, 692, 31, 324], [42, 6, 243, 247, 2, 51, 4, 31, 53], [1, 7, 315, 554, 693, 23, 31, 453], [2, 168, 3, 175, 121, 95, 894, 635, 202], [84, 660, 555, 556, 1610, 1611, 982, 147], [20, 61, 5, 1612, 1613, 11, 45, 168], [21, 1614, 74, 112, 172, 4, 331, 117, 59, 176], [1, 31, 75, 1615, 21, 1616, 17, 983, 444], [1, 1617, 1618, 4, 146, 454, 536], [16, 86, 82, 284, 4, 443, 984, 8, 48], [24, 61, 89, 985, 7, 28, 1, 7, 5, 383], [], [1619], [], [46, 6, 384, 19, 3, 17, 218, 97], [10, 54, 43, 286, 1, 43, 1620], [1621, 986, 33, 694, 2, 1622, 557, 4, 92], [1, 218, 544, 67, 23, 136, 455, 17, 448], [385, 136, 695, 2, 72, 4, 193, 987], [1, 988, 13, 25, 989, 696, 1623], [1, 83, 69, 34, 69, 385, 1624], [30, 1625, 36, 357, 990, 697, 1626], [16, 9, 378, 288, 46, 14, 698], [52, 271, 991, 4, 8, 69, 10, 1627], [52, 46, 157, 1628, 10, 1629, 7, 25, 558], [27, 7, 378, 297, 3, 48, 10, 947], [20, 210, 22, 172, 60, 992, 36, 53, 60, 76], [20, 210, 262, 29, 1, 29, 287, 111, 3, 19], [], [1630], [], [1631, 48, 699, 10, 2, 1632, 1633], [1, 65, 2, 230, 1634, 55, 85, 47, 1635], [545, 2, 993, 1636, 34, 2, 994, 1637, 1638], [1, 700, 2, 210, 456, 1639, 7, 55, 285], [65, 995, 1, 1640, 996, 22, 10, 1641], [1, 33, 997, 10, 181, 386, 1642, 48], [3, 2, 332, 94, 1, 23, 55, 998, 369], [16, 6, 701, 19, 66, 101, 1643, 559], [58, 1644, 14, 11, 9, 203, 5, 102, 69, 282], [52, 702, 37, 297, 138, 11, 62, 454, 246], [73, 7, 9, 697, 1645, 33, 999], [12, 135, 1000, 3, 1646, 172], [57, 33, 9, 333, 112, 48, 356, 9, 387], [5, 15, 46, 7, 5, 174, 186, 89, 560], [], [1647], [], [17, 703, 129, 11, 357, 85, 139, 451], [151, 10, 2, 1001, 561, 4, 5, 1648], [17, 703, 180, 56, 16, 14, 1002], [11, 1649, 205, 22, 13, 133, 704, 1003], [146, 72, 43, 215, 59, 1004, 331, 133, 7, 1650], [1005, 2, 1651, 1652, 28, 1653], [17, 457, 7, 458, 23, 1654, 7, 25, 1006], [137, 1655, 459, 53, 1, 704, 1007, 1656], [1, 12, 17, 705, 706, 10, 194, 1008], [183, 240, 22, 78, 1009, 19, 460, 17, 1010], [1, 30, 1011, 18, 4, 19, 1657], [30, 1658, 66, 209, 3, 5, 461, 131], [16, 108, 78, 1659, 19, 150, 12, 704, 219], [44, 21, 9, 15, 1, 9, 102, 187, 45, 258], [], [1660], [], [20, 13, 28, 14, 11, 18, 22, 11, 8, 163], [1661, 30, 17, 451, 51, 3, 25, 174], [88, 193, 334, 12, 420, 32, 187], [1, 83, 69, 11, 25, 69, 32, 562], [201, 17, 1662, 4, 179, 384], [11, 231, 1, 707, 11, 230, 1, 1663, 228, 1664], [11, 1665, 194, 299, 290, 1, 23, 184, 563], [8, 388, 564, 7, 29, 969, 1666, 1667], [1668, 105, 18, 75, 7, 15, 16, 462, 247], [1, 38, 552, 18, 5, 15, 13, 22, 69], [22, 224, 645, 284, 80, 14, 20, 215], [22, 79, 989, 1669, 1012, 7, 388, 564], [105, 143, 95, 43, 59, 74, 4, 1670, 98], [6, 49, 14, 96, 8, 461, 14, 3, 1671], [], [1672], [], [5, 237, 46, 14, 1673, 18, 6, 77, 112], [20, 210, 22, 170, 1, 10, 41, 4, 66, 448], [16, 27, 7, 19, 159, 1674, 6, 327], [38, 113, 6, 157, 5, 145, 61, 1675], [12, 23, 8, 51, 8, 32, 708, 19], [13, 16, 2, 1676, 1677, 4, 5, 56], [26, 7, 9, 335, 32, 89, 22, 62, 7, 18], [71, 60, 6, 38, 21, 1678, 59, 10, 54], [58, 153, 15, 21, 4, 119, 20, 1679], [22, 6, 14, 12, 93, 16, 12, 19, 49], [709, 9, 56, 26, 6, 49, 265, 20, 1680], [22, 314, 1681, 55, 565, 34, 1682, 124], [1683, 14, 35, 9, 56, 27, 44, 13, 1013], [10, 710, 18, 62, 14, 3, 100, 259, 245], [], [1684], [], [22, 146, 1685, 1686, 35, 2, 970], [88, 11, 25, 292, 13, 336, 1014, 25, 125], [36, 82, 994, 209, 1015, 11, 136, 137, 444], [130, 1687, 519, 1688, 25, 85, 56], [20, 6, 12, 292, 4, 463, 1016, 3, 95], [2, 1017, 1689, 4, 102, 1690], [1, 7, 44, 85, 102, 389, 211, 3, 267], [1691, 11, 711, 4, 44, 85, 102, 103], [58, 105, 5, 1692, 21, 38, 2, 1693], [1, 390, 1694, 4, 5, 464, 335], [88, 1018, 12, 15, 1, 113, 12, 1695], [43, 59, 8, 176, 8, 43, 67, 43, 712], [58, 1019, 3, 381, 40, 1020, 15, 67, 391], [3, 368, 11, 53, 1021, 3, 102, 1022, 392], [], [1696], [], [44, 72, 67, 1697, 2, 1023, 1, 67, 1698], [9, 135, 217, 7, 1699, 4, 5, 56], [5, 566, 13, 2, 530, 465, 232, 892], [1, 1700, 28, 13, 2, 1701, 54], [12, 319, 2, 1023, 120, 24, 76, 25, 298], [3, 161, 64, 31, 75, 524, 1702, 202], [26, 7, 5, 1024, 1703, 13, 1704, 70], [8, 67, 25, 647, 1705, 11, 62, 53], [63, 76, 40, 171, 713, 53, 12, 53, 39, 466], [44, 53, 39, 690, 9, 435, 1, 62, 12, 18], [41, 647, 3, 5, 335, 64, 319, 2, 231], [928, 3, 1706, 3, 904, 714, 35, 19], [57, 53, 29, 715, 567, 3, 233, 45, 54], [50, 702, 16, 40, 50, 76, 152, 14, 2, 56], [], [1707], [], [105, 79, 88, 41, 7, 716, 11, 45, 445], [4, 568, 329, 1, 179, 1708, 467], [195, 6, 208, 380, 4, 84, 717, 1025], [927, 12, 291, 7, 8, 6, 329, 101], [239, 1709, 1710, 45, 69, 289, 1711], [16, 22, 2, 1712, 106, 2, 1713, 72], [1, 7, 375, 45, 234, 202, 468], [12, 106, 17, 718, 50, 7, 45, 300, 199], [2, 1714, 1715, 1716, 12, 719], [227, 17, 720, 1717, 248, 1718], [13, 34, 2, 393, 4, 329, 721, 430], [1, 23, 2, 394, 569, 12, 26, 68, 1719], [38, 220, 6, 8, 15, 1, 77, 436], [64, 6, 92, 14, 1026, 52, 21, 570], [], [1720], [], [1721, 4, 5, 15, 3, 208, 7, 1722], [9, 469, 67, 5, 722, 1027, 1723], [3, 19, 6, 1028, 29, 1724, 1725], [3, 723, 722, 14, 3, 110, 5, 392], [722, 20, 239, 26, 392, 20, 177, 22, 44], [92, 65, 211, 571, 7, 724, 249, 3, 110, 28], [16, 8, 6, 395, 82, 171, 684, 4, 62], [7, 9, 1029, 140, 23, 1726, 49, 1727, 28], [183, 1728, 725, 8, 1729, 5, 1030], [1730, 35, 18, 1731, 11, 69, 1732], [1, 1733, 1734, 35, 5, 890, 250], [3, 110, 18, 470, 4, 9, 47, 572], [38, 92, 6, 573, 3, 467, 71, 6, 33, 15, 19], [183, 38, 14, 110, 5, 363, 64, 10, 207, 189, 18], [], [1735], [], [534, 11, 574, 6, 726, 18, 3, 5, 727], [2, 116, 1031, 12, 1032, 11, 1033, 575], [16, 38, 1736, 17, 1034, 7, 5, 363], [3, 651, 5, 158, 27, 728, 1737, 1738], [12, 38, 5, 144, 34, 164, 64, 6, 1035], [1739, 17, 1740, 923, 3, 19], [1, 265, 5, 1741, 1036, 1037, 332], [729, 35, 1742, 26, 2, 396, 33, 76], [294, 8, 5, 1029, 1743, 149], [1744, 9, 337, 3, 5, 1038, 301], [26, 74, 17, 576, 1039, 7, 1745, 115], [272, 196, 115, 260, 1, 55, 112, 129, 99], [659, 122, 30, 97, 5, 1032, 30, 115, 5, 158], [12, 19, 1, 12, 93, 37, 1746, 161], [], [1747], [], [71, 60, 6, 38, 397, 7, 220, 1748], [8, 77, 1749, 2, 1040, 4, 394], [27, 1750, 1751, 13, 14, 1752, 30, 115], [16, 97, 30, 115, 1, 115, 30, 97, 1041], [1, 169, 80, 1042, 3, 1043, 1044], [33, 7, 1753, 694, 1045, 3, 1046, 18], [2, 66, 30, 574, 2, 160, 3, 1754], [71, 164, 6, 574, 70, 730, 1047, 34, 19], [6, 167, 2, 97, 3, 577, 143, 10, 54, 215], [1, 87, 73, 233, 27, 578, 33, 731, 2, 193], [20, 732, 6, 2, 1755, 1756, 115], [27, 1757, 445, 1758, 14, 10, 1759, 2, 109], [16, 97, 32, 733, 702, 5, 1048, 377], [1, 115, 32, 1049, 65, 1760, 389], [211, 1050], [], [1761], [], [27, 7, 302, 11, 380, 1, 459, 53], [6, 23, 132, 1762, 5, 1763, 182], [1, 1764, 1765, 193, 11, 5, 1766, 1051], [1, 113, 90, 93, 1, 1052, 5, 1767], [879, 18, 74, 3, 66, 43, 228, 7, 395], [1768, 74, 73, 74, 73, 11, 734, 944], [1769, 29, 1053, 54, 1, 8, 1053, 471], [11, 40, 6, 101, 1770, 579, 437], [57, 7, 118, 144, 93, 735, 1771], [736, 6, 178, 35, 19, 1, 38, 5, 182], [74, 3, 2, 1772, 106, 580, 4, 97, 1773], [34, 1054, 230, 937, 1055, 106, 388, 1774], [12, 9, 47, 15, 648, 84, 398, 1056], [8, 38, 6, 1057, 3, 205, 5, 182, 11, 1058], [], [1775], [], [27, 3, 2, 1776, 4, 47, 1020, 140], [6, 1777, 148, 912, 4, 184, 269], [6, 1778, 2, 581, 4, 188, 17, 209, 6, 1779], [1, 11, 112, 1780, 99, 938, 5, 116, 159, 316], [38, 60, 6, 1781, 146, 72, 528, 3, 1782], [12, 399, 734, 1059, 7, 532, 1060, 115], [1, 666, 1783, 102, 210, 108, 1784, 212], [1, 472, 2, 737, 4, 188, 17, 1061, 149], [38, 60, 6, 1785, 106, 1786, 1787], [1, 1062, 34, 212, 3, 212, 167, 225], [2, 338, 582, 4, 1788, 1789, 472], [26, 6, 99, 656, 22, 42, 14, 1790, 173], [16, 42, 2, 400, 6, 178, 35, 19, 116, 185], [23, 1791, 41, 1792, 1, 1048, 222], [], [1793], [], [9, 940, 13, 1794, 11, 23, 473], [26, 6, 30, 1795, 39, 1063, 165], [1, 138, 1796, 15, 1, 23, 102, 250, 324], [1, 23, 79, 734, 26, 6, 140, 468], [71, 188, 17, 583, 1, 1064, 1797], [67, 116, 1798, 15, 474, 34, 44, 72], [22, 1065, 4, 2, 165, 26, 63, 584], [16, 184, 570, 8, 1799, 7, 19, 197], [10, 54, 2, 640, 64, 468, 15, 32, 89], [1039, 11, 2, 1800, 4, 5, 1066, 261], [88, 23, 45, 324, 4, 18, 3, 19, 104, 100], [8, 355, 4, 188, 63, 13, 62, 132], [45, 1801, 6, 475, 6, 301, 7, 19], [1, 10, 23, 50, 151, 23, 2, 23, 4, 18], [], [1802], [], [42, 10, 1067, 5, 98, 579, 97], [27, 8, 887, 157, 5, 1803, 11, 1068, 46, 708], [1, 221, 30, 380, 248, 43, 1804, 738], [118, 177, 539, 297, 4, 9, 1069, 1805], [384, 143, 11, 2, 1070, 4, 2, 48], [1, 80, 50, 21, 1806, 30, 83, 246], [1071, 143, 12, 5, 15, 14, 12, 45, 383], [1807, 30, 2, 682, 4, 657, 172], [58, 38, 1072, 18, 16, 29, 250, 140], [1808, 5, 1073, 163, 585, 11, 29, 739, 168], [17, 1074, 476, 59, 29, 25, 15, 162, 740], [3, 1809, 7, 1810, 4, 134, 1811], [16, 108, 68, 1075, 1, 1076, 134, 189], [1004, 12, 45, 741, 339, 381, 25, 12, 25, 15, 147], [], [1812], [], [213, 188, 17, 1813, 1077, 39, 6, 235], [732, 2, 1078, 1814, 11, 586, 72], [1815, 11, 425, 129, 2, 1816, 373], [1005, 1079, 1817, 11, 660, 1080], [1081, 1818, 2, 742, 578, 3, 743], [11, 1819, 1820, 35, 25, 1821, 129], [1, 34, 2, 1822, 94, 25, 1823, 477], [1082, 1083, 3, 744, 11, 29, 302], [109, 20, 5, 231, 66, 1824, 1084, 104, 587], [11, 23, 1085, 1825, 35, 5, 282], [16, 150, 745, 68, 91, 16, 66, 588, 44], [2, 1826, 1086, 67, 1087, 73, 34, 18, 63], [57, 73, 12, 29, 5, 15, 37, 1827, 1828], [1829, 4, 2, 94, 92, 746, 27, 388, 231, 1830], [], [1831], [], [107, 747, 10, 1832, 84, 17, 260, 97], [1, 65, 18, 1033, 279, 266, 5, 1833], [3, 105, 478, 578, 1834, 18, 7, 5, 365], [1835, 9, 1836, 7, 45, 1088, 1837], [232, 14, 401, 8, 319, 2, 1086, 10, 580], [3, 1838, 2, 676, 35, 5, 1839, 1840, 129], [12, 37, 457, 98, 4, 84, 17, 1841, 60, 303], [8, 1842, 2, 589, 1, 1843, 14, 2, 302], [52, 60, 9, 236, 100, 1089, 3, 5, 479], [80, 10, 1844, 57, 6, 39, 70, 2, 273], [2, 1845, 480, 525, 16, 1090, 1846], [3, 73, 8, 748, 2, 264, 1847, 749], [326, 16, 79, 481, 41, 1848, 26, 9, 15, 1849], [1, 50, 41, 228, 1, 1091, 23, 124, 251], [], [1850], [], [37, 43, 21, 1851, 106, 8, 26, 10, 151, 466], [340, 39, 750, 1, 1852, 1853, 1854], [578, 1, 1855, 746, 154, 707, 1, 231], [1, 1856, 482, 262, 7, 483, 885], [23, 172, 65, 304, 1, 109, 6, 7, 29], [1857, 9, 1092, 11, 384], [93, 1858, 1859, 9, 751], [1860, 9, 752, 43, 59, 9, 752, 41], [12, 3, 9, 1093, 753, 6, 305, 7, 590], [9, 1861, 1862, 13, 9, 1863], [1, 372, 93, 17, 754, 755, 1864], [84, 1865, 370, 13, 7, 5, 15, 1, 191], [8, 6, 146, 1866, 484, 120, 21], [3, 8, 47, 591, 26, 1094, 1095, 34, 18], [], [1867], [], [105, 18, 1868, 8, 166, 274, 120, 21, 756], [275, 126, 1869, 306, 41, 66], [20, 46, 79, 1870, 8, 33, 11, 18, 757], [266, 9, 592, 30, 18, 21, 956, 132], [7, 126, 274, 306, 138, 13, 16, 66, 572], [80, 7, 126, 262, 17, 1871, 485], [26, 80, 28, 1872, 14, 102, 1873, 653], [57, 32, 28, 341, 47, 203, 34, 102, 307], [6, 92, 14, 758, 1874, 19], [308, 5, 1875, 1876, 61, 33, 19, 236], [52, 10, 11, 568, 1096, 329, 18], [366, 10, 198, 8, 329, 34, 9, 155], [16, 33, 14, 20, 6, 15, 19, 7, 84, 1097], [22, 10, 81, 44, 44, 13, 9, 171, 593], [], [1877], [], [22, 17, 1878, 674, 672, 307], [3, 76, 25, 1879, 284, 33, 251, 4, 170], [20, 6, 128, 1098, 30, 759, 760, 485], [198, 23, 5, 594, 4, 9, 127, 1, 117], [12, 342, 51, 476, 36, 398, 36, 392], [36, 224, 4, 118, 23, 36, 23, 36, 43], [1880, 7, 9, 324, 33, 1881, 1099], [6, 65, 5, 15, 1882, 3, 29, 268], [20, 38, 6, 77, 14, 1098, 177, 52, 761], [195, 8, 29, 337, 32, 84, 531, 100], [8, 6, 7, 9, 519, 77, 1883], [1, 30, 17, 125, 4, 23, 9, 300, 89], [113, 40, 13, 114, 8, 114, 6, 450, 7, 19], [29, 450, 6, 39, 38, 323, 263, 220, 18], [], [1884], [], [71, 60, 5, 163, 567, 486, 3, 1100], [400, 10, 87, 992, 8, 1885, 487, 5, 174], [62, 85, 47, 402, 136, 1886], [12, 83, 762, 1887, 3, 562], [58, 100, 119, 2, 1888, 42, 1101, 7, 18], [470, 1889, 296, 142, 9, 149], [12, 1890, 20, 390, 8, 276, 247, 3, 19], [27, 10, 119, 87, 100, 488, 362], [21, 10, 2, 1891, 163, 323, 263, 43, 7, 127], [59, 79, 112, 1892, 26, 1893, 1894], [1, 68, 8, 423, 35, 19, 105, 73, 305, 279], [378, 554, 3, 763, 210, 448], [42, 5, 1102, 163, 33, 577, 118, 1895, 145], [2, 489, 21, 44, 16, 62, 46, 21, 2, 96], [], [1896], [], [58, 71, 9, 127, 11, 764, 92, 6, 325], [27, 10, 54, 23, 2, 134, 125, 4, 18], [40, 60, 44, 85, 96, 3, 44, 85, 123, 305], [1, 40, 13, 1103, 16, 44, 85, 27, 6, 96, 19], [109, 12, 29, 105, 1104, 1897, 89], [1, 126, 116, 15, 271, 155, 4, 523, 66], [8, 30, 29, 1898, 6, 92, 100], [8, 355, 3, 19, 26, 10, 1899, 132], [58, 490, 40, 17, 1105, 679, 10, 189], [86, 28, 14, 9, 1106, 595, 440, 47, 241], [3, 1900, 2, 48, 11, 144, 4, 15], [26, 48, 1, 144, 20, 932, 32, 903], [1, 8, 10, 1901, 71, 3, 65, 66, 756], [30, 1107, 73, 543, 88, 32, 376, 757], [], [1902], [], [198, 23, 5, 306, 5, 15, 1903, 198, 143, 23], [40, 151, 10, 38, 43, 59, 10, 1108, 173], [37, 15, 5, 15, 8, 10, 207, 75, 15, 244], [23, 44, 91, 62, 173, 10, 1108, 29, 43], [38, 42, 12, 5, 15, 10, 5, 15, 662], [6, 276, 596, 19, 12, 5, 15, 10, 1904], [16, 57, 21, 1109, 42, 10, 119, 1905], [30, 1110, 597, 4, 40, 119, 1906], [6, 33, 1907, 9, 1111, 180, 591], [275, 10, 341, 19, 23, 5, 1112], [1, 57, 15, 229, 28, 13, 17, 765, 479], [3, 200, 102, 387, 59, 1908, 1909, 766], [1113, 233, 7, 208, 23, 124, 98, 382], [491, 18, 11, 1910, 57, 166, 120, 14, 21, 767], [], [1911], [], [79, 1114, 1115, 8, 1116, 942], [27, 6, 77, 385, 598, 34, 9, 56], [9, 51, 1, 9, 1117, 213, 98, 1912], [12, 70, 1118, 1913, 64, 10, 54], [180, 10, 54, 1, 153, 3, 21, 1914], [260, 10, 54, 153, 3, 21, 1915], [1, 27, 17, 705, 1916, 40, 703, 661], [49, 1094, 241, 55, 183, 78, 39, 1917], [1119, 18, 16, 57, 10, 1918, 5, 1120, 1121], [1, 434, 1122, 51, 1, 9, 1919, 170], [88, 1123, 19, 7, 45, 1920, 109, 138], [64, 10, 54, 1921, 3, 580, 17, 1922, 117], [1923, 30, 9, 51, 1924, 55, 3, 19], [62, 30, 9, 51, 81, 133, 3, 18], [], [1925], [], [8, 10, 151, 55, 28, 13, 14, 23, 5, 479], [1, 57, 28, 92, 21, 599, 6, 475, 55, 1926], [8, 78, 67, 19, 13, 4, 5, 1927, 945], [17, 273, 7, 15, 8, 555, 18, 43, 1928], [250, 1929, 122, 6, 49, 317, 1124], [10, 87, 15, 55, 768, 10, 1930, 6, 15, 55], [1, 12, 5, 309, 109, 20, 32, 78, 649, 18], [1931, 5, 185, 12, 5, 309, 3, 769, 55], [42, 6, 271, 19, 5, 273, 13, 5, 102, 600], [1, 770, 55, 5, 185, 67, 252, 8, 273], [154, 161, 169, 160, 1, 6, 271, 154, 756], [1, 154, 12, 5, 309, 1125, 35, 18, 29, 749], [16, 1932, 2, 291, 5, 185, 1, 6, 41, 66], [47, 771, 38, 78, 306, 16, 18, 132], [], [1933], [], [27, 101, 6, 1126, 38, 33, 44, 53, 114, 76], [12, 23, 2, 97, 50, 301, 184, 1127], [16, 27, 6, 601, 7, 1128, 50, 113, 35, 19], [1, 1934, 215, 41, 215, 7, 772, 1935], [38, 10, 130, 337, 773, 32, 65, 215], [71, 121, 9, 1936, 217, 217, 220, 110], [3, 2, 774, 97, 11, 9, 137, 1129, 362], [27, 3, 1937, 53, 9, 558, 987, 20], [71, 121, 6, 95, 44, 53, 21, 295, 128], [30, 729, 35, 19, 7, 2, 278, 97], [27, 7, 165, 115, 9, 69, 1938, 558], [319, 403, 601, 35, 1038, 53, 32, 270], [23, 145, 41, 1130, 3, 76, 183, 6, 76, 19], [1, 1130, 215, 145, 27, 1128, 33, 110, 19, 18], [], [1939], [], [42, 2, 404, 531, 4, 5, 775, 86, 140], [1131, 1940, 61, 14, 899, 5, 365], [12, 38, 356, 4, 1941, 6, 121, 21, 740], [34, 1942, 164, 1943, 64, 10, 87, 270], [37, 776, 38, 275, 5, 777, 104, 296], [90, 2, 1132, 230, 570, 34, 19], [12, 1133, 140, 60, 1944, 154, 602, 1, 1945], [22, 778, 22, 178, 2, 242, 64, 68, 121, 21], [16, 326, 140, 1946, 18, 8, 6, 77, 14, 140], [3, 1134, 492, 1947, 4, 1135, 27, 10, 54, 261], [16, 8, 20, 137, 4, 230, 1, 493, 1009], [6, 120, 1948, 159, 595, 11, 5, 472], [1949, 680, 30, 1136, 20, 494], [16, 403, 481, 1950, 4, 1043, 212], [], [1951], [], [2, 160, 274, 1102, 564, 1, 1952, 253], [41, 154, 11, 19, 1953, 6, 1035], [2, 194, 5, 140, 2, 160, 5, 214], [118, 495, 598, 11, 386, 496, 1954], [12, 27, 118, 1955, 1136, 41, 261], [7, 314, 1956, 4, 15, 3, 19], [5, 111, 81, 128, 4, 1957, 11, 274, 132], [1958, 497, 3, 157, 1041, 11, 1959], [1960, 1961, 1962, 21, 1963], [30, 79, 386, 1964, 1965, 34, 19], [88, 109, 16, 63, 175, 259, 245, 603], [4, 9, 69, 1137, 1966, 28, 3, 18], [29, 604, 6, 291, 16, 38, 37, 377, 995], [6, 1028, 143, 259, 245, 1, 343, 293, 338], [], [1967], [], [44, 72, 1, 56, 41, 106, 17, 433, 370], [71, 3, 1968, 2, 658, 4, 9, 149], [44, 72, 5, 56, 9, 1969, 149, 121, 1970], [5, 56, 44, 72, 2, 1971, 4, 8, 254], [5, 56, 32, 1018, 8, 10, 7, 73, 87, 197], [17, 1972, 156, 1973, 11, 1974, 53], [16, 2, 1975, 32, 8, 755, 943], [1, 498, 7, 73, 9, 69, 1976, 202], [3, 1977, 29, 1138, 13, 1978], [17, 1139, 4, 144, 23, 1979, 3, 2, 56], [1, 30, 45, 1980, 13, 1981], [2, 774, 779, 1982, 1, 2, 116, 405, 125], [22, 122, 44, 779, 355, 13, 9, 330, 125], [1, 5, 405, 254, 9, 551, 15, 4, 56], [], [1983], [], [1984, 44, 72, 1, 56, 17, 1985, 13, 499], [1, 169, 32, 171, 713, 63, 1986, 2, 160], [27, 8, 44, 72, 13, 1987, 12, 17, 113], [36, 56, 7, 15, 11, 1988, 941, 32, 1989], [11, 5, 102, 780, 38, 5, 72, 32, 1140], [1, 3, 2, 451, 1990, 1991, 5, 56], [238, 48, 44, 72, 13, 5, 405, 1141], [1, 7, 25, 144, 4, 15, 32, 1992, 17, 125], [20, 1142, 30, 9, 780, 36, 5, 15], [119, 141, 54, 1993, 70, 11, 18], [12, 10, 14, 730, 59, 5, 144, 320, 1994], [1, 6, 77, 70, 11, 143, 1, 50, 11, 19], [36, 42, 50, 601, 9, 780, 7, 5, 149], [1995, 5, 56, 3, 405, 1, 779, 307], [], [1996], [], [71, 1143, 91, 6, 27, 6, 499, 5, 365], [169, 1997, 364, 1998, 1025, 3, 1999], [8, 3, 5, 187, 28, 103, 528, 270], [34, 1045, 4, 1144, 7, 781, 2000, 4, 463], [16, 10, 3, 208, 5, 1145, 2001, 41], [101, 470, 4, 594, 63, 5, 2002, 479], [10, 114, 4, 760, 1, 44, 313, 406], [54, 431, 2, 1146, 4, 83, 762, 591], [19, 39, 6, 14, 2003, 148, 7, 224, 782], [294, 64, 10, 54, 14, 80, 6, 1147, 10, 54], [216, 2, 180, 2004, 4, 5, 335], [34, 783, 106, 219, 10, 207, 175, 1, 125], [1, 109, 310, 10, 181, 21, 474, 6, 292], [12, 117, 2005, 1148, 12, 17, 784, 20, 116], [], [2006], [], [142, 8, 48, 42, 186, 8, 48, 175], [27, 6, 46, 76, 19, 718, 35, 5, 2007], [27, 22, 9, 15, 67, 1149, 25, 2008, 520], [1150, 3, 8, 650, 30, 2009, 2010], [142, 8, 48, 27, 10, 221, 1151, 785], [1, 2011, 786, 18, 11, 8, 231, 62, 72], [27, 15, 925, 34, 2, 209, 28, 91], [46, 787, 161, 4, 2012, 2013], [142, 8, 48, 33, 6, 2014, 18, 543], [216, 2, 677, 4, 44, 85, 788], [1, 29, 5, 139, 142, 93, 2015], [3, 1152, 2, 754, 787, 35, 9, 125], [3, 241, 177, 18, 10, 151, 2, 389, 4, 2016], [108, 107, 3, 15, 6, 60, 2017, 37, 789], [], [2018], [], [71, 403, 33, 6, 1034, 35, 2, 365], [27, 40, 6, 605, 5, 534, 2019, 222], [32, 790, 8, 1153, 1, 8, 1031, 3, 95], [2020, 164, 2, 1135, 41, 2021, 34, 9, 185, 147], [2, 1154, 8, 748, 18, 575, 11, 5, 212], [2022, 2023, 35, 3, 200, 8, 2024, 7, 18], [22, 42, 30, 82, 2025, 2, 1155, 104, 152], [25, 2026, 475, 14, 791, 81, 128, 34, 19], [2, 685, 1156, 276, 2027, 73, 35], [8, 2028, 2029, 2030, 487, 25, 477], [26, 1062, 68, 2031, 11, 17, 606], [43, 2032, 3, 18, 59, 2033, 3, 25, 500], [12, 8, 322, 606, 32, 336, 29, 7, 5, 158], [5, 479, 202, 2034, 1, 5, 291, 537], [], [2035], [], [122, 60, 5, 15, 317, 2, 494, 1157], [4, 5, 404, 2036, 27, 34, 19, 6, 791], [34, 64, 10, 54, 107, 61, 6, 726, 18, 310], [183, 6, 397, 4, 2037, 13, 37, 501], [58, 40, 317, 49, 5, 177, 1154, 38, 161], [27, 386, 2038, 60, 211, 16, 494], [38, 61, 6, 1156, 80, 2039, 35, 2, 964], [7, 2040, 791, 37, 496, 46, 6, 152], [38, 60, 37, 1158, 11, 5, 214, 265, 792], [153, 214, 4, 2041, 15, 81, 128], [46, 2042, 37, 404, 775, 7, 25, 2043, 2044], [16, 15, 12, 15, 122, 46, 317, 5, 2045], [108, 34, 19, 926, 68, 2046, 1110, 494], [1159, 19, 339, 2047, 1, 100, 73, 241, 3, 374], [], [2048], [], [20, 77, 6, 22, 2, 228, 130, 295, 2049], [60, 305, 73, 3, 25, 47, 148, 2050, 258], [2, 26, 68, 49, 14, 83, 588, 738], [12, 2051, 2, 1022, 1160, 4, 1161, 219], [153, 41, 2052, 20, 2053, 1, 20, 563], [108, 1161, 961, 7, 2, 210, 439, 344], [74, 2054, 4, 127, 50, 2055, 2056, 41], [36, 1162, 1145, 7, 2, 2057], [20, 13, 2, 48, 8, 452, 24, 22, 5, 782], [36, 22, 2, 2058, 26, 2, 2059, 32, 477], [3, 65, 82, 1163, 2060, 1163, 793], [30, 99, 2061, 25, 1164, 234], [295, 41, 24, 130, 2062, 287, 471], [81, 162, 3, 717, 81, 1165, 3, 395], [], [2063], [], [40, 13, 31, 531, 1166, 41, 24, 128], [8, 2064, 4, 407, 773, 35, 24, 794], [108, 83, 66, 67, 83, 66, 66, 558], [1, 24, 16, 66, 60, 83, 337, 427], [2065, 2066, 1, 2, 978], [13, 2067, 2068, 227, 24], [35, 2069, 502, 23, 54, 4, 51, 344], [1, 24, 7, 2070, 2071, 41, 451, 99], [303, 4, 2, 421, 1, 2072, 4, 2, 439], [2, 66, 32, 337, 4, 31, 51, 110], [2, 160, 22, 31, 949, 32, 584], [1, 24, 7, 83, 295, 435, 166, 152], [7, 23, 2073, 233, 24, 39, 82, 125], [16, 24, 74, 190, 190, 24, 12, 678, 56], [], [2074], [], [58, 71, 137, 43, 32, 51, 260, 211], [30, 8, 47, 420, 26, 117, 32, 100], [2, 353, 204, 69, 16, 669, 166, 28, 2075], [12, 8, 47, 795, 26, 32, 7, 28, 89], [2, 482, 2076, 39, 213, 22, 283, 17, 2077], [22, 2, 2078, 2079, 4, 2, 340], [796, 35, 84, 750, 1, 428, 22, 2080], [27, 218, 345, 45, 2081, 557, 2082], [16, 12, 45, 346, 313, 13, 45, 110], [50, 89, 2083, 1, 1127, 698], [199, 3, 375, 47, 340, 33, 14, 20], [4, 45, 47, 1167, 41, 483, 2084, 128], [1, 20, 4, 24, 260, 1, 286, 170], [27, 8, 46, 698, 5, 174, 2085, 31, 117], [], [2086], [], [14, 2087, 52, 2, 1168, 2088], [4, 965, 46, 763, 29, 1169, 383], [16, 24, 46, 587, 43, 215, 7, 118, 2089], [59, 2090, 797, 2091, 11, 2092, 48], [27, 976, 370, 46, 2093, 2094], [1, 2095, 1170, 150, 2, 651, 4, 2096], [52, 2097, 25, 2098, 52, 2099, 798, 253, 46, 700], [2, 278, 799, 4, 31, 280], [372, 157, 1, 23, 2100, 2101], [46, 24, 792, 279, 31, 96, 46, 70, 161, 2102], [109, 7, 2, 53, 4, 23, 644], [8, 683, 29, 94, 150, 3, 2, 2103, 447], [20, 183, 2, 379, 8, 226, 2104], [24, 89, 7, 29, 1, 359, 7, 1171, 53], [], [2105], [], [47, 15, 2106, 9, 1172, 21, 28, 14, 599], [9, 800, 61, 2107, 21, 59, 801], [26, 16, 3, 97, 30, 802, 13, 2108], [3, 607, 2109, 7, 25, 608, 103], [20, 15, 21, 10, 275, 3, 97, 10, 803], [9, 1173, 53, 109, 183, 50, 1126, 11, 2110], [3, 607, 76, 245, 1, 33, 14, 491], [2, 255, 4, 15, 11, 17, 1174, 2111], [105, 29, 338, 2112, 74, 2, 804, 21], [26, 324, 2, 805, 64, 274, 884, 99], [175, 733, 3, 2, 2113, 8, 27, 50, 76], [397, 4, 15, 43, 793, 92, 21, 2, 301], [354, 244, 28, 429, 26, 81, 213, 4, 406], [272, 218, 1175, 806, 43, 2114, 43, 563], [], [2115], [], [81, 31, 347, 40, 61, 6, 33, 16, 794], [90, 2, 203, 1, 263, 4, 31, 214], [6, 39, 37, 399, 48, 106, 23, 3, 426], [52, 2116, 3, 33, 183, 24, 2117], [52, 573, 6, 434, 2, 94, 266, 222, 588], [195, 6, 5, 586, 1176, 2, 951, 12, 24], [52, 178, 2, 1177, 4, 490, 1106], [27, 24, 39, 2118, 31, 2119, 248, 2120], [52, 573, 6, 957, 11, 5, 2121, 140], [64, 24, 92, 21, 36, 31, 1178, 2122], [16, 74, 17, 338, 347, 270, 1, 178, 4, 680], [294, 64, 24, 41, 71, 220, 24, 65, 79], [20, 75, 17, 807, 13, 15, 8, 7, 31, 49], [80, 24, 33, 224, 209, 68, 1179, 37, 124], [], [2123], [], [8, 808, 701, 8, 128, 18, 194, 31, 347], [6, 61, 7, 140, 809, 31, 263, 4, 219], [36, 106, 31, 139, 2, 582, 4, 203, 3, 2124], [81, 31, 1180, 1181, 3, 270, 31, 595], [58, 105, 18, 1182, 81, 106, 31, 2125], [2, 1164, 490, 4, 31, 1116], [1, 1183, 2126, 3, 2127, 1184, 169, 1185], [266, 2128, 24, 4, 766], [21, 64, 24, 2129, 31, 1186, 13, 20, 264], [8, 24, 226, 92, 1187, 31, 48], [3, 40, 24, 49, 3, 24, 28, 32, 1188], [226, 3, 2130, 4, 123, 810, 559], [6, 77, 3, 1189, 80, 2131, 20, 21, 311], [14, 596, 31, 219, 21, 28, 124, 36, 98], [], [2132], [], [42, 138, 21, 131, 99, 16, 8, 26, 13], [67, 408, 173, 71, 41, 126, 2133, 2134], [26, 2135, 12, 488, 200, 751], [2, 609, 711, 4, 17, 608, 284], [58, 8, 799, 243, 11, 17, 2136, 113], [109, 4, 811, 2137, 2138, 4, 2, 231], [110, 18, 31, 524, 7, 82, 454, 393], [108, 158, 106, 194, 7, 812, 91, 466], [8, 6, 103, 76, 40, 2, 112, 94, 243, 95], [3, 29, 2139, 813, 4, 31, 530], [342, 166, 41, 2140, 36, 342, 134, 50], [36, 342, 2141, 21, 2, 322], [58, 781, 6, 77, 2, 1190, 4, 608, 145], [3, 1191, 503, 39, 527, 2142, 96], [], [2143], [], [74, 22, 2, 2144, 65, 1159, 2, 2145, 805], [20, 33, 126, 548, 2146, 3, 45, 222], [169, 990, 242, 11, 8, 26, 1192, 173], [7, 2147, 574, 23, 2148, 33, 2149], [2150, 248, 7, 2, 814, 4, 362], [2151, 3, 2152, 2153, 81, 815], [1193, 2154, 372, 25, 300, 719], [1, 48, 8, 440, 32, 63, 25, 441, 1194], [48, 32, 2155, 2, 2156, 344, 35, 170], [1, 2157, 2, 2158, 7, 135, 282], [1195, 35, 2, 2159, 4, 357, 117], [1, 131, 816, 16, 12, 25, 542, 3, 2160], [1, 57, 3, 263, 7, 395, 5, 174, 46, 296], [1107, 9, 127, 356, 25, 281, 139], [], [2161], [], [13, 28, 9, 49, 9, 524, 61, 265, 1037], [5, 403, 1036, 3, 2, 534, 115], [87, 10, 214, 5, 2162, 61, 21, 2163], [400, 773, 74, 3, 19, 33, 817, 5, 149], [13, 28, 9, 255, 8, 10, 2164, 34, 19], [20, 164, 34, 818, 487, 5, 251, 3, 2165], [3, 161, 150, 1196, 1, 1197, 203, 7, 18], [2, 471, 1, 2166, 4, 9, 2167], [58, 37, 9, 15, 80, 137, 13, 14, 20, 239], [28, 13, 5, 15, 8, 452, 44, 72, 2168], [44, 85, 75, 15, 8, 32, 5, 394, 2169], [3, 428, 2, 2170, 186, 12, 9, 309], [12, 19, 1176, 6, 195, 10, 87, 2171, 819], [34, 18, 164, 1047, 11, 223, 23, 136, 504], [], [2172], [], [312, 4, 123, 15, 2173, 23, 44, 72], [1, 23, 5, 256, 1, 23, 5, 83, 125], [1, 12, 29, 312, 138, 13, 37, 1198], [28, 13, 20, 1199, 551, 7, 5, 56], [546, 37, 129, 20, 432, 13, 22, 44], [37, 435, 20, 75, 37, 117, 4, 84, 582], [1, 12, 93, 44, 85, 127, 33, 2174], [22, 6, 23, 160, 7, 23, 2175, 2176], [16, 27, 5, 237, 382, 18, 93, 2177], [2178, 1, 2179, 11, 2180, 1200], [44, 85, 123, 15, 430, 2181, 6, 381], [123, 20, 123, 250, 86, 2182], [232, 19, 93, 8, 12, 93, 6, 96], [409, 5, 168, 11, 51, 4, 9, 145], [], [2183], [], [142, 5, 15, 46, 21, 22, 6, 77, 63], [11, 159, 1131, 139, 2184, 1, 225, 2185], [27, 203, 39, 2186, 25, 285, 1, 691, 25, 282], [11, 297, 1, 424, 27, 25, 973, 1084], [67, 2187, 35, 3, 1201, 2188, 115], [1, 23, 79, 541, 1166, 63, 2189, 1202], [41, 2190, 36, 1061, 150, 4, 149], [1082, 141, 2, 258, 4, 25, 421], [12, 84, 17, 48, 33, 6, 63, 977], [142, 2191, 1201, 281, 610], [8, 68, 46, 156, 2192, 34, 280], [5, 47, 102, 51, 80, 5, 1171, 111], [25, 51, 46, 7, 118, 196, 297, 21, 235], [1, 50, 46, 89, 1, 68, 7, 143, 70, 373], [], [2193], [], [27, 6, 39, 235, 30, 159, 460, 139, 2194], [2, 228, 179, 820, 4, 1203, 468, 168], [27, 385, 954, 2195, 6, 76, 497, 721], [1, 611, 378, 347, 3, 433, 444], [27, 6, 39, 235, 2, 1173, 804, 600], [821, 35, 2, 2196, 4, 2, 805], [1, 2, 2197, 2198, 612, 4, 2, 2199, 814], [2200, 268, 11, 273, 1, 273, 11, 268], [27, 6, 39, 235, 84, 2201, 4, 182], [36, 182, 334, 2202, 3, 267], [2203, 67, 410, 18, 122, 3, 2204], [8, 48, 49, 175, 1, 198, 5, 15, 141], [29, 140, 13, 22, 17, 157, 26, 276, 2205], [16, 666, 3, 39, 8, 26, 28, 411, 3, 271], [], [2206], [], [108, 611, 52, 797, 52, 230, 52, 2207, 602], [16, 338, 2208, 225, 2209, 45, 277], [71, 11, 29, 444, 46, 51, 192, 17, 755], [130, 822, 13, 37, 1050, 59, 17, 505], [58, 71, 46, 218, 2210, 345, 192, 150], [142, 2, 2211, 2212, 4, 2213, 145], [27, 2214, 2215, 41, 14, 20, 2216], [52, 2217, 4, 823, 20, 264, 16, 48, 2218], [58, 2219, 2220, 64, 745], [46, 159, 114, 576, 34, 159, 782, 197, 1059], [36, 40, 264, 139, 60, 192, 25, 386, 777, 259], [36, 88, 25, 2221, 4, 51, 60, 701], [58, 190, 366, 29, 2222, 39, 103], [8, 7, 196, 1204, 5, 15, 92, 70, 587, 215], [], [2223], [], [575, 11, 23, 118, 12, 2224, 157, 6, 1205], [22, 3, 327, 788, 17, 2225, 299], [1, 2226, 131, 2227, 7, 2228], [1, 2229, 506, 2230, 613], [1, 2231, 329, 2232, 2233], [1, 688, 346, 2234, 2235], [1, 254, 967, 2236, 2237], [1, 389, 30, 2238, 1206, 2239], [1, 54, 128, 176, 507, 30, 2240], [1, 948, 2241, 74, 1006, 298], [1, 824, 117, 2242, 2243], [1, 2244, 171, 922, 1162, 124], [575, 11, 23, 118, 34, 118, 121, 6, 21, 261], [294, 8, 3, 199, 6, 241, 5, 15, 132], [], [2245], [], [326, 550, 11, 825, 61, 68, 89], [1, 11, 25, 946, 233, 2246], [8, 312, 30, 73, 821, 61, 2247], [1, 2248, 334, 11, 25, 2249], [107, 61, 133, 409, 2250, 25, 502], [1, 341, 165, 348, 4, 25, 278, 458], [107, 61, 177, 51, 2251, 605], [340, 4, 337, 108, 25, 353, 13, 75], [107, 61, 68, 89, 63, 240, 2252, 13], [2253, 4, 285, 3, 2254, 319, 1207, 1208], [12, 78, 67, 37, 2255, 63, 16, 25], [1, 179, 4, 188, 262, 90, 25, 2256], [58, 73, 78, 2257, 3, 110, 40, 398, 78, 162], [7, 145, 210, 108, 173, 118, 1209, 20, 349], [], [2258], [], [122, 13, 25, 502, 2, 1210, 4, 145, 1203], [27, 51, 456, 1, 1075, 22, 290, 33, 63], [173, 2, 826, 2259, 4, 69, 86, 299], [36, 2260, 2261, 35, 17, 278, 282], [173, 2, 425, 2262, 4, 2, 165], [2, 254, 4, 2263, 86, 2264, 141], [3, 89, 17, 609, 111, 35, 609, 363], [360, 135, 165, 2265, 128, 238, 1211], [7, 73, 79, 583, 454, 203, 41, 235], [266, 23, 420, 334, 1, 75], [201, 37, 288, 4, 827, 373], [2266, 37, 112, 3, 2267, 25, 51, 99], [1, 73, 22, 12, 17, 1210, 32, 240, 268], [3, 110, 133, 54, 40, 51, 91, 4, 2268], [], [2269], [], [79, 324, 4, 19, 8, 2, 419, 72, 32, 301], [567, 131, 8, 2, 140, 4, 473, 60, 828], [23, 614, 2, 2270, 4, 1007, 100, 19, 8, 355], [2271, 571, 117, 109, 20, 22, 767, 2272], [9, 330, 122, 11, 330, 96, 13, 815], [16, 79, 322, 614, 8, 100, 19, 20, 62, 85], [7, 160, 2273, 33, 29, 96, 1194], [30, 348, 730, 59, 2, 72, 67, 1212], [50, 113, 487, 2, 51, 4, 9, 158], [1, 8, 7, 1213, 50, 1214, 30, 9, 251], [38, 2274, 45, 144, 275, 45, 53, 86, 206], [3, 9, 69, 505, 615, 2, 508, 616, 4, 617], [16, 107, 9, 795, 2275, 14, 9, 110], [2, 2276, 13, 29, 8, 10, 87, 618, 293], [], [2277], [], [8, 10, 54, 1109, 46, 14, 21, 9, 1215], [12, 2278, 535, 91, 186, 57, 2, 69], [2, 420, 4, 51, 13, 829], [17, 1216, 8, 830, 7, 388, 483, 564], [20, 10, 21, 171, 1217, 32, 16, 769], [9, 127, 2, 765, 81, 2279, 4, 48], [12, 482, 2280, 2, 483, 557, 32, 15], [1, 10, 2281, 17, 1218, 2282, 522], [10, 151, 1219, 30, 2, 2283, 4, 560, 145], [1142, 14, 2284, 36, 2285, 81, 2286], [57, 29, 9, 96, 276, 21, 20, 9, 96], [3, 1220, 148, 1221, 758, 2287], [42, 82, 829, 4, 124, 1087, 14, 9, 110], [38, 10, 132, 2288, 4, 473, 361, 2289], [], [2290], [], [37, 377, 831, 12, 18, 27, 6, 77, 165], [38, 24, 46, 368, 2, 2291, 1054, 2292], [100, 2293, 3, 2, 94, 8, 6, 77, 1222], [34, 29, 832, 94, 11, 2294, 533, 3, 359], [1223, 42, 24, 381, 29, 833, 1224, 14], [2, 139, 8, 391, 28, 12, 6, 15, 24, 20], [8, 6, 7, 31, 47, 144, 121, 21, 569], [42, 834, 35, 18, 38, 61, 65, 24, 212], [58, 42, 6, 95, 24, 113, 90, 29, 174], [27, 6, 2295, 2296, 77, 11, 2297], [33, 14, 20, 137, 22, 5, 177, 155, 562], [16, 105, 31, 15, 109, 11, 5, 111, 267], [308, 2, 1225, 94, 61, 113, 487, 31, 472], [1, 817, 24, 11, 18, 227, 6, 77, 261], [], [2298], [], [58, 308, 2, 94, 61, 2299, 24, 3, 2300], [40, 469, 456, 7, 18, 8, 24, 61, 15], [227, 5, 157, 116, 15, 1016, 18, 430], [12, 24, 7, 18, 60, 131, 470, 189], [366, 24, 121, 1226, 82, 689, 197], [3, 33, 43, 12, 18, 59, 44, 85, 788], [1, 796, 43, 96, 90, 1069, 6], [59, 900, 117, 121, 2301, 2302], [58, 308, 31, 75, 15, 92, 211, 133, 7, 29], [8, 24, 12, 15, 303, 98, 4, 18, 1227], [5, 155, 21, 468, 64, 5, 566, 13], [1, 89, 37, 43, 3, 236, 52, 18, 52, 24], [12, 6, 77, 2303, 30, 8, 26, 6, 305, 279], [1, 20, 61, 24, 3, 15, 184, 131, 127], [], [2304], [], [8, 48, 4, 439, 10, 207, 7, 18, 327], [27, 1228, 289, 36, 190, 36, 2305, 33, 796], [90, 79, 2306, 26, 694, 142, 2, 318], [571, 1229, 2307, 64, 2308, 2, 47, 835, 2309], [7, 18, 10, 2310, 2, 2311, 4, 84, 97], [22, 227, 2312, 2313, 7, 2, 744], [26, 30, 1, 30, 196, 115, 32, 198, 141], [532, 609, 123, 8, 2314, 148, 23, 7, 394], [7, 18, 10, 2315, 2, 2316, 4, 84, 253], [8, 35, 2, 2317, 4, 25, 170, 32, 197], [22, 2, 157, 727, 681, 28, 120, 2318], [2319, 11, 8, 26, 28, 91, 2320, 30], [29, 10, 2321, 26, 272, 9, 15, 43, 264], [3, 15, 8, 98, 26, 10, 120, 241, 360, 210], [], [2322], [], [16, 21, 579, 27, 8, 460, 2323], [266, 23, 1230, 46, 2324, 18, 141], [5, 111, 67, 7, 29, 833, 82, 1065], [26, 12, 2325, 70, 11, 19, 46, 270], [27, 10, 2326, 29, 10, 87, 2327], [2, 321, 125, 91, 2328, 3, 19], [2, 230, 60, 39, 16, 230, 26, 13, 25, 355], [5, 255, 13, 62, 2, 134, 125, 4, 18], [20, 38, 10, 151, 16, 619, 2, 2329, 4, 111], [2, 1146, 4, 533, 5, 566, 81, 165], [2, 2330, 658, 4, 17, 2331, 610], [136, 478, 4, 19, 3, 21, 2332], [2, 127, 4, 8, 13, 8, 26, 28, 2333], [1, 8, 13, 29, 1, 29, 11, 19, 2334], [], [2335], [], [20, 41, 24, 3, 5, 144, 22, 2336, 3, 111], [36, 22, 47, 2337, 1231, 41, 3, 2, 836], [1, 12, 2, 1232, 4, 24, 6, 192, 84, 2338], [22, 1233, 17, 2339, 1, 25, 398, 13, 252], [63, 179, 22, 146, 2340, 1, 1081], [1234, 2, 2341, 168, 49, 341, 25, 258], [63, 1235, 114, 3, 21, 11, 24, 132], [38, 2342, 8, 2, 94, 92, 76, 5, 219], [385, 23, 213, 11, 2343, 35, 31, 149], [1, 30, 1, 30, 2344, 2345, 12, 17, 113], [1236, 36, 2346, 37, 307], [294, 40, 13, 162, 36, 120, 34, 24, 21, 499], [122, 33, 6, 837, 1, 2347, 97, 30, 97], [36, 2348, 35, 23, 36, 23, 141], [], [2349], [], [107, 13, 5, 174, 20, 442, 4, 99, 234], [20, 164, 34, 2350, 36, 798, 205], [107, 11, 2, 48, 33, 6, 14, 1237, 1238], [3, 99, 252, 2351, 1, 3, 1239, 407], [107, 247, 6, 70, 23, 66, 186, 2, 322], [1, 265, 488, 7, 17, 1240, 641], [8, 83, 1241, 32, 735, 167, 5, 155], [2352, 45, 476, 1, 64, 50, 104, 2353], [58, 152, 47, 15, 6, 2354, 247, 4, 24], [1, 24, 1, 15, 41, 70, 5, 402], [20, 23, 5, 114, 13, 2355, 112, 249, 99], [2356, 245, 40, 13, 2357, 412], [12, 22, 2, 231, 13, 733, 99, 1, 112], [20, 13, 5, 15, 70, 1242, 40, 13, 604], [], [2358], [], [9, 237, 49, 110, 19, 71, 9, 541, 683], [9, 1243, 71, 9, 399, 548, 316], [2, 2359, 289, 9, 2360, 2361, 49, 200], [1, 4, 29, 393, 29, 1244, 207, 10, 597], [2, 424, 26, 9, 237, 49, 462, 110], [4, 2362, 2363, 49, 100, 19, 280], [10, 30, 9, 2364, 2365, 2366, 207, 152], [159, 1148, 2367, 3, 517], [113, 40, 9, 280, 60, 14, 2368], [2369, 3, 118, 316, 2370, 1, 10, 221, 161], [79, 2371, 2372, 2373, 34, 9, 509], [3, 198, 17, 99, 838, 4, 9, 158], [118, 2374, 20, 446, 22, 10, 181, 113], [46, 2375, 19, 1, 137, 2376, 9, 393], [], [2377], [], [20, 446, 39, 6, 2378, 19, 12, 5, 163], [1, 252, 84, 69, 2379, 7, 5, 174], [22, 83, 2380, 246, 67, 839, 5, 187], [1, 364, 19, 45, 2381, 2382], [62, 53, 8, 410, 2, 390, 35, 553, 3, 325], [1, 403, 1245, 2383, 3, 2384], [39, 1246, 2385, 3, 2, 2386, 2387], [1, 527, 233, 17, 840, 919], [57, 21, 101, 179, 4, 8, 26, 6, 2388], [130, 971, 13, 62, 1, 299, 4, 19], [7, 620, 841, 10, 87, 16, 828, 2, 741], [1, 2389, 11, 9, 47, 453, 2390, 21], [16, 10, 54, 23, 5, 54, 1, 87, 2391], [22, 553, 22, 1244, 5, 539, 1245], [], [2392], [], [195, 6, 132, 104, 244, 90, 9, 1247], [5, 174, 132, 162, 23, 9, 180, 233], [16, 63, 5, 432, 554, 41, 2393], [1, 5, 413, 163, 32, 100, 238, 242], [6, 538, 47, 15, 9, 286, 402], [2394, 2, 2395, 4, 17, 2396, 246], [57, 40, 4, 19, 9, 635, 32, 1100], [68, 1095, 19, 4, 1, 1248, 28, 19, 245], [68, 525, 19, 346, 1, 68, 2397, 8, 1241], [34, 9, 2398, 51, 32, 68, 100], [1, 252, 28, 7, 9, 502, 68, 60, 2399], [37, 96, 3, 19, 16, 40, 7, 19, 32, 89], [38, 2400, 73, 14, 12, 8, 26, 68, 32, 95], [108, 40, 68, 2401, 19, 10, 119, 87, 656], [], [2402], [], [58, 71, 6, 2403, 27, 6, 4, 24, 33, 247], [621, 17, 134, 255, 32, 187, 31, 155], [1, 7, 2, 96, 2404, 2405, 23, 25, 103], [3, 65, 18, 176, 507, 464, 4, 31, 842], [16, 108, 31, 127, 332, 22, 2, 804, 13], [2, 1249, 22, 2, 2406, 843, 32, 200], [5, 1250, 1251, 2407, 164, 3, 25], [35, 31, 2408, 814, 32, 2409, 584], [31, 2410, 592, 49, 192, 18, 148, 2411], [195, 68, 90, 31, 2412, 283, 32, 743], [36, 81, 2413, 6, 77, 17, 1252, 2414], [68, 4, 2415, 2416, 1, 4, 2417, 234], [38, 42, 68, 966, 1, 6, 21, 1149, 141], [2, 333, 91, 29, 5, 15, 91, 5, 267], [], [2418], [], [36, 6, 46, 89, 31, 2419, 3, 65], [36, 24, 1067, 27, 6, 7, 230, 77, 1088], [34, 376, 31, 280, 157, 276, 198], [275, 7, 18, 169, 125, 49, 21, 2420], [31, 155, 34, 376, 2421, 111, 46, 39], [80, 6, 248, 261, 3, 23, 2, 94, 120, 199], [2, 230, 60, 1253, 18, 16, 17, 618, 640], [27, 24, 2422, 7, 459, 53, 46, 197], [31, 1254, 46, 21, 5, 180, 174], [26, 53, 14, 57, 1008, 46, 225, 381], [1, 614, 3, 21, 31, 81, 46, 562], [27, 23, 2, 2423, 4, 29, 94, 41, 165], [24, 70, 46, 89, 84, 346, 67, 5, 246], [64, 345, 101, 2424, 109, 7, 2, 2425, 4, 172], [], [2426], [], [6, 538, 10, 706, 14, 931, 3, 5, 163], [1, 153, 207, 266, 2427, 2428], [2, 2429, 249, 26, 2430, 187], [4, 45, 69, 486, 2431, 83, 393], [10, 54, 22, 69, 7, 677, 22, 7, 458], [1255, 9, 127, 17, 2432, 269, 5, 96], [1, 153, 54, 2433, 3, 605, 844], [82, 2434, 2435, 4, 2, 48, 1070, 145], [1, 33, 20, 15, 57, 27, 50, 39, 2436], [40, 2437, 555, 2438, 60, 427], [10, 462, 69, 706, 462, 2439], [7, 75, 2440, 249, 30, 9, 75, 1242, 185], [1, 45, 1256, 409, 103, 21, 134, 529], [64, 622, 501, 285, 7, 19, 28, 13, 2441], [], [2442], [], [6, 156, 510, 8, 24, 104, 409, 501], [1, 153, 3, 31, 69, 37, 409, 344], [6, 252, 36, 140, 6, 252, 24, 104, 2443], [2, 442, 314, 4, 17, 983, 2444], [1, 153, 39, 6, 2445, 7, 31, 593], [8, 24, 226, 81, 2446, 98, 103, 110], [71, 164, 17, 2447, 1257, 32, 175, 136, 455], [464, 4, 127, 40, 127, 7, 24, 32, 293], [29, 845, 12, 5, 312, 24, 104, 2448], [26, 46, 21, 101, 5, 300, 81, 390], [12, 6, 2449, 14, 51, 81, 1258], [27, 223, 121, 100, 111, 1, 305, 17, 422], [138, 262, 43, 111, 7, 66, 4, 31, 69, 53], [59, 154, 31, 1076, 60, 7, 96, 1226], [], [2450], [], [88, 13, 28, 8, 498, 101, 26, 60, 95, 43], [59, 29, 228, 96, 8, 24, 132, 41, 24], [7, 130, 2451, 2452, 13, 2, 268], [26, 61, 1259, 64, 31, 2453, 511], [2454, 2455, 216, 8, 246, 32, 359], [8, 3, 25, 486, 525, 14, 82, 891, 300], [16, 68, 8, 2456, 4, 24, 42, 68, 60, 167], [8, 24, 41, 24, 20, 2457, 25, 623], [105, 73, 16, 950, 40, 7, 24, 13, 391], [14, 201, 503, 40, 240, 128, 20, 774], [1, 84, 17, 2458, 46, 842, 25, 392], [201, 25, 741, 2459, 83, 64], [24, 3, 31, 260, 2460, 615, 17, 1052], [81, 898, 35, 96, 26, 272, 31, 624, 503], [], [2461], [], [5, 176, 507, 163, 7, 764, 449, 55, 70], [400, 1260, 4, 31, 96, 2462, 2463], [1071, 45, 812, 11, 425, 1257], [1, 399, 2464, 30, 23, 2, 2465, 2466], [6, 178, 171, 144, 195, 160, 247, 171, 249], [1, 74, 2467, 2468, 70, 1205, 2469], [3, 83, 2470, 8, 2471, 255, 1261], [7, 2472, 217, 4, 98, 2473, 246], [2474, 24, 1262, 6, 95, 2475, 20, 232, 75, 147], [1, 3, 2, 101, 4, 96, 615, 1263, 43], [16, 8, 13, 7, 5, 140, 130, 15, 3, 24], [80, 249, 175, 2476, 449, 25, 508, 173], [38, 223, 12, 2, 345, 4, 249, 572], [18, 12, 5, 390, 144, 464, 7, 653], [], [2477], [], [91, 28, 2, 179, 213, 843, 4, 25, 239, 174], [1181, 12, 2, 784, 4, 23, 136, 399, 24], [8, 104, 5, 2478, 144, 7, 5, 509, 2479], [201, 45, 422, 2, 896, 465, 50, 511], [91, 28, 25, 255, 30, 1264, 410, 3, 247], [625, 17, 433, 924, 8, 2480, 18, 165], [37, 980, 68, 52, 25, 2481, 30, 115], [1265, 73, 1247, 5, 174, 2482], [68, 52, 8, 2483, 2484, 2485], [26, 1049, 2486, 73, 11, 2487], [22, 2488, 4, 5, 845, 276, 467], [6, 91, 14, 413, 4, 224, 292, 34, 310], [16, 27, 31, 2489, 691, 148, 25, 833], [38, 1165, 6, 776, 8, 2490, 44], [], [2491], [], [2492, 10, 54, 136, 116, 12, 5, 1236], [1, 74, 401, 10, 846, 9, 2493], [2, 1186, 4, 9, 127, 287, 19, 2494], [5, 847, 7, 19, 41, 23, 2495], [12, 71, 33, 6, 192, 19, 16, 30, 9, 2496], [1, 12, 8, 1266, 64, 13, 5, 2497], [2, 789, 4, 29, 69, 441, 7, 18, 13, 724], [1, 20, 5, 2498, 259, 245, 13, 2499], [119, 10, 710, 9, 85, 127, 38, 14, 621], [36, 18, 3, 208, 10, 710, 28, 354, 2500], [20, 9, 239, 441, 90, 2501, 739], [1267, 818, 245, 35, 134, 379, 201], [122, 39, 6, 162, 19, 22, 17, 1268, 32, 732], [7, 601, 17, 1202, 16, 2502, 37, 84, 776], [], [2503], [], [27, 10, 221, 21, 2504, 3, 344, 18, 362], [1, 242, 5, 469, 7, 2, 72, 4, 1057], [90, 9, 500, 142, 93, 339, 719], [1, 189, 19, 689, 80, 10, 54, 613], [11, 44, 85, 2505, 81, 114, 1002], [90, 9, 125, 6, 60, 344, 497, 17, 623], [4, 304, 2506, 465, 6, 77, 2507], [8, 10, 7, 770, 18, 221, 612, 137, 300], [1, 6, 30, 29, 49, 21, 17, 2508, 136], [12, 1269, 23, 5, 250, 144, 35, 19], [2, 1270, 8, 3, 93, 6, 33], [810, 19, 1271, 840, 1271, 18], [84, 13, 5, 15, 3, 19, 6, 20, 1188], [8, 12, 9, 254, 93, 49, 200, 23, 387], [], [2509], [], [95, 8, 10, 747, 959, 18, 12, 82, 753], [1, 6, 49, 972, 90, 8, 1157], [303, 4, 5, 2510, 1, 6, 343, 49, 2511], [142, 9, 787, 201, 37, 960], [10, 320, 14, 15, 302, 18, 692, 20, 124], [3, 344, 17, 217, 90, 1272, 205], [22, 339, 93, 302, 621, 9, 49], [6, 49, 838, 2512, 1, 113, 407], [21, 598, 34, 9, 1273, 1, 7, 5, 176], [9, 47, 436, 155, 37, 43, 46, 359], [308, 6, 136, 137, 2513, 61, 33, 28, 387], [1, 736, 4, 126, 112, 838, 167], [12, 19, 142, 93, 339, 848, 2514], [12, 6, 120, 556, 15, 73, 208, 10, 87, 191], [], [2515], [], [38, 191, 18, 27, 10, 181, 42, 186, 63], [63, 400, 2, 94, 13, 1274, 5, 251, 3, 749], [2516, 11, 2, 485, 4, 380, 65, 18, 1275], [1, 33, 14, 2517, 7, 12, 146, 227, 273], [326, 33, 14, 27, 5, 56, 67, 2518, 29, 480], [175, 7, 2, 2519, 4, 17, 2520, 212], [100, 14, 17, 2521, 115, 17, 2522, 607], [3, 2523, 150, 17, 2524, 2525], [42, 10, 181, 241, 18, 33, 14, 241, 18, 1209], [27, 160, 1114, 2526, 39, 466, 45, 485], [16, 7, 2, 2527, 175, 20, 46, 6, 597], [106, 194, 2, 321, 333, 4, 759, 103], [1, 160, 2528, 4, 212, 26, 63, 211, 212], [2529, 11, 273, 4, 19, 49, 14, 211, 20], [], [2530], [], [82, 300, 7, 45, 476, 82, 7, 45, 298], [82, 7, 45, 398, 82, 7, 45, 2531, 1172], [82, 7, 45, 2532, 80, 99, 2533, 124], [82, 7, 45, 1276, 1, 2534, 82, 7, 45, 1158], [1, 83, 1277, 67, 25, 1278, 219], [465, 28, 1279, 17, 291, 625, 2, 394], [16, 118, 2535, 41, 14, 5, 1214], [23, 118, 6, 134, 7, 66, 849, 114], [9, 15, 13, 134, 59, 553, 476, 3, 18], [2536, 59, 398, 2537, 59, 2538, 820], [4, 43, 307, 59, 1276, 36, 2539, 21], [1, 358, 19, 4, 23, 459, 234, 6, 467], [626, 7, 29, 132, 8, 10, 207, 198], [23, 29, 141, 1, 18, 101, 626, 65], [], [2540], [], [16, 33, 9, 333, 3, 341, 119, 141], [12, 2541, 4, 111, 10, 54, 603, 44], [1, 111, 37, 377, 59, 9, 15, 49, 270], [12, 28, 1280, 90, 8, 15, 4, 62], [38, 501, 6, 14, 3, 292, 2, 333, 4, 1115], [27, 7, 2, 437, 4, 143, 5, 111, 67, 222], [6, 76, 17, 134, 182, 3, 18, 1021], [59, 8, 26, 35, 9, 1277, 32, 2542], [10, 320, 14, 1281, 18, 11, 974, 158], [108, 8, 5, 111, 35, 9, 2543, 32, 197], [58, 40, 17, 220, 1138, 33, 6, 161], [220, 3, 39, 9, 15, 220, 3, 199], [16, 850, 20, 295, 69, 8, 411, 37, 731], [10, 207, 21, 133, 1, 57, 6, 152, 28, 14], [], [2544], [], [20, 46, 6, 89, 2545, 10, 54, 75], [74, 17, 1282, 664, 20, 102, 129], [92, 70, 211, 15, 3, 18, 80, 1283, 99], [9, 204, 11, 18, 9, 56, 7, 160, 242], [12, 138, 60, 89, 37, 2546, 7, 62, 72], [153, 7, 8, 6, 276, 152, 9, 205], [7, 2547, 204, 2, 133, 405, 2548], [13, 391, 7, 2549, 1, 2550, 1, 424, 407], [16, 193, 7, 9, 1284, 104, 2551], [8, 7, 9, 129, 47, 15, 61, 186, 359], [997, 9, 144, 36, 9, 405, 2552, 21], [9, 204, 61, 131, 310, 16, 1285, 167], [71, 74, 2553, 2554, 32, 9, 51, 293], [42, 9, 47, 346, 642, 14, 9, 110], [], [2555], [], [50, 8, 39, 277, 3, 2556, 1, 49, 33, 190], [8, 33, 14, 33, 2, 209, 50, 101, 33, 110], [88, 1030, 223, 41, 375, 22, 797], [2557, 318, 1, 3, 1118, 494], [50, 2558, 33, 2559, 388, 453], [1, 664, 357, 1266, 34, 737], [50, 41, 2, 2560, 1, 2561, 4, 45, 982], [223, 16, 2562, 4, 45, 1286], [2, 218, 505, 13, 3, 2, 288, 47], [80, 3, 334, 28, 313, 89, 1, 199], [16, 42, 8, 505, 11, 478, 825, 913], [2, 742, 641, 2563, 25, 2564], [12, 483, 184, 627, 2565, 30, 45, 251], [2566, 8, 2567, 616, 164, 503, 59, 617], [], [2568], [], [71, 47, 1, 286, 87, 10, 65, 2, 236], [26, 74, 17, 482, 7, 2, 2569, 353], [32, 2570, 2, 51, 4, 9, 2571, 155], [58, 7, 40, 369, 87, 10, 9, 752, 2572], [8, 176, 8, 952, 2, 623, 4, 9, 145], [201, 1113, 1260, 35, 9, 1287], [276, 2573, 16, 7, 17, 206, 4, 96], [2574, 9, 155, 2575, 146, 124, 593], [58, 40, 17, 1288, 39, 79, 2576, 839], [26, 12, 45, 2577, 2578, 150, 19], [64, 135, 2579, 32, 708, 83, 731], [1, 23, 184, 627, 3, 69, 8, 53, 60, 76], [198, 2580, 116, 56, 4, 29, 492, 1187], [2, 2581, 610, 124, 529, 32, 271, 25, 800], [], [2582], [], [82, 95, 9, 753, 13, 170, 82, 2583], [82, 95, 9, 233, 13, 170, 1, 180, 1287], [154, 233, 1, 304, 41, 475, 4, 43, 1, 331], [10, 888, 304, 453, 8, 3, 19, 2584], [22, 35, 2, 2585, 4, 17, 2586, 2587], [2, 742, 576, 49, 21, 98, 1289], [20, 41, 79, 628, 8, 7, 19, 41, 235], [3, 2588, 2589, 1, 12, 75, 184, 1290], [71, 188, 2590, 103, 2, 2591, 2592, 1291], [42, 74, 17, 2593, 68, 243, 25, 204, 2594], [71, 188, 2595, 2596, 10, 1123, 141], [42, 10, 679, 187, 2, 389, 4, 23, 9, 182], [16, 33, 14, 20, 6, 15, 19, 7, 84, 1097], [22, 10, 81, 44, 44, 13, 9, 171, 593], [], [2597], [], [71, 74, 17, 429, 67, 5, 490, 408], [34, 19, 2, 219, 4, 2, 2598, 439], [40, 2599, 39, 6, 2600, 40, 772, 145, 235], [40, 112, 2601, 909, 83, 64], [1, 57, 29, 48, 570, 91, 218, 48], [2, 2602, 1292, 2603, 11, 228, 518], [709, 2, 2604, 711, 4, 2, 522], [74, 2605, 2606, 227, 45, 2607, 636], [57, 29, 2608, 963, 851, 3, 18], [16, 395, 4, 2609, 1, 2610, 2611], [12, 288, 1, 25, 2612, 1189, 35, 19], [1, 10, 141, 2, 321, 835, 41, 1258], [36, 42, 50, 325, 232, 11, 20, 404, 17, 2613], [8, 289, 113, 1079, 2614, 2, 655, 504], [], [2615], [], [34, 24, 39, 6, 408, 598, 7, 2, 421], [27, 179, 2616, 646, 2617, 7, 23, 25, 2618], [67, 336, 17, 255, 4, 170, 7, 83, 209], [8, 403, 2619, 2620, 1, 2621, 11, 73], [57, 52, 2, 629, 4, 835, 52, 2, 47, 616], [4, 2622, 290, 7, 795, 1, 7, 458], [243, 65, 18, 224, 218, 623, 167], [36, 34, 45, 179, 2623, 545, 143, 64, 50, 511], [52, 104, 6, 813, 106, 2, 2624, 328], [52, 96, 2, 283, 2625, 7, 2, 353], [50, 86, 16, 47, 16, 2626, 4, 307], [690, 227, 24, 24, 1000, 4, 23, 79], [57, 851, 28, 429, 70, 1, 24, 141], [22, 11, 31, 337, 6, 11, 118, 104, 428], [], [2627], [], [2, 2628, 953, 122, 104, 6, 434], [47, 591, 783, 747, 10, 341, 9, 47, 8, 2629], [42, 14, 34, 5, 102, 345, 2, 2630, 234], [26, 35, 9, 2631, 502, 12, 696, 2632], [7, 5, 102, 1208, 10, 151, 136, 2633, 1293], [2, 2634, 6, 2635, 12, 9, 139], [1, 557, 4, 2636, 162, 474, 9, 2637], [2, 340, 2638, 35, 750, 104, 296], [66, 1294, 236, 238, 328, 852], [17, 2639, 52, 630, 52, 328, 162, 474, 4, 154], [1, 3, 25, 1111, 162, 2640, 9, 345], [16, 12, 25, 2641, 7, 234, 4, 23, 25, 853], [17, 2642, 482, 639, 73, 148, 3, 157], [43, 290, 6, 1240, 57, 6, 190, 243, 76], [16, 47, 36, 854, 28, 162, 474, 34, 19], [], [2643], [], [64, 54, 10, 163, 8, 10, 2644, 20, 210], [3, 303, 4, 8, 26, 287, 19, 23, 9, 103], [2645, 10, 9, 2646, 35, 82, 1252, 536], [2647, 9, 277, 3, 427, 478, 1191, 362], [397, 2648, 163, 1, 343, 2649], [7, 180, 554, 48, 20, 2650, 412], [325, 3, 2, 663, 8, 32, 9, 629, 1295], [1, 287, 9, 246, 154, 298, 1, 402], [1296, 2651, 163, 5, 102, 47, 129, 738], [42, 48, 39, 224, 2652, 2653, 138], [42, 224, 21, 17, 2654, 3, 267], [1, 65, 159, 2655, 761, 83, 64], [100, 5, 15, 842, 2656, 59, 48, 958, 111], [20, 10, 2657, 25, 542, 1, 1193, 610], [], [2658], [], [58, 2659, 163, 40, 46, 21, 9, 2660], [12, 9, 1297, 4, 117, 7, 51, 1293], [154, 117, 1, 51, 35, 5, 15, 1280], [20, 87, 10, 136, 1, 714, 2661], [65, 642, 163, 181, 10, 14, 736, 95], [2662, 484, 37, 854, 11, 25, 854, 1012], [51, 37, 979, 135, 117, 3, 1125], [16, 114, 13, 114, 42, 156, 2663, 147], [768, 68, 484, 37, 96, 181, 10, 21, 390], [317, 14, 845, 20, 2664, 202, 7, 19], [3, 65, 73, 137, 763, 17, 1168, 422], [1, 3, 21, 1262, 4, 2665, 57, 3, 21], [38, 33, 9, 2666, 163, 6, 790, 19, 71], [3, 65, 73, 211, 210, 376, 22, 68, 382, 63], [], [2667], [], [5, 15, 13, 2668, 80, 43, 1090, 7, 665], [6, 15, 14, 331, 80, 331, 2, 110, 584], [8, 15, 13, 2669, 130, 228, 2670], [2, 2671, 176, 32, 2672, 83, 64], [126, 15, 91, 99, 1, 38, 16, 7, 2, 421], [27, 6, 91, 2673, 3, 786, 28, 11, 5, 629], [22, 2674, 7, 218, 2675, 32, 325], [1, 2676, 55, 2677, 7, 853, 4, 883, 145], [14, 8, 2, 288, 13, 331, 2678, 63], [59, 27, 55, 2679, 1055, 104, 2680, 2, 115], [16, 8, 2681, 367, 2682, 83, 2683], [1, 369, 585, 618, 271, 45, 116, 307], [153, 74, 55, 6, 385, 192, 5, 176], [768, 6, 121, 14, 404, 24, 11, 5, 536], [], [2684], [], [745, 40, 1112, 5, 163, 1056, 279], [8, 358, 84, 17, 471, 3, 110, 55, 234], [2, 402, 23, 571, 13, 4, 43, 127], [59, 27, 28, 67, 5, 1246, 96, 2685], [58, 596, 18, 14, 42, 6, 37, 43, 60, 247], [113, 7, 31, 237, 1, 138, 2686, 17, 129], [8, 855, 1192, 5, 699, 488, 430], [2687, 5, 297, 1, 810, 18, 302], [86, 28, 14, 856, 38, 2688, 3, 828], [3, 2689, 2, 486, 8, 173, 91, 98], [12, 3, 37, 160, 785, 5, 2690, 794], [59, 4, 31, 453, 1, 31, 2691, 3, 167], [1, 43, 137, 43, 59, 7, 5, 174, 60, 1099], [31, 85, 237, 382, 24, 27, 24, 113, 7, 28], [], [2692], [], [3, 18, 69, 185, 24, 156, 60, 21, 112], [12, 22, 24, 86, 27, 194, 31, 72, 6, 2693], [84, 1298, 31, 51, 70, 350, 889, 318], [39, 34, 2, 2694, 2695, 350, 2696, 234], [350, 260, 2697, 3, 1228, 1292, 1299], [7, 2698, 4, 2, 996, 39, 6, 235], [350, 646, 1300, 7, 350, 695, 2699, 2700], [108, 194, 6, 510, 24, 315, 26, 57, 41, 373], [326, 57, 32, 51, 74, 17, 1243, 139], [341, 34, 25, 2701, 1, 37, 792, 2702], [20, 31, 47, 458, 26, 546, 70, 32, 296], [67, 496, 1, 44, 72, 92, 21, 1282], [12, 292, 4, 26, 368, 29, 10, 168, 2703], [360, 24, 86, 299, 91, 135, 288, 165], [], [2704], [], [105, 14, 5, 15, 21, 1150, 2705], [52, 5, 436, 22, 146, 2706, 110], [108, 23, 2707, 5, 2708, 1, 624, 21], [3, 66, 4, 66, 70, 84, 1, 186, 20], [206, 13, 5, 15, 3, 97, 3, 607, 206], [70, 678, 7, 17, 1301, 1286], [153, 5, 174, 3, 857, 858], [66, 209, 2709, 289, 150, 2710], [859, 206, 1, 1302, 13, 23, 5, 402], [859, 206, 1, 1302, 2711, 3, 160, 249], [1, 7, 29, 205, 13, 5, 488, 412], [350, 2712, 7, 66, 26, 1301, 471, 1261], [859, 206, 1, 75, 147, 39, 988, 456, 132], [26, 350, 183, 63, 156, 667, 1120, 7, 66], [], [2713], [], [27, 7, 2, 2714, 4, 2715, 48], [6, 76, 2716, 4, 2, 418, 2717], [1, 51, 201, 2718, 112, 383], [7, 96, 4, 2719, 165, 1, 286, 2720], [38, 7, 2, 2721, 4, 47, 135, 114], [4, 139, 4, 777, 4, 2722, 4, 72, 4, 282], [6, 76, 45, 454, 246, 121, 39, 712], [109, 84, 17, 51, 22, 24, 1001, 63], [20, 23, 45, 624, 41, 16, 2723], [4, 29, 126, 48, 23, 24, 2724], [1, 12, 50, 1303, 16, 11, 2725, 53], [50, 162, 14, 298, 401, 31, 127, 3, 325], [12, 166, 26, 63, 327, 118, 495, 145], [162, 53, 3, 813, 16, 581, 614, 3, 96], [], [2726], [], [14, 44, 85, 411, 52, 2, 2727, 256], [4, 2, 332, 94, 2728, 35, 184, 3, 175], [60, 57, 2, 544, 4, 5, 75, 15, 809], [1063, 22, 1304, 3, 17, 858, 447], [2, 433, 707, 67, 55, 2729, 2730], [1, 2, 338, 2731, 817, 45, 85, 2732], [2733, 63, 2734, 375, 603], [1, 1232, 2735, 2736, 4, 2737, 168], [63, 11, 2, 2738, 4, 29, 101, 2739, 48], [5, 15, 204, 315, 1, 157, 3, 18, 2740], [108, 485, 4, 73, 339, 89, 7, 29, 177, 383], [400, 68, 2741, 225, 404, 1, 936, 2742], [1, 10, 7, 29, 221, 161, 9, 1254], [27, 2743, 2744, 1, 2745, 4, 611, 41, 412], [], [2746], [], [850, 7, 2, 509, 8, 1204, 92, 812], [26, 67, 14, 2747, 3, 19, 5, 75, 255], [850, 99, 3, 303, 40, 99, 3, 2748], [8, 92, 1305, 5, 15, 36, 9, 116, 469], [131, 47, 860, 16, 57, 74, 2749, 1306], [6, 120, 169, 97, 95, 225, 2, 321, 322], [1235, 37, 112, 209, 112, 10, 44, 6, 62], [109, 22, 27, 194, 6, 2750, 9, 69, 155], [20, 8, 378, 15, 7, 102, 315, 2751], [2752, 14, 2, 1068, 1, 766, 4, 168], [52, 287, 3, 2753, 424, 242], [16, 272, 1200, 12, 2754, 25, 2755], [1255, 2, 194, 684, 4, 15, 138, 1307], [64, 48, 1, 330, 217, 121, 110, 28, 165], [], [2756], [], [58, 156, 95, 8, 6, 91, 133, 4, 56], [80, 490, 851, 5, 638, 3, 2757], [22, 2758, 103, 6, 34, 93, 916], [22, 34, 5, 256, 26, 7, 9, 335, 32, 197], [8, 13, 5, 818, 4, 15, 42, 6, 39, 2759], [74, 73, 8, 2760, 6, 397, 245], [631, 3, 2, 48, 14, 11, 2, 48, 2761], [20, 8, 93, 305, 493, 12, 5, 746], [156, 552, 80, 7, 5, 240, 2762], [23, 1308, 8, 2763, 23, 2764, 4, 285], [8, 28, 243, 20, 2765, 21, 2766], [3, 241, 12, 131, 23, 9, 520, 4, 171], [12, 131, 29, 332, 2767, 6, 244], [294, 10, 5, 353, 7, 28, 10, 54, 5, 23], [], [2768], [], [1309, 232, 75, 6, 39, 261, 543, 1, 138], [1, 128, 93, 17, 2769, 3, 2, 301], [2770, 44, 85, 144, 2771, 2772, 40, 13, 101, 116], [128, 112, 2773, 4, 2774, 99], [101, 75, 28, 13, 8, 6, 39, 1303, 35, 117], [2775, 1, 1151, 16, 30, 23, 625], [118, 2776, 440, 5, 56, 238, 170], [1, 503, 2777, 861, 19, 5, 114, 4, 15], [63, 23, 13, 466, 39, 40, 46, 39, 37, 222], [44, 801, 6, 156, 43, 49, 2778], [35, 1310, 862, 3, 1122, 146, 2779, 185], [17, 808, 7, 15, 3, 208, 6, 77, 858], [38, 100, 18, 1175, 1311, 5, 193, 2, 114], [109, 3, 9, 1218, 1, 101, 101, 250, 335], [], [2780], [], [58, 12, 5, 309, 33, 24, 11, 380, 434], [2, 1312, 1313, 4, 5, 2781, 251], [8, 104, 14, 134, 12, 5, 111, 2782], [59, 568, 687, 26, 568, 764, 2783], [310, 1267, 28, 8, 5, 155, 863, 17, 512], [1, 735, 310, 5, 240, 13, 2784], [3, 40, 28, 841, 7, 74, 2, 2785, 139], [257, 18, 38, 1, 450, 6, 86, 2786], [195, 74, 17, 914, 2787, 6, 49, 1314], [1315, 4, 2788, 372, 5, 264, 825], [37, 1177, 8, 6, 49, 1316, 178], [52, 840, 2789, 3, 2790, 2791], [257, 18, 38, 116, 185, 1, 6, 2792, 1124], [109, 8, 31, 257, 13, 401, 3, 513, 18], [], [2793], [], [31, 15, 1, 257, 32, 2, 2794, 803], [26, 762, 2795, 2796, 90, 5, 282], [12, 40, 406, 6, 88, 423, 18, 98, 36, 124], [20, 24, 225, 373, 5, 349, 5, 171, 999], [24, 41, 5, 23, 2, 94, 1, 6, 120, 1317], [3, 152, 5, 1196, 1, 624, 34, 31, 176], [190, 354, 3, 18, 52, 6, 3, 190, 984], [8, 5, 2797, 590, 36, 2798, 254, 36, 387], [7, 20, 2799, 2800, 6, 2801, 23, 406], [4, 620, 2802, 8, 5, 2803, 590], [3, 2804, 1, 3, 2805, 2806, 41], [535, 71, 11, 5, 1297, 6, 33, 2807], [24, 41, 20, 1027, 7, 5, 461, 1307], [8, 23, 2, 94, 1014, 546, 41, 165], [], [2808], [], [108, 6, 431, 24, 44, 72, 13, 7, 5, 158], [1, 8, 26, 2809, 18, 3, 374, 2810], [32, 125, 25, 2811, 1, 13, 2812, 396], [1298, 348, 16, 2813, 13, 150], [12, 28, 37, 217, 2814, 3, 2, 56], [4, 2815, 4, 505, 36, 435, 26, 28, 32, 2816], [4, 25, 798, 1318, 67, 2, 158, 37, 125], [52, 25, 85, 2817, 449, 40, 28, 32, 632], [12, 42, 28, 76, 2, 2818, 36, 2819, 149], [2, 101, 47, 716, 36, 2820, 2821], [2, 1078, 36, 2, 602, 2, 97, 36, 115], [2, 1216, 36, 2822, 28, 2823, 143, 3, 31, 2824], [2825, 4, 43, 1015, 11, 24], [5, 101, 75, 158, 122, 272, 44, 72, 1227], [], [2826], [], [36, 342, 32, 5, 158, 81, 815, 11, 24], [1314, 148, 2, 2827, 864, 29, 771], [36, 342, 46, 6, 95, 44, 72, 2828, 75], [1, 8, 31, 15, 410, 28, 29, 1080], [3, 65, 4, 2829, 1, 184, 2830], [84, 2831, 22, 31, 47, 123, 2832], [2833, 83, 349, 17, 1017, 114], [22, 438, 22, 1318, 3, 25, 2834, 2835], [58, 232, 2, 194, 232, 771, 7, 5, 348], [1, 5, 239, 158, 101, 2836, 2837, 28, 148], [44, 72, 98, 229, 40, 11, 25, 2838, 13, 2839], [1, 3, 25, 1319, 32, 962, 2, 2840], [42, 28, 21, 2841, 232, 2, 2842, 312], [8, 44, 72, 306, 28, 1, 32, 194, 2843], [], [2844], [], [79, 297, 8, 6, 173, 39, 391, 33, 197], [109, 79, 8, 599, 6, 243, 14, 15, 24, 1074], [57, 38, 5, 379, 2845, 37, 414, 107], [5, 101, 213, 638, 61, 2846, 700, 1129], [16, 2847, 48, 130, 2848, 2849], [2850, 7, 1233, 1320, 1, 205, 2851, 4, 1058], [2852, 918, 51, 699, 2, 2853, 2854], [2855, 264, 865, 3, 2, 697, 4, 2856, 184], [1309, 107, 2857, 4, 159, 2858], [103, 6, 14, 38, 95, 2859, 6, 15, 24, 114, 147], [27, 6, 91, 2860, 225, 2861], [2862, 2, 495, 1234, 4, 2, 394], [15, 13, 17, 565, 38, 103, 6, 14, 95, 20], [3, 100, 213, 853, 3, 8, 26, 70, 32, 293], [], [2863], [], [105, 18, 14, 3, 2, 2864, 4, 75, 865], [2865, 2866, 15, 13, 14, 15], [26, 1321, 27, 28, 2867, 1279], [36, 2868, 11, 2, 2869, 3, 1026], [58, 37, 28, 13, 146, 186, 2870, 535], [8, 204, 35, 2871, 1, 13, 156, 1322], [28, 13, 2, 725, 3, 83, 2872, 1251], [130, 2873, 1323, 275, 25, 682, 21, 866], [102, 14, 159, 807, 80, 2874, 415, 1, 622], [216, 25, 1269, 2875, 2876, 175], [15, 1321, 14, 11, 25, 675, 203, 1, 2877], [16, 748, 28, 150, 109, 3, 2, 800, 4, 447], [42, 29, 21, 2878, 1, 90, 18, 861], [6, 156, 391, 52, 37, 457, 186, 475], [], [2879], [], [1324, 18, 122, 8, 6, 39, 2880, 23], [465, 6, 61, 31, 239, 981, 2881], [569, 90, 31, 760, 15, 3, 244], [867, 23, 847, 33, 1220, 18, 97, 30, 97], [8, 6, 39, 2882, 408, 11, 1323, 865], [1, 527, 3, 48, 31, 85, 116, 2883, 254], [8, 6, 39, 2884, 843, 3, 23, 2, 986], [26, 61, 2885, 18, 1132, 34, 31, 149], [393, 154, 5, 2886, 1, 628, 497], [1, 35, 631, 862, 2887, 2888], [305, 18, 216, 2, 1325, 4, 31, 718], [16, 2889, 14, 106, 18, 7, 31, 2890, 191], [108, 5, 2891, 498, 6, 104, 1317, 3, 189], [2, 857, 1, 346, 4, 31, 15], [], [2892], [], [74, 22, 3, 65, 126, 2893, 43, 993], [11, 2894, 1239, 166, 126, 1319, 1326], [22, 3, 2895, 126, 1327, 1083], [166, 2896, 3, 1328, 2897, 27, 166, 2898], [109, 20, 81, 2899, 4, 31, 556, 2900, 1285], [3, 1316, 2901, 104, 6, 530, 5, 802], [1, 413, 4, 2902, 252, 17, 206, 4, 2903], [3, 21, 1329, 360, 8, 138, 91, 75, 2904], [122, 1330, 7, 15, 3, 2905], [2, 2906, 8, 86, 14, 511, 3, 304, 603], [1, 740, 3, 2907, 17, 1331, 182], [26, 508, 4, 1332, 121, 30, 124, 21, 2908], [16, 310, 6, 1019, 1, 161, 2, 2909, 75], [2910, 2911, 73, 8, 20, 460, 413, 4, 24], [], [2912], [], [40, 1315, 39, 6, 2913, 4, 2914, 481], [654, 34, 2915, 351, 22, 311, 216], [2916, 411, 3, 1333, 1, 1333, 3, 411], [70, 770, 27, 6, 510, 93, 3, 612], [40, 626, 628, 67, 5, 56, 2917], [195, 28, 67, 140, 334, 20, 295, 156], [71, 39, 44, 53, 150, 4, 45, 2918, 408, 2919], [7, 2, 2920, 4, 29, 2921, 1334], [58, 1040, 4, 124, 63, 6, 161, 75], [8, 134, 13, 30, 547, 70, 128, 134], [1, 1229, 15, 27, 28, 13, 1335, 844], [549, 669, 59, 106, 194, 43, 264, 164, 765], [20, 6, 397, 2922, 3, 5, 886], [1, 600, 30, 124, 806, 43, 59, 6, 39, 412], [], [2923], [], [8, 24, 86, 248, 868, 2924, 18, 63], [1, 12, 8, 480, 26, 6, 38, 104, 1147], [484, 120, 6, 364, 5, 2925, 1275], [366, 5, 2926, 86, 611, 36, 2927, 823], [12, 42, 24, 86, 30, 5, 1336, 1322], [22, 6, 30, 443, 2928, 1219, 17, 311, 4, 48], [1, 6, 17, 686, 39, 37, 595, 866], [3, 2929, 71, 248, 6, 2930, 7, 31, 559], [58, 8, 126, 115, 4, 212, 103, 39, 648], [5, 2931, 590, 71, 2932, 75, 480, 2933], [1, 778, 3, 24, 22, 24, 3, 18, 38, 2934], [2, 1249, 347, 26, 2935, 2936, 2937], [16, 8, 31, 1092, 63, 1337, 17, 2938], [44, 2939, 443, 1, 443, 120, 1091, 18], [], [2940], [], [232, 134, 3, 21, 832, 59, 832, 1289], [27, 14, 3, 21, 863, 2941, 4, 81], [1, 2, 631, 219, 619, 26, 13, 20, 1290], [14, 30, 126, 1338, 16, 30, 620, 348], [12, 107, 61, 223, 133, 2942, 53], [100, 2943, 3, 5, 2944, 285], [36, 35, 5, 1308, 107, 41, 2945, 2946], [26, 7, 45, 1339, 521, 349, 40, 6, 178, 171], [37, 6, 77, 8, 6, 77, 1, 50, 8, 1325], [106, 5, 2947, 2948, 148, 45, 85], [6, 92, 21, 343, 80, 50, 375, 21, 2949], [30, 45, 508, 144, 5, 251, 120, 14, 21, 1212], [366, 29, 849, 547, 50, 2950], [23, 172, 41, 349, 1, 7, 45, 2951, 1044], [], [2952], [], [9, 441, 9, 1340, 41, 216, 5, 509], [213, 2953, 11, 2954, 280], [26, 46, 625, 8, 1197, 508, 757], [2955, 23, 448, 109, 3, 517], [36, 106, 2, 437, 20, 210, 22, 509, 1, 56], [39, 2956, 30, 240, 3, 2957], [183, 169, 3, 721, 2958, 1253, 25, 125], [4, 19, 9, 799, 156, 60, 21, 2959], [8, 177, 2960, 243, 14, 20, 137, 192], [52, 501, 6, 2961, 9, 116, 15, 3, 2962], [153, 3, 100, 143, 34, 18, 91, 6, 1341], [3, 463, 79, 1340, 8, 2963, 19, 43], [3, 265, 146, 1278, 3, 1224, 19], [86, 3, 2964, 2965, 7, 18], [], [2966], [], [37, 48, 10, 221, 14, 467, 8, 6, 33, 205], [9, 2967, 1335, 148, 11, 1310, 103], [3, 18, 41, 131, 2968, 131, 407], [50, 41, 16, 2969, 4, 17, 608, 149], [126, 2970, 41, 675, 1, 153, 166, 2971], [40, 10, 87, 2972, 90, 1104, 8, 13, 112], [1, 2973, 65, 143, 299, 3, 126, 214], [59, 178, 8, 166, 173, 39, 2974, 143, 604], [9, 2975, 1, 19, 6, 154, 2976], [14, 2977, 106, 2, 495, 52, 2, 269], [12, 9, 2978, 1, 40, 166, 76, 32, 197], [128, 43, 36, 331, 30, 9, 2979, 726], [29, 6, 33, 848, 1, 29, 46, 186, 21], [6, 49, 21, 75, 356, 9, 542, 1, 19], [], [2980], [], [42, 5, 116, 15, 86, 16, 2, 284, 4, 182], [28, 103, 12, 759, 826, 21, 2981], [22, 486, 3, 159, 15, 36, 3, 159, 191], [617, 671, 617, 36, 290, 11, 290, 2982], [37, 28, 91, 2983, 164, 34, 2984], [28, 2985, 14, 7, 2986, 2987, 52, 2988], [364, 2, 2989, 4, 2990, 1342], [867, 2, 2991, 48, 126, 1003, 423], [28, 411, 14, 1330, 8, 2992], [26, 841, 35, 2993, 4, 455, 2994, 203], [16, 23, 132, 816, 2995, 2996], [8, 28, 52, 549, 11, 540, 52, 2997, 11, 1231], [3, 29, 6, 723, 244, 2, 2998, 4, 48], [26, 199, 12, 1332, 88, 39, 456, 12, 559], [], [2999], [], [86, 1103, 1101, 3, 18, 6, 1343, 2, 955], [11, 5, 3000, 2, 330, 3001], [36, 633, 239, 3002, 12, 517], [26, 189, 43, 455, 59, 316, 36, 3003], [39, 6, 14, 235, 3004, 35, 217, 1, 716], [271, 23, 1, 43, 30, 3005, 136, 137, 3006], [12, 3007, 47, 3008, 824, 3009], [3010, 3011, 7, 45, 3012, 412], [37, 105, 18, 21, 1064, 7, 9, 56], [1, 198, 10, 5, 3013, 177, 16, 526], [26, 13, 14, 3014, 11, 3015, 229, 37, 54], [16, 933, 1344, 313, 18, 12, 19], [376, 10, 3016, 3017, 17, 75, 256], [27, 101, 3018, 816, 437, 7, 9, 809], [], [3019], [], [58, 10, 5, 286, 860, 88, 7, 9, 277], [87, 192, 159, 3020, 237, 25, 3021, 588], [88, 151, 30, 3022, 585, 1, 714, 3023], [9, 1066, 3024, 22, 9, 47, 123, 3025], [42, 240, 586, 561, 855, 3026], [22, 10, 3027, 3028, 70, 49, 545, 19, 259], [78, 452, 19, 3, 29, 461, 8, 55, 298], [92, 48, 302, 1, 626, 548, 491], [57, 292, 55, 58, 10, 3029, 4, 55, 219], [78, 92, 3030, 16, 14, 70, 265, 55, 258], [55, 650, 80, 3031, 3032, 120, 21], [1, 55, 3033, 13, 3, 1344, 19], [], [3034], [], [7, 2, 112, 168, 196, 91, 14, 3035, 69], [36, 42, 28, 86, 28, 1343, 14, 135, 155], [16, 63, 13, 196, 135, 3036, 637], [1, 51, 3037, 11, 17, 826, 236], [12, 108, 169, 139, 67, 336, 35, 357, 277], [3038, 2, 351, 11, 3039, 133, 1345, 129], [47, 51, 67, 37, 155, 37, 583, 3040], [16, 13, 1346, 42, 14, 262, 7, 302], [153, 5, 514, 3041, 41, 3042, 196], [55, 53, 20, 3043, 1, 50, 1347, 211], [106, 84, 88, 14, 299, 69, 37, 51, 581], [3044, 1284, 11, 17, 133, 1295], [57, 20, 50, 831, 1348, 4, 45, 212], [8, 83, 176, 498, 51, 61, 113, 20], [], [3045], [], [71, 446, 27, 10, 5, 367, 367, 3046], [90, 8, 295, 1349, 130, 496, 930], [11, 9, 47, 869, 27, 10, 3047, 3048], [2, 3049, 929, 8, 44, 663, 652], [33, 6, 1221, 79, 1350, 8, 1133, 1134], [3, 870, 2, 314, 551, 4, 9, 139], [195, 5, 177, 415, 26, 61, 8, 3050, 3051], [106, 2, 3052, 3053, 30, 19, 1294, 296], [3, 21, 20, 3054, 50, 121, 205, 45, 182], [1, 3055, 11, 79, 3056, 3057], [225, 208, 9, 869, 3058, 11, 180, 3059], [201, 165, 1349, 43, 793, 59, 278, 415], [108, 1250, 1350, 20, 220, 41, 7, 29], [100, 143, 9, 869, 18, 9, 415, 3, 870], [], [3060], [], [2, 737, 4, 255, 7, 17, 316, 4, 236], [13, 1351, 7, 822, 1, 183, 822, 1351], [13, 871, 668, 685, 213, 4, 596], [3061, 1352, 539, 281, 14, 3, 463], [3062, 37, 1353, 16, 761, 343], [269, 414, 3063, 1, 37, 1353, 162], [269, 414, 3064, 22, 17, 3065, 3066], [35, 461, 633, 3, 65, 2, 3067, 416], [416, 7, 1354, 1, 7, 991, 20], [162, 358, 1, 7, 1139, 3, 39, 1352], [17, 3068, 7, 862, 1, 861, 17, 321, 212], [173, 17, 291, 3069, 537, 17, 1268], [23, 29, 2, 94, 98, 229, 57, 190, 229, 98], [3, 1328, 2, 193, 8, 905, 172, 3, 29, 311], [], [3070], [], [5, 514, 53, 41, 131, 74, 2, 231], [3071, 13, 164, 43, 630, 59, 55, 3072, 630], [42, 3073, 21, 328, 107, 38, 55, 3074, 41, 3075], [42, 3076, 21, 1355, 196, 1355, 293, 35, 55, 363], [6, 39, 235, 340, 3077, 630, 1, 328], [16, 37, 84, 340, 76, 6, 7, 55, 622], [1, 7, 82, 1300, 13, 138, 43, 307], [59, 7, 2, 345, 8, 34, 5, 561, 3078], [6, 15, 3, 368, 55, 303, 57, 98, 6, 152], [8, 367, 67, 17, 164, 43, 934, 1356], [6, 538, 6, 156, 510, 17, 1313, 374], [5, 561, 27, 78, 1273, 3079, 35, 2, 836], [1, 57, 30, 193, 6, 178, 5, 15, 22, 563], [22, 224, 78, 1357, 11, 133, 384], [], [3080], [], [10, 54, 22, 3081, 20, 22, 10, 54], [22, 79, 130, 541, 3082, 65, 143, 281], [12, 98, 10, 846, 3, 5, 116, 1010, 56], [10, 54, 2, 418, 1, 101, 399, 576], [57, 7, 171, 506, 82, 95, 8, 19, 327], [9, 129, 67, 14, 2, 277, 3, 65, 15, 606], [3, 95, 50, 3083, 6, 573, 14, 21, 20, 1341], [275, 6, 352, 28, 3, 93, 132], [1, 3, 21, 781, 8, 13, 14, 133, 6, 352], [17, 720, 3084, 16, 834, 35, 9, 129], [66, 35, 827, 3085, 33, 723, 200], [9, 196, 13, 418, 7, 5, 3086, 242], [7, 131, 54, 10, 196, 294, 7, 9, 251], [1, 310, 29, 1217, 22, 6, 178, 3087], [], [3088], [], [62, 53, 6, 15, 1, 50, 22, 3089, 18], [621, 9, 56, 3090, 18, 11, 1358], [39, 336, 35, 196, 1, 250, 1347, 21], [729, 11, 1359, 3091, 90, 5, 489], [1, 462, 14, 2, 1077, 231, 4, 193], [134, 1337, 2, 3092, 622, 4, 2, 3093], [52, 8, 213, 725, 8, 3094, 7, 2, 109], [32, 692, 8, 300, 3, 2, 3095, 744], [22, 79, 274, 1360, 53, 3096, 9, 129], [58, 105, 28, 38, 22, 98, 3097, 9, 56], [3, 831, 12, 18, 108, 1360, 32, 19, 233], [1, 1361, 9, 257, 74, 7, 83, 125], [38, 49, 6, 352, 51, 3098, 13, 196], [1, 23, 50, 351, 8, 9, 696, 581], [], [3099], [], [3100, 8, 56, 8, 272, 5, 56, 3, 606], [12, 8, 283, 589, 28, 287, 5, 185, 1, 18], [3101, 14, 401, 3, 1046, 18, 132], [16, 347, 3, 3102, 5, 3103, 185, 120, 21], [18, 34, 93, 9, 281, 72, 67, 866], [1, 5, 1311, 123, 10, 3104, 151, 3105], [4, 73, 93, 1, 19, 6, 77, 3106], [17, 1105, 806, 3107, 122, 3, 21, 3108], [3109, 5, 56, 7, 9, 823, 1024, 3110], [16, 38, 5, 1073, 56, 105, 5, 177, 56, 1230], [3111, 452, 18, 105, 5, 56, 21, 25, 1152], [10, 320, 14, 38, 187, 3112, 7, 5, 3113], [1, 57, 10, 181, 12, 6, 81, 910, 7, 19], [3114, 77, 62, 1, 23, 8, 13, 7, 18], [], [3115], [], [20, 63, 6, 39, 3116, 8, 68, 13, 62], [1, 6, 93, 77, 3117, 3, 9, 49], [93, 339, 1304, 20, 8, 160, 44], [10, 181, 3118, 3, 21, 5, 594, 70], [16, 10, 181, 14, 52, 68, 49, 14, 21, 526], [12, 10, 54, 3119, 1, 68, 13, 206], [68, 3120, 16, 3121, 74, 3, 247, 12, 18], [364, 8, 3122, 8, 73, 22, 438, 32, 3123], [2, 3124, 4, 9, 51, 10, 181, 198], [10, 902, 8, 3125, 279, 23, 3, 187], [1, 3126, 17, 185, 872, 3127, 12, 5, 309], [20, 73, 6, 271, 319, 5, 868, 649], [73, 39, 6, 619, 10, 151, 154, 73, 1, 18], [68, 1248, 2, 3128, 1, 57, 77, 6, 14, 526], [], [3129], [], [3130, 67, 55, 450, 10, 151, 9, 417, 147], [1, 515, 3, 3131, 1, 515, 7, 3132], [43, 59, 401, 77, 6, 8, 1281, 19, 70], [3, 9, 47, 49, 201, 1011, 122], [181, 10, 130, 49, 13, 492, 1, 3133], [14, 248, 1072, 3, 477, 5, 49, 7, 62], [46, 49, 7, 223, 211, 254, 432], [1, 7, 5, 49, 37, 69, 3134, 587], [2, 602, 23, 493, 57, 863, 676, 70], [1, 7, 519, 3135, 3, 25, 268], [20, 10, 81, 228, 7, 417, 147, 615, 3, 9, 515], [66, 49, 4, 44, 3, 65, 9, 492, 515, 43], [105, 37, 868, 37, 69, 3136, 491], [178, 23, 16, 66, 1, 18, 7, 8, 66, 417, 147], [], [3137], [], [42, 9, 256, 1185, 19, 8, 6, 175, 20, 504], [352, 3, 9, 396, 256, 8, 6, 91, 9, 417, 147], [1, 49, 9, 256, 229, 13, 3138, 138], [122, 164, 12, 15, 5, 15, 1361, 47, 1362], [515, 49, 1362, 2, 258, 4, 9, 15], [1119, 803, 28, 213, 11, 1339, 1, 5, 49, 66], [7, 184, 4, 239, 3139, 11, 1153, 166, 189], [671, 17, 693, 66, 13, 3140, 190], [38, 7, 2, 693, 105, 18, 785, 3141], [80, 7, 9, 3142, 582, 6, 66, 120, 21], [12, 131, 192, 18, 20, 28, 577, 19, 192], [8, 131, 18, 17, 1263, 47, 3, 19], [65, 16, 5, 155, 9, 15, 1, 15, 8, 70], [1, 38, 10, 371, 18, 12, 5, 155, 13, 417, 147], [], [3143], [], [10, 396, 807, 15, 40, 87, 10, 3, 44, 53], [8, 50, 327, 1, 76, 14, 40, 50, 76], [50, 152, 40, 51, 13, 76, 64, 28, 202], [57, 40, 2, 114, 13, 198, 2, 333, 3, 21], [42, 53, 1363, 30, 855, 3144, 204], [21, 3145, 7, 2, 3146, 64, 23, 172, 743], [107, 4, 3147, 1144, 151, 10, 3148, 3149], [867, 2, 379, 4, 5, 56, 13, 507], [107, 61, 5, 56, 178, 8, 17, 3150, 3151], [26, 5, 56, 229, 2, 332, 419, 618, 242], [36, 44, 53, 348, 29, 95, 29, 13, 14], [3, 336, 69, 117, 90, 20, 351, 17, 129], [7, 184, 254, 75, 5, 56, 1, 53, 39, 3152], [1, 3, 29, 133, 864, 41, 50, 63, 3153], [], [3154], [], [27, 5, 15, 3155, 8, 78, 13, 128, 4, 117], [6, 33, 552, 55, 80, 6, 152, 78, 202], [8, 78, 103, 178, 18, 82, 3156, 170], [3157, 7, 2, 419, 133, 3158], [122, 1364, 834, 8, 78, 1179, 18, 560], [275, 78, 229, 5, 145, 41, 269, 2, 114], [3159, 6, 3160, 55, 133, 464, 176], [35, 154, 3161, 122, 13, 824, 117, 3162], [16, 550, 498, 78, 14, 78, 13, 3163], [1, 550, 95, 14, 6, 8, 6, 77, 112], [58, 102, 114, 3164, 13, 7, 665, 463], [1, 168, 7, 15, 306, 14, 3, 39, 1117, 604], [153, 6, 197, 11, 55, 1, 78, 11, 18], [1, 7, 126, 304, 30, 202, 166, 3165, 21], [], [3166], [], [58, 244, 14, 18, 3, 3167, 2, 387], [8, 9, 1336, 629, 90, 5, 56], [589, 18, 14, 11, 62, 72, 16, 11, 9, 176], [187, 277, 11, 277, 1, 3168, 18, 14, 30, 54], [167, 18, 10, 371, 819, 16, 7, 5, 149], [116, 56, 1121, 3, 1237, 62, 72, 1238], [40, 3169, 10, 589, 11, 715, 27, 9, 103], [13, 43, 59, 5, 225, 3170, 3171, 60, 1184], [105, 18, 317, 19, 326, 5, 15, 98, 229], [55, 1359, 204, 39, 408, 44, 1042], [1, 153, 34, 5, 129, 78, 713, 5, 767], [8, 50, 819, 103, 3172, 45, 1270], [57, 33, 14, 20, 16, 108, 6, 77, 504, 1013], [491, 18, 3173, 11, 204, 1, 3174, 5, 489], [], [3175], [], [21, 1225, 22, 10, 54, 281, 33, 14, 3176], [5, 176, 507, 1183, 11, 136, 137, 1358], [308, 480, 427, 18, 249, 1, 249, 1305], [2, 3177, 4, 5, 257, 724, 489], [42, 6, 103, 790, 19, 392, 134, 28, 86], [80, 14, 3, 15, 57, 15, 3, 167, 18, 20], [22, 3178, 413, 172, 27, 45, 1167, 21, 504], [37, 3179, 16, 1137, 34, 45, 3180, 152], [12, 42, 6, 61, 852, 6, 61, 293, 416], [1, 7, 5, 3181, 103, 303, 124, 4, 19], [63, 29, 124, 3182, 94, 13, 585, 20, 349], [416, 3183, 30, 416, 1365, 3184, 21], [8, 6, 92, 14, 21, 20, 52, 10, 1357], [200, 62, 53, 343, 80, 9, 179, 56, 374, 332], [], [3185], [], [7, 506, 6, 33, 14, 15, 19, 11, 44, 53], [12, 50, 7, 19, 17, 720, 628, 935], [16, 232, 5, 56, 8, 306, 40, 50, 1366], [88, 7, 356, 4, 301, 13, 3186, 3, 1367], [52, 41, 44, 1365, 11, 9, 3187, 3188, 3189], [52, 314, 1338, 3, 478, 555, 3190], [52, 597, 52, 616, 214, 3, 21, 3191], [3, 224, 1093, 1140, 11, 19, 132], [16, 5, 811, 1190, 52, 5, 811, 3192, 60], [3193, 66, 3194, 56, 34, 917, 19], [88, 289, 3195, 2, 3196, 4, 17, 457], [9, 179, 473, 347, 1, 1180, 1155, 3, 21], [313, 5, 864, 122, 164, 6, 521, 5, 600], [8, 78, 8, 272, 18, 312, 3197, 18, 489], [], [3198], [], [15, 13, 5, 312, 1, 9, 116, 346, 191], [191, 4, 5, 312, 1199, 35, 856, 250], [58, 16, 11, 44, 384, 10, 62, 85, 182], [1, 10, 221, 161, 28, 3199, 14, 3200], [36, 42, 28, 33, 14, 34, 79, 415, 4, 62], [8, 39, 1346, 45, 3201, 3202], [1, 3203, 133, 847, 4, 15, 22, 446, 22, 44], [3204, 620, 3205, 3206, 4, 45, 3207], [21, 28, 754, 6, 15, 19, 22, 10, 371, 79], [208, 62, 53, 3208, 22, 44, 3209, 19], [1170, 257, 7, 9, 56, 8, 27, 28, 549], [9, 257, 92, 3210, 3, 3211, 21], [42, 10, 87, 605, 3, 39, 40, 10, 87, 477], [30, 123, 1259, 207, 10, 21, 3212], [], [3213], [], [659, 22, 17, 1143, 3214, 3215, 3, 632], [66, 4, 55, 3216, 881, 1368, 141], [975, 497, 55, 565, 1, 272, 146, 386, 3217], [7, 1354, 4, 2, 209, 78, 121, 39, 270], [195, 55, 3218, 284, 449, 55, 7, 1369], [1051, 3, 632, 55, 130, 3219, 406, 13, 1274], [3, 1370, 8, 26, 830, 173, 55, 129], [14, 3220, 55, 177, 3221, 1342], [20, 3222, 10, 227, 8, 26, 830, 34, 19], [195, 6, 9, 565, 1369, 19, 3223, 537], [16, 42, 10, 632, 9, 395, 627, 259, 3, 18], [1, 428, 2, 645, 125, 870, 18, 21, 206], [20, 49, 6, 3224, 8, 10, 207, 39, 9, 417, 147], [42, 10, 627, 259, 1, 5, 3225, 3226, 70], [], [3227], [], [274, 306, 6, 39, 4, 594, 1, 852], [26, 74, 274, 1264, 33, 3228, 18, 70], [2, 134, 516, 13, 17, 457, 254, 69], [2, 3229, 255, 17, 705, 3230, 124], [3, 612, 18, 778, 3, 311, 5, 3231, 547], [3232, 5, 134, 516, 34, 5, 500], [1, 121, 1363, 5, 3233, 3, 21, 17, 3234], [3235, 25, 3236, 11, 55, 351, 234], [1, 342, 8, 5, 516, 21, 1299, 1371], [829, 6, 92, 16, 14, 3237, 167], [16, 81, 154, 34, 18, 154, 3, 169, 185], [6, 1213, 66, 516, 7, 827, 311], [57, 29, 46, 6, 556, 152, 16, 89, 7, 3238], [183, 5, 349, 516, 253, 5, 171, 66, 150], [], [3239], [], [79, 415, 8, 102, 85, 139, 104, 65], [3240, 279, 2, 1356, 8, 599, 873, 874], [3, 18, 8, 3241, 12, 55, 309], [16, 27, 78, 510, 5, 3242, 182], [343, 7, 55, 56, 104, 3243, 175], [3244, 8, 176, 8, 186, 47], [91, 529, 7, 1265, 180, 447], [1, 410, 28, 122, 844, 3, 786], [873, 874, 78, 1283, 11, 146, 222], [8, 3245, 28, 22, 180, 97], [32, 1370, 115, 88, 74, 17, 1371], [34, 193, 3, 311, 13, 3246, 141], [873, 874, 34, 191, 141, 78, 3247], [1, 3248, 5, 111, 3249, 3250, 24, 147], [], [3251], [], [177, 256, 2, 3252, 4, 5, 856, 230], [118, 3253, 3254, 8, 19, 3255], [107, 87, 10, 837, 216, 1, 1182, 3256], [409, 9, 330, 911, 20, 3257, 1211], [107, 20, 492, 820, 358, 20, 455, 17, 544], [87, 10, 90, 9, 998, 1288, 426], [46, 533, 3258, 4, 29, 3259], [639, 148, 9, 3260, 13, 29, 9, 728, 222], [38, 256, 89, 10, 90, 9, 3261, 273], [1, 105, 8, 837, 3, 3262, 9, 268], [3263, 3264, 1306, 7, 3265, 203, 4, 3266], [216, 21, 3267, 266, 21, 228, 37, 43], [20, 221, 10, 3268, 35, 157, 8, 1195, 35, 172], [1, 157, 248, 165, 3269, 37, 43, 3270, 38], [], [3271], [], [5, 15, 13, 22, 17, 1334, 3272, 70], [12, 8, 26, 377, 3273, 2, 3274], [802, 35, 8, 26, 32, 3275, 2, 124], [2, 3276, 3277, 801, 3, 577], [5, 414, 2, 3278, 3, 5, 15], [3279, 8, 25, 3280, 41, 14, 667], [67, 431, 18, 1, 6, 3281, 63, 769], [214, 13, 157, 26, 1089, 104, 3282], [269, 513, 6, 77, 63, 414, 13, 269, 406], [1, 3283, 416, 11, 758, 3284], [5, 144, 1, 5, 3285, 22, 3286, 41], [106, 3287, 34, 2, 117, 1364, 712], [12, 6, 39, 875, 19, 69, 1, 140, 19, 215], [88, 54, 22, 196, 22, 311, 22, 772, 22, 115], [], [3288], [], [58, 18, 40, 53, 67, 15, 336, 7, 5, 363], [26, 39, 37, 3289, 11, 75, 149], [36, 42, 50, 39, 64, 13, 5, 379, 1222], [8, 3290, 3291, 40, 50, 76, 3292], [42, 8, 21, 69, 681, 5, 133, 53, 1367], [40, 687, 2, 94, 3, 95, 28, 13, 14, 20], [42, 28, 21, 14, 38, 15, 32, 98, 3293], [102, 72, 13, 14, 20, 75, 22, 23, 459, 3294, 147], [71, 60, 28, 58, 71, 60, 102, 72, 21, 75], [8, 13, 20, 3295, 11, 3296, 1, 11, 481], [37, 3297, 38, 80, 6, 3298, 5, 301], [2, 231, 334, 3299, 14, 183, 193, 3300], [58, 715, 15, 11, 481, 10, 3301, 18, 396], [308, 53, 98, 348, 9, 351, 304, 61, 161], [], [3302], [], [320, 10, 58, 281, 95, 6, 15, 19, 14], [27, 6, 142, 93, 11, 19, 3303], [33, 6, 14, 178, 35, 19, 27, 6, 569], [77, 4, 93, 23, 686, 12, 9, 309], [88, 3304, 19, 8, 6, 33, 244, 5, 185], [35, 208, 3305, 10, 8, 6, 33, 3306, 90], [1223, 42, 10, 3307, 35, 18, 33, 6, 14, 426], [3308, 90, 93, 11, 495, 472], [40, 469, 33, 6, 7, 93, 572], [8, 13, 20, 179, 9, 3309, 3, 1366], [27, 23, 5, 114, 32, 3310, 9, 1215], [3311, 30, 2, 496, 4, 62, 53], [16, 15, 191, 35, 12, 63, 6, 152, 9, 158], [79, 8, 60, 76, 10, 371, 1, 6, 77, 396], [], [3312], [], [58, 34, 40, 277, 151, 10, 29, 1169, 103], [11, 3313, 5, 56, 3, 1206], [3, 65, 18, 100, 2, 197, 3, 5, 75, 149], [1, 352, 8, 3314, 32, 14, 233, 2, 97], [783, 151, 10, 29, 1348, 4, 184, 124], [8, 7, 2, 321, 3315, 4, 9, 251], [138, 13, 84, 389, 1, 3316, 4, 298], [8, 7, 5, 158, 9, 333, 23, 114, 3317], [88, 410, 19, 71, 3, 65, 18, 15, 19, 43], [2, 43, 6, 368, 1, 76, 631, 789, 4, 191], [58, 80, 6, 15, 40, 223, 33, 1372], [11, 223, 10, 361, 14, 1372, 5, 182], [42, 9, 3318, 3319, 15, 7, 18], [43, 470, 6, 3, 21, 436, 4, 19], [], [3320], [], [15, 13, 136, 560, 3, 152, 40, 876, 13], [57, 88, 229, 14, 876, 13, 299, 4, 15], [38, 180, 3321, 1326, 14, 5, 751], [308, 1312, 4, 5, 304, 9, 47, 123, 189], [12, 10, 3322, 18, 6, 33, 1291], [5, 3323, 125, 3, 5, 1256, 728, 3324], [5, 256, 32, 167, 5, 566, 8, 68, 92], [717, 7, 15, 775, 3325, 37, 674, 414], [16, 3326, 106, 9, 155, 32, 1160, 150, 19], [22, 25, 1085, 784, 179, 4, 29, 234], [68, 13, 579, 9, 177, 3327, 3, 21], [3, 296, 7, 9, 1178, 673, 30, 9, 500], [37, 567, 4, 876, 192, 28, 8, 6, 244], [55, 3328, 12, 130, 116, 15, 6, 1296, 1, 673], [], [3329], [], [7, 250, 19, 10, 846, 6, 77, 613], [16, 10, 54, 985, 613, 3, 18, 15, 3330], [7, 3331, 9, 727, 848, 1368, 1, 99, 506, 3332], [7, 3333, 99, 191, 227, 99, 15, 709], [16, 107, 4, 274, 3334, 3335, 33, 6, 1324, 19], [27, 6, 580, 3336, 6, 77, 871, 101], [12, 23, 5, 1320, 41, 877, 16, 3, 3337, 19], [1, 23, 5, 3338, 506, 7, 19, 13, 619], [12, 6, 39, 875, 283, 877, 4, 9, 283, 1096], [877, 4, 9, 15, 9, 117, 9, 857], [1, 3, 3339, 19, 440, 53, 3, 3340], [36, 128, 143, 352, 142, 2, 209, 50, 76], [12, 6, 39, 875, 19, 69, 43, 871, 6], [3, 352, 142, 2, 117, 20, 351, 17, 197], [], [3341], [], [1373, 633, 30, 25, 512, 1, 460, 1374], [17, 3342, 4, 3343, 29, 821, 252], [1, 25, 15, 3344, 253, 104, 3345, 920], [7, 17, 318, 3346, 3347, 4, 8, 836], [26, 1345, 34, 29, 583, 253, 4, 15], [17, 1060, 1207, 540, 70, 3, 3348], [1, 511, 17, 3349, 634, 26, 57, 172, 189], [142, 407, 1327, 17, 586, 513], [16, 106, 5, 514, 72, 102, 512, 99, 3350], [2, 860, 12, 3351, 484, 121, 3352, 5, 335], [6, 413, 3353, 2, 592, 4, 634, 1272], [1, 3354, 3355, 17, 338, 3356, 1141], [16, 252, 37, 513, 2, 634, 12, 5, 592, 202], [64, 1373, 839, 99, 253, 5, 514, 53], [], [3357], [], [2, 968, 15, 808, 3358, 248, 1374], [633, 30, 25, 500, 25, 56, 3359, 512], [195, 188, 3360, 8, 3361, 3362, 111, 3, 265], [872, 3363, 30, 16, 7, 55, 688, 139], [2, 418, 3364, 499, 148, 8, 253], [26, 188, 3365, 4, 75, 473, 162, 3366], [1, 20, 2, 849, 4, 695, 214], [91, 3367, 30, 17, 3368, 139, 3369], [29, 512, 78, 3370, 7, 17, 3371, 98, 30], [26, 34, 102, 253, 499, 540, 1174], [739, 17, 634, 1, 1331, 1198], [12, 172, 1329, 16, 6, 5, 514, 3372], [872, 138, 12, 513, 1, 29, 30, 8, 6, 189], [102, 253, 3373, 493, 493, 3374, 14, 15], []]\n"
     ]
    }
   ],
   "source": [
    "from tensorflow.keras.preprocessing.text import Tokenizer\n",
    "\n",
    "# Step 1: Initialize the tokenizer and fit it on the corpus\n",
    "tokenizer = Tokenizer()  # Initialize the tokenizer\n",
    "\n",
    "# Fit the tokenizer on the corpus\n",
    "tokenizer.fit_on_texts(corpus)\n",
    "\n",
    "# You can check the word index (dictionary of words and their corresponding token values)\n",
    "word_index = tokenizer.word_index\n",
    "print(\"Word index:\\n\", word_index)\n",
    "\n",
    "# Convert the corpus into sequences of integers\n",
    "sequences = tokenizer.texts_to_sequences(corpus)\n",
    "\n",
    "# Display the tokenized sequences\n",
    "print(\"Tokenized sequences:\\n\", sequences)\n",
    "\n",
    "# Explanation:\n",
    "#Tokenizer(): Initializes the Keras tokenizer.\n",
    "#fit_on_texts(): Fits the tokenizer on the corpus, which means it builds a vocabulary based on the text data and assigns a unique integer to each word.\n",
    "#word_index: This dictionary contains the mapping of words to their assigned integer tokens.\n",
    "#texts_to_sequences(): This converts the corpus into sequences of integers based on the tokenization.\n"
   ]
  },
  {
   "cell_type": "markdown",
   "metadata": {},
   "source": [
    "Step 2: Calculate the Vocabulary Size\n",
    "\n",
    "Let's figure out how many unique words are in your corpus. This will be the size of your vocabulary.\n",
    "\n",
    "Calculate the length of tokenizer.word_index, add 1 to it and store it in a variable called total_words."
   ]
  },
  {
   "cell_type": "code",
   "execution_count": 4,
   "metadata": {},
   "outputs": [
    {
     "name": "stdout",
     "output_type": "stream",
     "text": [
      "Total words (vocabulary size): 3375\n"
     ]
    }
   ],
   "source": [
    "# Step 2: Calculate the vocabulary size\n",
    "total_words = len(tokenizer.word_index) + 1  # Add 1 to account for special token\n",
    "print(\"Total words (vocabulary size):\", total_words)\n",
    "\n",
    "# Explanation:\n",
    "# tokenizer.word_index: This is a dictionary where the keys are the unique words from the corpus and the values are the corresponding integer indices assigned to them.\n",
    " # len(tokenizer.word_index): This calculates the number of unique words in the corpus.\n",
    "# Adding 1: This is necessary to account for the special token often used for padding (or to handle out-of-vocabulary words) in machine learning models.\n",
    "# This code will store the vocabulary size in the variable total_words and print it out"
   ]
  },
  {
   "cell_type": "markdown",
   "metadata": {},
   "source": [
    "Create an empty list called input_sequences.\n",
    "\n",
    "For each sentence in your corpus, convert the text into a sequence of integers using the tokenizer.\n",
    "Then, generate n-gram sequences from these tokens.\n",
    "\n",
    "Store the result in the list input_sequences."
   ]
  },
  {
   "cell_type": "code",
   "execution_count": 5,
   "metadata": {},
   "outputs": [
    {
     "name": "stdout",
     "output_type": "stream",
     "text": [
      "First few input sequences: [[3, 2], [3, 2, 313], [3, 2, 313, 1375], [3, 2, 313, 1375, 4], [118, 1376]]\n"
     ]
    }
   ],
   "source": [
    "# Initialize an empty list to hold input sequences\n",
    "input_sequences = []\n",
    "\n",
    "# Loop over each sentence in the corpus\n",
    "for line in corpus:\n",
    "    # Convert the sentence into a sequence of integers using the tokenizer\n",
    "    token_list = tokenizer.texts_to_sequences([line])[0]\n",
    "    \n",
    "    # Generate n-grams for the sequence\n",
    "    for i in range(1, len(token_list)):\n",
    "        # Create n-gram sequences (1 to i)\n",
    "        n_gram_sequence = token_list[:i+1]\n",
    "        input_sequences.append(n_gram_sequence)\n",
    "\n",
    "# Display the first few input sequences to verify\n",
    "print(\"First few input sequences:\", input_sequences[:5])\n",
    "\n",
    "# tokenizer.texts_to_sequences([line])[0]: Converts each sentence in the corpus into a sequence of integers (tokens).\n",
    "# for i in range(1, len(token_list)): Loops through each token in the sentence to generate n-gram sequences.\n",
    "# n_gram_sequence = token_list[:i+1]: This slice generates n-grams by keeping the first 1 to i tokens of the sentence.\n",
    "# input_sequences.append(n_gram_sequence): Appends each n-gram sequence to the input_sequences list."
   ]
  },
  {
   "cell_type": "markdown",
   "metadata": {},
   "source": [
    "Calculate the length of the longest sequence in input_sequences. Assign the result to a variable called max_sequence_len.\n",
    "\n",
    "Now pad the sequences using pad_sequences(input_sequences, maxlen=max_sequence_len, padding='pre').\n",
    "Convert it to a numpy array and assign the result back to our variable called input_sequences."
   ]
  },
  {
   "cell_type": "code",
   "execution_count": 6,
   "metadata": {},
   "outputs": [
    {
     "name": "stdout",
     "output_type": "stream",
     "text": [
      "Max sequence length: 11\n",
      "Padded input sequences (shape): (15484, 11)\n"
     ]
    }
   ],
   "source": [
    "from tensorflow.keras.preprocessing.sequence import pad_sequences\n",
    "import numpy as np\n",
    "\n",
    "# Step 1: Calculate the length of the longest sequence\n",
    "max_sequence_len = max([len(seq) for seq in input_sequences])\n",
    "print(\"Max sequence length:\", max_sequence_len)\n",
    "\n",
    "# Step 2: Pad the sequences\n",
    "input_sequences = pad_sequences(input_sequences, maxlen=max_sequence_len, padding='pre')\n",
    "\n",
    "# Step 3: Convert the result to a numpy array\n",
    "input_sequences = np.array(input_sequences)\n",
    "\n",
    "# Verify the padded sequences\n",
    "print(\"Padded input sequences (shape):\", input_sequences.shape)\n",
    "\n",
    "# max([len(seq) for seq in input_sequences]): This finds the length of the longest sequence in input_sequences.\n",
    "# pad_sequences(): Pads all sequences to the same length, which is max_sequence_len. The padding='pre' option pads sequences from the start (front).\n",
    "# np.array(input_sequences): Converts the padded sequences into a NumPy array for efficient computation and compatibility with deep learning models.\n",
    "# After running this code, input_sequences will contain the padded sequences with equal length, ready for use in model."
   ]
  },
  {
   "cell_type": "markdown",
   "metadata": {},
   "source": [
    "Prepare Predictors and Labels\n",
    "\n",
    "Split the sequences into two parts:\n",
    "\n",
    "- Predictors: All elements from input_sequences except the last one.\n",
    "- Labels: The last element of each sequence in input_sequences."
   ]
  },
  {
   "cell_type": "code",
   "execution_count": 7,
   "metadata": {
    "id": "PRnDnCW-Z7qv",
    "tags": []
   },
   "outputs": [
    {
     "name": "stdout",
     "output_type": "stream",
     "text": [
      "Predictors shape: (15484, 10)\n",
      "Labels shape: (15484,)\n"
     ]
    }
   ],
   "source": [
    "# Split the sequences into predictors and labels\n",
    "predictors = input_sequences[:, :-1]  # All elements except the last one\n",
    "labels = input_sequences[:, -1]       # The last element of each sequence\n",
    "\n",
    "# Verify the shapes of predictors and labels\n",
    "print(\"Predictors shape:\", predictors.shape)\n",
    "print(\"Labels shape:\", labels.shape)\n",
    "\n",
    "# input_sequences[:, :-1]: This slices all rows of input_sequences and keeps all columns except the last one (these are your predictors).\n",
    "# input_sequences[:, -1]: This extracts the last column of each row (these are your labels).\n",
    "# By splitting your input sequences this way, you will have:\n",
    "\n",
    "# predictors: All elements except the last one from each sequence.\n",
    "# labels: The last element of each sequence.\n",
    "# This structure will allow you to train your model with the sequences as inputs (predictors) and the next word in the sequence as the target (labels)."
   ]
  },
  {
   "cell_type": "markdown",
   "metadata": {},
   "source": [
    "One-Hot Encode the Labels :\n",
    "\n",
    "Convert the labels (which are integers) into one-hot encoded vectors. \n",
    "\n",
    "Ensure the length of these vectors matches the total number of unique words in your vocabulary.\n",
    "\n",
    "Use ku.to_categorical() on labels with num_classes = total_words\n",
    "\n",
    "Assign the result back to our variable labels."
   ]
  },
  {
   "cell_type": "code",
   "execution_count": 8,
   "metadata": {},
   "outputs": [
    {
     "name": "stdout",
     "output_type": "stream",
     "text": [
      "Shape of one-hot encoded labels: (15484, 3375)\n"
     ]
    }
   ],
   "source": [
    "from tensorflow.keras.utils import to_categorical\n",
    "\n",
    "# One-hot encode the labels\n",
    "labels = to_categorical(labels, num_classes=total_words)\n",
    "\n",
    "# Verify the shape of the labels after one-hot encoding\n",
    "print(\"Shape of one-hot encoded labels:\", labels.shape)\n",
    "\n",
    "# To one-hot encode the labels (which are currently integers), you will use keras.utils.to_categorical(). \n",
    "# This function will convert the integer labels into one-hot encoded vectors. \n",
    "# The number of classes in this encoding should match the total number of unique words in your vocabulary (total_words).\n",
    "# to_categorical(labels, num_classes=total_words): Converts the integer labels into one-hot encoded vectors, \n",
    "# where each label is represented as a vector with a length equal to total_words (the total number of unique words in the vocabulary).\n",
    "# The num_classes parameter ensures that the length of each one-hot encoded vector matches the size of the vocabulary."
   ]
  },
  {
   "cell_type": "markdown",
   "metadata": {},
   "source": [
    "# Initialize the Model\n",
    "\n",
    "Start by creating a Sequential model.\n",
    "\n",
    "Add Layers to the Model:\n",
    "\n",
    "Embedding Layer: The first layer is an embedding layer. It converts word indices into dense vectors of fixed size (100 in this case). Set the input length to the maximum sequence length minus one, which corresponds to the number of previous words the model will consider when predicting the next word.\n",
    "\n",
    "Bidirectional LSTM Layer: Add a Bidirectional LSTM layer with 150 units. This layer allows the model to learn context from both directions (past and future) in the sequence. return_sequences=True\n",
    "\n",
    "Dropout Layer: Add a dropout layer with a rate of 0.2 to prevent overfitting by randomly setting 20% of the input units to 0 during training.\n",
    "\n",
    "LSTM Layer: Add a second LSTM layer with 100 units. This layer processes the sequence and passes its output to the next layer.\n",
    "\n",
    "Dense Layer (Intermediate): Add a dense layer with half the total number of words as units, using ReLU activation. A regularization term (L2) is added to prevent overfitting.\n",
    "\n",
    "Dense Layer (Output): The final dense layer has as many units as there are words in the vocabulary, with a softmax activation function to output a probability distribution over all words."
   ]
  },
  {
   "cell_type": "code",
   "execution_count": 9,
   "metadata": {},
   "outputs": [
    {
     "name": "stderr",
     "output_type": "stream",
     "text": [
      "c:\\Users\\s83me\\anaconda3\\envs\\tf\\lib\\site-packages\\keras\\src\\layers\\core\\embedding.py:90: UserWarning: Argument `input_length` is deprecated. Just remove it.\n",
      "  warnings.warn(\n"
     ]
    },
    {
     "data": {
      "text/html": [
       "<pre style=\"white-space:pre;overflow-x:auto;line-height:normal;font-family:Menlo,'DejaVu Sans Mono',consolas,'Courier New',monospace\"><span style=\"font-weight: bold\">Model: \"sequential\"</span>\n",
       "</pre>\n"
      ],
      "text/plain": [
       "\u001b[1mModel: \"sequential\"\u001b[0m\n"
      ]
     },
     "metadata": {},
     "output_type": "display_data"
    },
    {
     "data": {
      "text/html": [
       "<pre style=\"white-space:pre;overflow-x:auto;line-height:normal;font-family:Menlo,'DejaVu Sans Mono',consolas,'Courier New',monospace\">┏━━━━━━━━━━━━━━━━━━━━━━━━━━━━━━━━━┳━━━━━━━━━━━━━━━━━━━━━━━━┳━━━━━━━━━━━━━━━┓\n",
       "┃<span style=\"font-weight: bold\"> Layer (type)                    </span>┃<span style=\"font-weight: bold\"> Output Shape           </span>┃<span style=\"font-weight: bold\">       Param # </span>┃\n",
       "┡━━━━━━━━━━━━━━━━━━━━━━━━━━━━━━━━━╇━━━━━━━━━━━━━━━━━━━━━━━━╇━━━━━━━━━━━━━━━┩\n",
       "│ embedding (<span style=\"color: #0087ff; text-decoration-color: #0087ff\">Embedding</span>)           │ ?                      │   <span style=\"color: #00af00; text-decoration-color: #00af00\">0</span> (unbuilt) │\n",
       "├─────────────────────────────────┼────────────────────────┼───────────────┤\n",
       "│ bidirectional (<span style=\"color: #0087ff; text-decoration-color: #0087ff\">Bidirectional</span>)   │ ?                      │   <span style=\"color: #00af00; text-decoration-color: #00af00\">0</span> (unbuilt) │\n",
       "├─────────────────────────────────┼────────────────────────┼───────────────┤\n",
       "│ dropout (<span style=\"color: #0087ff; text-decoration-color: #0087ff\">Dropout</span>)               │ ?                      │             <span style=\"color: #00af00; text-decoration-color: #00af00\">0</span> │\n",
       "├─────────────────────────────────┼────────────────────────┼───────────────┤\n",
       "│ lstm_1 (<span style=\"color: #0087ff; text-decoration-color: #0087ff\">LSTM</span>)                   │ ?                      │   <span style=\"color: #00af00; text-decoration-color: #00af00\">0</span> (unbuilt) │\n",
       "├─────────────────────────────────┼────────────────────────┼───────────────┤\n",
       "│ dense (<span style=\"color: #0087ff; text-decoration-color: #0087ff\">Dense</span>)                   │ ?                      │   <span style=\"color: #00af00; text-decoration-color: #00af00\">0</span> (unbuilt) │\n",
       "├─────────────────────────────────┼────────────────────────┼───────────────┤\n",
       "│ dense_1 (<span style=\"color: #0087ff; text-decoration-color: #0087ff\">Dense</span>)                 │ ?                      │   <span style=\"color: #00af00; text-decoration-color: #00af00\">0</span> (unbuilt) │\n",
       "└─────────────────────────────────┴────────────────────────┴───────────────┘\n",
       "</pre>\n"
      ],
      "text/plain": [
       "┏━━━━━━━━━━━━━━━━━━━━━━━━━━━━━━━━━┳━━━━━━━━━━━━━━━━━━━━━━━━┳━━━━━━━━━━━━━━━┓\n",
       "┃\u001b[1m \u001b[0m\u001b[1mLayer (type)                   \u001b[0m\u001b[1m \u001b[0m┃\u001b[1m \u001b[0m\u001b[1mOutput Shape          \u001b[0m\u001b[1m \u001b[0m┃\u001b[1m \u001b[0m\u001b[1m      Param #\u001b[0m\u001b[1m \u001b[0m┃\n",
       "┡━━━━━━━━━━━━━━━━━━━━━━━━━━━━━━━━━╇━━━━━━━━━━━━━━━━━━━━━━━━╇━━━━━━━━━━━━━━━┩\n",
       "│ embedding (\u001b[38;5;33mEmbedding\u001b[0m)           │ ?                      │   \u001b[38;5;34m0\u001b[0m (unbuilt) │\n",
       "├─────────────────────────────────┼────────────────────────┼───────────────┤\n",
       "│ bidirectional (\u001b[38;5;33mBidirectional\u001b[0m)   │ ?                      │   \u001b[38;5;34m0\u001b[0m (unbuilt) │\n",
       "├─────────────────────────────────┼────────────────────────┼───────────────┤\n",
       "│ dropout (\u001b[38;5;33mDropout\u001b[0m)               │ ?                      │             \u001b[38;5;34m0\u001b[0m │\n",
       "├─────────────────────────────────┼────────────────────────┼───────────────┤\n",
       "│ lstm_1 (\u001b[38;5;33mLSTM\u001b[0m)                   │ ?                      │   \u001b[38;5;34m0\u001b[0m (unbuilt) │\n",
       "├─────────────────────────────────┼────────────────────────┼───────────────┤\n",
       "│ dense (\u001b[38;5;33mDense\u001b[0m)                   │ ?                      │   \u001b[38;5;34m0\u001b[0m (unbuilt) │\n",
       "├─────────────────────────────────┼────────────────────────┼───────────────┤\n",
       "│ dense_1 (\u001b[38;5;33mDense\u001b[0m)                 │ ?                      │   \u001b[38;5;34m0\u001b[0m (unbuilt) │\n",
       "└─────────────────────────────────┴────────────────────────┴───────────────┘\n"
      ]
     },
     "metadata": {},
     "output_type": "display_data"
    },
    {
     "data": {
      "text/html": [
       "<pre style=\"white-space:pre;overflow-x:auto;line-height:normal;font-family:Menlo,'DejaVu Sans Mono',consolas,'Courier New',monospace\"><span style=\"font-weight: bold\"> Total params: </span><span style=\"color: #00af00; text-decoration-color: #00af00\">0</span> (0.00 B)\n",
       "</pre>\n"
      ],
      "text/plain": [
       "\u001b[1m Total params: \u001b[0m\u001b[38;5;34m0\u001b[0m (0.00 B)\n"
      ]
     },
     "metadata": {},
     "output_type": "display_data"
    },
    {
     "data": {
      "text/html": [
       "<pre style=\"white-space:pre;overflow-x:auto;line-height:normal;font-family:Menlo,'DejaVu Sans Mono',consolas,'Courier New',monospace\"><span style=\"font-weight: bold\"> Trainable params: </span><span style=\"color: #00af00; text-decoration-color: #00af00\">0</span> (0.00 B)\n",
       "</pre>\n"
      ],
      "text/plain": [
       "\u001b[1m Trainable params: \u001b[0m\u001b[38;5;34m0\u001b[0m (0.00 B)\n"
      ]
     },
     "metadata": {},
     "output_type": "display_data"
    },
    {
     "data": {
      "text/html": [
       "<pre style=\"white-space:pre;overflow-x:auto;line-height:normal;font-family:Menlo,'DejaVu Sans Mono',consolas,'Courier New',monospace\"><span style=\"font-weight: bold\"> Non-trainable params: </span><span style=\"color: #00af00; text-decoration-color: #00af00\">0</span> (0.00 B)\n",
       "</pre>\n"
      ],
      "text/plain": [
       "\u001b[1m Non-trainable params: \u001b[0m\u001b[38;5;34m0\u001b[0m (0.00 B)\n"
      ]
     },
     "metadata": {},
     "output_type": "display_data"
    }
   ],
   "source": [
    "from tensorflow.keras.models import Sequential\n",
    "from tensorflow.keras.layers import Embedding, Bidirectional, LSTM, Dropout, Dense\n",
    "from tensorflow.keras.regularizers import l2\n",
    "\n",
    "# Initialize the model\n",
    "model = Sequential()\n",
    "\n",
    "# Add an embedding layer\n",
    "model.add(Embedding(input_dim=total_words, output_dim=100, input_length=max_sequence_len-1))\n",
    "\n",
    "# Add a Bidirectional LSTM layer with 150 units\n",
    "model.add(Bidirectional(LSTM(150, return_sequences=True)))\n",
    "\n",
    "# Add a Dropout layer to prevent overfitting\n",
    "model.add(Dropout(0.2))\n",
    "\n",
    "# Add another LSTM layer with 100 units\n",
    "model.add(LSTM(100))\n",
    "\n",
    "# Add a Dense layer with half the total number of words and L2 regularization\n",
    "model.add(Dense(total_words // 2, activation='relu', kernel_regularizer=l2(0.01)))\n",
    "\n",
    "# Add the final output layer (Dense) with softmax activation\n",
    "model.add(Dense(total_words, activation='softmax'))\n",
    "\n",
    "# Print the model summary\n",
    "model.summary()\n",
    "\n",
    "# 1 Embedding Layer:\n",
    "\n",
    "# Converts word indices into dense vectors of fixed size (100).\n",
    "# input_length=max_sequence_len-1: The input length is set to the maximum sequence length minus one since the last word will be used as the target.\n",
    "\n",
    "# 2 Bidirectional LSTM Layer:\n",
    "\n",
    "# Adds a bidirectional LSTM layer with 150 units to allow learning context from both directions (past and future).\n",
    "# return_sequences=True: Ensures that this layer returns the entire sequence, not just the final output, so it can be passed to the next LSTM layer.\n",
    "# Dropout Layer:\n",
    "\n",
    "# 3 Dropout helps prevent overfitting by randomly setting 20% of the input units to 0 during training.\n",
    "# LSTM Layer:\n",
    "\n",
    "# 4 A second LSTM layer with 100 units that processes the output from the previous layer.\n",
    "# Dense Layer (Intermediate):\n",
    "\n",
    "# 5 A Dense layer with half the number of words as units and ReLU activation, with L2 regularization to prevent overfitting.\n",
    "# Dense Layer (Output):\n",
    "\n",
    "# The final output layer has total_words units (same as the vocabulary size) and uses softmax activation to output probabilities for each word in the vocabulary."
   ]
  },
  {
   "cell_type": "markdown",
   "metadata": {},
   "source": [
    "# Compile the Model:\n",
    "\n",
    "Compile the model using categorical crossentropy as the loss function, the Adam optimizer for efficient training, and accuracy as the metric to evaluate during training."
   ]
  },
  {
   "cell_type": "code",
   "execution_count": 15,
   "metadata": {},
   "outputs": [],
   "source": [
    "model.build()"
   ]
  },
  {
   "cell_type": "code",
   "execution_count": 16,
   "metadata": {},
   "outputs": [],
   "source": [
    "# Step 9: Compile the model\n",
    "model.compile(loss='categorical_crossentropy', \n",
    "              optimizer='adam', \n",
    "              metrics=['accuracy'])"
   ]
  },
  {
   "cell_type": "markdown",
   "metadata": {},
   "source": [
    "# Print Model Summary:\n",
    "\n",
    "Use model.summary() to print a summary of the model, which shows the layers, their output shapes, and the number of parameters."
   ]
  },
  {
   "cell_type": "code",
   "execution_count": 17,
   "metadata": {},
   "outputs": [
    {
     "data": {
      "text/html": [
       "<pre style=\"white-space:pre;overflow-x:auto;line-height:normal;font-family:Menlo,'DejaVu Sans Mono',consolas,'Courier New',monospace\"><span style=\"font-weight: bold\">Model: \"sequential\"</span>\n",
       "</pre>\n"
      ],
      "text/plain": [
       "\u001b[1mModel: \"sequential\"\u001b[0m\n"
      ]
     },
     "metadata": {},
     "output_type": "display_data"
    },
    {
     "data": {
      "text/html": [
       "<pre style=\"white-space:pre;overflow-x:auto;line-height:normal;font-family:Menlo,'DejaVu Sans Mono',consolas,'Courier New',monospace\">┏━━━━━━━━━━━━━━━━━━━━━━━━━━━━━━━━━┳━━━━━━━━━━━━━━━━━━━━━━━━┳━━━━━━━━━━━━━━━┓\n",
       "┃<span style=\"font-weight: bold\"> Layer (type)                    </span>┃<span style=\"font-weight: bold\"> Output Shape           </span>┃<span style=\"font-weight: bold\">       Param # </span>┃\n",
       "┡━━━━━━━━━━━━━━━━━━━━━━━━━━━━━━━━━╇━━━━━━━━━━━━━━━━━━━━━━━━╇━━━━━━━━━━━━━━━┩\n",
       "│ embedding (<span style=\"color: #0087ff; text-decoration-color: #0087ff\">Embedding</span>)           │ (<span style=\"color: #00d7ff; text-decoration-color: #00d7ff\">None</span>, <span style=\"color: #00af00; text-decoration-color: #00af00\">10</span>, <span style=\"color: #00af00; text-decoration-color: #00af00\">100</span>)        │       <span style=\"color: #00af00; text-decoration-color: #00af00\">337,500</span> │\n",
       "├─────────────────────────────────┼────────────────────────┼───────────────┤\n",
       "│ bidirectional (<span style=\"color: #0087ff; text-decoration-color: #0087ff\">Bidirectional</span>)   │ (<span style=\"color: #00d7ff; text-decoration-color: #00d7ff\">None</span>, <span style=\"color: #00af00; text-decoration-color: #00af00\">10</span>, <span style=\"color: #00af00; text-decoration-color: #00af00\">300</span>)        │       <span style=\"color: #00af00; text-decoration-color: #00af00\">301,200</span> │\n",
       "├─────────────────────────────────┼────────────────────────┼───────────────┤\n",
       "│ dropout (<span style=\"color: #0087ff; text-decoration-color: #0087ff\">Dropout</span>)               │ (<span style=\"color: #00d7ff; text-decoration-color: #00d7ff\">None</span>, <span style=\"color: #00af00; text-decoration-color: #00af00\">10</span>, <span style=\"color: #00af00; text-decoration-color: #00af00\">300</span>)        │             <span style=\"color: #00af00; text-decoration-color: #00af00\">0</span> │\n",
       "├─────────────────────────────────┼────────────────────────┼───────────────┤\n",
       "│ lstm_1 (<span style=\"color: #0087ff; text-decoration-color: #0087ff\">LSTM</span>)                   │ (<span style=\"color: #00d7ff; text-decoration-color: #00d7ff\">None</span>, <span style=\"color: #00af00; text-decoration-color: #00af00\">100</span>)            │       <span style=\"color: #00af00; text-decoration-color: #00af00\">160,400</span> │\n",
       "├─────────────────────────────────┼────────────────────────┼───────────────┤\n",
       "│ dense (<span style=\"color: #0087ff; text-decoration-color: #0087ff\">Dense</span>)                   │ (<span style=\"color: #00d7ff; text-decoration-color: #00d7ff\">None</span>, <span style=\"color: #00af00; text-decoration-color: #00af00\">1687</span>)           │       <span style=\"color: #00af00; text-decoration-color: #00af00\">170,387</span> │\n",
       "├─────────────────────────────────┼────────────────────────┼───────────────┤\n",
       "│ dense_1 (<span style=\"color: #0087ff; text-decoration-color: #0087ff\">Dense</span>)                 │ (<span style=\"color: #00d7ff; text-decoration-color: #00d7ff\">None</span>, <span style=\"color: #00af00; text-decoration-color: #00af00\">3375</span>)           │     <span style=\"color: #00af00; text-decoration-color: #00af00\">5,697,000</span> │\n",
       "└─────────────────────────────────┴────────────────────────┴───────────────┘\n",
       "</pre>\n"
      ],
      "text/plain": [
       "┏━━━━━━━━━━━━━━━━━━━━━━━━━━━━━━━━━┳━━━━━━━━━━━━━━━━━━━━━━━━┳━━━━━━━━━━━━━━━┓\n",
       "┃\u001b[1m \u001b[0m\u001b[1mLayer (type)                   \u001b[0m\u001b[1m \u001b[0m┃\u001b[1m \u001b[0m\u001b[1mOutput Shape          \u001b[0m\u001b[1m \u001b[0m┃\u001b[1m \u001b[0m\u001b[1m      Param #\u001b[0m\u001b[1m \u001b[0m┃\n",
       "┡━━━━━━━━━━━━━━━━━━━━━━━━━━━━━━━━━╇━━━━━━━━━━━━━━━━━━━━━━━━╇━━━━━━━━━━━━━━━┩\n",
       "│ embedding (\u001b[38;5;33mEmbedding\u001b[0m)           │ (\u001b[38;5;45mNone\u001b[0m, \u001b[38;5;34m10\u001b[0m, \u001b[38;5;34m100\u001b[0m)        │       \u001b[38;5;34m337,500\u001b[0m │\n",
       "├─────────────────────────────────┼────────────────────────┼───────────────┤\n",
       "│ bidirectional (\u001b[38;5;33mBidirectional\u001b[0m)   │ (\u001b[38;5;45mNone\u001b[0m, \u001b[38;5;34m10\u001b[0m, \u001b[38;5;34m300\u001b[0m)        │       \u001b[38;5;34m301,200\u001b[0m │\n",
       "├─────────────────────────────────┼────────────────────────┼───────────────┤\n",
       "│ dropout (\u001b[38;5;33mDropout\u001b[0m)               │ (\u001b[38;5;45mNone\u001b[0m, \u001b[38;5;34m10\u001b[0m, \u001b[38;5;34m300\u001b[0m)        │             \u001b[38;5;34m0\u001b[0m │\n",
       "├─────────────────────────────────┼────────────────────────┼───────────────┤\n",
       "│ lstm_1 (\u001b[38;5;33mLSTM\u001b[0m)                   │ (\u001b[38;5;45mNone\u001b[0m, \u001b[38;5;34m100\u001b[0m)            │       \u001b[38;5;34m160,400\u001b[0m │\n",
       "├─────────────────────────────────┼────────────────────────┼───────────────┤\n",
       "│ dense (\u001b[38;5;33mDense\u001b[0m)                   │ (\u001b[38;5;45mNone\u001b[0m, \u001b[38;5;34m1687\u001b[0m)           │       \u001b[38;5;34m170,387\u001b[0m │\n",
       "├─────────────────────────────────┼────────────────────────┼───────────────┤\n",
       "│ dense_1 (\u001b[38;5;33mDense\u001b[0m)                 │ (\u001b[38;5;45mNone\u001b[0m, \u001b[38;5;34m3375\u001b[0m)           │     \u001b[38;5;34m5,697,000\u001b[0m │\n",
       "└─────────────────────────────────┴────────────────────────┴───────────────┘\n"
      ]
     },
     "metadata": {},
     "output_type": "display_data"
    },
    {
     "data": {
      "text/html": [
       "<pre style=\"white-space:pre;overflow-x:auto;line-height:normal;font-family:Menlo,'DejaVu Sans Mono',consolas,'Courier New',monospace\"><span style=\"font-weight: bold\"> Total params: </span><span style=\"color: #00af00; text-decoration-color: #00af00\">6,666,487</span> (25.43 MB)\n",
       "</pre>\n"
      ],
      "text/plain": [
       "\u001b[1m Total params: \u001b[0m\u001b[38;5;34m6,666,487\u001b[0m (25.43 MB)\n"
      ]
     },
     "metadata": {},
     "output_type": "display_data"
    },
    {
     "data": {
      "text/html": [
       "<pre style=\"white-space:pre;overflow-x:auto;line-height:normal;font-family:Menlo,'DejaVu Sans Mono',consolas,'Courier New',monospace\"><span style=\"font-weight: bold\"> Trainable params: </span><span style=\"color: #00af00; text-decoration-color: #00af00\">6,666,487</span> (25.43 MB)\n",
       "</pre>\n"
      ],
      "text/plain": [
       "\u001b[1m Trainable params: \u001b[0m\u001b[38;5;34m6,666,487\u001b[0m (25.43 MB)\n"
      ]
     },
     "metadata": {},
     "output_type": "display_data"
    },
    {
     "data": {
      "text/html": [
       "<pre style=\"white-space:pre;overflow-x:auto;line-height:normal;font-family:Menlo,'DejaVu Sans Mono',consolas,'Courier New',monospace\"><span style=\"font-weight: bold\"> Non-trainable params: </span><span style=\"color: #00af00; text-decoration-color: #00af00\">0</span> (0.00 B)\n",
       "</pre>\n"
      ],
      "text/plain": [
       "\u001b[1m Non-trainable params: \u001b[0m\u001b[38;5;34m0\u001b[0m (0.00 B)\n"
      ]
     },
     "metadata": {},
     "output_type": "display_data"
    }
   ],
   "source": [
    "model.summary()"
   ]
  },
  {
   "cell_type": "markdown",
   "metadata": {},
   "source": [
    "# Now train the model for 50 epochs and assign it to a variable called history.\n",
    "\n",
    "Training the model with 50 epochs should get you around 40% accuracy.\n",
    "\n",
    "You can train the model for as many epochs as you like depending on the time and computing constraints you are facing. Ideally train it for a larger amount of epochs than 50.\n",
    "\n",
    "That way you will get better text generation at the end.\n",
    "\n",
    "However, dont waste your time."
   ]
  },
  {
   "cell_type": "code",
   "execution_count": 12,
   "metadata": {
    "id": "AIg2f1HBxqof",
    "tags": []
   },
   "outputs": [
    {
     "name": "stdout",
     "output_type": "stream",
     "text": [
      "Epoch 1/50\n",
      "\u001b[1m484/484\u001b[0m \u001b[32m━━━━━━━━━━━━━━━━━━━━\u001b[0m\u001b[37m\u001b[0m \u001b[1m95s\u001b[0m 156ms/step - accuracy: 0.0184 - loss: 7.3654\n",
      "Epoch 2/50\n",
      "\u001b[1m484/484\u001b[0m \u001b[32m━━━━━━━━━━━━━━━━━━━━\u001b[0m\u001b[37m\u001b[0m \u001b[1m58s\u001b[0m 107ms/step - accuracy: 0.0208 - loss: 6.4966\n",
      "Epoch 3/50\n",
      "\u001b[1m484/484\u001b[0m \u001b[32m━━━━━━━━━━━━━━━━━━━━\u001b[0m\u001b[37m\u001b[0m \u001b[1m49s\u001b[0m 102ms/step - accuracy: 0.0235 - loss: 6.3957\n",
      "Epoch 4/50\n",
      "\u001b[1m484/484\u001b[0m \u001b[32m━━━━━━━━━━━━━━━━━━━━\u001b[0m\u001b[37m\u001b[0m \u001b[1m48s\u001b[0m 98ms/step - accuracy: 0.0291 - loss: 6.3089\n",
      "Epoch 5/50\n",
      "\u001b[1m484/484\u001b[0m \u001b[32m━━━━━━━━━━━━━━━━━━━━\u001b[0m\u001b[37m\u001b[0m \u001b[1m50s\u001b[0m 104ms/step - accuracy: 0.0341 - loss: 6.1814\n",
      "Epoch 6/50\n",
      "\u001b[1m484/484\u001b[0m \u001b[32m━━━━━━━━━━━━━━━━━━━━\u001b[0m\u001b[37m\u001b[0m \u001b[1m80s\u001b[0m 99ms/step - accuracy: 0.0377 - loss: 6.1035\n",
      "Epoch 7/50\n",
      "\u001b[1m484/484\u001b[0m \u001b[32m━━━━━━━━━━━━━━━━━━━━\u001b[0m\u001b[37m\u001b[0m \u001b[1m49s\u001b[0m 101ms/step - accuracy: 0.0411 - loss: 6.0515\n",
      "Epoch 8/50\n",
      "\u001b[1m484/484\u001b[0m \u001b[32m━━━━━━━━━━━━━━━━━━━━\u001b[0m\u001b[37m\u001b[0m \u001b[1m49s\u001b[0m 100ms/step - accuracy: 0.0428 - loss: 5.9788\n",
      "Epoch 9/50\n",
      "\u001b[1m484/484\u001b[0m \u001b[32m━━━━━━━━━━━━━━━━━━━━\u001b[0m\u001b[37m\u001b[0m \u001b[1m49s\u001b[0m 101ms/step - accuracy: 0.0465 - loss: 5.9392\n",
      "Epoch 10/50\n",
      "\u001b[1m484/484\u001b[0m \u001b[32m━━━━━━━━━━━━━━━━━━━━\u001b[0m\u001b[37m\u001b[0m \u001b[1m49s\u001b[0m 100ms/step - accuracy: 0.0456 - loss: 5.8420\n",
      "Epoch 11/50\n",
      "\u001b[1m484/484\u001b[0m \u001b[32m━━━━━━━━━━━━━━━━━━━━\u001b[0m\u001b[37m\u001b[0m \u001b[1m102s\u001b[0m 141ms/step - accuracy: 0.0555 - loss: 5.7315\n",
      "Epoch 12/50\n",
      "\u001b[1m484/484\u001b[0m \u001b[32m━━━━━━━━━━━━━━━━━━━━\u001b[0m\u001b[37m\u001b[0m \u001b[1m91s\u001b[0m 157ms/step - accuracy: 0.0633 - loss: 5.6400\n",
      "Epoch 13/50\n",
      "\u001b[1m484/484\u001b[0m \u001b[32m━━━━━━━━━━━━━━━━━━━━\u001b[0m\u001b[37m\u001b[0m \u001b[1m81s\u001b[0m 154ms/step - accuracy: 0.0673 - loss: 5.5383\n",
      "Epoch 14/50\n",
      "\u001b[1m484/484\u001b[0m \u001b[32m━━━━━━━━━━━━━━━━━━━━\u001b[0m\u001b[37m\u001b[0m \u001b[1m76s\u001b[0m 156ms/step - accuracy: 0.0734 - loss: 5.4301\n",
      "Epoch 15/50\n",
      "\u001b[1m484/484\u001b[0m \u001b[32m━━━━━━━━━━━━━━━━━━━━\u001b[0m\u001b[37m\u001b[0m \u001b[1m69s\u001b[0m 141ms/step - accuracy: 0.0780 - loss: 5.3497\n",
      "Epoch 16/50\n",
      "\u001b[1m484/484\u001b[0m \u001b[32m━━━━━━━━━━━━━━━━━━━━\u001b[0m\u001b[37m\u001b[0m \u001b[1m68s\u001b[0m 141ms/step - accuracy: 0.0862 - loss: 5.2476\n",
      "Epoch 17/50\n",
      "\u001b[1m484/484\u001b[0m \u001b[32m━━━━━━━━━━━━━━━━━━━━\u001b[0m\u001b[37m\u001b[0m \u001b[1m61s\u001b[0m 125ms/step - accuracy: 0.0895 - loss: 5.1576\n",
      "Epoch 18/50\n",
      "\u001b[1m484/484\u001b[0m \u001b[32m━━━━━━━━━━━━━━━━━━━━\u001b[0m\u001b[37m\u001b[0m \u001b[1m64s\u001b[0m 133ms/step - accuracy: 0.0952 - loss: 5.0427\n",
      "Epoch 19/50\n",
      "\u001b[1m484/484\u001b[0m \u001b[32m━━━━━━━━━━━━━━━━━━━━\u001b[0m\u001b[37m\u001b[0m \u001b[1m76s\u001b[0m 119ms/step - accuracy: 0.1035 - loss: 4.9524\n",
      "Epoch 20/50\n",
      "\u001b[1m484/484\u001b[0m \u001b[32m━━━━━━━━━━━━━━━━━━━━\u001b[0m\u001b[37m\u001b[0m \u001b[1m82s\u001b[0m 117ms/step - accuracy: 0.1103 - loss: 4.8377\n",
      "Epoch 21/50\n",
      "\u001b[1m484/484\u001b[0m \u001b[32m━━━━━━━━━━━━━━━━━━━━\u001b[0m\u001b[37m\u001b[0m \u001b[1m88s\u001b[0m 128ms/step - accuracy: 0.1171 - loss: 4.7440\n",
      "Epoch 22/50\n",
      "\u001b[1m484/484\u001b[0m \u001b[32m━━━━━━━━━━━━━━━━━━━━\u001b[0m\u001b[37m\u001b[0m \u001b[1m71s\u001b[0m 104ms/step - accuracy: 0.1274 - loss: 4.6431\n",
      "Epoch 23/50\n",
      "\u001b[1m484/484\u001b[0m \u001b[32m━━━━━━━━━━━━━━━━━━━━\u001b[0m\u001b[37m\u001b[0m \u001b[1m64s\u001b[0m 131ms/step - accuracy: 0.1341 - loss: 4.5183\n",
      "Epoch 24/50\n",
      "\u001b[1m484/484\u001b[0m \u001b[32m━━━━━━━━━━━━━━━━━━━━\u001b[0m\u001b[37m\u001b[0m \u001b[1m64s\u001b[0m 131ms/step - accuracy: 0.1397 - loss: 4.4431\n",
      "Epoch 25/50\n",
      "\u001b[1m484/484\u001b[0m \u001b[32m━━━━━━━━━━━━━━━━━━━━\u001b[0m\u001b[37m\u001b[0m \u001b[1m61s\u001b[0m 126ms/step - accuracy: 0.1559 - loss: 4.3152\n",
      "Epoch 26/50\n",
      "\u001b[1m484/484\u001b[0m \u001b[32m━━━━━━━━━━━━━━━━━━━━\u001b[0m\u001b[37m\u001b[0m \u001b[1m79s\u001b[0m 120ms/step - accuracy: 0.1629 - loss: 4.2413\n",
      "Epoch 27/50\n",
      "\u001b[1m484/484\u001b[0m \u001b[32m━━━━━━━━━━━━━━━━━━━━\u001b[0m\u001b[37m\u001b[0m \u001b[1m50s\u001b[0m 103ms/step - accuracy: 0.1767 - loss: 4.1208\n",
      "Epoch 28/50\n",
      "\u001b[1m484/484\u001b[0m \u001b[32m━━━━━━━━━━━━━━━━━━━━\u001b[0m\u001b[37m\u001b[0m \u001b[1m96s\u001b[0m 132ms/step - accuracy: 0.1849 - loss: 4.0614\n",
      "Epoch 29/50\n",
      "\u001b[1m484/484\u001b[0m \u001b[32m━━━━━━━━━━━━━━━━━━━━\u001b[0m\u001b[37m\u001b[0m \u001b[1m77s\u001b[0m 119ms/step - accuracy: 0.2091 - loss: 3.9566\n",
      "Epoch 30/50\n",
      "\u001b[1m484/484\u001b[0m \u001b[32m━━━━━━━━━━━━━━━━━━━━\u001b[0m\u001b[37m\u001b[0m \u001b[1m100s\u001b[0m 154ms/step - accuracy: 0.2256 - loss: 3.8600\n",
      "Epoch 31/50\n",
      "\u001b[1m484/484\u001b[0m \u001b[32m━━━━━━━━━━━━━━━━━━━━\u001b[0m\u001b[37m\u001b[0m \u001b[1m74s\u001b[0m 137ms/step - accuracy: 0.2425 - loss: 3.7764\n",
      "Epoch 32/50\n",
      "\u001b[1m484/484\u001b[0m \u001b[32m━━━━━━━━━━━━━━━━━━━━\u001b[0m\u001b[37m\u001b[0m \u001b[1m57s\u001b[0m 118ms/step - accuracy: 0.2570 - loss: 3.7056\n",
      "Epoch 33/50\n",
      "\u001b[1m484/484\u001b[0m \u001b[32m━━━━━━━━━━━━━━━━━━━━\u001b[0m\u001b[37m\u001b[0m \u001b[1m49s\u001b[0m 102ms/step - accuracy: 0.2791 - loss: 3.5851\n",
      "Epoch 34/50\n",
      "\u001b[1m484/484\u001b[0m \u001b[32m━━━━━━━━━━━━━━━━━━━━\u001b[0m\u001b[37m\u001b[0m \u001b[1m49s\u001b[0m 100ms/step - accuracy: 0.2957 - loss: 3.5205\n",
      "Epoch 35/50\n",
      "\u001b[1m484/484\u001b[0m \u001b[32m━━━━━━━━━━━━━━━━━━━━\u001b[0m\u001b[37m\u001b[0m \u001b[1m55s\u001b[0m 114ms/step - accuracy: 0.3169 - loss: 3.4147\n",
      "Epoch 36/50\n",
      "\u001b[1m484/484\u001b[0m \u001b[32m━━━━━━━━━━━━━━━━━━━━\u001b[0m\u001b[37m\u001b[0m \u001b[1m101s\u001b[0m 153ms/step - accuracy: 0.3394 - loss: 3.3417\n",
      "Epoch 37/50\n",
      "\u001b[1m484/484\u001b[0m \u001b[32m━━━━━━━━━━━━━━━━━━━━\u001b[0m\u001b[37m\u001b[0m \u001b[1m70s\u001b[0m 126ms/step - accuracy: 0.3470 - loss: 3.2981\n",
      "Epoch 38/50\n",
      "\u001b[1m484/484\u001b[0m \u001b[32m━━━━━━━━━━━━━━━━━━━━\u001b[0m\u001b[37m\u001b[0m \u001b[1m54s\u001b[0m 111ms/step - accuracy: 0.3683 - loss: 3.1906\n",
      "Epoch 39/50\n",
      "\u001b[1m484/484\u001b[0m \u001b[32m━━━━━━━━━━━━━━━━━━━━\u001b[0m\u001b[37m\u001b[0m \u001b[1m59s\u001b[0m 121ms/step - accuracy: 0.3769 - loss: 3.1500\n",
      "Epoch 40/50\n",
      "\u001b[1m484/484\u001b[0m \u001b[32m━━━━━━━━━━━━━━━━━━━━\u001b[0m\u001b[37m\u001b[0m \u001b[1m64s\u001b[0m 132ms/step - accuracy: 0.3980 - loss: 3.0664\n",
      "Epoch 41/50\n",
      "\u001b[1m484/484\u001b[0m \u001b[32m━━━━━━━━━━━━━━━━━━━━\u001b[0m\u001b[37m\u001b[0m \u001b[1m54s\u001b[0m 111ms/step - accuracy: 0.4075 - loss: 2.9953\n",
      "Epoch 42/50\n",
      "\u001b[1m484/484\u001b[0m \u001b[32m━━━━━━━━━━━━━━━━━━━━\u001b[0m\u001b[37m\u001b[0m \u001b[1m90s\u001b[0m 128ms/step - accuracy: 0.4220 - loss: 2.9343\n",
      "Epoch 43/50\n",
      "\u001b[1m484/484\u001b[0m \u001b[32m━━━━━━━━━━━━━━━━━━━━\u001b[0m\u001b[37m\u001b[0m \u001b[1m76s\u001b[0m 114ms/step - accuracy: 0.4351 - loss: 2.8838\n",
      "Epoch 44/50\n",
      "\u001b[1m484/484\u001b[0m \u001b[32m━━━━━━━━━━━━━━━━━━━━\u001b[0m\u001b[37m\u001b[0m \u001b[1m83s\u001b[0m 116ms/step - accuracy: 0.4475 - loss: 2.8364\n",
      "Epoch 45/50\n",
      "\u001b[1m484/484\u001b[0m \u001b[32m━━━━━━━━━━━━━━━━━━━━\u001b[0m\u001b[37m\u001b[0m \u001b[1m83s\u001b[0m 117ms/step - accuracy: 0.4705 - loss: 2.7423\n",
      "Epoch 46/50\n",
      "\u001b[1m484/484\u001b[0m \u001b[32m━━━━━━━━━━━━━━━━━━━━\u001b[0m\u001b[37m\u001b[0m \u001b[1m55s\u001b[0m 113ms/step - accuracy: 0.4880 - loss: 2.6709\n",
      "Epoch 47/50\n",
      "\u001b[1m484/484\u001b[0m \u001b[32m━━━━━━━━━━━━━━━━━━━━\u001b[0m\u001b[37m\u001b[0m \u001b[1m55s\u001b[0m 114ms/step - accuracy: 0.4981 - loss: 2.6323\n",
      "Epoch 48/50\n",
      "\u001b[1m484/484\u001b[0m \u001b[32m━━━━━━━━━━━━━━━━━━━━\u001b[0m\u001b[37m\u001b[0m \u001b[1m83s\u001b[0m 115ms/step - accuracy: 0.5054 - loss: 2.5827\n",
      "Epoch 49/50\n",
      "\u001b[1m484/484\u001b[0m \u001b[32m━━━━━━━━━━━━━━━━━━━━\u001b[0m\u001b[37m\u001b[0m \u001b[1m54s\u001b[0m 112ms/step - accuracy: 0.5229 - loss: 2.5348\n",
      "Epoch 50/50\n",
      "\u001b[1m484/484\u001b[0m \u001b[32m━━━━━━━━━━━━━━━━━━━━\u001b[0m\u001b[37m\u001b[0m \u001b[1m55s\u001b[0m 114ms/step - accuracy: 0.5248 - loss: 2.4819\n"
     ]
    }
   ],
   "source": [
    "history = model.fit(predictors, labels, epochs=50, verbose=1)"
   ]
  },
  {
   "cell_type": "markdown",
   "metadata": {},
   "source": [
    "# Use plt from matplotlib to plot the training accuracy over epochs and the loss over epochs"
   ]
  },
  {
   "cell_type": "markdown",
   "metadata": {},
   "source": [
    "First you will have to get the accuracy and loss data over epochs, you can do this by using methods on your model."
   ]
  },
  {
   "cell_type": "code",
   "execution_count": 18,
   "metadata": {
    "id": "1fXTEO3GJ282",
    "tags": []
   },
   "outputs": [
    {
     "ename": "ModuleNotFoundError",
     "evalue": "No module named 'matplotlib'",
     "output_type": "error",
     "traceback": [
      "\u001b[1;31m---------------------------------------------------------------------------\u001b[0m",
      "\u001b[1;31mModuleNotFoundError\u001b[0m                       Traceback (most recent call last)",
      "Cell \u001b[1;32mIn[18], line 1\u001b[0m\n\u001b[1;32m----> 1\u001b[0m \u001b[38;5;28;01mimport\u001b[39;00m \u001b[38;5;21;01mmatplotlib\u001b[39;00m\u001b[38;5;21;01m.\u001b[39;00m\u001b[38;5;21;01mpyplot\u001b[39;00m \u001b[38;5;28;01mas\u001b[39;00m \u001b[38;5;21;01mplt\u001b[39;00m\n\u001b[0;32m      3\u001b[0m \u001b[38;5;66;03m# Step 11: Plot training accuracy and loss over epochs\u001b[39;00m\n\u001b[0;32m      4\u001b[0m \n\u001b[0;32m      5\u001b[0m \u001b[38;5;66;03m# Extract the history data for accuracy and loss\u001b[39;00m\n\u001b[0;32m      6\u001b[0m accuracy \u001b[38;5;241m=\u001b[39m history\u001b[38;5;241m.\u001b[39mhistory[\u001b[38;5;124m'\u001b[39m\u001b[38;5;124maccuracy\u001b[39m\u001b[38;5;124m'\u001b[39m]\n",
      "\u001b[1;31mModuleNotFoundError\u001b[0m: No module named 'matplotlib'"
     ]
    }
   ],
   "source": [
    "import matplotlib.pyplot as plt\n",
    "\n",
    "# Step 11: Plot training accuracy and loss over epochs\n",
    "\n",
    "# Extract the history data for accuracy and loss\n",
    "accuracy = history.history['accuracy']\n",
    "loss = history.history['loss']\n",
    "epochs = range(1, len(accuracy) + 1)\n",
    "\n",
    "# Plot accuracy over epochs\n",
    "plt.figure(figsize=(12, 6))\n",
    "\n",
    "# Plot accuracy\n",
    "plt.subplot(1, 2, 1)\n",
    "plt.plot(epochs, accuracy, 'b', label='Training Accuracy')\n",
    "plt.title('Training Accuracy over Epochs')\n",
    "plt.xlabel('Epochs')\n",
    "plt.ylabel('Accuracy')\n",
    "plt.legend()\n",
    "\n",
    "# Plot loss over epochs\n",
    "plt.subplot(1, 2, 2)\n",
    "plt.plot(epochs, loss, 'r', label='Training Loss')\n",
    "plt.title('Training Loss over Epochs')\n",
    "plt.xlabel('Epochs')\n",
    "plt.ylabel('Loss')\n",
    "plt.legend()\n",
    "\n",
    "plt.tight_layout()\n",
    "plt.show()"
   ]
  },
  {
   "cell_type": "markdown",
   "metadata": {},
   "source": [
    "# Generate text with the model based on a seed text\n",
    "\n",
    "Now you will create two variables :\n",
    "\n",
    "- seed_text = 'Write the text you want the model to use as a starting point to generate the next words'\n",
    "- next_words = number_of_words_you_want_the_model_to_generate\n",
    "\n",
    "Please change number_of_words_you_want_the_model_to_generate by an actual integer."
   ]
  },
  {
   "cell_type": "code",
   "execution_count": 19,
   "metadata": {},
   "outputs": [],
   "source": [
    "seed_text = \"Shall I compare thee to a summer's day\"\n",
    "next_words = 50 "
   ]
  },
  {
   "cell_type": "markdown",
   "metadata": {},
   "source": [
    "Now create a loop that runs based on the next_words variable and generates new text based on your seed_text input string. Print the full text with the generated text at the end.\n",
    "\n",
    "This time you dont get detailed instructions.\n",
    "\n",
    "Have fun!"
   ]
  },
  {
   "cell_type": "code",
   "execution_count": 20,
   "metadata": {
    "id": "6Vc6PHgxa6Hm",
    "tags": []
   },
   "outputs": [
    {
     "name": "stdout",
     "output_type": "stream",
     "text": [
      "Shall I compare thee to a summer's day bail prove end one subjects worth ' bear mine eyes prove woe prove cross prove life alone bear thee alone be thee true art so true one show well tongue something eyes to thee swearing tend tend grow good pride grow fall and thou prove crime prove thine eyes still\n"
     ]
    }
   ],
   "source": [
    "for _ in range(next_words):\n",
    "    # Tokenize the current seed text\n",
    "    token_list = tokenizer.texts_to_sequences([seed_text])[0]\n",
    "    \n",
    "    # Pad the tokenized sequence to match the input length\n",
    "    token_list = pad_sequences([token_list], maxlen=max_sequence_len-1, padding='pre')\n",
    "    \n",
    "    # Predict the next word (highest probability)\n",
    "    predicted = model.predict(token_list, verbose=0)\n",
    "    predicted_word_index = np.argmax(predicted, axis=-1)\n",
    "    \n",
    "    # Find the word corresponding to the predicted index\n",
    "    for word, index in tokenizer.word_index.items():\n",
    "        if index == predicted_word_index:\n",
    "            seed_text += \" \" + word  # Append the predicted word to the seed text\n",
    "            break\n",
    "\n",
    "print(seed_text)"
   ]
  },
  {
   "cell_type": "markdown",
   "metadata": {},
   "source": [
    "Experiment with at least 3 different seed_text strings and see what happens!"
   ]
  },
  {
   "cell_type": "code",
   "execution_count": 22,
   "metadata": {},
   "outputs": [],
   "source": [
    "seed_text = \"Life is dark\"\n",
    "next_words=10\n"
   ]
  },
  {
   "cell_type": "code",
   "execution_count": 23,
   "metadata": {},
   "outputs": [
    {
     "name": "stdout",
     "output_type": "stream",
     "text": [
      "Life is dark that beauty is in men worth here remain bred past\n"
     ]
    }
   ],
   "source": [
    "for _ in range(next_words):\n",
    "    # Tokenize the current seed text\n",
    "    token_list = tokenizer.texts_to_sequences([seed_text])[0]\n",
    "    \n",
    "    # Pad the tokenized sequence to match the input length\n",
    "    token_list = pad_sequences([token_list], maxlen=max_sequence_len-1, padding='pre')\n",
    "    \n",
    "    # Predict the next word (highest probability)\n",
    "    predicted = model.predict(token_list, verbose=0)\n",
    "    predicted_word_index = np.argmax(predicted, axis=-1)\n",
    "    \n",
    "    # Find the word corresponding to the predicted index\n",
    "    for word, index in tokenizer.word_index.items():\n",
    "        if index == predicted_word_index:\n",
    "            seed_text += \" \" + word  # Append the predicted word to the seed text\n",
    "            break\n",
    "\n",
    "print(seed_text)"
   ]
  },
  {
   "cell_type": "code",
   "execution_count": 24,
   "metadata": {},
   "outputs": [],
   "source": [
    "seed_text = \"when will i die? \"\n",
    "next_words=10"
   ]
  },
  {
   "cell_type": "code",
   "execution_count": 25,
   "metadata": {},
   "outputs": [
    {
     "name": "stdout",
     "output_type": "stream",
     "text": [
      "when will i die?  in this art past hell sense thought rare gone doth\n"
     ]
    }
   ],
   "source": [
    "for _ in range(next_words):\n",
    "    # Tokenize the current seed text\n",
    "    token_list = tokenizer.texts_to_sequences([seed_text])[0]\n",
    "    \n",
    "    # Pad the tokenized sequence to match the input length\n",
    "    token_list = pad_sequences([token_list], maxlen=max_sequence_len-1, padding='pre')\n",
    "    \n",
    "    # Predict the next word (highest probability)\n",
    "    predicted = model.predict(token_list, verbose=0)\n",
    "    predicted_word_index = np.argmax(predicted, axis=-1)\n",
    "    \n",
    "    # Find the word corresponding to the predicted index\n",
    "    for word, index in tokenizer.word_index.items():\n",
    "        if index == predicted_word_index:\n",
    "            seed_text += \" \" + word  # Append the predicted word to the seed text\n",
    "            break\n",
    "\n",
    "print(seed_text)"
   ]
  },
  {
   "cell_type": "code",
   "execution_count": 26,
   "metadata": {},
   "outputs": [],
   "source": [
    "seed_text = \"the moon is shining bright \"\n",
    "next_words=10"
   ]
  },
  {
   "cell_type": "code",
   "execution_count": 27,
   "metadata": {},
   "outputs": [
    {
     "name": "stdout",
     "output_type": "stream",
     "text": [
      "the moon is shining bright  and unrespected calls me back doth lie in you back\n"
     ]
    }
   ],
   "source": [
    "for _ in range(next_words):\n",
    "    # Tokenize the current seed text\n",
    "    token_list = tokenizer.texts_to_sequences([seed_text])[0]\n",
    "    \n",
    "    # Pad the tokenized sequence to match the input length\n",
    "    token_list = pad_sequences([token_list], maxlen=max_sequence_len-1, padding='pre')\n",
    "    \n",
    "    # Predict the next word (highest probability)\n",
    "    predicted = model.predict(token_list, verbose=0)\n",
    "    predicted_word_index = np.argmax(predicted, axis=-1)\n",
    "    \n",
    "    # Find the word corresponding to the predicted index\n",
    "    for word, index in tokenizer.word_index.items():\n",
    "        if index == predicted_word_index:\n",
    "            seed_text += \" \" + word  # Append the predicted word to the seed text\n",
    "            break\n",
    "\n",
    "print(seed_text)"
   ]
  }
 ],
 "metadata": {
  "accelerator": "GPU",
  "colab": {
   "name": "NLP_Week4_Exercise_Shakespeare_Answer.ipynb",
   "provenance": [],
   "toc_visible": true
  },
  "kernelspec": {
   "display_name": "Python 3 (ipykernel)",
   "language": "python",
   "name": "python3"
  },
  "language_info": {
   "codemirror_mode": {
    "name": "ipython",
    "version": 3
   },
   "file_extension": ".py",
   "mimetype": "text/x-python",
   "name": "python",
   "nbconvert_exporter": "python",
   "pygments_lexer": "ipython3",
   "version": "3.10.15"
  }
 },
 "nbformat": 4,
 "nbformat_minor": 4
}
