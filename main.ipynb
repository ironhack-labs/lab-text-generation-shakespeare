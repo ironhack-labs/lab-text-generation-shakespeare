{
 "cells": [
  {
   "cell_type": "markdown",
   "metadata": {},
   "source": [
    "# Lab | Text Generation from Shakespeare's Sonnet\n",
    "\n",
    "This notebook explores the fascinating domain of text generation using a deep learning model trained on Shakespeare's sonnets. \n",
    "\n",
    "The objective is to create a neural network capable of generating text sequences that mimic the style and language of Shakespeare.\n",
    "\n",
    "By utilizing a Recurrent Neural Network (RNN) with Long Short-Term Memory (LSTM) layers, this project aims to demonstrate how a model can learn and replicate the complex patterns of early modern English. \n",
    "\n",
    "The dataset used consists of Shakespeare's sonnets, which are preprocessed and tokenized to serve as input for the model.\n",
    "\n",
    "Throughout this notebook, you will see the steps taken to prepare the data, build and train the model, and evaluate its performance in generating text. \n",
    "\n",
    "This lab provides a hands-on approach to understanding the intricacies of natural language processing (NLP) and the potential of machine learning in creative text generation."
   ]
  },
  {
   "cell_type": "markdown",
   "metadata": {},
   "source": [
    "Let's import necessary libraries"
   ]
  },
  {
   "cell_type": "code",
   "execution_count": 10,
   "metadata": {},
   "outputs": [],
   "source": [
    "!pip freeze > requirements.txt\n"
   ]
  },
  {
   "cell_type": "code",
   "execution_count": 35,
   "metadata": {
    "id": "BOwsuGQQY9OL",
    "tags": []
   },
   "outputs": [],
   "source": [
    "from tensorflow.keras.preprocessing.sequence import pad_sequences\n",
    "from tensorflow.keras.layers import Embedding, LSTM, Dense, Dropout, Bidirectional\n",
    "from tensorflow.keras.preprocessing.text import Tokenizer\n",
    "from tensorflow.keras.models import Sequential\n",
    "from tensorflow.keras.layers import LeakyReLU\n",
    "from tensorflow.keras.callbacks import EarlyStopping\n",
    "from tensorflow.keras.callbacks import ReduceLROnPlateau\n",
    "from tensorflow.keras.optimizers import Adam\n",
    "from tensorflow.keras import regularizers\n",
    "import tensorflow.keras.utils as ku \n",
    "import numpy as np\n",
    "import matplotlib.pyplot as plt"
   ]
  },
  {
   "cell_type": "markdown",
   "metadata": {},
   "source": [
    "Let's get the data!"
   ]
  },
  {
   "cell_type": "code",
   "execution_count": 3,
   "metadata": {
    "tags": []
   },
   "outputs": [
    {
     "name": "stdout",
     "output_type": "stream",
     "text": [
      "<class 'list'>\n",
      "2634 lines\n",
      "93029 characters\n"
     ]
    },
    {
     "data": {
      "text/plain": [
       "['\\tsonnets',\n",
       " '',\n",
       " '',\n",
       " '',\n",
       " 'to the only begetter of',\n",
       " 'these insuing sonnets',\n",
       " 'mr. w. h. all happiness',\n",
       " 'and that eternity',\n",
       " 'promised by',\n",
       " 'our ever-living poet wisheth']"
      ]
     },
     "execution_count": 3,
     "metadata": {},
     "output_type": "execute_result"
    }
   ],
   "source": [
    "import requests\n",
    "url = 'https://raw.githubusercontent.com/martin-gorner/tensorflow-rnn-shakespeare/master/shakespeare/sonnets.txt'\n",
    "resp = requests.get(url)\n",
    "with open('sonnets.txt', 'wb') as f:\n",
    "    f.write(resp.content)\n",
    "\n",
    "data = open('sonnets.txt').read()\n",
    "\n",
    "corpus = data.lower().split(\"\\n\")\n",
    "print(type(corpus))\n",
    "print(f\"{len(corpus)} lines\")\n",
    "\n",
    "count = 0\n",
    "for line in corpus:\n",
    "    count += len(line)\n",
    "print(f\"{count} characters\")\n",
    "\n",
    "corpus[:10]"
   ]
  },
  {
   "cell_type": "markdown",
   "metadata": {},
   "source": [
    "Step 1: Initialise a tokenizer and fit it on the corpus variable using .fit_on_texts"
   ]
  },
  {
   "cell_type": "code",
   "execution_count": 4,
   "metadata": {},
   "outputs": [],
   "source": [
    "# Your code here :\n",
    "\n",
    "# initialize and fit tokenizer on corpus\n",
    "tokenizer = Tokenizer()\n",
    "tokenizer.fit_on_texts(corpus)\n"
   ]
  },
  {
   "cell_type": "markdown",
   "metadata": {},
   "source": [
    "Step 2: Calculate the Vocabulary Size\n",
    "\n",
    "Let's figure out how many unique words are in your corpus. This will be the size of your vocabulary.\n",
    "\n",
    "Calculate the length of tokenizer.word_index, add 1 to it and store it in a variable called total_words."
   ]
  },
  {
   "cell_type": "code",
   "execution_count": 5,
   "metadata": {},
   "outputs": [
    {
     "name": "stdout",
     "output_type": "stream",
     "text": [
      "Vocabulary Size: 3375\n",
      "death 157\n"
     ]
    }
   ],
   "source": [
    "# Your code here :\n",
    "total_words = len(tokenizer.word_index) + 1\n",
    "print(\"Vocabulary Size:\", total_words)\n",
    "\n",
    "# access a given word's index\n",
    "word = \"death\"\n",
    "print(word, tokenizer.word_index[word])"
   ]
  },
  {
   "cell_type": "markdown",
   "metadata": {},
   "source": [
    "Create an empty list called input_sequences.\n",
    "\n",
    "For each sentence in your corpus, convert the text into a sequence of integers using the tokenizer.\n",
    "Then, generate n-gram sequences from these tokens.\n",
    "\n",
    "Store the result in the list input_sequences."
   ]
  },
  {
   "cell_type": "code",
   "execution_count": 6,
   "metadata": {},
   "outputs": [
    {
     "name": "stdout",
     "output_type": "stream",
     "text": [
      "\tsonnets [3, 2]\n",
      " [3, 2, 313]\n",
      " [3, 2, 313, 1375]\n",
      " [3, 2, 313, 1375, 4]\n",
      "to the only begetter of [118, 1376]\n",
      "these insuing sonnets [118, 1376, 878]\n",
      "mr. w. h. all happiness [1377, 1378]\n",
      "and that eternity [1377, 1378, 1379]\n",
      "promised by [1377, 1378, 1379, 23]\n",
      "our ever-living poet wisheth [1377, 1378, 1379, 23, 1380]\n"
     ]
    }
   ],
   "source": [
    "# Your code here :\n",
    "input_sequences = []\n",
    "\n",
    "for sentence in corpus:\n",
    "    \n",
    "    # convert text to a sequence of tokens\n",
    "    token_list = tokenizer.texts_to_sequences([sentence])[0]\n",
    "    \n",
    "    # create n-gram sequences\n",
    "    for i in range(1, len(token_list)):\n",
    "        n_gram_sequence = token_list[:i+1]\n",
    "        input_sequences.append(n_gram_sequence)\n",
    "\n",
    "for i in range(10):\n",
    "    print(corpus[i], input_sequences[i])\n"
   ]
  },
  {
   "cell_type": "markdown",
   "metadata": {},
   "source": [
    "Calculate the length of the longest sequence in input_sequences. Assign the result to a variable called max_sequence_len.\n",
    "\n",
    "Now pad the sequences using pad_sequences(input_sequences, maxlen=max_sequence_len, padding='pre').\n",
    "Convert it to a numpy array and assign the result back to our variable called input_sequences."
   ]
  },
  {
   "cell_type": "code",
   "execution_count": 7,
   "metadata": {},
   "outputs": [
    {
     "name": "stdout",
     "output_type": "stream",
     "text": [
      "Max sequence length: 11\n"
     ]
    },
    {
     "data": {
      "text/plain": [
       "array([[   0,    0,    0,    0,    0,    0,    0,    0,    0,    3,    2],\n",
       "       [   0,    0,    0,    0,    0,    0,    0,    0,    3,    2,  313],\n",
       "       [   0,    0,    0,    0,    0,    0,    0,    3,    2,  313, 1375],\n",
       "       [   0,    0,    0,    0,    0,    0,    3,    2,  313, 1375,    4],\n",
       "       [   0,    0,    0,    0,    0,    0,    0,    0,    0,  118, 1376],\n",
       "       [   0,    0,    0,    0,    0,    0,    0,    0,  118, 1376,  878],\n",
       "       [   0,    0,    0,    0,    0,    0,    0,    0,    0, 1377, 1378],\n",
       "       [   0,    0,    0,    0,    0,    0,    0,    0, 1377, 1378, 1379],\n",
       "       [   0,    0,    0,    0,    0,    0,    0, 1377, 1378, 1379,   23],\n",
       "       [   0,    0,    0,    0,    0,    0, 1377, 1378, 1379,   23, 1380]],\n",
       "      dtype=int32)"
      ]
     },
     "execution_count": 7,
     "metadata": {},
     "output_type": "execute_result"
    }
   ],
   "source": [
    "# Your code here :\n",
    "# length of the longest sequence\n",
    "max_sequence_len = max([len(seq) for seq in input_sequences])\n",
    "print(\"Max sequence length:\", max_sequence_len)\n",
    "\n",
    "# padding\n",
    "input_sequences_padded = pad_sequences(input_sequences, maxlen=max_sequence_len, padding='pre')\n",
    "input_sequences = np.array(input_sequences_padded)\n",
    "\n",
    "input_sequences[:10]\n"
   ]
  },
  {
   "cell_type": "markdown",
   "metadata": {},
   "source": [
    "Prepare Predictors and Labels\n",
    "\n",
    "Split the sequences into two parts:\n",
    "\n",
    "- Predictors: All elements from input_sequences except the last one.\n",
    "- Labels: The last element of each sequence in input_sequences."
   ]
  },
  {
   "cell_type": "code",
   "execution_count": 8,
   "metadata": {
    "id": "PRnDnCW-Z7qv",
    "tags": []
   },
   "outputs": [
    {
     "name": "stdout",
     "output_type": "stream",
     "text": [
      "(15484, 10) (15484,)\n"
     ]
    }
   ],
   "source": [
    "# Your code here :\n",
    "# split dataset into predictors and labels\n",
    "X = input_sequences[:, :-1]  # all but last element\n",
    "y = input_sequences[:, -1]  # last element only\n",
    "\n",
    "print(X.shape, y.shape)"
   ]
  },
  {
   "cell_type": "markdown",
   "metadata": {},
   "source": [
    "One-Hot Encode the Labels :\n",
    "\n",
    "Convert the labels (which are integers) into one-hot encoded vectors. \n",
    "\n",
    "Ensure the length of these vectors matches the total number of unique words in your vocabulary.\n",
    "\n",
    "Use ku.to_categorical() on labels with num_classes = total_words\n",
    "\n",
    "Assign the result back to our variable labels."
   ]
  },
  {
   "cell_type": "code",
   "execution_count": 9,
   "metadata": {},
   "outputs": [
    {
     "data": {
      "text/plain": [
       "(15484, 3375)"
      ]
     },
     "execution_count": 9,
     "metadata": {},
     "output_type": "execute_result"
    }
   ],
   "source": [
    "# Your code here :\n",
    "y = ku.to_categorical(y, num_classes=total_words)\n",
    "\n",
    "y.shape\n"
   ]
  },
  {
   "cell_type": "markdown",
   "metadata": {},
   "source": [
    "# Initialize the Model\n",
    "\n",
    "Start by creating a Sequential model.\n",
    "\n",
    "Add Layers to the Model:\n",
    "\n",
    "Embedding Layer: The first layer is an embedding layer. It converts word indices into dense vectors of fixed size (100 in this case). Set the input length to the maximum sequence length minus one, which corresponds to the number of previous words the model will consider when predicting the next word.\n",
    "\n",
    "Bidirectional LSTM Layer: Add a Bidirectional LSTM layer with 150 units. This layer allows the model to learn context from both directions (past and future) in the sequence. return_sequences=True\n",
    "\n",
    "Dropout Layer: Add a dropout layer with a rate of 0.2 to prevent overfitting by randomly setting 20% of the input units to 0 during training.\n",
    "\n",
    "LSTM Layer: Add a second LSTM layer with 100 units. This layer processes the sequence and passes its output to the next layer.\n",
    "\n",
    "Dense Layer (Intermediate): Add a dense layer with half the total number of words as units, using ReLU activation. A regularization term (L2) is added to prevent overfitting.\n",
    "\n",
    "Dense Layer (Output): The final dense layer has as many units as there are words in the vocabulary, with a softmax activation function to output a probability distribution over all words."
   ]
  },
  {
   "cell_type": "code",
   "execution_count": 11,
   "metadata": {},
   "outputs": [
    {
     "name": "stderr",
     "output_type": "stream",
     "text": [
      "2024-10-04 13:21:59.307928: I external/local_xla/xla/stream_executor/cuda/cuda_executor.cc:901] successful NUMA node read from SysFS had negative value (-1), but there must be at least one NUMA node, so returning NUMA node zero. See more at https://github.com/torvalds/linux/blob/v6.0/Documentation/ABI/testing/sysfs-bus-pci#L344-L355\n",
      "2024-10-04 13:21:59.992911: I external/local_xla/xla/stream_executor/cuda/cuda_executor.cc:901] successful NUMA node read from SysFS had negative value (-1), but there must be at least one NUMA node, so returning NUMA node zero. See more at https://github.com/torvalds/linux/blob/v6.0/Documentation/ABI/testing/sysfs-bus-pci#L344-L355\n",
      "2024-10-04 13:21:59.993291: I external/local_xla/xla/stream_executor/cuda/cuda_executor.cc:901] successful NUMA node read from SysFS had negative value (-1), but there must be at least one NUMA node, so returning NUMA node zero. See more at https://github.com/torvalds/linux/blob/v6.0/Documentation/ABI/testing/sysfs-bus-pci#L344-L355\n",
      "2024-10-04 13:21:59.995172: I external/local_xla/xla/stream_executor/cuda/cuda_executor.cc:901] successful NUMA node read from SysFS had negative value (-1), but there must be at least one NUMA node, so returning NUMA node zero. See more at https://github.com/torvalds/linux/blob/v6.0/Documentation/ABI/testing/sysfs-bus-pci#L344-L355\n",
      "2024-10-04 13:21:59.995450: I external/local_xla/xla/stream_executor/cuda/cuda_executor.cc:901] successful NUMA node read from SysFS had negative value (-1), but there must be at least one NUMA node, so returning NUMA node zero. See more at https://github.com/torvalds/linux/blob/v6.0/Documentation/ABI/testing/sysfs-bus-pci#L344-L355\n",
      "2024-10-04 13:21:59.995693: I external/local_xla/xla/stream_executor/cuda/cuda_executor.cc:901] successful NUMA node read from SysFS had negative value (-1), but there must be at least one NUMA node, so returning NUMA node zero. See more at https://github.com/torvalds/linux/blob/v6.0/Documentation/ABI/testing/sysfs-bus-pci#L344-L355\n",
      "2024-10-04 13:22:03.802363: I external/local_xla/xla/stream_executor/cuda/cuda_executor.cc:901] successful NUMA node read from SysFS had negative value (-1), but there must be at least one NUMA node, so returning NUMA node zero. See more at https://github.com/torvalds/linux/blob/v6.0/Documentation/ABI/testing/sysfs-bus-pci#L344-L355\n",
      "2024-10-04 13:22:03.802601: I external/local_xla/xla/stream_executor/cuda/cuda_executor.cc:901] successful NUMA node read from SysFS had negative value (-1), but there must be at least one NUMA node, so returning NUMA node zero. See more at https://github.com/torvalds/linux/blob/v6.0/Documentation/ABI/testing/sysfs-bus-pci#L344-L355\n",
      "2024-10-04 13:22:03.802815: I external/local_xla/xla/stream_executor/cuda/cuda_executor.cc:901] successful NUMA node read from SysFS had negative value (-1), but there must be at least one NUMA node, so returning NUMA node zero. See more at https://github.com/torvalds/linux/blob/v6.0/Documentation/ABI/testing/sysfs-bus-pci#L344-L355\n",
      "2024-10-04 13:22:03.802939: I tensorflow/core/common_runtime/gpu/gpu_device.cc:1929] Created device /job:localhost/replica:0/task:0/device:GPU:0 with 7393 MB memory:  -> device: 0, name: Quadro P4000, pci bus id: 0000:00:05.0, compute capability: 6.1\n"
     ]
    }
   ],
   "source": [
    "# Your code here :\n",
    "model = Sequential()\n",
    "\n",
    "model.add(Embedding(input_dim=total_words, output_dim=100, input_length=max_sequence_len-1))\n",
    "model.add(Bidirectional(LSTM(150, return_sequences=True)))\n",
    "model.add(Dropout(0.2))\n",
    "model.add(LSTM(100))\n",
    "model.add(Dense(total_words // 2, activation='relu', kernel_regularizer=regularizers.l2(0.01)))\n",
    "model.add(Dense(total_words, activation='softmax'))\n"
   ]
  },
  {
   "cell_type": "markdown",
   "metadata": {},
   "source": [
    "# Compile the Model:\n",
    "\n",
    "Compile the model using categorical crossentropy as the loss function, the Adam optimizer for efficient training, and accuracy as the metric to evaluate during training."
   ]
  },
  {
   "cell_type": "code",
   "execution_count": 15,
   "metadata": {},
   "outputs": [],
   "source": [
    "# Your code here :\n",
    "model.compile(loss=\"categorical_crossentropy\", optimizer='adam', metrics=['accuracy'])"
   ]
  },
  {
   "cell_type": "markdown",
   "metadata": {},
   "source": [
    "# Print Model Summary:\n",
    "\n",
    "Use model.summary() to print a summary of the model, which shows the layers, their output shapes, and the number of parameters."
   ]
  },
  {
   "cell_type": "code",
   "execution_count": 16,
   "metadata": {},
   "outputs": [
    {
     "name": "stdout",
     "output_type": "stream",
     "text": [
      "Model: \"sequential\"\n",
      "_________________________________________________________________\n",
      " Layer (type)                Output Shape              Param #   \n",
      "=================================================================\n",
      " embedding (Embedding)       (None, 10, 100)           337500    \n",
      "                                                                 \n",
      " bidirectional (Bidirection  (None, 10, 300)           301200    \n",
      " al)                                                             \n",
      "                                                                 \n",
      " dropout (Dropout)           (None, 10, 300)           0         \n",
      "                                                                 \n",
      " lstm_1 (LSTM)               (None, 100)               160400    \n",
      "                                                                 \n",
      " dense (Dense)               (None, 1687)              170387    \n",
      "                                                                 \n",
      " dense_1 (Dense)             (None, 3375)              5697000   \n",
      "                                                                 \n",
      "=================================================================\n",
      "Total params: 6666487 (25.43 MB)\n",
      "Trainable params: 6666487 (25.43 MB)\n",
      "Non-trainable params: 0 (0.00 Byte)\n",
      "_________________________________________________________________\n"
     ]
    }
   ],
   "source": [
    "# Your code here :\n",
    "model.summary()"
   ]
  },
  {
   "cell_type": "markdown",
   "metadata": {},
   "source": [
    "# Now train the model for 50 epochs and assign it to a variable called history.\n",
    "\n",
    "Training the model with 50 epochs should get you around 40% accuracy.\n",
    "\n",
    "You can train the model for as many epochs as you like depending on the time and computing constraints you are facing. Ideally train it for a larger amount of epochs than 50.\n",
    "\n",
    "That way you will get better text generation at the end.\n",
    "\n",
    "However, dont waste your time."
   ]
  },
  {
   "cell_type": "code",
   "execution_count": 17,
   "metadata": {
    "id": "AIg2f1HBxqof",
    "tags": []
   },
   "outputs": [
    {
     "name": "stdout",
     "output_type": "stream",
     "text": [
      "Epoch 1/50\n"
     ]
    },
    {
     "name": "stderr",
     "output_type": "stream",
     "text": [
      "2024-10-04 13:24:26.347796: I external/local_xla/xla/stream_executor/cuda/cuda_dnn.cc:454] Loaded cuDNN version 8907\n",
      "2024-10-04 13:24:28.012494: I external/local_xla/xla/service/service.cc:168] XLA service 0x7fbf3400bc80 initialized for platform CUDA (this does not guarantee that XLA will be used). Devices:\n",
      "2024-10-04 13:24:28.012798: I external/local_xla/xla/service/service.cc:176]   StreamExecutor device (0): Quadro P4000, Compute Capability 6.1\n",
      "2024-10-04 13:24:28.069481: I tensorflow/compiler/mlir/tensorflow/utils/dump_mlir_util.cc:269] disabling MLIR crash reproducer, set env var `MLIR_CRASH_REPRODUCER_DIRECTORY` to enable.\n",
      "WARNING: All log messages before absl::InitializeLog() is called are written to STDERR\n",
      "I0000 00:00:1728048268.347511     554 device_compiler.h:186] Compiled cluster using XLA!  This line is logged at most once for the lifetime of the process.\n"
     ]
    },
    {
     "name": "stdout",
     "output_type": "stream",
     "text": [
      "484/484 [==============================] - 27s 30ms/step - loss: 6.9118 - accuracy: 0.0211\n",
      "Epoch 2/50\n",
      "484/484 [==============================] - 7s 15ms/step - loss: 6.5102 - accuracy: 0.0227\n",
      "Epoch 3/50\n",
      "484/484 [==============================] - 6s 13ms/step - loss: 6.4166 - accuracy: 0.0249\n",
      "Epoch 4/50\n",
      "484/484 [==============================] - 7s 15ms/step - loss: 6.2943 - accuracy: 0.0296\n",
      "Epoch 5/50\n",
      "484/484 [==============================] - 7s 14ms/step - loss: 6.1935 - accuracy: 0.0362\n",
      "Epoch 6/50\n",
      "484/484 [==============================] - 6s 13ms/step - loss: 6.1136 - accuracy: 0.0394\n",
      "Epoch 7/50\n",
      "484/484 [==============================] - 7s 14ms/step - loss: 6.0423 - accuracy: 0.0406\n",
      "Epoch 8/50\n",
      "484/484 [==============================] - 7s 14ms/step - loss: 5.9660 - accuracy: 0.0447\n",
      "Epoch 9/50\n",
      "484/484 [==============================] - 6s 13ms/step - loss: 5.8683 - accuracy: 0.0495\n",
      "Epoch 10/50\n",
      "484/484 [==============================] - 6s 13ms/step - loss: 5.7647 - accuracy: 0.0532\n",
      "Epoch 11/50\n",
      "484/484 [==============================] - 6s 13ms/step - loss: 5.6536 - accuracy: 0.0610\n",
      "Epoch 12/50\n",
      "484/484 [==============================] - 6s 12ms/step - loss: 5.5417 - accuracy: 0.0696\n",
      "Epoch 13/50\n",
      "484/484 [==============================] - 7s 14ms/step - loss: 5.4362 - accuracy: 0.0718\n",
      "Epoch 14/50\n",
      "484/484 [==============================] - 7s 14ms/step - loss: 5.3303 - accuracy: 0.0800\n",
      "Epoch 15/50\n",
      "484/484 [==============================] - 6s 13ms/step - loss: 5.2174 - accuracy: 0.0898\n",
      "Epoch 16/50\n",
      "484/484 [==============================] - 7s 14ms/step - loss: 5.1103 - accuracy: 0.0941\n",
      "Epoch 17/50\n",
      "484/484 [==============================] - 7s 14ms/step - loss: 4.9965 - accuracy: 0.1033\n",
      "Epoch 18/50\n",
      "484/484 [==============================] - 7s 14ms/step - loss: 4.8907 - accuracy: 0.1126\n",
      "Epoch 19/50\n",
      "484/484 [==============================] - 7s 14ms/step - loss: 4.7854 - accuracy: 0.1201\n",
      "Epoch 20/50\n",
      "484/484 [==============================] - 6s 13ms/step - loss: 4.6776 - accuracy: 0.1301\n",
      "Epoch 21/50\n",
      "484/484 [==============================] - 7s 14ms/step - loss: 4.5690 - accuracy: 0.1371\n",
      "Epoch 22/50\n",
      "484/484 [==============================] - 7s 14ms/step - loss: 4.4588 - accuracy: 0.1507\n",
      "Epoch 23/50\n",
      "484/484 [==============================] - 7s 14ms/step - loss: 4.3521 - accuracy: 0.1594\n",
      "Epoch 24/50\n",
      "484/484 [==============================] - 6s 13ms/step - loss: 4.2492 - accuracy: 0.1741\n",
      "Epoch 25/50\n",
      "484/484 [==============================] - 6s 13ms/step - loss: 4.1396 - accuracy: 0.1886\n",
      "Epoch 26/50\n",
      "484/484 [==============================] - 6s 12ms/step - loss: 4.0339 - accuracy: 0.2045\n",
      "Epoch 27/50\n",
      "484/484 [==============================] - 6s 12ms/step - loss: 3.9307 - accuracy: 0.2206\n",
      "Epoch 28/50\n",
      "484/484 [==============================] - 6s 13ms/step - loss: 3.8275 - accuracy: 0.2375\n",
      "Epoch 29/50\n",
      "484/484 [==============================] - 7s 14ms/step - loss: 3.7297 - accuracy: 0.2607\n",
      "Epoch 30/50\n",
      "484/484 [==============================] - 7s 14ms/step - loss: 3.6358 - accuracy: 0.2725\n",
      "Epoch 31/50\n",
      "484/484 [==============================] - 7s 13ms/step - loss: 3.5436 - accuracy: 0.2966\n",
      "Epoch 32/50\n",
      "484/484 [==============================] - 6s 13ms/step - loss: 3.4427 - accuracy: 0.3171\n",
      "Epoch 33/50\n",
      "484/484 [==============================] - 7s 14ms/step - loss: 3.3724 - accuracy: 0.3339\n",
      "Epoch 34/50\n",
      "484/484 [==============================] - 7s 14ms/step - loss: 3.2801 - accuracy: 0.3484\n",
      "Epoch 35/50\n",
      "484/484 [==============================] - 7s 14ms/step - loss: 3.2025 - accuracy: 0.3679\n",
      "Epoch 36/50\n",
      "484/484 [==============================] - 7s 13ms/step - loss: 3.1201 - accuracy: 0.3883\n",
      "Epoch 37/50\n",
      "484/484 [==============================] - 6s 12ms/step - loss: 3.0523 - accuracy: 0.3992\n",
      "Epoch 38/50\n",
      "484/484 [==============================] - 6s 13ms/step - loss: 2.9743 - accuracy: 0.4177\n",
      "Epoch 39/50\n",
      "484/484 [==============================] - 7s 14ms/step - loss: 2.8957 - accuracy: 0.4368\n",
      "Epoch 40/50\n",
      "484/484 [==============================] - 7s 14ms/step - loss: 2.8334 - accuracy: 0.4486\n",
      "Epoch 41/50\n",
      "484/484 [==============================] - 7s 14ms/step - loss: 2.7698 - accuracy: 0.4624\n",
      "Epoch 42/50\n",
      "484/484 [==============================] - 6s 13ms/step - loss: 2.7160 - accuracy: 0.4749\n",
      "Epoch 43/50\n",
      "484/484 [==============================] - 6s 13ms/step - loss: 2.6527 - accuracy: 0.4923\n",
      "Epoch 44/50\n",
      "484/484 [==============================] - 7s 14ms/step - loss: 2.5896 - accuracy: 0.5034\n",
      "Epoch 45/50\n",
      "484/484 [==============================] - 7s 15ms/step - loss: 2.5364 - accuracy: 0.5196\n",
      "Epoch 46/50\n",
      "484/484 [==============================] - 7s 14ms/step - loss: 2.4922 - accuracy: 0.5256\n",
      "Epoch 47/50\n",
      "484/484 [==============================] - 6s 13ms/step - loss: 2.4239 - accuracy: 0.5457\n",
      "Epoch 48/50\n",
      "484/484 [==============================] - 6s 12ms/step - loss: 2.3752 - accuracy: 0.5558\n",
      "Epoch 49/50\n",
      "484/484 [==============================] - 6s 12ms/step - loss: 2.3262 - accuracy: 0.5634\n",
      "Epoch 50/50\n",
      "484/484 [==============================] - 6s 13ms/step - loss: 2.2734 - accuracy: 0.5759\n"
     ]
    }
   ],
   "source": [
    "# Your code here :\n",
    "history = model.fit(X, y, epochs=50)"
   ]
  },
  {
   "cell_type": "code",
   "execution_count": 18,
   "metadata": {},
   "outputs": [],
   "source": [
    "# Save model\n",
    "model.save('shakespeare_text_generator_model.keras')"
   ]
  },
  {
   "cell_type": "markdown",
   "metadata": {},
   "source": [
    "# Use plt from matplotlib to plot the training accuracy over epochs and the loss over epochs"
   ]
  },
  {
   "cell_type": "markdown",
   "metadata": {},
   "source": [
    "First you will have to get the accuracy and loss data over epochs, you can do this by using methods on your model."
   ]
  },
  {
   "cell_type": "code",
   "execution_count": 21,
   "metadata": {
    "id": "1fXTEO3GJ282",
    "tags": []
   },
   "outputs": [
    {
     "data": {
      "image/png": "[encoded data removed]",
      "text/plain": [
       "<Figure size 640x480 with 1 Axes>"
      ]
     },
     "metadata": {},
     "output_type": "display_data"
    },
    {
     "data": {
      "image/png": "[encoded data removed]",
      "text/plain": [
       "<Figure size 640x480 with 1 Axes>"
      ]
     },
     "metadata": {},
     "output_type": "display_data"
    }
   ],
   "source": [
    "# Your code here :\n",
    "\n",
    "# Plot training accuracy\n",
    "plt.plot(history.history['loss'])\n",
    "plt.title('Model Loss')\n",
    "plt.ylabel('Loss')\n",
    "plt.xlabel('Epoch')\n",
    "plt.legend(['Train'], loc='upper right')\n",
    "plt.show()\n",
    "\n",
    "# plot loss accuracy\n",
    "plt.plot(history.history['accuracy'])\n",
    "plt.title('Model Accuracy')\n",
    "plt.ylabel('Accuracy')\n",
    "plt.xlabel('Epoch')\n",
    "plt.legend(['Train'], loc='upper left')\n",
    "plt.show()\n"
   ]
  },
  {
   "cell_type": "markdown",
   "metadata": {},
   "source": [
    "# Generate text with the model based on a seed text\n",
    "\n",
    "Now you will create two variables :\n",
    "\n",
    "- seed_text = 'Write the text you want the model to use as a starting point to generate the next words'\n",
    "- next_words = number_of_words_you_want_the_model_to_generate\n",
    "\n",
    "Please change number_of_words_you_want_the_model_to_generate by an actual integer."
   ]
  },
  {
   "cell_type": "code",
   "execution_count": 28,
   "metadata": {},
   "outputs": [],
   "source": [
    "# Your code here :\n",
    "\n",
    "# define seed and next words\n",
    "seed_text = \"this morning, Romeo was\"\n",
    "next_words = 50\n"
   ]
  },
  {
   "cell_type": "markdown",
   "metadata": {},
   "source": [
    "Now create a loop that runs based on the next_words variable and generates new text based on your seed_text input string. Print the full text with the generated text at the end.\n",
    "\n",
    "This time you dont get detailed instructions.\n",
    "\n",
    "Have fun!"
   ]
  },
  {
   "cell_type": "code",
   "execution_count": 44,
   "metadata": {
    "id": "6Vc6PHgxa6Hm",
    "tags": []
   },
   "outputs": [
    {
     "name": "stdout",
     "output_type": "stream",
     "text": [
      "this morning, Romeo was to\n",
      "this morning, Romeo was to thee\n",
      "this morning, Romeo was to thee i\n",
      "this morning, Romeo was to thee i am\n",
      "this morning, Romeo was to thee i am thought\n",
      "this morning, Romeo was to thee i am thought i\n",
      "this morning, Romeo was to thee i am thought i call\n",
      "this morning, Romeo was to thee i am thought i call it\n",
      "this morning, Romeo was to thee i am thought i call it pity\n",
      "this morning, Romeo was to thee i am thought i call it pity such\n",
      "this morning, Romeo was to thee i am thought i call it pity such look\n",
      "this morning, Romeo was to thee i am thought i call it pity such look what\n",
      "this morning, Romeo was to thee i am thought i call it pity such look what untrue\n",
      "this morning, Romeo was to thee i am thought i call it pity such look what untrue still\n",
      "this morning, Romeo was to thee i am thought i call it pity such look what untrue still be\n",
      "this morning, Romeo was to thee i am thought i call it pity such look what untrue still be ill\n",
      "this morning, Romeo was to thee i am thought i call it pity such look what untrue still be ill green\n",
      "this morning, Romeo was to thee i am thought i call it pity such look what untrue still be ill green thine\n",
      "this morning, Romeo was to thee i am thought i call it pity such look what untrue still be ill green thine bright\n",
      "this morning, Romeo was to thee i am thought i call it pity such look what untrue still be ill green thine bright bright\n",
      "this morning, Romeo was to thee i am thought i call it pity such look what untrue still be ill green thine bright bright new\n",
      "this morning, Romeo was to thee i am thought i call it pity such look what untrue still be ill green thine bright bright new viewest\n",
      "this morning, Romeo was to thee i am thought i call it pity such look what untrue still be ill green thine bright bright new viewest cherish\n",
      "this morning, Romeo was to thee i am thought i call it pity such look what untrue still be ill green thine bright bright new viewest cherish here\n",
      "this morning, Romeo was to thee i am thought i call it pity such look what untrue still be ill green thine bright bright new viewest cherish here new\n",
      "this morning, Romeo was to thee i am thought i call it pity such look what untrue still be ill green thine bright bright new viewest cherish here new bad\n",
      "this morning, Romeo was to thee i am thought i call it pity such look what untrue still be ill green thine bright bright new viewest cherish here new bad o'er\n",
      "this morning, Romeo was to thee i am thought i call it pity such look what untrue still be ill green thine bright bright new viewest cherish here new bad o'er deeds\n",
      "this morning, Romeo was to thee i am thought i call it pity such look what untrue still be ill green thine bright bright new viewest cherish here new bad o'er deeds of\n",
      "this morning, Romeo was to thee i am thought i call it pity such look what untrue still be ill green thine bright bright new viewest cherish here new bad o'er deeds of youth\n",
      "this morning, Romeo was to thee i am thought i call it pity such look what untrue still be ill green thine bright bright new viewest cherish here new bad o'er deeds of youth of\n",
      "this morning, Romeo was to thee i am thought i call it pity such look what untrue still be ill green thine bright bright new viewest cherish here new bad o'er deeds of youth of thine\n",
      "this morning, Romeo was to thee i am thought i call it pity such look what untrue still be ill green thine bright bright new viewest cherish here new bad o'er deeds of youth of thine '\n",
      "this morning, Romeo was to thee i am thought i call it pity such look what untrue still be ill green thine bright bright new viewest cherish here new bad o'er deeds of youth of thine ' how\n",
      "this morning, Romeo was to thee i am thought i call it pity such look what untrue still be ill green thine bright bright new viewest cherish here new bad o'er deeds of youth of thine ' how for\n",
      "this morning, Romeo was to thee i am thought i call it pity such look what untrue still be ill green thine bright bright new viewest cherish here new bad o'er deeds of youth of thine ' how for you\n",
      "this morning, Romeo was to thee i am thought i call it pity such look what untrue still be ill green thine bright bright new viewest cherish here new bad o'er deeds of youth of thine ' how for you look\n",
      "this morning, Romeo was to thee i am thought i call it pity such look what untrue still be ill green thine bright bright new viewest cherish here new bad o'er deeds of youth of thine ' how for you look so\n",
      "this morning, Romeo was to thee i am thought i call it pity such look what untrue still be ill green thine bright bright new viewest cherish here new bad o'er deeds of youth of thine ' how for you look so see\n",
      "this morning, Romeo was to thee i am thought i call it pity such look what untrue still be ill green thine bright bright new viewest cherish here new bad o'er deeds of youth of thine ' how for you look so see me\n",
      "this morning, Romeo was to thee i am thought i call it pity such look what untrue still be ill green thine bright bright new viewest cherish here new bad o'er deeds of youth of thine ' how for you look so see me so\n",
      "this morning, Romeo was to thee i am thought i call it pity such look what untrue still be ill green thine bright bright new viewest cherish here new bad o'er deeds of youth of thine ' how for you look so see me so great\n",
      "this morning, Romeo was to thee i am thought i call it pity such look what untrue still be ill green thine bright bright new viewest cherish here new bad o'er deeds of youth of thine ' how for you look so see me so great twain\n",
      "this morning, Romeo was to thee i am thought i call it pity such look what untrue still be ill green thine bright bright new viewest cherish here new bad o'er deeds of youth of thine ' how for you look so see me so great twain free\n",
      "this morning, Romeo was to thee i am thought i call it pity such look what untrue still be ill green thine bright bright new viewest cherish here new bad o'er deeds of youth of thine ' how for you look so see me so great twain free free\n",
      "this morning, Romeo was to thee i am thought i call it pity such look what untrue still be ill green thine bright bright new viewest cherish here new bad o'er deeds of youth of thine ' how for you look so see me so great twain free free free\n",
      "this morning, Romeo was to thee i am thought i call it pity such look what untrue still be ill green thine bright bright new viewest cherish here new bad o'er deeds of youth of thine ' how for you look so see me so great twain free free free done\n",
      "this morning, Romeo was to thee i am thought i call it pity such look what untrue still be ill green thine bright bright new viewest cherish here new bad o'er deeds of youth of thine ' how for you look so see me so great twain free free free done alone\n",
      "this morning, Romeo was to thee i am thought i call it pity such look what untrue still be ill green thine bright bright new viewest cherish here new bad o'er deeds of youth of thine ' how for you look so see me so great twain free free free done alone should\n",
      "this morning, Romeo was to thee i am thought i call it pity such look what untrue still be ill green thine bright bright new viewest cherish here new bad o'er deeds of youth of thine ' how for you look so see me so great twain free free free done alone should see\n"
     ]
    }
   ],
   "source": [
    "# Your code here :\n",
    "\n",
    "def generate_text(model, seed_text, next_words):\n",
    "    for _ in range(next_words):\n",
    "\n",
    "        # tokenize seed text\n",
    "        token_list = tokenizer.texts_to_sequences([seed_text])[0]\n",
    "\n",
    "        # pad tokenized seed\n",
    "        token_list = pad_sequences([token_list], maxlen=max_sequence_len-1, padding='pre')\n",
    "\n",
    "        # predict the next word\n",
    "        predicted = model.predict(token_list, verbose=0)\n",
    "\n",
    "        # chose the word with the highest probability\n",
    "        predicted_word_index = np.argmax(predicted, axis=-1)[0]\n",
    "\n",
    "        # get the corresponding word\n",
    "        output_word = \"\"\n",
    "        for word, index in tokenizer.word_index.items():\n",
    "            if index == predicted_word_index:\n",
    "                output_word = word\n",
    "                break\n",
    "\n",
    "        # append predicted word to the seed text\n",
    "        seed_text += \" \" + output_word\n",
    "\n",
    "        print(seed_text)\n",
    "\n",
    "seed_text = \"this morning, Romeo was\"\n",
    "next_words = 50\n",
    "\n",
    "generate_text(model, seed_text, next_words)"
   ]
  },
  {
   "cell_type": "markdown",
   "metadata": {},
   "source": [
    "Experiment with at least 3 different seed_text strings and see what happens!"
   ]
  },
  {
   "cell_type": "code",
   "execution_count": 31,
   "metadata": {},
   "outputs": [
    {
     "name": "stdout",
     "output_type": "stream",
     "text": [
      "And then Alex the\n",
      "And then Alex the world\n",
      "And then Alex the world do\n",
      "And then Alex the world do i\n",
      "And then Alex the world do i have\n",
      "And then Alex the world do i have betray\n",
      "And then Alex the world do i have betray decease\n",
      "And then Alex the world do i have betray decease torn\n",
      "And then Alex the world do i have betray decease torn torn\n",
      "And then Alex the world do i have betray decease torn torn brought\n",
      "And then Alex the world do i have betray decease torn torn brought to\n",
      "And then Alex the world do i have betray decease torn torn brought to loss\n",
      "And then Alex the world do i have betray decease torn torn brought to loss it\n",
      "And then Alex the world do i have betray decease torn torn brought to loss it still\n",
      "And then Alex the world do i have betray decease torn torn brought to loss it still none\n",
      "And then Alex the world do i have betray decease torn torn brought to loss it still none 'will\n",
      "And then Alex the world do i have betray decease torn torn brought to loss it still none 'will '\n",
      "And then Alex the world do i have betray decease torn torn brought to loss it still none 'will ' might\n",
      "And then Alex the world do i have betray decease torn torn brought to loss it still none 'will ' might 'tis\n",
      "And then Alex the world do i have betray decease torn torn brought to loss it still none 'will ' might 'tis not\n"
     ]
    }
   ],
   "source": [
    "# Your code here :\n",
    "seed_text = \"And then Alex\"\n",
    "next_words = 20\n",
    "\n",
    "generate_text(seed_text, next_words)"
   ]
  },
  {
   "cell_type": "code",
   "execution_count": 32,
   "metadata": {},
   "outputs": [
    {
     "name": "stdout",
     "output_type": "stream",
     "text": [
      "I could not believe that not\n",
      "I could not believe that not for\n",
      "I could not believe that not for my\n",
      "I could not believe that not for my dear\n",
      "I could not believe that not for my dear state\n",
      "I could not believe that not for my dear state new\n",
      "I could not believe that not for my dear state new bright\n",
      "I could not believe that not for my dear state new bright friend\n",
      "I could not believe that not for my dear state new bright friend grow\n",
      "I could not believe that not for my dear state new bright friend grow wide\n",
      "I could not believe that not for my dear state new bright friend grow wide face\n",
      "I could not believe that not for my dear state new bright friend grow wide face hour\n",
      "I could not believe that not for my dear state new bright friend grow wide face hour '\n",
      "I could not believe that not for my dear state new bright friend grow wide face hour ' alone\n",
      "I could not believe that not for my dear state new bright friend grow wide face hour ' alone are\n",
      "I could not believe that not for my dear state new bright friend grow wide face hour ' alone are much\n",
      "I could not believe that not for my dear state new bright friend grow wide face hour ' alone are much gone\n",
      "I could not believe that not for my dear state new bright friend grow wide face hour ' alone are much gone by\n",
      "I could not believe that not for my dear state new bright friend grow wide face hour ' alone are much gone by find\n",
      "I could not believe that not for my dear state new bright friend grow wide face hour ' alone are much gone by find room\n"
     ]
    }
   ],
   "source": [
    "# Your code here :\n",
    "seed_text = \"I could not believe that\"\n",
    "next_words = 20\n",
    "\n",
    "generate_text(seed_text, next_words)"
   ]
  },
  {
   "cell_type": "code",
   "execution_count": 33,
   "metadata": {},
   "outputs": [
    {
     "name": "stdout",
     "output_type": "stream",
     "text": [
      "The reason why I hate you is that delight\n",
      "The reason why I hate you is that delight rage\n",
      "The reason why I hate you is that delight rage hour\n",
      "The reason why I hate you is that delight rage hour survey\n",
      "The reason why I hate you is that delight rage hour survey rehearse\n",
      "The reason why I hate you is that delight rage hour survey rehearse rare\n",
      "The reason why I hate you is that delight rage hour survey rehearse rare 'no\n",
      "The reason why I hate you is that delight rage hour survey rehearse rare 'no '\n",
      "The reason why I hate you is that delight rage hour survey rehearse rare 'no ' 'tis\n",
      "The reason why I hate you is that delight rage hour survey rehearse rare 'no ' 'tis bright\n",
      "The reason why I hate you is that delight rage hour survey rehearse rare 'no ' 'tis bright shade\n",
      "The reason why I hate you is that delight rage hour survey rehearse rare 'no ' 'tis bright shade so\n",
      "The reason why I hate you is that delight rage hour survey rehearse rare 'no ' 'tis bright shade so deem'd\n",
      "The reason why I hate you is that delight rage hour survey rehearse rare 'no ' 'tis bright shade so deem'd so\n",
      "The reason why I hate you is that delight rage hour survey rehearse rare 'no ' 'tis bright shade so deem'd so small\n",
      "The reason why I hate you is that delight rage hour survey rehearse rare 'no ' 'tis bright shade so deem'd so small part\n",
      "The reason why I hate you is that delight rage hour survey rehearse rare 'no ' 'tis bright shade so deem'd so small part are\n",
      "The reason why I hate you is that delight rage hour survey rehearse rare 'no ' 'tis bright shade so deem'd so small part are '\n",
      "The reason why I hate you is that delight rage hour survey rehearse rare 'no ' 'tis bright shade so deem'd so small part are ' long\n",
      "The reason why I hate you is that delight rage hour survey rehearse rare 'no ' 'tis bright shade so deem'd so small part are ' long respect\n"
     ]
    }
   ],
   "source": [
    "# Your code here :\n",
    "seed_text = \"The reason why I hate you is that\"\n",
    "next_words = 20\n",
    "\n",
    "generate_text(seed_text, next_words)"
   ]
  },
  {
   "cell_type": "markdown",
   "metadata": {},
   "source": [
    "## Extra: Improve model"
   ]
  },
  {
   "cell_type": "code",
   "execution_count": 41,
   "metadata": {},
   "outputs": [
    {
     "name": "stdout",
     "output_type": "stream",
     "text": [
      "Epoch 1/100\n",
      "388/388 [==============================] - 18s 32ms/step - loss: 6.9621 - accuracy: 0.0232 - val_loss: 6.8017 - val_accuracy: 0.0200\n",
      "Epoch 2/100\n",
      "388/388 [==============================] - 6s 15ms/step - loss: 6.4927 - accuracy: 0.0255 - val_loss: 6.8677 - val_accuracy: 0.0165\n",
      "Epoch 3/100\n",
      "388/388 [==============================] - 6s 16ms/step - loss: 6.3988 - accuracy: 0.0244 - val_loss: 6.9650 - val_accuracy: 0.0171\n",
      "Epoch 4/100\n",
      "388/388 [==============================] - 7s 17ms/step - loss: 6.2922 - accuracy: 0.0296 - val_loss: 7.0978 - val_accuracy: 0.0245\n",
      "Epoch 5/100\n",
      "388/388 [==============================] - 6s 16ms/step - loss: 6.1802 - accuracy: 0.0375 - val_loss: 7.1588 - val_accuracy: 0.0236\n",
      "Epoch 6/100\n",
      "388/388 [==============================] - 6s 16ms/step - loss: 6.0882 - accuracy: 0.0404 - val_loss: 7.4771 - val_accuracy: 0.0229\n",
      "Epoch 7/100\n",
      "388/388 [==============================] - 6s 16ms/step - loss: 6.0116 - accuracy: 0.0426 - val_loss: 7.4875 - val_accuracy: 0.0252\n",
      "Epoch 8/100\n",
      "388/388 [==============================] - 6s 14ms/step - loss: 5.9394 - accuracy: 0.0434 - val_loss: 7.5955 - val_accuracy: 0.0245\n",
      "Epoch 9/100\n",
      "388/388 [==============================] - 6s 15ms/step - loss: 5.8649 - accuracy: 0.0479 - val_loss: 7.8860 - val_accuracy: 0.0268\n",
      "Epoch 10/100\n",
      "388/388 [==============================] - 6s 16ms/step - loss: 5.7875 - accuracy: 0.0504 - val_loss: 7.7916 - val_accuracy: 0.0268\n",
      "Epoch 11/100\n",
      "388/388 [==============================] - 6s 16ms/step - loss: 5.6953 - accuracy: 0.0575 - val_loss: 8.0285 - val_accuracy: 0.0313\n",
      "Epoch 12/100\n",
      "388/388 [==============================] - 6s 15ms/step - loss: 5.5961 - accuracy: 0.0604 - val_loss: 8.2555 - val_accuracy: 0.0362\n",
      "Epoch 13/100\n",
      "388/388 [==============================] - 6s 16ms/step - loss: 5.4895 - accuracy: 0.0667 - val_loss: 8.3605 - val_accuracy: 0.0362\n",
      "Epoch 14/100\n",
      "388/388 [==============================] - 6s 16ms/step - loss: 5.3819 - accuracy: 0.0756 - val_loss: 8.4276 - val_accuracy: 0.0349\n",
      "Epoch 15/100\n",
      "388/388 [==============================] - 6s 17ms/step - loss: 5.2690 - accuracy: 0.0802 - val_loss: 8.7491 - val_accuracy: 0.0384\n",
      "Epoch 16/100\n",
      "388/388 [==============================] - 7s 18ms/step - loss: 5.1537 - accuracy: 0.0878 - val_loss: 8.8785 - val_accuracy: 0.0391\n",
      "Epoch 17/100\n",
      "388/388 [==============================] - 6s 16ms/step - loss: 5.0337 - accuracy: 0.0976 - val_loss: 9.1288 - val_accuracy: 0.0355\n",
      "Epoch 18/100\n",
      "388/388 [==============================] - 6s 16ms/step - loss: 4.9220 - accuracy: 0.1070 - val_loss: 9.1110 - val_accuracy: 0.0391\n",
      "Epoch 19/100\n",
      "388/388 [==============================] - 6s 15ms/step - loss: 4.8120 - accuracy: 0.1138 - val_loss: 9.4869 - val_accuracy: 0.0365\n",
      "Epoch 20/100\n",
      "388/388 [==============================] - 6s 15ms/step - loss: 4.7008 - accuracy: 0.1226 - val_loss: 10.0490 - val_accuracy: 0.0404\n",
      "Epoch 21/100\n",
      "388/388 [==============================] - 6s 16ms/step - loss: 4.5842 - accuracy: 0.1358 - val_loss: 10.1029 - val_accuracy: 0.0349\n",
      "Epoch 22/100\n",
      "388/388 [==============================] - 6s 16ms/step - loss: 4.4717 - accuracy: 0.1459 - val_loss: 10.6764 - val_accuracy: 0.0378\n",
      "Epoch 23/100\n",
      "388/388 [==============================] - 6s 16ms/step - loss: 4.3735 - accuracy: 0.1579 - val_loss: 10.9336 - val_accuracy: 0.0378\n",
      "Epoch 24/100\n",
      "388/388 [==============================] - 6s 15ms/step - loss: 4.2575 - accuracy: 0.1708 - val_loss: 11.3672 - val_accuracy: 0.0339\n",
      "Epoch 25/100\n",
      "388/388 [==============================] - 6s 16ms/step - loss: 4.1486 - accuracy: 0.1845 - val_loss: 11.5041 - val_accuracy: 0.0387\n",
      "Epoch 26/100\n",
      "388/388 [==============================] - 6s 16ms/step - loss: 4.0257 - accuracy: 0.1979 - val_loss: 12.1010 - val_accuracy: 0.0358\n",
      "Epoch 27/100\n",
      "388/388 [==============================] - 6s 16ms/step - loss: 3.9315 - accuracy: 0.2102 - val_loss: 12.5391 - val_accuracy: 0.0371\n",
      "Epoch 28/100\n",
      "388/388 [==============================] - 6s 15ms/step - loss: 3.8235 - accuracy: 0.2325 - val_loss: 13.1961 - val_accuracy: 0.0336\n",
      "Epoch 29/100\n",
      "388/388 [==============================] - 6s 15ms/step - loss: 3.7178 - accuracy: 0.2497 - val_loss: 13.4267 - val_accuracy: 0.0329\n",
      "Epoch 30/100\n",
      "388/388 [==============================] - 6s 15ms/step - loss: 3.6189 - accuracy: 0.2710 - val_loss: 14.1196 - val_accuracy: 0.0349\n",
      "Epoch 31/100\n",
      "388/388 [==============================] - 6s 16ms/step - loss: 3.5152 - accuracy: 0.2884 - val_loss: 14.4054 - val_accuracy: 0.0313\n",
      "Epoch 32/100\n",
      "388/388 [==============================] - 6s 16ms/step - loss: 3.4093 - accuracy: 0.3123 - val_loss: 14.9396 - val_accuracy: 0.0294\n",
      "Epoch 33/100\n",
      "388/388 [==============================] - 6s 16ms/step - loss: 3.3257 - accuracy: 0.3349 - val_loss: 15.2076 - val_accuracy: 0.0323\n",
      "Epoch 34/100\n",
      "388/388 [==============================] - 6s 14ms/step - loss: 3.2396 - accuracy: 0.3495 - val_loss: 15.3642 - val_accuracy: 0.0313\n",
      "Epoch 35/100\n",
      "388/388 [==============================] - 6s 15ms/step - loss: 3.1672 - accuracy: 0.3679 - val_loss: 16.0005 - val_accuracy: 0.0345\n",
      "Epoch 36/100\n",
      "388/388 [==============================] - 6s 15ms/step - loss: 3.0586 - accuracy: 0.3950 - val_loss: 16.1493 - val_accuracy: 0.0294\n",
      "Epoch 37/100\n",
      "388/388 [==============================] - 6s 16ms/step - loss: 2.9850 - accuracy: 0.4072 - val_loss: 16.8252 - val_accuracy: 0.0323\n",
      "Epoch 38/100\n",
      "388/388 [==============================] - 6s 17ms/step - loss: 2.8985 - accuracy: 0.4338 - val_loss: 16.9793 - val_accuracy: 0.0323\n",
      "Epoch 39/100\n",
      "388/388 [==============================] - 6s 16ms/step - loss: 2.8240 - accuracy: 0.4475 - val_loss: 17.3381 - val_accuracy: 0.0284\n",
      "Epoch 40/100\n",
      "388/388 [==============================] - 6s 16ms/step - loss: 2.7448 - accuracy: 0.4686 - val_loss: 17.7424 - val_accuracy: 0.0320\n",
      "Epoch 41/100\n",
      "388/388 [==============================] - 5s 14ms/step - loss: 2.6680 - accuracy: 0.4834 - val_loss: 17.8755 - val_accuracy: 0.0262\n",
      "Epoch 42/100\n",
      "388/388 [==============================] - 6s 15ms/step - loss: 2.6051 - accuracy: 0.5016 - val_loss: 18.1682 - val_accuracy: 0.0313\n",
      "Epoch 43/100\n",
      "388/388 [==============================] - 6s 16ms/step - loss: 2.5346 - accuracy: 0.5159 - val_loss: 18.1638 - val_accuracy: 0.0242\n",
      "Epoch 44/100\n",
      "388/388 [==============================] - 6s 15ms/step - loss: 2.4803 - accuracy: 0.5268 - val_loss: 18.3972 - val_accuracy: 0.0326\n",
      "Epoch 45/100\n",
      "388/388 [==============================] - 6s 15ms/step - loss: 2.4133 - accuracy: 0.5493 - val_loss: 18.7249 - val_accuracy: 0.0291\n",
      "Epoch 46/100\n",
      "388/388 [==============================] - 6s 15ms/step - loss: 2.3623 - accuracy: 0.5543 - val_loss: 19.2669 - val_accuracy: 0.0300\n",
      "Epoch 47/100\n",
      "388/388 [==============================] - 6s 15ms/step - loss: 2.3055 - accuracy: 0.5747 - val_loss: 18.8510 - val_accuracy: 0.0281\n",
      "Epoch 48/100\n",
      "388/388 [==============================] - 6s 14ms/step - loss: 2.2395 - accuracy: 0.5865 - val_loss: 19.1688 - val_accuracy: 0.0258\n",
      "Epoch 49/100\n",
      "388/388 [==============================] - 6s 16ms/step - loss: 2.2016 - accuracy: 0.5928 - val_loss: 19.5752 - val_accuracy: 0.0236\n",
      "Epoch 50/100\n",
      "388/388 [==============================] - 6s 16ms/step - loss: 2.1517 - accuracy: 0.6045 - val_loss: 19.5952 - val_accuracy: 0.0258\n",
      "Epoch 51/100\n",
      "388/388 [==============================] - 6s 15ms/step - loss: 2.0845 - accuracy: 0.6232 - val_loss: 19.7475 - val_accuracy: 0.0274\n",
      "Epoch 52/100\n",
      "388/388 [==============================] - 6s 16ms/step - loss: 2.0312 - accuracy: 0.6319 - val_loss: 19.7329 - val_accuracy: 0.0271\n",
      "Epoch 53/100\n",
      "388/388 [==============================] - 6s 16ms/step - loss: 2.0004 - accuracy: 0.6384 - val_loss: 20.0376 - val_accuracy: 0.0262\n",
      "Epoch 54/100\n",
      "388/388 [==============================] - 7s 17ms/step - loss: 1.9627 - accuracy: 0.6457 - val_loss: 20.0759 - val_accuracy: 0.0265\n",
      "Epoch 55/100\n",
      "388/388 [==============================] - 6s 15ms/step - loss: 1.9198 - accuracy: 0.6554 - val_loss: 20.0589 - val_accuracy: 0.0258\n",
      "Epoch 56/100\n",
      "388/388 [==============================] - 6s 15ms/step - loss: 1.8640 - accuracy: 0.6708 - val_loss: 20.3097 - val_accuracy: 0.0200\n",
      "Epoch 57/100\n",
      "388/388 [==============================] - 6s 15ms/step - loss: 1.8357 - accuracy: 0.6743 - val_loss: 20.3023 - val_accuracy: 0.0278\n",
      "Epoch 58/100\n",
      "388/388 [==============================] - 6s 16ms/step - loss: 1.7988 - accuracy: 0.6837 - val_loss: 20.5413 - val_accuracy: 0.0232\n",
      "Epoch 59/100\n",
      "388/388 [==============================] - 7s 17ms/step - loss: 1.7699 - accuracy: 0.6886 - val_loss: 20.4362 - val_accuracy: 0.0242\n",
      "Epoch 60/100\n",
      "388/388 [==============================] - 6s 16ms/step - loss: 1.7294 - accuracy: 0.6984 - val_loss: 20.7274 - val_accuracy: 0.0252\n",
      "Epoch 61/100\n",
      "388/388 [==============================] - 5s 14ms/step - loss: 1.6885 - accuracy: 0.7086 - val_loss: 20.7101 - val_accuracy: 0.0249\n",
      "Epoch 62/100\n",
      "388/388 [==============================] - 5s 14ms/step - loss: 1.6752 - accuracy: 0.7086 - val_loss: 20.6816 - val_accuracy: 0.0229\n",
      "Epoch 63/100\n",
      "388/388 [==============================] - 6s 15ms/step - loss: 1.6368 - accuracy: 0.7162 - val_loss: 20.7156 - val_accuracy: 0.0249\n",
      "Epoch 64/100\n",
      "388/388 [==============================] - 6s 16ms/step - loss: 1.6200 - accuracy: 0.7190 - val_loss: 20.7853 - val_accuracy: 0.0236\n",
      "Epoch 65/100\n",
      "388/388 [==============================] - 6s 16ms/step - loss: 1.5810 - accuracy: 0.7252 - val_loss: 20.7615 - val_accuracy: 0.0252\n",
      "Epoch 66/100\n",
      "388/388 [==============================] - 6s 15ms/step - loss: 1.5427 - accuracy: 0.7311 - val_loss: 20.8603 - val_accuracy: 0.0242\n",
      "Epoch 67/100\n",
      "388/388 [==============================] - 6s 15ms/step - loss: 1.5201 - accuracy: 0.7392 - val_loss: 20.7297 - val_accuracy: 0.0265\n",
      "Epoch 68/100\n",
      "388/388 [==============================] - 6s 15ms/step - loss: 1.4983 - accuracy: 0.7429 - val_loss: 21.0713 - val_accuracy: 0.0271\n",
      "Epoch 69/100\n",
      "388/388 [==============================] - 6s 16ms/step - loss: 1.4957 - accuracy: 0.7427 - val_loss: 20.9215 - val_accuracy: 0.0262\n",
      "Epoch 70/100\n",
      "388/388 [==============================] - 6s 17ms/step - loss: 1.4579 - accuracy: 0.7535 - val_loss: 21.0344 - val_accuracy: 0.0245\n",
      "Epoch 71/100\n",
      "388/388 [==============================] - 6s 16ms/step - loss: 1.4284 - accuracy: 0.7560 - val_loss: 20.9092 - val_accuracy: 0.0268\n",
      "Epoch 72/100\n",
      "388/388 [==============================] - 6s 16ms/step - loss: 1.4155 - accuracy: 0.7602 - val_loss: 20.9576 - val_accuracy: 0.0245\n",
      "Epoch 73/100\n",
      "388/388 [==============================] - 6s 15ms/step - loss: 1.3940 - accuracy: 0.7629 - val_loss: 21.0253 - val_accuracy: 0.0239\n",
      "Epoch 74/100\n",
      "388/388 [==============================] - 6s 15ms/step - loss: 1.3628 - accuracy: 0.7735 - val_loss: 21.0657 - val_accuracy: 0.0242\n",
      "Epoch 75/100\n",
      "388/388 [==============================] - 6s 15ms/step - loss: 1.3519 - accuracy: 0.7711 - val_loss: 21.0994 - val_accuracy: 0.0226\n",
      "Epoch 76/100\n",
      "388/388 [==============================] - 6s 16ms/step - loss: 1.3356 - accuracy: 0.7736 - val_loss: 20.9166 - val_accuracy: 0.0200\n",
      "Epoch 77/100\n",
      "388/388 [==============================] - 6s 15ms/step - loss: 1.3185 - accuracy: 0.7782 - val_loss: 21.1042 - val_accuracy: 0.0226\n",
      "Epoch 78/100\n",
      "388/388 [==============================] - 5s 14ms/step - loss: 1.2976 - accuracy: 0.7790 - val_loss: 20.9939 - val_accuracy: 0.0249\n",
      "Epoch 79/100\n",
      "388/388 [==============================] - 5s 14ms/step - loss: 1.2917 - accuracy: 0.7782 - val_loss: 20.9093 - val_accuracy: 0.0239\n",
      "Epoch 80/100\n",
      "388/388 [==============================] - 6s 14ms/step - loss: 1.2638 - accuracy: 0.7872 - val_loss: 20.8579 - val_accuracy: 0.0220\n",
      "Epoch 81/100\n",
      "388/388 [==============================] - 6s 15ms/step - loss: 1.2555 - accuracy: 0.7865 - val_loss: 20.8964 - val_accuracy: 0.0245\n",
      "Epoch 82/100\n",
      "388/388 [==============================] - 6s 16ms/step - loss: 1.2272 - accuracy: 0.7946 - val_loss: 20.8735 - val_accuracy: 0.0216\n",
      "Epoch 83/100\n",
      "388/388 [==============================] - 6s 16ms/step - loss: 1.2116 - accuracy: 0.7924 - val_loss: 20.8925 - val_accuracy: 0.0210\n",
      "Epoch 84/100\n",
      "388/388 [==============================] - 6s 15ms/step - loss: 1.2030 - accuracy: 0.7961 - val_loss: 20.9017 - val_accuracy: 0.0226\n",
      "Epoch 85/100\n",
      "388/388 [==============================] - 6s 15ms/step - loss: 1.1991 - accuracy: 0.7965 - val_loss: 20.9583 - val_accuracy: 0.0255\n",
      "Epoch 86/100\n",
      "388/388 [==============================] - 6s 16ms/step - loss: 1.1790 - accuracy: 0.7981 - val_loss: 21.0666 - val_accuracy: 0.0249\n",
      "Epoch 87/100\n",
      "388/388 [==============================] - 6s 15ms/step - loss: 1.1742 - accuracy: 0.7984 - val_loss: 20.8927 - val_accuracy: 0.0262\n",
      "Epoch 88/100\n",
      "388/388 [==============================] - 6s 15ms/step - loss: 1.1471 - accuracy: 0.8072 - val_loss: 21.0549 - val_accuracy: 0.0239\n",
      "Epoch 89/100\n",
      "388/388 [==============================] - 6s 16ms/step - loss: 1.1257 - accuracy: 0.8092 - val_loss: 21.0405 - val_accuracy: 0.0258\n",
      "Epoch 90/100\n",
      "388/388 [==============================] - 6s 15ms/step - loss: 1.1295 - accuracy: 0.8065 - val_loss: 20.9993 - val_accuracy: 0.0236\n",
      "Epoch 91/100\n",
      "388/388 [==============================] - 5s 14ms/step - loss: 1.1438 - accuracy: 0.8061 - val_loss: 20.9590 - val_accuracy: 0.0262\n",
      "Epoch 92/100\n",
      "388/388 [==============================] - 6s 15ms/step - loss: 1.1070 - accuracy: 0.8092 - val_loss: 20.8266 - val_accuracy: 0.0213\n",
      "Epoch 93/100\n",
      "388/388 [==============================] - 6s 16ms/step - loss: 1.0974 - accuracy: 0.8121 - val_loss: 21.1298 - val_accuracy: 0.0265\n",
      "Epoch 94/100\n",
      "388/388 [==============================] - 6s 16ms/step - loss: 1.0753 - accuracy: 0.8160 - val_loss: 21.0249 - val_accuracy: 0.0271\n",
      "Epoch 95/100\n",
      "388/388 [==============================] - 6s 16ms/step - loss: 1.0707 - accuracy: 0.8146 - val_loss: 21.0203 - val_accuracy: 0.0252\n",
      "Epoch 96/100\n",
      "388/388 [==============================] - 6s 15ms/step - loss: 1.0624 - accuracy: 0.8155 - val_loss: 20.9492 - val_accuracy: 0.0242\n",
      "Epoch 97/100\n",
      "388/388 [==============================] - 6s 15ms/step - loss: 1.0588 - accuracy: 0.8171 - val_loss: 20.8254 - val_accuracy: 0.0207\n",
      "Epoch 98/100\n",
      "388/388 [==============================] - 6s 15ms/step - loss: 1.0449 - accuracy: 0.8205 - val_loss: 20.9045 - val_accuracy: 0.0252\n",
      "Epoch 99/100\n",
      "388/388 [==============================] - 6s 15ms/step - loss: 1.0362 - accuracy: 0.8208 - val_loss: 20.9597 - val_accuracy: 0.0220\n",
      "Epoch 100/100\n",
      "388/388 [==============================] - 6s 15ms/step - loss: 1.0316 - accuracy: 0.8219 - val_loss: 20.7618 - val_accuracy: 0.0284\n"
     ]
    }
   ],
   "source": [
    "model2 = Sequential()\n",
    "\n",
    "model2.add(Embedding(input_dim=total_words, output_dim=100, input_length=max_sequence_len-1))\n",
    "model2.add(Bidirectional(LSTM(150, return_sequences=True)))\n",
    "model2.add(Dropout(0.2))\n",
    "model2.add(LSTM(100))\n",
    "model2.add(Dense(total_words // 2, activation='relu', kernel_regularizer=regularizers.l2(0.01)))\n",
    "model2.add(Dense(total_words, activation='softmax'))\n",
    "\n",
    "model2.compile(loss='categorical_crossentropy', optimizer='adam', metrics=['accuracy'])\n",
    "\n",
    "# Training with early stopping and validation split\n",
    "# early_stopping = EarlyStopping(monitor='val_loss', patience=10, restore_best_weights=True)\n",
    "history = model2.fit(X, y, epochs=100, validation_split=0.2)\n",
    "\n",
    "# save model\n",
    "model2.save(\"model2.keras\")\n"
   ]
  },
  {
   "cell_type": "code",
   "execution_count": 53,
   "metadata": {},
   "outputs": [
    {
     "data": {
      "image/png": "[encoded data removed]",
      "text/plain": [
       "<Figure size 640x480 with 1 Axes>"
      ]
     },
     "metadata": {},
     "output_type": "display_data"
    },
    {
     "data": {
      "image/png": "[encoded data removed]",
      "text/plain": [
       "<Figure size 640x480 with 1 Axes>"
      ]
     },
     "metadata": {},
     "output_type": "display_data"
    }
   ],
   "source": [
    "import matplotlib.pyplot as plt\n",
    "\n",
    "# Plot training & validation loss values\n",
    "plt.plot(history.history['loss'], label='Train Loss')\n",
    "plt.plot(history.history['val_loss'], label='Validation Loss')\n",
    "plt.title('Model Loss')\n",
    "plt.ylabel('Loss')\n",
    "plt.xlabel('Epoch')\n",
    "plt.legend(loc='upper right')\n",
    "plt.show()\n",
    "\n",
    "# Plot training & validation accuracy values\n",
    "plt.plot(history.history['accuracy'], label='Train Accuracy')\n",
    "plt.plot(history.history['val_accuracy'], label='Validation Accuracy')\n",
    "plt.title('Model Accuracy')\n",
    "plt.ylabel('Accuracy')\n",
    "plt.xlabel('Epoch')\n",
    "plt.legend(loc='upper left')\n",
    "plt.show()\n"
   ]
  },
  {
   "cell_type": "code",
   "execution_count": 52,
   "metadata": {},
   "outputs": [
    {
     "name": "stdout",
     "output_type": "stream",
     "text": [
      "On her dying bed, my late mom told me: quite\n",
      "On her dying bed, my late mom told me: quite friend\n",
      "On her dying bed, my late mom told me: quite friend young\n",
      "On her dying bed, my late mom told me: quite friend young day\n",
      "On her dying bed, my late mom told me: quite friend young day to\n",
      "On her dying bed, my late mom told me: quite friend young day to store\n",
      "On her dying bed, my late mom told me: quite friend young day to store me\n",
      "On her dying bed, my late mom told me: quite friend young day to store me purge\n",
      "On her dying bed, my late mom told me: quite friend young day to store me purge purge\n",
      "On her dying bed, my late mom told me: quite friend young day to store me purge purge lie\n",
      "On her dying bed, my late mom told me: quite friend young day to store me purge purge lie '\n",
      "On her dying bed, my late mom told me: quite friend young day to store me purge purge lie ' live\n",
      "On her dying bed, my late mom told me: quite friend young day to store me purge purge lie ' live had\n",
      "On her dying bed, my late mom told me: quite friend young day to store me purge purge lie ' live had had\n",
      "On her dying bed, my late mom told me: quite friend young day to store me purge purge lie ' live had had know\n",
      "On her dying bed, my late mom told me: quite friend young day to store me purge purge lie ' live had had know boast\n",
      "On her dying bed, my late mom told me: quite friend young day to store me purge purge lie ' live had had know boast that\n",
      "On her dying bed, my late mom told me: quite friend young day to store me purge purge lie ' live had had know boast that that\n",
      "On her dying bed, my late mom told me: quite friend young day to store me purge purge lie ' live had had know boast that that love\n",
      "On her dying bed, my late mom told me: quite friend young day to store me purge purge lie ' live had had know boast that that love her\n",
      "On her dying bed, my late mom told me: quite friend young day to store me purge purge lie ' live had had know boast that that love her a\n",
      "On her dying bed, my late mom told me: quite friend young day to store me purge purge lie ' live had had know boast that that love her a doting\n",
      "On her dying bed, my late mom told me: quite friend young day to store me purge purge lie ' live had had know boast that that love her a doting will\n",
      "On her dying bed, my late mom told me: quite friend young day to store me purge purge lie ' live had had know boast that that love her a doting will be\n",
      "On her dying bed, my late mom told me: quite friend young day to store me purge purge lie ' live had had know boast that that love her a doting will be store\n",
      "On her dying bed, my late mom told me: quite friend young day to store me purge purge lie ' live had had know boast that that love her a doting will be store me\n",
      "On her dying bed, my late mom told me: quite friend young day to store me purge purge lie ' live had had know boast that that love her a doting will be store me think\n",
      "On her dying bed, my late mom told me: quite friend young day to store me purge purge lie ' live had had know boast that that love her a doting will be store me think let\n",
      "On her dying bed, my late mom told me: quite friend young day to store me purge purge lie ' live had had know boast that that love her a doting will be store me think let store\n",
      "On her dying bed, my late mom told me: quite friend young day to store me purge purge lie ' live had had know boast that that love her a doting will be store me think let store prove\n",
      "On her dying bed, my late mom told me: quite friend young day to store me purge purge lie ' live had had know boast that that love her a doting will be store me think let store prove prove\n",
      "On her dying bed, my late mom told me: quite friend young day to store me purge purge lie ' live had had know boast that that love her a doting will be store me think let store prove prove none\n",
      "On her dying bed, my late mom told me: quite friend young day to store me purge purge lie ' live had had know boast that that love her a doting will be store me think let store prove prove none who\n",
      "On her dying bed, my late mom told me: quite friend young day to store me purge purge lie ' live had had know boast that that love her a doting will be store me think let store prove prove none who true\n",
      "On her dying bed, my late mom told me: quite friend young day to store me purge purge lie ' live had had know boast that that love her a doting will be store me think let store prove prove none who true remain\n",
      "On her dying bed, my late mom told me: quite friend young day to store me purge purge lie ' live had had know boast that that love her a doting will be store me think let store prove prove none who true remain '\n",
      "On her dying bed, my late mom told me: quite friend young day to store me purge purge lie ' live had had know boast that that love her a doting will be store me think let store prove prove none who true remain ' live\n",
      "On her dying bed, my late mom told me: quite friend young day to store me purge purge lie ' live had had know boast that that love her a doting will be store me think let store prove prove none who true remain ' live who\n",
      "On her dying bed, my late mom told me: quite friend young day to store me purge purge lie ' live had had know boast that that love her a doting will be store me think let store prove prove none who true remain ' live who '\n",
      "On her dying bed, my late mom told me: quite friend young day to store me purge purge lie ' live had had know boast that that love her a doting will be store me think let store prove prove none who true remain ' live who ' tender'd\n",
      "On her dying bed, my late mom told me: quite friend young day to store me purge purge lie ' live had had know boast that that love her a doting will be store me think let store prove prove none who true remain ' live who ' tender'd none\n",
      "On her dying bed, my late mom told me: quite friend young day to store me purge purge lie ' live had had know boast that that love her a doting will be store me think let store prove prove none who true remain ' live who ' tender'd none who\n",
      "On her dying bed, my late mom told me: quite friend young day to store me purge purge lie ' live had had know boast that that love her a doting will be store me think let store prove prove none who true remain ' live who ' tender'd none who are\n",
      "On her dying bed, my late mom told me: quite friend young day to store me purge purge lie ' live had had know boast that that love her a doting will be store me think let store prove prove none who true remain ' live who ' tender'd none who are both\n",
      "On her dying bed, my late mom told me: quite friend young day to store me purge purge lie ' live had had know boast that that love her a doting will be store me think let store prove prove none who true remain ' live who ' tender'd none who are both word\n",
      "On her dying bed, my late mom told me: quite friend young day to store me purge purge lie ' live had had know boast that that love her a doting will be store me think let store prove prove none who true remain ' live who ' tender'd none who are both word and\n",
      "On her dying bed, my late mom told me: quite friend young day to store me purge purge lie ' live had had know boast that that love her a doting will be store me think let store prove prove none who true remain ' live who ' tender'd none who are both word and increase\n",
      "On her dying bed, my late mom told me: quite friend young day to store me purge purge lie ' live had had know boast that that love her a doting will be store me think let store prove prove none who true remain ' live who ' tender'd none who are both word and increase oppress'd\n",
      "On her dying bed, my late mom told me: quite friend young day to store me purge purge lie ' live had had know boast that that love her a doting will be store me think let store prove prove none who true remain ' live who ' tender'd none who are both word and increase oppress'd so\n",
      "On her dying bed, my late mom told me: quite friend young day to store me purge purge lie ' live had had know boast that that love her a doting will be store me think let store prove prove none who true remain ' live who ' tender'd none who are both word and increase oppress'd so slow\n"
     ]
    }
   ],
   "source": [
    "seed_text = \"On her dying bed, my late mom told me:\"\n",
    "next_words = 50\n",
    "\n",
    "generate_text(model2, seed_text, next_words)"
   ]
  }
 ],
 "metadata": {
  "accelerator": "GPU",
  "colab": {
   "name": "NLP_Week4_Exercise_Shakespeare_Answer.ipynb",
   "provenance": [],
   "toc_visible": true
  },
  "kernelspec": {
   "display_name": "Python 3 (ipykernel)",
   "language": "python",
   "name": "python3"
  },
  "language_info": {
   "codemirror_mode": {
    "name": "ipython",
    "version": 3
   },
   "file_extension": ".py",
   "mimetype": "text/x-python",
   "name": "python",
   "nbconvert_exporter": "python",
   "pygments_lexer": "ipython3",
   "version": "3.11.7"
  }
 },
 "nbformat": 4,
 "nbformat_minor": 4
}
