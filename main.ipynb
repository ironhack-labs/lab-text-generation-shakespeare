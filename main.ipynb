{
 "cells": [
  {
   "cell_type": "markdown",
   "metadata": {},
   "source": [
    "# Lab | Text Generation from Shakespeare's Sonnet\n",
    "\n",
    "This notebook explores the fascinating domain of text generation using a deep learning model trained on Shakespeare's sonnets. \n",
    "\n",
    "The objective is to create a neural network capable of generating text sequences that mimic the style and language of Shakespeare.\n",
    "\n",
    "By utilizing a Recurrent Neural Network (RNN) with Long Short-Term Memory (LSTM) layers, this project aims to demonstrate how a model can learn and replicate the complex patterns of early modern English. \n",
    "\n",
    "The dataset used consists of Shakespeare's sonnets, which are preprocessed and tokenized to serve as input for the model.\n",
    "\n",
    "Throughout this notebook, you will see the steps taken to prepare the data, build and train the model, and evaluate its performance in generating text. \n",
    "\n",
    "This lab provides a hands-on approach to understanding the intricacies of natural language processing (NLP) and the potential of machine learning in creative text generation."
   ]
  },
  {
   "cell_type": "markdown",
   "metadata": {},
   "source": [
    "Let's import necessary libraries"
   ]
  },
  {
   "cell_type": "code",
   "execution_count": 41,
   "metadata": {
    "id": "BOwsuGQQY9OL",
    "tags": []
   },
   "outputs": [],
   "source": [
    "from tensorflow.keras.preprocessing.sequence import pad_sequences\n",
    "from tensorflow.keras.layers import Embedding, LSTM, Dense, Dropout, Bidirectional\n",
    "from tensorflow.keras.preprocessing.text import Tokenizer\n",
    "from tensorflow.keras.models import Sequential\n",
    "from tensorflow.keras.optimizers import Adam\n",
    "from tensorflow.keras import regularizers\n",
    "import tensorflow.keras.utils as ku \n",
    "import numpy as np"
   ]
  },
  {
   "cell_type": "markdown",
   "metadata": {},
   "source": [
    "Let's get the data!"
   ]
  },
  {
   "cell_type": "code",
   "execution_count": 42,
   "metadata": {
    "tags": []
   },
   "outputs": [],
   "source": [
    "import requests\n",
    "url = 'https://raw.githubusercontent.com/martin-gorner/tensorflow-rnn-shakespeare/master/shakespeare/sonnets.txt'\n",
    "resp = requests.get(url)\n",
    "with open('sonnets.txt', 'wb') as f:\n",
    "    f.write(resp.content)\n",
    "\n",
    "data = open('sonnets.txt').read()\n",
    "\n",
    "corpus = data.lower().split(\"\\n\")\n"
   ]
  },
  {
   "cell_type": "markdown",
   "metadata": {},
   "source": [
    "Step 1: Initialise a tokenizer and fit it on the corpus variable using .fit_on_texts"
   ]
  },
  {
   "cell_type": "code",
   "execution_count": 43,
   "metadata": {},
   "outputs": [],
   "source": [
    "# Your code here :\n",
    "\n",
    "from tensorflow.keras.preprocessing.text import Tokenizer\n",
    "\n",
    "# Step 1: Initialize the tokenizer - Convert text into tokens (unique words) and assign unique integer ID to them\n",
    "tokenizer = Tokenizer()\n",
    "\n",
    "# Step 2: Fit the tokenizer on the corpus - map each unique word to a number and build Vocabulary\n",
    "tokenizer.fit_on_texts(corpus)"
   ]
  },
  {
   "cell_type": "markdown",
   "metadata": {},
   "source": [
    "Step 2: Calculate the Vocabulary Size\n",
    "\n",
    "Let's figure out how many unique words are in your corpus. This will be the size of your vocabulary.\n",
    "\n",
    "Calculate the length of tokenizer.word_index, add 1 to it and store it in a variable called total_words."
   ]
  },
  {
   "cell_type": "code",
   "execution_count": 44,
   "metadata": {},
   "outputs": [
    {
     "name": "stdout",
     "output_type": "stream",
     "text": [
      "Total Vocabulary Size: 3375\n"
     ]
    }
   ],
   "source": [
    "# Your code here :\n",
    "\n",
    "# Calculate the vocabulary size\n",
    "total_words = len(tokenizer.word_index) + 1  # Adding 1 to account for padding or unknown words  \n",
    "\n",
    "# Print the vocabulary size\n",
    "print(f\"Total Vocabulary Size: {total_words}\")"
   ]
  },
  {
   "cell_type": "markdown",
   "metadata": {},
   "source": [
    "Create an empty list called input_sequences.\n",
    "\n",
    "For each sentence in your corpus, convert the text into a sequence of integers using the tokenizer.\n",
    "Then, generate n-gram sequences from these tokens.\n",
    "\n",
    "Store the result in the list input_sequences."
   ]
  },
  {
   "cell_type": "code",
   "execution_count": 45,
   "metadata": {},
   "outputs": [
    {
     "name": "stdout",
     "output_type": "stream",
     "text": [
      "[[878], [3], [3, 2], [3, 2, 313], [3, 2, 313, 1375]]\n"
     ]
    }
   ],
   "source": [
    "# Your code here :\n",
    "\n",
    "# Create an empty list to store input sequences\n",
    "input_sequences = []\n",
    "\n",
    "# For each line in the corpus\n",
    "for line in corpus:\n",
    "    # Converting the line into seq of integers\n",
    "    token_list = tokenizer.texts_to_sequences([line])[0] \n",
    "\n",
    "    # Generate n-gram sequences\n",
    "    for i in range(1, len(token_list) + 1):\n",
    "        n_gram_sequence = token_list[:i]  # Take the first 'i' tokens as an n-gram\n",
    "        input_sequences.append(n_gram_sequence)  # Append to the input_sequences list\n",
    "\n",
    "# Print the first few input sequences to confirm\n",
    "print(input_sequences[:5])"
   ]
  },
  {
   "cell_type": "markdown",
   "metadata": {},
   "source": [
    "Calculate the length of the longest sequence in input_sequences. Assign the result to a variable called max_sequence_len.\n",
    "\n",
    "Now pad the sequences using pad_sequences(input_sequences, maxlen=max_sequence_len, padding='pre').\n",
    "Convert it to a numpy array and assign the result back to our variable called input_sequences."
   ]
  },
  {
   "cell_type": "code",
   "execution_count": 46,
   "metadata": {},
   "outputs": [
    {
     "name": "stdout",
     "output_type": "stream",
     "text": [
      "Max sequence length: 11\n",
      "Padded sequences shape: (17805, 11)\n"
     ]
    }
   ],
   "source": [
    "# Your code here :\n",
    "\n",
    "from tensorflow.keras.preprocessing.sequence import pad_sequences\n",
    "import numpy as np\n",
    "\n",
    "# Step 1: Find the length of the longest sequence in input_sequences\n",
    "max_sequence_len = max([len(seq) for seq in input_sequences])\n",
    "\n",
    "# Step 2: Pad the sequences to the length of the longest sequence\n",
    "input_sequences = pad_sequences(input_sequences, maxlen=max_sequence_len, padding='pre')\n",
    "\n",
    "# Step 3: Convert the result to a numpy array\n",
    "input_sequences = np.array(input_sequences)\n",
    "\n",
    "# Print to check\n",
    "print(f\"Max sequence length: {max_sequence_len}\")\n",
    "print(f\"Padded sequences shape: {input_sequences.shape}\")"
   ]
  },
  {
   "cell_type": "markdown",
   "metadata": {},
   "source": [
    "Prepare Predictors and Labels\n",
    "\n",
    "Split the sequences into two parts:\n",
    "\n",
    "- Predictors: All elements from input_sequences except the last one.\n",
    "- Labels: The last element of each sequence in input_sequences."
   ]
  },
  {
   "cell_type": "code",
   "execution_count": 47,
   "metadata": {
    "id": "PRnDnCW-Z7qv",
    "tags": []
   },
   "outputs": [
    {
     "name": "stdout",
     "output_type": "stream",
     "text": [
      "Predictors shape: (17805, 10)\n",
      "Labels shape: (17805,)\n"
     ]
    }
   ],
   "source": [
    "# Your code here :\n",
    "\n",
    "# Step 1: Split the sequences into predictors and labels\n",
    "predictors = input_sequences[:, :-1]  # All elements except the last one\n",
    "labels = input_sequences[:, -1]       # The last element of each sequence\n",
    "\n",
    "# Print the shape of predictors and labels to check\n",
    "print(f\"Predictors shape: {predictors.shape}\")\n",
    "print(f\"Labels shape: {labels.shape}\")\n"
   ]
  },
  {
   "cell_type": "markdown",
   "metadata": {},
   "source": [
    "One-Hot Encode the Labels :\n",
    "\n",
    "Convert the labels (which are integers) into one-hot encoded vectors. \n",
    "\n",
    "Ensure the length of these vectors matches the total number of unique words in your vocabulary.\n",
    "\n",
    "Use ku.to_categorical() on labels with num_classes = total_words\n",
    "\n",
    "Assign the result back to our variable labels."
   ]
  },
  {
   "cell_type": "code",
   "execution_count": 48,
   "metadata": {},
   "outputs": [
    {
     "name": "stdout",
     "output_type": "stream",
     "text": [
      "Labels shape (one-hot encoded): (17805, 3375)\n"
     ]
    }
   ],
   "source": [
    "# Your code here :\n",
    "\n",
    "from tensorflow.keras.utils import to_categorical\n",
    "\n",
    "# Step 1: One-hot encode the labels\n",
    "labels = to_categorical(labels, num_classes=total_words)\n",
    "\n",
    "# Print to check the shape of the labels\n",
    "print(f\"Labels shape (one-hot encoded): {labels.shape}\")\n"
   ]
  },
  {
   "cell_type": "markdown",
   "metadata": {},
   "source": [
    "# Initialize the Model\n",
    "\n",
    "Start by creating a Sequential model.\n",
    "\n",
    "Add Layers to the Model:\n",
    "\n",
    "Embedding Layer: The first layer is an embedding layer. It converts word indices into dense vectors of fixed size (100 in this case). Set the input length to the maximum sequence length minus one, which corresponds to the number of previous words the model will consider when predicting the next word.\n",
    "\n",
    "Bidirectional LSTM Layer: Add a Bidirectional LSTM layer with 150 units. This layer allows the model to learn context from both directions (past and future) in the sequence. return_sequences=True\n",
    "\n",
    "Dropout Layer: Add a dropout layer with a rate of 0.2 to prevent overfitting by randomly setting 20% of the input units to 0 during training.\n",
    "\n",
    "LSTM Layer: Add a second LSTM layer with 100 units. This layer processes the sequence and passes its output to the next layer.\n",
    "\n",
    "Dense Layer (Intermediate): Add a dense layer with half the total number of words as units, using ReLU activation. A regularization term (L2) is added to prevent overfitting.\n",
    "\n",
    "Dense Layer (Output): The final dense layer has as many units as there are words in the vocabulary, with a softmax activation function to output a probability distribution over all words."
   ]
  },
  {
   "cell_type": "code",
   "execution_count": 49,
   "metadata": {},
   "outputs": [],
   "source": [
    "from keras.models import Sequential\n",
    "from keras.layers import Embedding, LSTM, Bidirectional, Dropout, Dense\n",
    "from keras.regularizers import l2\n",
    "\n",
    "vocab_size = 3375  # vocabulary size\n",
    "#max_sequence_len = 11  #  max sequence length\n",
    "\n",
    "model = Sequential([\n",
    "\n",
    "    # Your code here :\n",
    "\n",
    "    # EMBEDDING Layer    \n",
    "    Embedding(input_dim=vocab_size, output_dim=100, input_length=max_sequence_len - 1),\n",
    "\n",
    "    # BIDRECTIONAL LSTM LAYER\n",
    "    Bidirectional(LSTM(150, return_sequences=True)),\n",
    "\n",
    "    # DROPOUT Layer\n",
    "    Dropout(0.2),\n",
    "\n",
    "    # LSTM Layer\n",
    "    LSTM(100),\n",
    "\n",
    "    # DENSE Layer (intermediate)\n",
    "    Dense(vocab_size // 2, activation='relu', kernel_regularizer=l2(0.01)),\n",
    "\n",
    "    # DENSE Layer (Output)\n",
    "    Dense(vocab_size, activation='softmax')\n",
    "    \n",
    "])"
   ]
  },
  {
   "cell_type": "markdown",
   "metadata": {},
   "source": [
    "# Compile the Model:\n",
    "\n",
    "Compile the model using categorical crossentropy as the loss function, the Adam optimizer for efficient training, and accuracy as the metric to evaluate during training."
   ]
  },
  {
   "cell_type": "code",
   "execution_count": 50,
   "metadata": {},
   "outputs": [],
   "source": [
    "# Your code here :\n",
    "\n",
    "model.compile(loss='categorical_crossentropy', optimizer='adam', metrics=['accuracy'])\n"
   ]
  },
  {
   "cell_type": "markdown",
   "metadata": {},
   "source": [
    "# Print Model Summary:\n",
    "\n",
    "Use model.summary() to print a summary of the model, which shows the layers, their output shapes, and the number of parameters."
   ]
  },
  {
   "cell_type": "code",
   "execution_count": 51,
   "metadata": {},
   "outputs": [
    {
     "name": "stdout",
     "output_type": "stream",
     "text": [
      "Model: \"sequential_2\"\n",
      "_________________________________________________________________\n",
      " Layer (type)                Output Shape              Param #   \n",
      "=================================================================\n",
      " embedding_2 (Embedding)     (None, 10, 100)           337500    \n",
      "                                                                 \n",
      " bidirectional_2 (Bidirecti  (None, 10, 300)           301200    \n",
      " onal)                                                           \n",
      "                                                                 \n",
      " dropout_2 (Dropout)         (None, 10, 300)           0         \n",
      "                                                                 \n",
      " lstm_5 (LSTM)               (None, 100)               160400    \n",
      "                                                                 \n",
      " dense_4 (Dense)             (None, 1687)              170387    \n",
      "                                                                 \n",
      " dense_5 (Dense)             (None, 3375)              5697000   \n",
      "                                                                 \n",
      "=================================================================\n",
      "Total params: 6666487 (25.43 MB)\n",
      "Trainable params: 6666487 (25.43 MB)\n",
      "Non-trainable params: 0 (0.00 Byte)\n",
      "_________________________________________________________________\n"
     ]
    }
   ],
   "source": [
    "# Your code here :\n",
    "\n",
    "model.summary()"
   ]
  },
  {
   "cell_type": "markdown",
   "metadata": {},
   "source": [
    "# Now train the model for 50 epochs and assign it to a variable called history.\n",
    "\n",
    "Training the model with 50 epochs should get you around 40% accuracy.\n",
    "\n",
    "You can train the model for as many epochs as you like depending on the time and computing constraints you are facing. Ideally train it for a larger amount of epochs than 50.\n",
    "\n",
    "That way you will get better text generation at the end.\n",
    "\n",
    "However, dont waste your time."
   ]
  },
  {
   "cell_type": "code",
   "execution_count": 52,
   "metadata": {},
   "outputs": [
    {
     "name": "stdout",
     "output_type": "stream",
     "text": [
      "(17805, 10)\n",
      "(17805, 3375)\n"
     ]
    }
   ],
   "source": [
    "print(predictors.shape)\n",
    "print(labels.shape)"
   ]
  },
  {
   "cell_type": "code",
   "execution_count": 53,
   "metadata": {
    "id": "AIg2f1HBxqof",
    "tags": []
   },
   "outputs": [
    {
     "name": "stdout",
     "output_type": "stream",
     "text": [
      "Epoch 1/100\n",
      "390/390 [==============================] - 12s 22ms/step - loss: 6.8756 - accuracy: 0.0247 - val_loss: 6.7045 - val_accuracy: 0.0262\n",
      "Epoch 2/100\n",
      "390/390 [==============================] - 5s 12ms/step - loss: 6.3969 - accuracy: 0.0277 - val_loss: 6.8551 - val_accuracy: 0.0198\n",
      "Epoch 3/100\n",
      "390/390 [==============================] - 4s 11ms/step - loss: 6.3019 - accuracy: 0.0317 - val_loss: 6.9918 - val_accuracy: 0.0300\n",
      "Epoch 4/100\n",
      "390/390 [==============================] - 5s 13ms/step - loss: 6.1681 - accuracy: 0.0405 - val_loss: 7.0666 - val_accuracy: 0.0326\n",
      "Epoch 5/100\n",
      "390/390 [==============================] - 4s 10ms/step - loss: 6.0478 - accuracy: 0.0449 - val_loss: 7.1928 - val_accuracy: 0.0348\n",
      "Epoch 6/100\n",
      "390/390 [==============================] - 4s 12ms/step - loss: 5.9542 - accuracy: 0.0512 - val_loss: 7.2003 - val_accuracy: 0.0393\n",
      "Epoch 7/100\n",
      "390/390 [==============================] - 4s 10ms/step - loss: 5.8535 - accuracy: 0.0535 - val_loss: 7.3310 - val_accuracy: 0.0358\n",
      "Epoch 8/100\n",
      "390/390 [==============================] - 4s 11ms/step - loss: 5.7448 - accuracy: 0.0587 - val_loss: 7.5129 - val_accuracy: 0.0384\n",
      "Epoch 9/100\n",
      "390/390 [==============================] - 4s 11ms/step - loss: 5.6348 - accuracy: 0.0656 - val_loss: 7.6335 - val_accuracy: 0.0391\n",
      "Epoch 10/100\n",
      "390/390 [==============================] - 4s 10ms/step - loss: 5.5399 - accuracy: 0.0721 - val_loss: 7.7051 - val_accuracy: 0.0414\n",
      "Epoch 11/100\n",
      "390/390 [==============================] - 4s 11ms/step - loss: 5.4439 - accuracy: 0.0753 - val_loss: 7.9481 - val_accuracy: 0.0367\n",
      "Epoch 12/100\n",
      "390/390 [==============================] - 4s 10ms/step - loss: 5.3546 - accuracy: 0.0784 - val_loss: 8.1241 - val_accuracy: 0.0421\n",
      "Epoch 13/100\n",
      "390/390 [==============================] - 4s 10ms/step - loss: 5.2689 - accuracy: 0.0828 - val_loss: 8.2470 - val_accuracy: 0.0387\n",
      "Epoch 14/100\n",
      "390/390 [==============================] - 4s 11ms/step - loss: 5.1775 - accuracy: 0.0883 - val_loss: 8.4192 - val_accuracy: 0.0416\n",
      "Epoch 15/100\n",
      "390/390 [==============================] - 4s 11ms/step - loss: 5.0897 - accuracy: 0.0939 - val_loss: 8.7095 - val_accuracy: 0.0369\n",
      "Epoch 16/100\n",
      "390/390 [==============================] - 4s 10ms/step - loss: 5.0037 - accuracy: 0.1032 - val_loss: 8.7401 - val_accuracy: 0.0395\n",
      "Epoch 17/100\n",
      "390/390 [==============================] - 4s 10ms/step - loss: 4.9236 - accuracy: 0.1070 - val_loss: 9.0585 - val_accuracy: 0.0434\n",
      "Epoch 18/100\n",
      "390/390 [==============================] - 4s 11ms/step - loss: 4.8337 - accuracy: 0.1125 - val_loss: 9.2786 - val_accuracy: 0.0414\n",
      "Epoch 19/100\n",
      "390/390 [==============================] - 4s 11ms/step - loss: 4.7527 - accuracy: 0.1252 - val_loss: 9.2830 - val_accuracy: 0.0380\n",
      "Epoch 20/100\n",
      "390/390 [==============================] - 4s 10ms/step - loss: 4.6629 - accuracy: 0.1281 - val_loss: 9.7565 - val_accuracy: 0.0371\n",
      "Epoch 21/100\n",
      "390/390 [==============================] - 4s 11ms/step - loss: 4.5773 - accuracy: 0.1376 - val_loss: 9.8954 - val_accuracy: 0.0358\n",
      "Epoch 22/100\n",
      "390/390 [==============================] - 4s 11ms/step - loss: 4.4898 - accuracy: 0.1486 - val_loss: 10.2939 - val_accuracy: 0.0365\n",
      "Epoch 23/100\n",
      "390/390 [==============================] - 4s 10ms/step - loss: 4.4001 - accuracy: 0.1594 - val_loss: 10.4061 - val_accuracy: 0.0371\n",
      "Epoch 24/100\n",
      "390/390 [==============================] - 4s 10ms/step - loss: 4.3143 - accuracy: 0.1675 - val_loss: 10.9022 - val_accuracy: 0.0358\n",
      "Epoch 25/100\n",
      "390/390 [==============================] - 4s 10ms/step - loss: 4.2252 - accuracy: 0.1779 - val_loss: 11.1253 - val_accuracy: 0.0373\n",
      "Epoch 26/100\n",
      "390/390 [==============================] - 5s 12ms/step - loss: 4.1374 - accuracy: 0.1868 - val_loss: 11.4528 - val_accuracy: 0.0363\n",
      "Epoch 27/100\n",
      "390/390 [==============================] - 5s 12ms/step - loss: 4.0446 - accuracy: 0.2022 - val_loss: 11.8832 - val_accuracy: 0.0369\n",
      "Epoch 28/100\n",
      "390/390 [==============================] - 4s 9ms/step - loss: 3.9540 - accuracy: 0.2212 - val_loss: 12.3424 - val_accuracy: 0.0331\n",
      "Epoch 29/100\n",
      "390/390 [==============================] - 4s 10ms/step - loss: 3.8705 - accuracy: 0.2347 - val_loss: 12.5213 - val_accuracy: 0.0363\n",
      "Epoch 30/100\n",
      "390/390 [==============================] - 4s 11ms/step - loss: 3.7830 - accuracy: 0.2526 - val_loss: 12.9079 - val_accuracy: 0.0350\n",
      "Epoch 31/100\n",
      "390/390 [==============================] - 4s 9ms/step - loss: 3.6896 - accuracy: 0.2742 - val_loss: 13.3268 - val_accuracy: 0.0354\n",
      "Epoch 32/100\n",
      "390/390 [==============================] - 4s 9ms/step - loss: 3.6127 - accuracy: 0.2850 - val_loss: 13.7435 - val_accuracy: 0.0354\n",
      "Epoch 33/100\n",
      "390/390 [==============================] - 4s 9ms/step - loss: 3.5409 - accuracy: 0.3046 - val_loss: 13.9664 - val_accuracy: 0.0358\n",
      "Epoch 34/100\n",
      "390/390 [==============================] - 4s 9ms/step - loss: 3.4580 - accuracy: 0.3223 - val_loss: 14.0660 - val_accuracy: 0.0346\n",
      "Epoch 35/100\n",
      "390/390 [==============================] - 4s 9ms/step - loss: 3.3866 - accuracy: 0.3442 - val_loss: 14.5642 - val_accuracy: 0.0359\n",
      "Epoch 36/100\n",
      "390/390 [==============================] - 4s 9ms/step - loss: 3.2978 - accuracy: 0.3654 - val_loss: 14.7345 - val_accuracy: 0.0356\n",
      "Epoch 37/100\n",
      "390/390 [==============================] - 4s 10ms/step - loss: 3.2226 - accuracy: 0.3768 - val_loss: 15.0649 - val_accuracy: 0.0348\n",
      "Epoch 38/100\n",
      "390/390 [==============================] - 4s 9ms/step - loss: 3.1612 - accuracy: 0.3948 - val_loss: 15.4133 - val_accuracy: 0.0337\n",
      "Epoch 39/100\n",
      "390/390 [==============================] - 4s 9ms/step - loss: 3.0906 - accuracy: 0.4155 - val_loss: 15.6237 - val_accuracy: 0.0337\n",
      "Epoch 40/100\n",
      "390/390 [==============================] - 4s 9ms/step - loss: 3.0358 - accuracy: 0.4249 - val_loss: 16.0012 - val_accuracy: 0.0346\n",
      "Epoch 41/100\n",
      "390/390 [==============================] - 4s 9ms/step - loss: 2.9733 - accuracy: 0.4381 - val_loss: 16.2132 - val_accuracy: 0.0329\n",
      "Epoch 42/100\n",
      "390/390 [==============================] - 4s 9ms/step - loss: 2.9221 - accuracy: 0.4484 - val_loss: 16.3880 - val_accuracy: 0.0352\n",
      "Epoch 43/100\n",
      "390/390 [==============================] - 4s 10ms/step - loss: 2.8538 - accuracy: 0.4647 - val_loss: 16.5994 - val_accuracy: 0.0348\n",
      "Epoch 44/100\n",
      "390/390 [==============================] - 4s 9ms/step - loss: 2.7997 - accuracy: 0.4773 - val_loss: 16.6733 - val_accuracy: 0.0331\n",
      "Epoch 45/100\n",
      "390/390 [==============================] - 4s 9ms/step - loss: 2.7455 - accuracy: 0.4911 - val_loss: 16.9570 - val_accuracy: 0.0328\n",
      "Epoch 46/100\n",
      "390/390 [==============================] - 4s 9ms/step - loss: 2.6926 - accuracy: 0.5016 - val_loss: 16.9145 - val_accuracy: 0.0326\n",
      "Epoch 47/100\n",
      "390/390 [==============================] - 4s 11ms/step - loss: 2.6409 - accuracy: 0.5195 - val_loss: 17.2281 - val_accuracy: 0.0343\n",
      "Epoch 48/100\n",
      "390/390 [==============================] - 4s 9ms/step - loss: 2.6029 - accuracy: 0.5197 - val_loss: 17.0629 - val_accuracy: 0.0337\n",
      "Epoch 49/100\n",
      "390/390 [==============================] - 4s 9ms/step - loss: 2.5571 - accuracy: 0.5364 - val_loss: 17.4028 - val_accuracy: 0.0333\n",
      "Epoch 50/100\n",
      "390/390 [==============================] - 4s 11ms/step - loss: 2.5182 - accuracy: 0.5402 - val_loss: 17.7530 - val_accuracy: 0.0331\n",
      "Epoch 51/100\n",
      "390/390 [==============================] - 4s 9ms/step - loss: 2.4784 - accuracy: 0.5516 - val_loss: 17.2065 - val_accuracy: 0.0344\n",
      "Epoch 52/100\n",
      "390/390 [==============================] - 4s 9ms/step - loss: 2.4130 - accuracy: 0.5685 - val_loss: 17.8627 - val_accuracy: 0.0333\n",
      "Epoch 53/100\n",
      "390/390 [==============================] - 4s 9ms/step - loss: 2.3834 - accuracy: 0.5736 - val_loss: 17.8394 - val_accuracy: 0.0341\n",
      "Epoch 54/100\n",
      "390/390 [==============================] - 4s 10ms/step - loss: 2.3419 - accuracy: 0.5819 - val_loss: 17.9339 - val_accuracy: 0.0324\n",
      "Epoch 55/100\n",
      "390/390 [==============================] - 4s 10ms/step - loss: 2.3186 - accuracy: 0.5901 - val_loss: 18.2573 - val_accuracy: 0.0322\n",
      "Epoch 56/100\n",
      "390/390 [==============================] - 4s 10ms/step - loss: 2.2770 - accuracy: 0.5986 - val_loss: 18.1622 - val_accuracy: 0.0313\n",
      "Epoch 57/100\n",
      "390/390 [==============================] - 4s 9ms/step - loss: 2.2394 - accuracy: 0.6011 - val_loss: 18.3001 - val_accuracy: 0.0328\n",
      "Epoch 58/100\n",
      "390/390 [==============================] - 4s 9ms/step - loss: 2.2093 - accuracy: 0.6128 - val_loss: 18.4726 - val_accuracy: 0.0314\n",
      "Epoch 59/100\n",
      "390/390 [==============================] - 4s 9ms/step - loss: 2.1783 - accuracy: 0.6148 - val_loss: 18.7026 - val_accuracy: 0.0328\n",
      "Epoch 60/100\n",
      "390/390 [==============================] - 4s 11ms/step - loss: 2.1548 - accuracy: 0.6219 - val_loss: 18.5414 - val_accuracy: 0.0314\n",
      "Epoch 61/100\n",
      "390/390 [==============================] - 4s 11ms/step - loss: 2.1221 - accuracy: 0.6302 - val_loss: 18.6043 - val_accuracy: 0.0335\n",
      "Epoch 62/100\n",
      "390/390 [==============================] - 4s 10ms/step - loss: 2.0960 - accuracy: 0.6317 - val_loss: 18.4740 - val_accuracy: 0.0341\n",
      "Epoch 63/100\n",
      "390/390 [==============================] - 4s 10ms/step - loss: 2.0705 - accuracy: 0.6382 - val_loss: 18.7758 - val_accuracy: 0.0331\n",
      "Epoch 64/100\n",
      "390/390 [==============================] - 4s 10ms/step - loss: 2.0380 - accuracy: 0.6429 - val_loss: 18.7348 - val_accuracy: 0.0314\n",
      "Epoch 65/100\n",
      "390/390 [==============================] - 4s 10ms/step - loss: 2.0070 - accuracy: 0.6529 - val_loss: 18.7856 - val_accuracy: 0.0339\n",
      "Epoch 66/100\n",
      "390/390 [==============================] - 4s 10ms/step - loss: 1.9872 - accuracy: 0.6563 - val_loss: 18.5773 - val_accuracy: 0.0365\n",
      "Epoch 67/100\n",
      "390/390 [==============================] - 4s 10ms/step - loss: 1.9716 - accuracy: 0.6562 - val_loss: 18.6047 - val_accuracy: 0.0296\n",
      "Epoch 68/100\n",
      "390/390 [==============================] - 4s 10ms/step - loss: 1.9749 - accuracy: 0.6566 - val_loss: 18.7700 - val_accuracy: 0.0335\n",
      "Epoch 69/100\n",
      "390/390 [==============================] - 5s 12ms/step - loss: 1.9333 - accuracy: 0.6637 - val_loss: 18.9316 - val_accuracy: 0.0328\n",
      "Epoch 70/100\n",
      "390/390 [==============================] - 4s 10ms/step - loss: 1.8995 - accuracy: 0.6712 - val_loss: 18.8493 - val_accuracy: 0.0326\n",
      "Epoch 71/100\n",
      "390/390 [==============================] - 4s 10ms/step - loss: 1.8756 - accuracy: 0.6757 - val_loss: 18.9209 - val_accuracy: 0.0316\n",
      "Epoch 72/100\n",
      "390/390 [==============================] - 4s 10ms/step - loss: 1.8522 - accuracy: 0.6808 - val_loss: 18.8666 - val_accuracy: 0.0322\n",
      "Epoch 73/100\n",
      "390/390 [==============================] - 4s 10ms/step - loss: 1.8505 - accuracy: 0.6823 - val_loss: 19.0427 - val_accuracy: 0.0339\n",
      "Epoch 74/100\n",
      "390/390 [==============================] - 4s 9ms/step - loss: 1.8285 - accuracy: 0.6861 - val_loss: 19.0453 - val_accuracy: 0.0313\n",
      "Epoch 75/100\n",
      "390/390 [==============================] - 4s 10ms/step - loss: 1.8145 - accuracy: 0.6871 - val_loss: 19.0085 - val_accuracy: 0.0326\n",
      "Epoch 76/100\n",
      "390/390 [==============================] - 4s 10ms/step - loss: 1.8118 - accuracy: 0.6850 - val_loss: 19.0526 - val_accuracy: 0.0311\n",
      "Epoch 77/100\n",
      "390/390 [==============================] - 4s 11ms/step - loss: 1.8002 - accuracy: 0.6886 - val_loss: 18.9330 - val_accuracy: 0.0339\n",
      "Epoch 78/100\n",
      "390/390 [==============================] - 4s 11ms/step - loss: 1.7856 - accuracy: 0.6915 - val_loss: 19.1093 - val_accuracy: 0.0328\n",
      "Epoch 79/100\n",
      "390/390 [==============================] - 4s 10ms/step - loss: 1.7486 - accuracy: 0.6990 - val_loss: 19.2107 - val_accuracy: 0.0303\n",
      "Epoch 80/100\n",
      "390/390 [==============================] - 4s 10ms/step - loss: 1.7299 - accuracy: 0.7035 - val_loss: 19.0421 - val_accuracy: 0.0335\n",
      "Epoch 81/100\n",
      "390/390 [==============================] - 4s 10ms/step - loss: 1.7163 - accuracy: 0.7058 - val_loss: 19.1090 - val_accuracy: 0.0313\n",
      "Epoch 82/100\n",
      "390/390 [==============================] - 4s 10ms/step - loss: 1.7060 - accuracy: 0.7060 - val_loss: 18.9107 - val_accuracy: 0.0316\n",
      "Epoch 83/100\n",
      "390/390 [==============================] - 4s 10ms/step - loss: 1.6910 - accuracy: 0.7098 - val_loss: 18.9044 - val_accuracy: 0.0326\n",
      "Epoch 84/100\n",
      "390/390 [==============================] - 4s 10ms/step - loss: 1.6781 - accuracy: 0.7075 - val_loss: 18.8635 - val_accuracy: 0.0316\n",
      "Epoch 85/100\n",
      "390/390 [==============================] - 4s 10ms/step - loss: 1.6752 - accuracy: 0.7087 - val_loss: 18.8169 - val_accuracy: 0.0316\n",
      "Epoch 86/100\n",
      "390/390 [==============================] - 4s 10ms/step - loss: 1.6774 - accuracy: 0.7101 - val_loss: 18.8517 - val_accuracy: 0.0318\n",
      "Epoch 87/100\n",
      "390/390 [==============================] - 4s 10ms/step - loss: 1.6489 - accuracy: 0.7146 - val_loss: 18.9241 - val_accuracy: 0.0318\n",
      "Epoch 88/100\n",
      "390/390 [==============================] - 4s 10ms/step - loss: 1.6517 - accuracy: 0.7140 - val_loss: 19.0051 - val_accuracy: 0.0318\n",
      "Epoch 89/100\n",
      "390/390 [==============================] - 4s 9ms/step - loss: 1.6347 - accuracy: 0.7171 - val_loss: 18.8790 - val_accuracy: 0.0318\n",
      "Epoch 90/100\n",
      "390/390 [==============================] - 4s 11ms/step - loss: 1.6250 - accuracy: 0.7192 - val_loss: 19.0737 - val_accuracy: 0.0314\n",
      "Epoch 91/100\n",
      "390/390 [==============================] - 4s 10ms/step - loss: 1.6087 - accuracy: 0.7204 - val_loss: 18.9543 - val_accuracy: 0.0309\n",
      "Epoch 92/100\n",
      "390/390 [==============================] - 4s 9ms/step - loss: 1.6030 - accuracy: 0.7192 - val_loss: 19.0867 - val_accuracy: 0.0296\n",
      "Epoch 93/100\n",
      "390/390 [==============================] - 4s 9ms/step - loss: 1.5841 - accuracy: 0.7248 - val_loss: 19.0334 - val_accuracy: 0.0324\n",
      "Epoch 94/100\n",
      "390/390 [==============================] - 4s 9ms/step - loss: 1.5714 - accuracy: 0.7272 - val_loss: 18.9937 - val_accuracy: 0.0322\n",
      "Epoch 95/100\n",
      "390/390 [==============================] - 4s 9ms/step - loss: 1.5603 - accuracy: 0.7313 - val_loss: 18.8289 - val_accuracy: 0.0329\n",
      "Epoch 96/100\n",
      "390/390 [==============================] - 4s 11ms/step - loss: 1.5607 - accuracy: 0.7265 - val_loss: 18.9627 - val_accuracy: 0.0313\n",
      "Epoch 97/100\n",
      "390/390 [==============================] - 4s 10ms/step - loss: 1.5606 - accuracy: 0.7262 - val_loss: 18.7316 - val_accuracy: 0.0309\n",
      "Epoch 98/100\n",
      "390/390 [==============================] - 4s 10ms/step - loss: 1.5591 - accuracy: 0.7234 - val_loss: 18.8797 - val_accuracy: 0.0301\n",
      "Epoch 99/100\n",
      "390/390 [==============================] - 4s 10ms/step - loss: 1.5487 - accuracy: 0.7283 - val_loss: 18.7333 - val_accuracy: 0.0286\n",
      "Epoch 100/100\n",
      "390/390 [==============================] - 4s 10ms/step - loss: 1.5425 - accuracy: 0.7269 - val_loss: 18.8840 - val_accuracy: 0.0294\n",
      "dict_keys(['loss', 'accuracy', 'val_loss', 'val_accuracy'])\n"
     ]
    }
   ],
   "source": [
    "# Your code here :\n",
    "\n",
    "# Train the model for 50 epochs/100 epochs\n",
    "history = model.fit(predictors, labels, epochs=100, batch_size=32, validation_split=0.3)\n",
    "\n",
    "# Optional: Print the training history keys to explore available metrics\n",
    "print(history.history.keys())\n"
   ]
  },
  {
   "cell_type": "markdown",
   "metadata": {},
   "source": [
    "# Use plt from matplotlib to plot the training accuracy over epochs and the loss over epochs"
   ]
  },
  {
   "cell_type": "markdown",
   "metadata": {},
   "source": [
    "First you will have to get the accuracy and loss data over epochs, you can do this by using methods on your model."
   ]
  },
  {
   "cell_type": "code",
   "execution_count": 54,
   "metadata": {
    "id": "1fXTEO3GJ282",
    "tags": []
   },
   "outputs": [
    {
     "data": {
      "image/png": "[encoded data removed]",
      "text/plain": [
       "<Figure size 640x480 with 1 Axes>"
      ]
     },
     "metadata": {},
     "output_type": "display_data"
    },
    {
     "data": {
      "image/png": "[encoded data removed]",
      "text/plain": [
       "<Figure size 640x480 with 1 Axes>"
      ]
     },
     "metadata": {},
     "output_type": "display_data"
    }
   ],
   "source": [
    "# Your code here :\n",
    "\n",
    "import matplotlib.pyplot as plt\n",
    "\n",
    "# Plotting training & validation accuracy values\n",
    "plt.plot(history.history['accuracy'])\n",
    "plt.plot(history.history['val_accuracy'])\n",
    "plt.title('Model accuracy')\n",
    "plt.ylabel('Accuracy')\n",
    "plt.xlabel('Epoch')\n",
    "plt.legend(['Train', 'Validation'], loc='upper left')\n",
    "plt.show()\n",
    "\n",
    "# Plotting training & validation loss values\n",
    "plt.plot(history.history['loss'])\n",
    "plt.plot(history.history['val_loss'])\n",
    "plt.title('Model loss')\n",
    "plt.ylabel('Loss')\n",
    "plt.xlabel('Epoch')\n",
    "plt.legend(['Train', 'Validation'], loc='upper left')\n",
    "plt.show()"
   ]
  },
  {
   "cell_type": "markdown",
   "metadata": {},
   "source": [
    "# Generate text with the model based on a seed text\n",
    "\n",
    "Now you will create two variables :\n",
    "\n",
    "- seed_text = 'Write the text you want the model to use as a starting point to generate the next words'\n",
    "- next_words = number_of_words_you_want_the_model_to_generate\n",
    "\n",
    "Please change number_of_words_you_want_the_model_to_generate by an actual integer."
   ]
  },
  {
   "cell_type": "code",
   "execution_count": 55,
   "metadata": {},
   "outputs": [],
   "source": [
    "# Your code here :\n",
    "\n",
    "# Seed text (starting point for text generation)\n",
    "seed_text = \"Will Stuttgart win the Champions League?\"\n",
    "\n",
    "# Number of words to generate\n",
    "next_words = 40  # the number of words to generate\n",
    "\n",
    "max_sequence_len = 11  # Given value for max sequence length\n"
   ]
  },
  {
   "cell_type": "markdown",
   "metadata": {},
   "source": [
    "Now create a loop that runs based on the next_words variable and generates new text based on your seed_text input string. Print the full text with the generated text at the end.\n",
    "\n",
    "This time you dont get detailed instructions.\n",
    "\n",
    "Have fun!"
   ]
  },
  {
   "cell_type": "code",
   "execution_count": 56,
   "metadata": {
    "id": "6Vc6PHgxa6Hm",
    "tags": []
   },
   "outputs": [
    {
     "name": "stdout",
     "output_type": "stream",
     "text": [
      "Will Stuttgart win the Champions League? is all thy sun were survey survey keep shine pride still buried face ' say done me glory could true fear doth belong forth great clear show thee old other forth life to thee forth it did bring forth thee\n"
     ]
    }
   ],
   "source": [
    "# Your code here :\n",
    "\n",
    "import numpy as np\n",
    "\n",
    "# Create the loop to generate text\n",
    "def generate_text(model, seed_text, next_words, max_sequence_len):\n",
    "    for _ in range(next_words):\n",
    "        # Tokenize the current seed text\n",
    "        token_list = tokenizer.texts_to_sequences([seed_text])[0]\n",
    "\n",
    "        # Ensure token_list is not longer than max_sequence_len - 1\n",
    "        if len(token_list) > max_sequence_len - 1:\n",
    "            token_list = token_list[-(max_sequence_len-1):]\n",
    "\n",
    "        # Pad the sequence so that it matches the input shape of the model\n",
    "        token_list = np.pad(token_list, (max_sequence_len - len(token_list) - 1, 0), 'constant')\n",
    "\n",
    "        # Predict the next word\n",
    "        predicted_probs = model.predict(np.array([token_list]), verbose=0)\n",
    "        predicted_word_index = np.argmax(predicted_probs, axis=-1)[0]\n",
    "\n",
    "        # Find the word corresponding to the predicted index\n",
    "        output_word = \"\"\n",
    "        for word, index in tokenizer.word_index.items():\n",
    "            if index == predicted_word_index:\n",
    "                output_word = word\n",
    "                break\n",
    "        \n",
    "        # Append the predicted word to the seed text\n",
    "        seed_text += \" \" + output_word\n",
    "\n",
    "    return seed_text\n",
    "\n",
    "# Generate text and print the final output\n",
    "generated_text = generate_text(model, seed_text, next_words, max_sequence_len)\n",
    "print(generated_text)\n",
    "\n"
   ]
  },
  {
   "cell_type": "markdown",
   "metadata": {},
   "source": [
    "Experiment with at least 3 different seed_text strings and see what happens!"
   ]
  },
  {
   "cell_type": "code",
   "execution_count": 57,
   "metadata": {},
   "outputs": [
    {
     "name": "stdout",
     "output_type": "stream",
     "text": [
      "The quick brown fox jumps over the lazy dog in the yard mind pluck esteem dyed dyed held ' shine ' say done me date room dyed dyed ' say scorn die eyes something will mayst give fear doth statues dwell shine say shine bright say afloat buried glory seen me live\n"
     ]
    }
   ],
   "source": [
    "# Your code here :\n",
    "\n",
    "seed_text = \"The quick brown fox jumps over the lazy dog in the yard\"\n",
    "\n",
    "# Generate text and print the final output\n",
    "generated_text = generate_text(model, seed_text, next_words, max_sequence_len)\n",
    "print(generated_text)\n",
    "\n"
   ]
  },
  {
   "cell_type": "code",
   "execution_count": 58,
   "metadata": {},
   "outputs": [
    {
     "name": "stdout",
     "output_type": "stream",
     "text": [
      "Generated text for Seed 1:\n",
      "Shall I compare thee to a summer's day from other belong shine say remain dyed from me writ it bright contains contains seen me untrue contains contains say fled done me days remain ' say true see unused worth twain twain seen store forth done me ' write arising from thee dyed wrong did live seen it true\n",
      "\n",
      "Generated text for Seed 2:\n",
      "The world is full of wonderful things which you buried deeds doth place say ' say friend call shine write of thee it writ it do i fear from me keep keep live are dyed dyed dyed remain bright pride new part doth writ writ it bright do sing so unused fear from sing new prime still\n",
      "\n",
      "Generated text for Seed 3:\n",
      "To be or not to be that is the question other in thee abused dyed deem gone say affords make thee seen me decays contains doth done me light dyed ' shine bright bright eyes esteem o'er ere laws down razed o'er wrongs grossly esteem'd gems esteem ' be too cruel air alone crown'd green young deeds of life new\n"
     ]
    }
   ],
   "source": [
    "# Define the parameters\n",
    "next_words = 50  # Number of words to generate\n",
    "max_sequence_len = 11  # Already defined earlier\n",
    "\n",
    "# Experiment with different seed texts\n",
    "seed_text_1 = \"Shall I compare thee to a summer's day\"\n",
    "seed_text_2 = \"The world is full of wonderful things\"\n",
    "seed_text_3 = \"To be or not to be that is the question\"\n",
    "\n",
    "# Call the function for each seed text and print the results\n",
    "\n",
    "# Generate text for seed_text_1\n",
    "print(\"Generated text for Seed 1:\")\n",
    "generated_text_1 = generate_text(model, seed_text_1, next_words, max_sequence_len)\n",
    "print(generated_text_1)\n",
    "\n",
    "# Generate text for seed_text_2\n",
    "print(\"\\nGenerated text for Seed 2:\")\n",
    "generated_text_2 = generate_text(model, seed_text_2, next_words, max_sequence_len)\n",
    "print(generated_text_2)\n",
    "\n",
    "# Generate text for seed_text_3\n",
    "print(\"\\nGenerated text for Seed 3:\")\n",
    "generated_text_3 = generate_text(model, seed_text_3, next_words, max_sequence_len)\n",
    "print(generated_text_3)\n"
   ]
  }
 ],
 "metadata": {
  "accelerator": "GPU",
  "colab": {
   "name": "NLP_Week4_Exercise_Shakespeare_Answer.ipynb",
   "provenance": [],
   "toc_visible": true
  },
  "kernelspec": {
   "display_name": "Python 3 (ipykernel)",
   "language": "python",
   "name": "python3"
  },
  "language_info": {
   "codemirror_mode": {
    "name": "ipython",
    "version": 3
   },
   "file_extension": ".py",
   "mimetype": "text/x-python",
   "name": "python",
   "nbconvert_exporter": "python",
   "pygments_lexer": "ipython3",
   "version": "3.11.7"
  }
 },
 "nbformat": 4,
 "nbformat_minor": 4
}
