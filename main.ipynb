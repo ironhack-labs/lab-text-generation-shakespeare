{
 "cells": [
  {
   "cell_type": "markdown",
   "metadata": {},
   "source": [
    "# Lab | Text Generation from Shakespeare's Sonnet\n",
    "\n",
    "This notebook explores the fascinating domain of text generation using a deep learning model trained on Shakespeare's sonnets. \n",
    "\n",
    "The objective is to create a neural network capable of generating text sequences that mimic the style and language of Shakespeare.\n",
    "\n",
    "By utilizing a Recurrent Neural Network (RNN) with Long Short-Term Memory (LSTM) layers, this project aims to demonstrate how a model can learn and replicate the complex patterns of early modern English. \n",
    "\n",
    "The dataset used consists of Shakespeare's sonnets, which are preprocessed and tokenized to serve as input for the model.\n",
    "\n",
    "Throughout this notebook, you will see the steps taken to prepare the data, build and train the model, and evaluate its performance in generating text. \n",
    "\n",
    "This lab provides a hands-on approach to understanding the intricacies of natural language processing (NLP) and the potential of machine learning in creative text generation."
   ]
  },
  {
   "cell_type": "markdown",
   "metadata": {},
   "source": [
    "Let's import necessary libraries"
   ]
  },
  {
   "cell_type": "code",
   "execution_count": 1,
   "metadata": {
    "id": "BOwsuGQQY9OL",
    "tags": []
   },
   "outputs": [
    {
     "name": "stderr",
     "output_type": "stream",
     "text": [
      "2024-10-04 14:09:52.649618: E external/local_xla/xla/stream_executor/cuda/cuda_dnn.cc:9261] Unable to register cuDNN factory: Attempting to register factory for plugin cuDNN when one has already been registered\n",
      "2024-10-04 14:09:52.649715: E external/local_xla/xla/stream_executor/cuda/cuda_fft.cc:607] Unable to register cuFFT factory: Attempting to register factory for plugin cuFFT when one has already been registered\n",
      "2024-10-04 14:09:52.651552: E external/local_xla/xla/stream_executor/cuda/cuda_blas.cc:1515] Unable to register cuBLAS factory: Attempting to register factory for plugin cuBLAS when one has already been registered\n",
      "2024-10-04 14:09:52.663393: I tensorflow/core/platform/cpu_feature_guard.cc:182] This TensorFlow binary is optimized to use available CPU instructions in performance-critical operations.\n",
      "To enable the following instructions: AVX2 FMA, in other operations, rebuild TensorFlow with the appropriate compiler flags.\n",
      "2024-10-04 14:09:54.427138: W tensorflow/compiler/tf2tensorrt/utils/py_utils.cc:38] TF-TRT Warning: Could not find TensorRT\n"
     ]
    }
   ],
   "source": [
    "from tensorflow.keras.preprocessing.sequence import pad_sequences\n",
    "from tensorflow.keras.layers import Embedding, LSTM, Dense, Dropout, Bidirectional\n",
    "from tensorflow.keras.preprocessing.text import Tokenizer\n",
    "from tensorflow.keras.models import Sequential\n",
    "from tensorflow.keras.optimizers import Adam\n",
    "from tensorflow.keras import regularizers\n",
    "import tensorflow.keras.utils as ku \n",
    "import numpy as np\n",
    "from tensorflow.keras.regularizers import l2\n"
   ]
  },
  {
   "cell_type": "markdown",
   "metadata": {},
   "source": [
    "Let's get the data!"
   ]
  },
  {
   "cell_type": "code",
   "execution_count": 2,
   "metadata": {
    "tags": []
   },
   "outputs": [],
   "source": [
    "import requests\n",
    "url = 'https://raw.githubusercontent.com/martin-gorner/tensorflow-rnn-shakespeare/master/shakespeare/sonnets.txt'\n",
    "resp = requests.get(url)\n",
    "with open('sonnets.txt', 'wb') as f:\n",
    "    f.write(resp.content)\n",
    "\n",
    "data = open('sonnets.txt').read()\n",
    "\n",
    "corpus = data.lower().split(\"\\n\")"
   ]
  },
  {
   "cell_type": "markdown",
   "metadata": {},
   "source": [
    "Step 1: Initialise a tokenizer and fit it on the corpus variable using .fit_on_texts"
   ]
  },
  {
   "cell_type": "code",
   "execution_count": 3,
   "metadata": {},
   "outputs": [],
   "source": [
    "# Initialize tokenizer and fit the corpus\n",
    "tokenizer = Tokenizer()\n",
    "tokenizer.fit_on_texts(corpus)"
   ]
  },
  {
   "cell_type": "markdown",
   "metadata": {},
   "source": [
    "Step 2: Calculate the Vocabulary Size\n",
    "\n",
    "Let's figure out how many unique words are in your corpus. This will be the size of your vocabulary.\n",
    "\n",
    "Calculate the length of tokenizer.word_index, add 1 to it and store it in a variable called total_words."
   ]
  },
  {
   "cell_type": "code",
   "execution_count": 4,
   "metadata": {},
   "outputs": [
    {
     "name": "stdout",
     "output_type": "stream",
     "text": [
      "Total nunber of unique words: 3375\n"
     ]
    }
   ],
   "source": [
    "# Check number of words in the corpus\n",
    "total_words = len(tokenizer.word_index) + 1 # Total number of unique words\n",
    "print(f\"Total nunber of unique words: {total_words}\")"
   ]
  },
  {
   "cell_type": "markdown",
   "metadata": {},
   "source": [
    "Create an empty list called input_sequences.\n",
    "\n",
    "For each sentence in your corpus, convert the text into a sequence of integers using the tokenizer.\n",
    "Then, generate n-gram sequences from these tokens.\n",
    "\n",
    "Store the result in the list input_sequences."
   ]
  },
  {
   "cell_type": "code",
   "execution_count": 5,
   "metadata": {},
   "outputs": [
    {
     "name": "stdout",
     "output_type": "stream",
     "text": [
      "Total input sequences: 15484\n"
     ]
    }
   ],
   "source": [
    "# Create empty list\n",
    "input_sequences = []\n",
    "\n",
    "for sentence in corpus:\n",
    "    token_list = tokenizer.texts_to_sequences([sentence])[0]  # Convert each line to a sequence of integers\n",
    "    for i in range(1, len(token_list)):\n",
    "        n_gram_sequence = token_list[:i+1]  # Generate n-gram sequences\n",
    "        input_sequences.append(n_gram_sequence)  # Append to input_sequences\n",
    "\n",
    "print(f'Total input sequences: {len(input_sequences)}')\n"
   ]
  },
  {
   "cell_type": "markdown",
   "metadata": {},
   "source": [
    "Calculate the length of the longest sequence in input_sequences. Assign the result to a variable called max_sequence_len.\n",
    "\n",
    "Now pad the sequences using pad_sequences(input_sequences, maxlen=max_sequence_len, padding='pre').\n",
    "Convert it to a numpy array and assign the result back to our variable called input_sequences."
   ]
  },
  {
   "cell_type": "code",
   "execution_count": 6,
   "metadata": {},
   "outputs": [
    {
     "name": "stdout",
     "output_type": "stream",
     "text": [
      "Max sequence length: 11\n",
      "[[   0    0    0    0    0    0    0    0    0    3    2]\n",
      " [   0    0    0    0    0    0    0    0    3    2  313]\n",
      " [   0    0    0    0    0    0    0    3    2  313 1375]\n",
      " [   0    0    0    0    0    0    3    2  313 1375    4]\n",
      " [   0    0    0    0    0    0    0    0    0  118 1376]]\n",
      "[[   0    0    0    0    0    0    0    0    0    3    2]\n",
      " [   0    0    0    0    0    0    0    0    3    2  313]\n",
      " [   0    0    0    0    0    0    0    3    2  313 1375]\n",
      " [   0    0    0    0    0    0    3    2  313 1375    4]\n",
      " [   0    0    0    0    0    0    0    0    0  118 1376]]\n"
     ]
    }
   ],
   "source": [
    "# Calculate length of the longest sequence\n",
    "max_sequence_len = max([len(seq) for seq in input_sequences])\n",
    "print(f\"Max sequence length: {max_sequence_len}\")\n",
    "\n",
    "# Pad sequences to ensure they have the same length\n",
    "input_sequences = pad_sequences(input_sequences, maxlen=max_sequence_len, padding='pre')\n",
    "print(input_sequences[:5])\n",
    "\n",
    "# Convert sequences into a numpy array\n",
    "input_sequences = np.array(input_sequences)\n",
    "print(input_sequences[:5])\n"
   ]
  },
  {
   "cell_type": "markdown",
   "metadata": {},
   "source": [
    "Prepare Predictors and Labels\n",
    "\n",
    "Split the sequences into two parts:\n",
    "\n",
    "- Predictors: All elements from input_sequences except the last one.\n",
    "- Labels: The last element of each sequence in input_sequences."
   ]
  },
  {
   "cell_type": "code",
   "execution_count": 7,
   "metadata": {
    "id": "PRnDnCW-Z7qv",
    "tags": []
   },
   "outputs": [
    {
     "name": "stdout",
     "output_type": "stream",
     "text": [
      "Predictors shape: (15484, 10)\n",
      "Labels shape: (15484,)\n"
     ]
    }
   ],
   "source": [
    "# Prepare predictors and labels\n",
    "predictors = input_sequences[:, :-1] # All elements except of last one in each sequence\n",
    "labels = input_sequences[:, -1] # Only the las element in each sequence\n",
    "\n",
    "print(f'Predictors shape: {predictors.shape}')\n",
    "print(f'Labels shape: {labels.shape}')"
   ]
  },
  {
   "cell_type": "markdown",
   "metadata": {},
   "source": [
    "One-Hot Encode the Labels :\n",
    "\n",
    "Convert the labels (which are integers) into one-hot encoded vectors. \n",
    "\n",
    "Ensure the length of these vectors matches the total number of unique words in your vocabulary.\n",
    "\n",
    "Use ku.to_categorical() on labels with num_classes = total_words\n",
    "\n",
    "Assign the result back to our variable labels."
   ]
  },
  {
   "cell_type": "code",
   "execution_count": 8,
   "metadata": {},
   "outputs": [
    {
     "name": "stdout",
     "output_type": "stream",
     "text": [
      "Labels shape after one-hot encoding: (15484, 3375)\n"
     ]
    }
   ],
   "source": [
    "# One hot enconde the labels\n",
    "labels = ku.to_categorical(labels, num_classes=total_words)\n",
    "\n",
    "print(f'Labels shape after one-hot encoding: {labels.shape}')\n"
   ]
  },
  {
   "cell_type": "markdown",
   "metadata": {},
   "source": [
    "# Initialize the Model\n",
    "\n",
    "Start by creating a Sequential model.\n",
    "\n",
    "Add Layers to the Model:\n",
    "\n",
    "Embedding Layer: The first layer is an embedding layer. It converts word indices into dense vectors of fixed size (100 in this case). Set the input length to the maximum sequence length minus one, which corresponds to the number of previous words the model will consider when predicting the next word.\n",
    "\n",
    "Bidirectional LSTM Layer: Add a Bidirectional LSTM layer with 150 units. This layer allows the model to learn context from both directions (past and future) in the sequence. return_sequences=True\n",
    "\n",
    "Dropout Layer: Add a dropout layer with a rate of 0.2 to prevent overfitting by randomly setting 20% of the input units to 0 during training.\n",
    "\n",
    "LSTM Layer: Add a second LSTM layer with 100 units. This layer processes the sequence and passes its output to the next layer.\n",
    "\n",
    "Dense Layer (Intermediate): Add a dense layer with half the total number of words as units, using ReLU activation. A regularization term (L2) is added to prevent overfitting.\n",
    "\n",
    "Dense Layer (Output): The final dense layer has as many units as there are words in the vocabulary, with a softmax activation function to output a probability distribution over all words."
   ]
  },
  {
   "cell_type": "code",
   "execution_count": 9,
   "metadata": {},
   "outputs": [
    {
     "name": "stderr",
     "output_type": "stream",
     "text": [
      "2024-10-04 14:09:58.129989: I external/local_xla/xla/stream_executor/cuda/cuda_executor.cc:901] successful NUMA node read from SysFS had negative value (-1), but there must be at least one NUMA node, so returning NUMA node zero. See more at https://github.com/torvalds/linux/blob/v6.0/Documentation/ABI/testing/sysfs-bus-pci#L344-L355\n",
      "2024-10-04 14:09:58.420748: I external/local_xla/xla/stream_executor/cuda/cuda_executor.cc:901] successful NUMA node read from SysFS had negative value (-1), but there must be at least one NUMA node, so returning NUMA node zero. See more at https://github.com/torvalds/linux/blob/v6.0/Documentation/ABI/testing/sysfs-bus-pci#L344-L355\n",
      "2024-10-04 14:09:58.421082: I external/local_xla/xla/stream_executor/cuda/cuda_executor.cc:901] successful NUMA node read from SysFS had negative value (-1), but there must be at least one NUMA node, so returning NUMA node zero. See more at https://github.com/torvalds/linux/blob/v6.0/Documentation/ABI/testing/sysfs-bus-pci#L344-L355\n",
      "2024-10-04 14:09:58.422949: I external/local_xla/xla/stream_executor/cuda/cuda_executor.cc:901] successful NUMA node read from SysFS had negative value (-1), but there must be at least one NUMA node, so returning NUMA node zero. See more at https://github.com/torvalds/linux/blob/v6.0/Documentation/ABI/testing/sysfs-bus-pci#L344-L355\n",
      "2024-10-04 14:09:58.423195: I external/local_xla/xla/stream_executor/cuda/cuda_executor.cc:901] successful NUMA node read from SysFS had negative value (-1), but there must be at least one NUMA node, so returning NUMA node zero. See more at https://github.com/torvalds/linux/blob/v6.0/Documentation/ABI/testing/sysfs-bus-pci#L344-L355\n",
      "2024-10-04 14:09:58.423363: I external/local_xla/xla/stream_executor/cuda/cuda_executor.cc:901] successful NUMA node read from SysFS had negative value (-1), but there must be at least one NUMA node, so returning NUMA node zero. See more at https://github.com/torvalds/linux/blob/v6.0/Documentation/ABI/testing/sysfs-bus-pci#L344-L355\n",
      "2024-10-04 14:10:00.563306: I external/local_xla/xla/stream_executor/cuda/cuda_executor.cc:901] successful NUMA node read from SysFS had negative value (-1), but there must be at least one NUMA node, so returning NUMA node zero. See more at https://github.com/torvalds/linux/blob/v6.0/Documentation/ABI/testing/sysfs-bus-pci#L344-L355\n",
      "2024-10-04 14:10:00.563627: I external/local_xla/xla/stream_executor/cuda/cuda_executor.cc:901] successful NUMA node read from SysFS had negative value (-1), but there must be at least one NUMA node, so returning NUMA node zero. See more at https://github.com/torvalds/linux/blob/v6.0/Documentation/ABI/testing/sysfs-bus-pci#L344-L355\n",
      "2024-10-04 14:10:00.563829: I external/local_xla/xla/stream_executor/cuda/cuda_executor.cc:901] successful NUMA node read from SysFS had negative value (-1), but there must be at least one NUMA node, so returning NUMA node zero. See more at https://github.com/torvalds/linux/blob/v6.0/Documentation/ABI/testing/sysfs-bus-pci#L344-L355\n",
      "2024-10-04 14:10:00.563961: I tensorflow/core/common_runtime/gpu/gpu_device.cc:1929] Created device /job:localhost/replica:0/task:0/device:GPU:0 with 7393 MB memory:  -> device: 0, name: Quadro P4000, pci bus id: 0000:00:05.0, compute capability: 6.1\n"
     ]
    }
   ],
   "source": [
    "model = Sequential([\n",
    "\n",
    "    Embedding(input_dim=total_words, output_dim=100, input_length=max_sequence_len - 1),\n",
    "    Bidirectional(LSTM(150, return_sequences=True)),\n",
    "    Dropout(0.2),\n",
    "    LSTM(100),\n",
    "    Dense(total_words // 2, activation='relu',kernel_regularizer=l2(0.01)),\n",
    "    Dense(total_words, activation='softmax')\n",
    "    \n",
    "])\n",
    "\n"
   ]
  },
  {
   "cell_type": "markdown",
   "metadata": {},
   "source": [
    "# Compile the Model:\n",
    "\n",
    "Compile the model using categorical crossentropy as the loss function, the Adam optimizer for efficient training, and accuracy as the metric to evaluate during training."
   ]
  },
  {
   "cell_type": "code",
   "execution_count": 10,
   "metadata": {},
   "outputs": [],
   "source": [
    "# Compile the model\n",
    "model.compile(loss='categorical_crossentropy', optimizer='adam', metrics=['accuracy'])"
   ]
  },
  {
   "cell_type": "markdown",
   "metadata": {},
   "source": [
    "# Print Model Summary:\n",
    "\n",
    "Use model.summary() to print a summary of the model, which shows the layers, their output shapes, and the number of parameters."
   ]
  },
  {
   "cell_type": "code",
   "execution_count": 11,
   "metadata": {},
   "outputs": [
    {
     "name": "stdout",
     "output_type": "stream",
     "text": [
      "Model: \"sequential\"\n",
      "_________________________________________________________________\n",
      " Layer (type)                Output Shape              Param #   \n",
      "=================================================================\n",
      " embedding (Embedding)       (None, 10, 100)           337500    \n",
      "                                                                 \n",
      " bidirectional (Bidirection  (None, 10, 300)           301200    \n",
      " al)                                                             \n",
      "                                                                 \n",
      " dropout (Dropout)           (None, 10, 300)           0         \n",
      "                                                                 \n",
      " lstm_1 (LSTM)               (None, 100)               160400    \n",
      "                                                                 \n",
      " dense (Dense)               (None, 1687)              170387    \n",
      "                                                                 \n",
      " dense_1 (Dense)             (None, 3375)              5697000   \n",
      "                                                                 \n",
      "=================================================================\n",
      "Total params: 6666487 (25.43 MB)\n",
      "Trainable params: 6666487 (25.43 MB)\n",
      "Non-trainable params: 0 (0.00 Byte)\n",
      "_________________________________________________________________\n"
     ]
    }
   ],
   "source": [
    "# Model summary\n",
    "model.summary()"
   ]
  },
  {
   "cell_type": "markdown",
   "metadata": {},
   "source": [
    "# Now train the model for 50 epochs and assign it to a variable called history.\n",
    "\n",
    "Training the model with 50 epochs should get you around 40% accuracy.\n",
    "\n",
    "You can train the model for as many epochs as you like depending on the time and computing constraints you are facing. Ideally train it for a larger amount of epochs than 50.\n",
    "\n",
    "That way you will get better text generation at the end.\n",
    "\n",
    "However, dont waste your time."
   ]
  },
  {
   "cell_type": "code",
   "execution_count": 12,
   "metadata": {
    "id": "AIg2f1HBxqof",
    "tags": []
   },
   "outputs": [
    {
     "name": "stdout",
     "output_type": "stream",
     "text": [
      "Epoch 1/50\n"
     ]
    },
    {
     "name": "stderr",
     "output_type": "stream",
     "text": [
      "2024-10-04 14:10:14.323422: I external/local_xla/xla/stream_executor/cuda/cuda_dnn.cc:454] Loaded cuDNN version 8907\n",
      "2024-10-04 14:10:16.390016: I external/local_xla/xla/service/service.cc:168] XLA service 0x7fb33bcdf9a0 initialized for platform CUDA (this does not guarantee that XLA will be used). Devices:\n",
      "2024-10-04 14:10:16.390093: I external/local_xla/xla/service/service.cc:176]   StreamExecutor device (0): Quadro P4000, Compute Capability 6.1\n",
      "2024-10-04 14:10:16.430959: I tensorflow/compiler/mlir/tensorflow/utils/dump_mlir_util.cc:269] disabling MLIR crash reproducer, set env var `MLIR_CRASH_REPRODUCER_DIRECTORY` to enable.\n",
      "WARNING: All log messages before absl::InitializeLog() is called are written to STDERR\n",
      "I0000 00:00:1728051016.679395      91 device_compiler.h:186] Compiled cluster using XLA!  This line is logged at most once for the lifetime of the process.\n"
     ]
    },
    {
     "name": "stdout",
     "output_type": "stream",
     "text": [
      "484/484 [==============================] - 33s 39ms/step - loss: 6.9146 - accuracy: 0.0209\n",
      "Epoch 2/50\n",
      "484/484 [==============================] - 10s 20ms/step - loss: 6.5099 - accuracy: 0.0218\n",
      "Epoch 3/50\n",
      "484/484 [==============================] - 8s 17ms/step - loss: 6.3973 - accuracy: 0.0262\n",
      "Epoch 4/50\n",
      "484/484 [==============================] - 9s 19ms/step - loss: 6.2693 - accuracy: 0.0292\n",
      "Epoch 5/50\n",
      "484/484 [==============================] - 10s 20ms/step - loss: 6.1762 - accuracy: 0.0367\n",
      "Epoch 6/50\n",
      "484/484 [==============================] - 9s 19ms/step - loss: 6.0958 - accuracy: 0.0398\n",
      "Epoch 7/50\n",
      "484/484 [==============================] - 9s 19ms/step - loss: 6.0171 - accuracy: 0.0428\n",
      "Epoch 8/50\n",
      "484/484 [==============================] - 9s 18ms/step - loss: 5.9385 - accuracy: 0.0471\n",
      "Epoch 9/50\n",
      "484/484 [==============================] - 9s 18ms/step - loss: 5.8362 - accuracy: 0.0526\n",
      "Epoch 10/50\n",
      "484/484 [==============================] - 9s 18ms/step - loss: 5.7283 - accuracy: 0.0578\n",
      "Epoch 11/50\n",
      "484/484 [==============================] - 9s 18ms/step - loss: 5.6255 - accuracy: 0.0639\n",
      "Epoch 12/50\n",
      "484/484 [==============================] - 9s 18ms/step - loss: 5.5245 - accuracy: 0.0697\n",
      "Epoch 13/50\n",
      "484/484 [==============================] - 10s 20ms/step - loss: 5.4292 - accuracy: 0.0761\n",
      "Epoch 14/50\n",
      "484/484 [==============================] - 9s 18ms/step - loss: 5.3270 - accuracy: 0.0829\n",
      "Epoch 15/50\n",
      "484/484 [==============================] - 9s 19ms/step - loss: 5.2252 - accuracy: 0.0863\n",
      "Epoch 16/50\n",
      "484/484 [==============================] - 8s 17ms/step - loss: 5.1232 - accuracy: 0.0963\n",
      "Epoch 17/50\n",
      "484/484 [==============================] - 8s 17ms/step - loss: 5.0184 - accuracy: 0.1020\n",
      "Epoch 18/50\n",
      "484/484 [==============================] - 8s 17ms/step - loss: 4.9104 - accuracy: 0.1091\n",
      "Epoch 19/50\n",
      "484/484 [==============================] - 9s 19ms/step - loss: 4.8009 - accuracy: 0.1176\n",
      "Epoch 20/50\n",
      "484/484 [==============================] - 9s 18ms/step - loss: 4.6926 - accuracy: 0.1298\n",
      "Epoch 21/50\n",
      "484/484 [==============================] - 9s 19ms/step - loss: 4.5851 - accuracy: 0.1376\n",
      "Epoch 22/50\n",
      "484/484 [==============================] - 9s 18ms/step - loss: 4.4723 - accuracy: 0.1455\n",
      "Epoch 23/50\n",
      "484/484 [==============================] - 9s 18ms/step - loss: 4.3671 - accuracy: 0.1600\n",
      "Epoch 24/50\n",
      "484/484 [==============================] - 9s 19ms/step - loss: 4.2535 - accuracy: 0.1755\n",
      "Epoch 25/50\n",
      "484/484 [==============================] - 9s 18ms/step - loss: 4.1481 - accuracy: 0.1841\n",
      "Epoch 26/50\n",
      "484/484 [==============================] - 9s 19ms/step - loss: 4.0450 - accuracy: 0.2017\n",
      "Epoch 27/50\n",
      "484/484 [==============================] - 10s 20ms/step - loss: 3.9365 - accuracy: 0.2182\n",
      "Epoch 28/50\n",
      "484/484 [==============================] - 9s 19ms/step - loss: 3.8403 - accuracy: 0.2338\n",
      "Epoch 29/50\n",
      "484/484 [==============================] - 9s 19ms/step - loss: 3.7413 - accuracy: 0.2566\n",
      "Epoch 30/50\n",
      "484/484 [==============================] - 8s 17ms/step - loss: 3.6240 - accuracy: 0.2780\n",
      "Epoch 31/50\n",
      "484/484 [==============================] - 8s 17ms/step - loss: 3.5404 - accuracy: 0.2984\n",
      "Epoch 32/50\n",
      "484/484 [==============================] - 9s 19ms/step - loss: 3.4414 - accuracy: 0.3145\n",
      "Epoch 33/50\n",
      "484/484 [==============================] - 9s 19ms/step - loss: 3.3540 - accuracy: 0.3356\n",
      "Epoch 34/50\n",
      "484/484 [==============================] - 9s 19ms/step - loss: 3.2635 - accuracy: 0.3550\n",
      "Epoch 35/50\n",
      "484/484 [==============================] - 8s 17ms/step - loss: 3.1895 - accuracy: 0.3714\n",
      "Epoch 36/50\n",
      "484/484 [==============================] - 9s 18ms/step - loss: 3.1055 - accuracy: 0.3910\n",
      "Epoch 37/50\n",
      "484/484 [==============================] - 9s 19ms/step - loss: 3.0244 - accuracy: 0.4113\n",
      "Epoch 38/50\n",
      "484/484 [==============================] - 9s 18ms/step - loss: 2.9481 - accuracy: 0.4241\n",
      "Epoch 39/50\n",
      "484/484 [==============================] - 8s 17ms/step - loss: 2.8786 - accuracy: 0.4451\n",
      "Epoch 40/50\n",
      "484/484 [==============================] - 8s 17ms/step - loss: 2.8132 - accuracy: 0.4585\n",
      "Epoch 41/50\n",
      "484/484 [==============================] - 9s 18ms/step - loss: 2.7431 - accuracy: 0.4718\n",
      "Epoch 42/50\n",
      "484/484 [==============================] - 9s 19ms/step - loss: 2.6716 - accuracy: 0.4870\n",
      "Epoch 43/50\n",
      "484/484 [==============================] - 9s 19ms/step - loss: 2.6217 - accuracy: 0.5039\n",
      "Epoch 44/50\n",
      "484/484 [==============================] - 8s 17ms/step - loss: 2.5569 - accuracy: 0.5176\n",
      "Epoch 45/50\n",
      "484/484 [==============================] - 9s 19ms/step - loss: 2.4953 - accuracy: 0.5261\n",
      "Epoch 46/50\n",
      "484/484 [==============================] - 9s 19ms/step - loss: 2.4450 - accuracy: 0.5412\n",
      "Epoch 47/50\n",
      "484/484 [==============================] - 9s 19ms/step - loss: 2.3908 - accuracy: 0.5552\n",
      "Epoch 48/50\n",
      "484/484 [==============================] - 9s 18ms/step - loss: 2.3279 - accuracy: 0.5651\n",
      "Epoch 49/50\n",
      "484/484 [==============================] - 8s 17ms/step - loss: 2.2914 - accuracy: 0.5718\n",
      "Epoch 50/50\n",
      "484/484 [==============================] - 9s 18ms/step - loss: 2.2432 - accuracy: 0.5834\n"
     ]
    }
   ],
   "source": [
    "history = model.fit(predictors, labels, epochs=50, verbose=1)\n"
   ]
  },
  {
   "cell_type": "markdown",
   "metadata": {},
   "source": [
    "# Use plt from matplotlib to plot the training accuracy over epochs and the loss over epochs"
   ]
  },
  {
   "cell_type": "markdown",
   "metadata": {},
   "source": [
    "First you will have to get the accuracy and loss data over epochs, you can do this by using methods on your model."
   ]
  },
  {
   "cell_type": "code",
   "execution_count": 13,
   "metadata": {
    "id": "1fXTEO3GJ282",
    "tags": []
   },
   "outputs": [
    {
     "data": {
      "image/png": "[encoded data removed]",
      "text/plain": [
       "<Figure size 1200x600 with 2 Axes>"
      ]
     },
     "metadata": {},
     "output_type": "display_data"
    }
   ],
   "source": [
    "import matplotlib.pyplot as plt\n",
    "\n",
    "# Plot training accuracy and loss over epochs\n",
    "\n",
    "# Get the accuracy and loss from the history object\n",
    "accuracy = history.history['accuracy']\n",
    "loss = history.history['loss']\n",
    "epochs = range(1, len(accuracy) + 1)\n",
    "\n",
    "# Plot Accuracy\n",
    "plt.figure(figsize=(12, 6))\n",
    "\n",
    "plt.subplot(1, 2, 1)\n",
    "plt.plot(epochs, accuracy, 'b', label='Training accuracy')\n",
    "plt.title('Training Accuracy over Epochs')\n",
    "plt.xlabel('Epochs')\n",
    "plt.ylabel('Accuracy')\n",
    "plt.legend()\n",
    "\n",
    "# Plot Loss\n",
    "plt.subplot(1, 2, 2)\n",
    "plt.plot(epochs, loss, 'r', label='Training loss')\n",
    "plt.title('Training Loss over Epochs')\n",
    "plt.xlabel('Epochs')\n",
    "plt.ylabel('Loss')\n",
    "plt.legend()\n",
    "\n",
    "plt.show()\n"
   ]
  },
  {
   "cell_type": "markdown",
   "metadata": {},
   "source": [
    "# Generate text with the model based on a seed text\n",
    "\n",
    "Now you will create two variables :\n",
    "\n",
    "- seed_text = 'Write the text you want the model to use as a starting point to generate the next words'\n",
    "- next_words = number_of_words_you_want_the_model_to_generate\n",
    "\n",
    "Please change number_of_words_you_want_the_model_to_generate by an actual integer."
   ]
  },
  {
   "cell_type": "code",
   "execution_count": 14,
   "metadata": {},
   "outputs": [
    {
     "name": "stdout",
     "output_type": "stream",
     "text": [
      "Write the text you want the model to use as a starting point leaves ' acquainted dyed acquainted free gone should live young\n"
     ]
    }
   ],
   "source": [
    "def generate_text(model, tokenizer, seed_text, next_words, max_sequence_len):\n",
    "    for _ in range(next_words):\n",
    "        # Convert seed_text to a sequence of tokens\n",
    "        token_list = tokenizer.texts_to_sequences([seed_text])[0]\n",
    "        # Pad the sequence to match the input length expected by the model\n",
    "        token_list = pad_sequences([token_list], maxlen=max_sequence_len - 1, padding='pre')\n",
    "        # Predict the next word\n",
    "        predicted = model.predict(token_list, verbose=0)\n",
    "        # Get the index of the word with the highest probability\n",
    "        predicted_word_index = predicted.argmax(axis=-1)\n",
    "        # Convert the index back to a word using the tokenizer\n",
    "        output_word = \"\"\n",
    "        for word, index in tokenizer.word_index.items():\n",
    "            if index == predicted_word_index:\n",
    "                output_word = word\n",
    "                break\n",
    "        # Append the predicted word to the seed text\n",
    "        seed_text += \" \" + output_word\n",
    "    return seed_text\n",
    "\n",
    "# Variables\n",
    "seed_text = \"Write the text you want the model to use as a starting point\"\n",
    "next_words = 10  # Replace this with the number of words you want to generate\n",
    "\n",
    "# Generate and print the text\n",
    "generated_text = generate_text(model, tokenizer, seed_text, next_words, max_sequence_len)\n",
    "print(generated_text)\n"
   ]
  },
  {
   "cell_type": "markdown",
   "metadata": {},
   "source": [
    "Now create a loop that runs based on the next_words variable and generates new text based on your seed_text input string. Print the full text with the generated text at the end.\n",
    "\n",
    "This time you dont get detailed instructions.\n",
    "\n",
    "Have fun!"
   ]
  },
  {
   "cell_type": "code",
   "execution_count": 15,
   "metadata": {
    "id": "6Vc6PHgxa6Hm",
    "tags": []
   },
   "outputs": [
    {
     "name": "stdout",
     "output_type": "stream",
     "text": [
      "This is the beginning of something where thy praise old part write write good thine best have eye alone seem so due was true such art\n"
     ]
    }
   ],
   "source": [
    "# Create a loop based on next_words and generate new text\n",
    "seed_text = \"This is the beginning of something\"\n",
    "next_words = 20  # Example: Generate 20 words\n",
    "\n",
    "for _ in range(next_words):\n",
    "    # Convert seed_text to a sequence of tokens\n",
    "    token_list = tokenizer.texts_to_sequences([seed_text])[0]\n",
    "    # Pad the sequence to match the input length expected by the model\n",
    "    token_list = pad_sequences([token_list], maxlen=max_sequence_len - 1, padding='pre')\n",
    "    # Predict the next word\n",
    "    predicted = model.predict(token_list, verbose=0)\n",
    "    # Get the index of the word with the highest probability\n",
    "    predicted_word_index = predicted.argmax(axis=-1)\n",
    "    # Convert the index back to a word using the tokenizer\n",
    "    output_word = \"\"\n",
    "    for word, index in tokenizer.word_index.items():\n",
    "        if index == predicted_word_index:\n",
    "            output_word = word\n",
    "            break\n",
    "    # Append the predicted word to the seed text\n",
    "    seed_text += \" \" + output_word\n",
    "\n",
    "# Print the full generated text\n",
    "print(seed_text)\n"
   ]
  },
  {
   "cell_type": "markdown",
   "metadata": {},
   "source": [
    "Experiment with at least 3 different seed_text strings and see what happens!"
   ]
  },
  {
   "cell_type": "code",
   "execution_count": 16,
   "metadata": {},
   "outputs": [
    {
     "name": "stdout",
     "output_type": "stream",
     "text": [
      "Seed text: The sun rises\n",
      "Generated text: The sun rises as happier but to not untrue give sort sort done\n",
      "\n",
      "Seed text: Once upon a time\n",
      "Generated text: Once upon a time above that dead worthless wife defaced sang sang pluck make\n",
      "\n",
      "Seed text: In the middle of the night\n",
      "Generated text: In the middle of the night hand smell wide wide hand wide wide leaves bell compare\n",
      "\n"
     ]
    }
   ],
   "source": [
    "# Function to generate text with different seed texts\n",
    "def generate_text(model, tokenizer, seed_text, next_words, max_sequence_len):\n",
    "    for _ in range(next_words):\n",
    "        token_list = tokenizer.texts_to_sequences([seed_text])[0]\n",
    "        token_list = pad_sequences([token_list], maxlen=max_sequence_len - 1, padding='pre')\n",
    "        predicted = model.predict(token_list, verbose=0)\n",
    "        predicted_word_index = predicted.argmax(axis=-1)\n",
    "        output_word = \"\"\n",
    "        for word, index in tokenizer.word_index.items():\n",
    "            if index == predicted_word_index:\n",
    "                output_word = word\n",
    "                break\n",
    "        seed_text += \" \" + output_word\n",
    "    return seed_text\n",
    "\n",
    "# Experimenting with different seed texts\n",
    "seed_texts = [\n",
    "    \"The sun rises\",\n",
    "    \"Once upon a time\",\n",
    "    \"In the middle of the night\"\n",
    "]\n",
    "\n",
    "next_words = 10  # Generate 10 words for each seed text\n",
    "\n",
    "# Loop through each seed text and generate text\n",
    "for seed in seed_texts:\n",
    "    print(f\"Seed text: {seed}\")\n",
    "    generated_text = generate_text(model, tokenizer, seed, next_words, max_sequence_len)\n",
    "    print(f\"Generated text: {generated_text}\\n\")\n"
   ]
  }
 ],
 "metadata": {
  "accelerator": "GPU",
  "colab": {
   "name": "NLP_Week4_Exercise_Shakespeare_Answer.ipynb",
   "provenance": [],
   "toc_visible": true
  },
  "kernelspec": {
   "display_name": "Python 3 (ipykernel)",
   "language": "python",
   "name": "python3"
  },
  "language_info": {
   "codemirror_mode": {
    "name": "ipython",
    "version": 3
   },
   "file_extension": ".py",
   "mimetype": "text/x-python",
   "name": "python",
   "nbconvert_exporter": "python",
   "pygments_lexer": "ipython3",
   "version": "3.11.7"
  }
 },
 "nbformat": 4,
 "nbformat_minor": 4
}
