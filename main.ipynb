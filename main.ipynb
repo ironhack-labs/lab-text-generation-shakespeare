{
 "cells": [
  {
   "cell_type": "markdown",
   "metadata": {},
   "source": [
    "# Lab | Text Generation from Shakespeare's Sonnet\n",
    "\n",
    "This notebook explores the fascinating domain of text generation using a deep learning model trained on Shakespeare's sonnets. \n",
    "\n",
    "The objective is to create a neural network capable of generating text sequences that mimic the style and language of Shakespeare.\n",
    "\n",
    "By utilizing a Recurrent Neural Network (RNN) with Long Short-Term Memory (LSTM) layers, this project aims to demonstrate how a model can learn and replicate the complex patterns of early modern English. \n",
    "\n",
    "The dataset used consists of Shakespeare's sonnets, which are preprocessed and tokenized to serve as input for the model.\n",
    "\n",
    "Throughout this notebook, you will see the steps taken to prepare the data, build and train the model, and evaluate its performance in generating text. \n",
    "\n",
    "This lab provides a hands-on approach to understanding the intricacies of natural language processing (NLP) and the potential of machine learning in creative text generation."
   ]
  },
  {
   "cell_type": "markdown",
   "metadata": {},
   "source": [
    "Let's import necessary libraries"
   ]
  },
  {
   "cell_type": "code",
   "execution_count": 1,
   "metadata": {
    "id": "BOwsuGQQY9OL",
    "tags": []
   },
   "outputs": [
    {
     "name": "stderr",
     "output_type": "stream",
     "text": [
      "2024-10-04 13:07:10.709904: E external/local_xla/xla/stream_executor/cuda/cuda_dnn.cc:9261] Unable to register cuDNN factory: Attempting to register factory for plugin cuDNN when one has already been registered\n",
      "2024-10-04 13:07:10.710103: E external/local_xla/xla/stream_executor/cuda/cuda_fft.cc:607] Unable to register cuFFT factory: Attempting to register factory for plugin cuFFT when one has already been registered\n",
      "2024-10-04 13:07:10.862654: E external/local_xla/xla/stream_executor/cuda/cuda_blas.cc:1515] Unable to register cuBLAS factory: Attempting to register factory for plugin cuBLAS when one has already been registered\n",
      "2024-10-04 13:07:11.133386: I tensorflow/core/platform/cpu_feature_guard.cc:182] This TensorFlow binary is optimized to use available CPU instructions in performance-critical operations.\n",
      "To enable the following instructions: AVX2 FMA, in other operations, rebuild TensorFlow with the appropriate compiler flags.\n",
      "2024-10-04 13:07:13.406398: W tensorflow/compiler/tf2tensorrt/utils/py_utils.cc:38] TF-TRT Warning: Could not find TensorRT\n"
     ]
    }
   ],
   "source": [
    "from tensorflow.keras.preprocessing.sequence import pad_sequences\n",
    "from tensorflow.keras.layers import Embedding, LSTM, Dense, Dropout, Bidirectional\n",
    "from tensorflow.keras.preprocessing.text import Tokenizer\n",
    "from tensorflow.keras.models import Sequential\n",
    "from tensorflow.keras.optimizers import Adam\n",
    "from tensorflow.keras import regularizers\n",
    "import tensorflow.keras.utils as ku \n",
    "import numpy as np"
   ]
  },
  {
   "cell_type": "markdown",
   "metadata": {},
   "source": [
    "Let's get the data!"
   ]
  },
  {
   "cell_type": "code",
   "execution_count": 2,
   "metadata": {
    "tags": []
   },
   "outputs": [],
   "source": [
    "import requests\n",
    "url = 'https://raw.githubusercontent.com/martin-gorner/tensorflow-rnn-shakespeare/master/shakespeare/sonnets.txt'\n",
    "resp = requests.get(url)\n",
    "with open('sonnets.txt', 'wb') as f:\n",
    "    f.write(resp.content)\n",
    "\n",
    "data = open('sonnets.txt').read()\n",
    "\n",
    "corpus = data.lower().split(\"\\n\")"
   ]
  },
  {
   "cell_type": "markdown",
   "metadata": {},
   "source": [
    "Step 1: Initialise a tokenizer and fit it on the corpus variable using .fit_on_texts"
   ]
  },
  {
   "cell_type": "code",
   "execution_count": 3,
   "metadata": {},
   "outputs": [],
   "source": [
    "from tensorflow.keras.preprocessing.text import Tokenizer\n",
    "\n",
    "tokenizer = Tokenizer()\n",
    "tokenizer.fit_on_texts(corpus)\n"
   ]
  },
  {
   "cell_type": "markdown",
   "metadata": {},
   "source": [
    "Step 2: Calculate the Vocabulary Size\n",
    "\n",
    "Let's figure out how many unique words are in your corpus. This will be the size of your vocabulary.\n",
    "\n",
    "Calculate the length of tokenizer.word_index, add 1 to it and store it in a variable called total_words."
   ]
  },
  {
   "cell_type": "code",
   "execution_count": 4,
   "metadata": {},
   "outputs": [],
   "source": [
    "total_words = len(tokenizer.word_index) + 1"
   ]
  },
  {
   "cell_type": "markdown",
   "metadata": {},
   "source": [
    "Create an empty list called input_sequences.\n",
    "\n",
    "For each sentence in your corpus, convert the text into a sequence of integers using the tokenizer.\n",
    "Then, generate n-gram sequences from these tokens.\n",
    "\n",
    "Store the result in the list input_sequences."
   ]
  },
  {
   "cell_type": "code",
   "execution_count": 5,
   "metadata": {},
   "outputs": [],
   "source": [
    "input_sequences = []\n",
    "for line in corpus:\n",
    "    token_list = tokenizer.texts_to_sequences([line])[0]\n",
    "    for i in range(1, len(token_list)):\n",
    "        n_gram_sequence = token_list[:i+1]\n",
    "        input_sequences.append(n_gram_sequence)"
   ]
  },
  {
   "cell_type": "markdown",
   "metadata": {},
   "source": [
    "Calculate the length of the longest sequence in input_sequences. Assign the result to a variable called max_sequence_len.\n",
    "\n",
    "Now pad the sequences using pad_sequences(input_sequences, maxlen=max_sequence_len, padding='pre').\n",
    "Convert it to a numpy array and assign the result back to our variable called input_sequences."
   ]
  },
  {
   "cell_type": "code",
   "execution_count": 6,
   "metadata": {},
   "outputs": [],
   "source": [
    "max_sequence_len = max([len(seq) for seq in input_sequences])\n",
    "input_sequences = np.array(pad_sequences(input_sequences, maxlen=max_sequence_len, padding='pre'))\n"
   ]
  },
  {
   "cell_type": "markdown",
   "metadata": {},
   "source": [
    "Prepare Predictors and Labels\n",
    "\n",
    "Split the sequences into two parts:\n",
    "\n",
    "- Predictors: All elements from input_sequences except the last one.\n",
    "- Labels: The last element of each sequence in input_sequences."
   ]
  },
  {
   "cell_type": "code",
   "execution_count": 7,
   "metadata": {
    "id": "PRnDnCW-Z7qv",
    "tags": []
   },
   "outputs": [],
   "source": [
    "X, y = input_sequences[:, :-1], input_sequences[:, -1]\n"
   ]
  },
  {
   "cell_type": "markdown",
   "metadata": {},
   "source": [
    "One-Hot Encode the Labels :\n",
    "\n",
    "Convert the labels (which are integers) into one-hot encoded vectors. \n",
    "\n",
    "Ensure the length of these vectors matches the total number of unique words in your vocabulary.\n",
    "\n",
    "Use ku.to_categorical() on labels with num_classes = total_words\n",
    "\n",
    "Assign the result back to our variable labels."
   ]
  },
  {
   "cell_type": "code",
   "execution_count": 8,
   "metadata": {},
   "outputs": [],
   "source": [
    "y = ku.to_categorical(y, num_classes=total_words)\n"
   ]
  },
  {
   "cell_type": "markdown",
   "metadata": {},
   "source": [
    "# Initialize the Model\n",
    "\n",
    "Start by creating a Sequential model.\n",
    "\n",
    "Add Layers to the Model:\n",
    "\n",
    "Embedding Layer: The first layer is an embedding layer. It converts word indices into dense vectors of fixed size (100 in this case). Set the input length to the maximum sequence length minus one, which corresponds to the number of previous words the model will consider when predicting the next word.\n",
    "\n",
    "Bidirectional LSTM Layer: Add a Bidirectional LSTM layer with 150 units. This layer allows the model to learn context from both directions (past and future) in the sequence. return_sequences=True\n",
    "\n",
    "Dropout Layer: Add a dropout layer with a rate of 0.2 to prevent overfitting by randomly setting 20% of the input units to 0 during training.\n",
    "\n",
    "LSTM Layer: Add a second LSTM layer with 100 units. This layer processes the sequence and passes its output to the next layer.\n",
    "\n",
    "Dense Layer (Intermediate): Add a dense layer with half the total number of words as units, using ReLU activation. A regularization term (L2) is added to prevent overfitting.\n",
    "\n",
    "Dense Layer (Output): The final dense layer has as many units as there are words in the vocabulary, with a softmax activation function to output a probability distribution over all words."
   ]
  },
  {
   "cell_type": "code",
   "execution_count": 9,
   "metadata": {},
   "outputs": [
    {
     "name": "stderr",
     "output_type": "stream",
     "text": [
      "2024-10-04 13:07:18.799428: I external/local_xla/xla/stream_executor/cuda/cuda_executor.cc:901] successful NUMA node read from SysFS had negative value (-1), but there must be at least one NUMA node, so returning NUMA node zero. See more at https://github.com/torvalds/linux/blob/v6.0/Documentation/ABI/testing/sysfs-bus-pci#L344-L355\n",
      "2024-10-04 13:07:19.331180: I external/local_xla/xla/stream_executor/cuda/cuda_executor.cc:901] successful NUMA node read from SysFS had negative value (-1), but there must be at least one NUMA node, so returning NUMA node zero. See more at https://github.com/torvalds/linux/blob/v6.0/Documentation/ABI/testing/sysfs-bus-pci#L344-L355\n",
      "2024-10-04 13:07:19.331514: I external/local_xla/xla/stream_executor/cuda/cuda_executor.cc:901] successful NUMA node read from SysFS had negative value (-1), but there must be at least one NUMA node, so returning NUMA node zero. See more at https://github.com/torvalds/linux/blob/v6.0/Documentation/ABI/testing/sysfs-bus-pci#L344-L355\n",
      "2024-10-04 13:07:19.332822: I external/local_xla/xla/stream_executor/cuda/cuda_executor.cc:901] successful NUMA node read from SysFS had negative value (-1), but there must be at least one NUMA node, so returning NUMA node zero. See more at https://github.com/torvalds/linux/blob/v6.0/Documentation/ABI/testing/sysfs-bus-pci#L344-L355\n",
      "2024-10-04 13:07:19.333077: I external/local_xla/xla/stream_executor/cuda/cuda_executor.cc:901] successful NUMA node read from SysFS had negative value (-1), but there must be at least one NUMA node, so returning NUMA node zero. See more at https://github.com/torvalds/linux/blob/v6.0/Documentation/ABI/testing/sysfs-bus-pci#L344-L355\n",
      "2024-10-04 13:07:19.333299: I external/local_xla/xla/stream_executor/cuda/cuda_executor.cc:901] successful NUMA node read from SysFS had negative value (-1), but there must be at least one NUMA node, so returning NUMA node zero. See more at https://github.com/torvalds/linux/blob/v6.0/Documentation/ABI/testing/sysfs-bus-pci#L344-L355\n",
      "2024-10-04 13:07:22.393525: I external/local_xla/xla/stream_executor/cuda/cuda_executor.cc:901] successful NUMA node read from SysFS had negative value (-1), but there must be at least one NUMA node, so returning NUMA node zero. See more at https://github.com/torvalds/linux/blob/v6.0/Documentation/ABI/testing/sysfs-bus-pci#L344-L355\n",
      "2024-10-04 13:07:22.393772: I external/local_xla/xla/stream_executor/cuda/cuda_executor.cc:901] successful NUMA node read from SysFS had negative value (-1), but there must be at least one NUMA node, so returning NUMA node zero. See more at https://github.com/torvalds/linux/blob/v6.0/Documentation/ABI/testing/sysfs-bus-pci#L344-L355\n",
      "2024-10-04 13:07:22.393964: I external/local_xla/xla/stream_executor/cuda/cuda_executor.cc:901] successful NUMA node read from SysFS had negative value (-1), but there must be at least one NUMA node, so returning NUMA node zero. See more at https://github.com/torvalds/linux/blob/v6.0/Documentation/ABI/testing/sysfs-bus-pci#L344-L355\n",
      "2024-10-04 13:07:22.394097: I tensorflow/core/common_runtime/gpu/gpu_device.cc:1929] Created device /job:localhost/replica:0/task:0/device:GPU:0 with 7393 MB memory:  -> device: 0, name: Quadro P4000, pci bus id: 0000:00:05.0, compute capability: 6.1\n"
     ]
    }
   ],
   "source": [
    "from tensorflow.keras.models import Sequential\n",
    "from tensorflow.keras.layers import Embedding, LSTM, Dense, Dropout, Bidirectional\n",
    "from tensorflow.keras.regularizers import l2\n",
    "from tensorflow.keras.optimizers import Adam\n",
    "\n",
    "# Initialize the model\n",
    "model = Sequential([\n",
    "    # Embedding layer\n",
    "    Embedding(input_dim=total_words, output_dim=100, input_length=max_sequence_len - 1),\n",
    "\n",
    "    # Bidirectional LSTM layer with 150 units\n",
    "    Bidirectional(LSTM(150, return_sequences=True)),\n",
    "\n",
    "    # Dropout layer with rate 0.2\n",
    "    Dropout(0.2),\n",
    "\n",
    "    # Second LSTM layer with 100 units\n",
    "    LSTM(100),\n",
    "\n",
    "    # Dense layer (Intermediate) with ReLU activation and L2 regularization\n",
    "    Dense(total_words // 2, activation='relu', kernel_regularizer=l2(0.01)),\n",
    "\n",
    "    # Output Dense layer with softmax activation\n",
    "    Dense(total_words, activation='softmax')\n",
    "])"
   ]
  },
  {
   "cell_type": "markdown",
   "metadata": {},
   "source": [
    "# Compile the Model:\n",
    "\n",
    "Compile the model using categorical crossentropy as the loss function, the Adam optimizer for efficient training, and accuracy as the metric to evaluate during training."
   ]
  },
  {
   "cell_type": "code",
   "execution_count": 10,
   "metadata": {},
   "outputs": [],
   "source": [
    "# Compile the model\n",
    "model.compile(optimizer=Adam(learning_rate=0.001), loss='categorical_crossentropy', metrics=['accuracy'])\n",
    "\n"
   ]
  },
  {
   "cell_type": "markdown",
   "metadata": {},
   "source": [
    "# Print Model Summary:\n",
    "\n",
    "Use model.summary() to print a summary of the model, which shows the layers, their output shapes, and the number of parameters."
   ]
  },
  {
   "cell_type": "code",
   "execution_count": 11,
   "metadata": {},
   "outputs": [
    {
     "name": "stdout",
     "output_type": "stream",
     "text": [
      "Model: \"sequential\"\n",
      "_________________________________________________________________\n",
      " Layer (type)                Output Shape              Param #   \n",
      "=================================================================\n",
      " embedding (Embedding)       (None, 10, 100)           337500    \n",
      "                                                                 \n",
      " bidirectional (Bidirection  (None, 10, 300)           301200    \n",
      " al)                                                             \n",
      "                                                                 \n",
      " dropout (Dropout)           (None, 10, 300)           0         \n",
      "                                                                 \n",
      " lstm_1 (LSTM)               (None, 100)               160400    \n",
      "                                                                 \n",
      " dense (Dense)               (None, 1687)              170387    \n",
      "                                                                 \n",
      " dense_1 (Dense)             (None, 3375)              5697000   \n",
      "                                                                 \n",
      "=================================================================\n",
      "Total params: 6666487 (25.43 MB)\n",
      "Trainable params: 6666487 (25.43 MB)\n",
      "Non-trainable params: 0 (0.00 Byte)\n",
      "_________________________________________________________________\n"
     ]
    }
   ],
   "source": [
    "\n",
    "# Summary of the model\n",
    "model.summary()"
   ]
  },
  {
   "cell_type": "markdown",
   "metadata": {},
   "source": [
    "# Now train the model for 50 epochs and assign it to a variable called history.\n",
    "\n",
    "Training the model with 50 epochs should get you around 40% accuracy.\n",
    "\n",
    "You can train the model for as many epochs as you like depending on the time and computing constraints you are facing. Ideally train it for a larger amount of epochs than 50.\n",
    "\n",
    "That way you will get better text generation at the end.\n",
    "\n",
    "However, dont waste your time."
   ]
  },
  {
   "cell_type": "code",
   "execution_count": 13,
   "metadata": {
    "id": "AIg2f1HBxqof",
    "tags": []
   },
   "outputs": [
    {
     "name": "stdout",
     "output_type": "stream",
     "text": [
      "Epoch 1/100\n",
      "484/484 [==============================] - 5s 11ms/step - loss: 4.4107 - accuracy: 0.1587\n",
      "Epoch 2/100\n",
      "484/484 [==============================] - 5s 11ms/step - loss: 4.3015 - accuracy: 0.1717\n",
      "Epoch 3/100\n",
      "484/484 [==============================] - 5s 11ms/step - loss: 4.1928 - accuracy: 0.1838\n",
      "Epoch 4/100\n",
      "484/484 [==============================] - 6s 12ms/step - loss: 4.0832 - accuracy: 0.1990\n",
      "Epoch 5/100\n",
      "484/484 [==============================] - 5s 11ms/step - loss: 3.9847 - accuracy: 0.2136\n",
      "Epoch 6/100\n",
      "484/484 [==============================] - 6s 12ms/step - loss: 3.8916 - accuracy: 0.2278\n",
      "Epoch 7/100\n",
      "484/484 [==============================] - 6s 12ms/step - loss: 3.7942 - accuracy: 0.2424\n",
      "Epoch 8/100\n",
      "484/484 [==============================] - 6s 12ms/step - loss: 3.6947 - accuracy: 0.2608\n",
      "Epoch 9/100\n",
      "484/484 [==============================] - 5s 11ms/step - loss: 3.5999 - accuracy: 0.2807\n",
      "Epoch 10/100\n",
      "484/484 [==============================] - 6s 11ms/step - loss: 3.5061 - accuracy: 0.3021\n",
      "Epoch 11/100\n",
      "484/484 [==============================] - 6s 12ms/step - loss: 3.4258 - accuracy: 0.3176\n",
      "Epoch 12/100\n",
      "484/484 [==============================] - 5s 11ms/step - loss: 3.3387 - accuracy: 0.3398\n",
      "Epoch 13/100\n",
      "484/484 [==============================] - 6s 12ms/step - loss: 3.2498 - accuracy: 0.3576\n",
      "Epoch 14/100\n",
      "484/484 [==============================] - 6s 12ms/step - loss: 3.1693 - accuracy: 0.3770\n",
      "Epoch 15/100\n",
      "484/484 [==============================] - 6s 12ms/step - loss: 3.0897 - accuracy: 0.3947\n",
      "Epoch 16/100\n",
      "484/484 [==============================] - 6s 12ms/step - loss: 3.0067 - accuracy: 0.4122\n",
      "Epoch 17/100\n",
      "484/484 [==============================] - 5s 11ms/step - loss: 2.9436 - accuracy: 0.4279\n",
      "Epoch 18/100\n",
      "484/484 [==============================] - 5s 11ms/step - loss: 2.8654 - accuracy: 0.4457\n",
      "Epoch 19/100\n",
      "484/484 [==============================] - 5s 11ms/step - loss: 2.8018 - accuracy: 0.4587\n",
      "Epoch 20/100\n",
      "484/484 [==============================] - 6s 11ms/step - loss: 2.7410 - accuracy: 0.4770\n",
      "Epoch 21/100\n",
      "484/484 [==============================] - 6s 12ms/step - loss: 2.6713 - accuracy: 0.4925\n",
      "Epoch 22/100\n",
      "484/484 [==============================] - 6s 12ms/step - loss: 2.6179 - accuracy: 0.5003\n",
      "Epoch 23/100\n",
      "484/484 [==============================] - 5s 11ms/step - loss: 2.5610 - accuracy: 0.5155\n",
      "Epoch 24/100\n",
      "484/484 [==============================] - 5s 11ms/step - loss: 2.5044 - accuracy: 0.5289\n",
      "Epoch 25/100\n",
      "484/484 [==============================] - 6s 11ms/step - loss: 2.4488 - accuracy: 0.5380\n",
      "Epoch 26/100\n",
      "484/484 [==============================] - 6s 12ms/step - loss: 2.3861 - accuracy: 0.5522\n",
      "Epoch 27/100\n",
      "484/484 [==============================] - 6s 12ms/step - loss: 2.3519 - accuracy: 0.5625\n",
      "Epoch 28/100\n",
      "484/484 [==============================] - 6s 12ms/step - loss: 2.3058 - accuracy: 0.5701\n",
      "Epoch 29/100\n",
      "484/484 [==============================] - 6s 12ms/step - loss: 2.2461 - accuracy: 0.5872\n",
      "Epoch 30/100\n",
      "484/484 [==============================] - 6s 12ms/step - loss: 2.2108 - accuracy: 0.5944\n",
      "Epoch 31/100\n",
      "484/484 [==============================] - 6s 12ms/step - loss: 2.1443 - accuracy: 0.6089\n",
      "Epoch 32/100\n",
      "484/484 [==============================] - 6s 12ms/step - loss: 2.1179 - accuracy: 0.6118\n",
      "Epoch 33/100\n",
      "484/484 [==============================] - 6s 12ms/step - loss: 2.0862 - accuracy: 0.6218\n",
      "Epoch 34/100\n",
      "484/484 [==============================] - 6s 12ms/step - loss: 2.0366 - accuracy: 0.6307\n",
      "Epoch 35/100\n",
      "484/484 [==============================] - 6s 12ms/step - loss: 1.9969 - accuracy: 0.6409\n",
      "Epoch 36/100\n",
      "484/484 [==============================] - 6s 12ms/step - loss: 1.9648 - accuracy: 0.6494\n",
      "Epoch 37/100\n",
      "484/484 [==============================] - 6s 12ms/step - loss: 1.9181 - accuracy: 0.6578\n",
      "Epoch 38/100\n",
      "484/484 [==============================] - 6s 11ms/step - loss: 1.8892 - accuracy: 0.6624\n",
      "Epoch 39/100\n",
      "484/484 [==============================] - 6s 12ms/step - loss: 1.8551 - accuracy: 0.6694\n",
      "Epoch 40/100\n",
      "484/484 [==============================] - 6s 12ms/step - loss: 1.8318 - accuracy: 0.6766\n",
      "Epoch 41/100\n",
      "484/484 [==============================] - 6s 12ms/step - loss: 1.8014 - accuracy: 0.6804\n",
      "Epoch 42/100\n",
      "484/484 [==============================] - 6s 12ms/step - loss: 1.7625 - accuracy: 0.6897\n",
      "Epoch 43/100\n",
      "484/484 [==============================] - 6s 12ms/step - loss: 1.7247 - accuracy: 0.6999\n",
      "Epoch 44/100\n",
      "484/484 [==============================] - 5s 11ms/step - loss: 1.7151 - accuracy: 0.6989\n",
      "Epoch 45/100\n",
      "484/484 [==============================] - 5s 11ms/step - loss: 1.6848 - accuracy: 0.7050\n",
      "Epoch 46/100\n",
      "484/484 [==============================] - 5s 11ms/step - loss: 1.6673 - accuracy: 0.7076\n",
      "Epoch 47/100\n",
      "484/484 [==============================] - 6s 12ms/step - loss: 1.6299 - accuracy: 0.7183\n",
      "Epoch 48/100\n",
      "484/484 [==============================] - 6s 12ms/step - loss: 1.5991 - accuracy: 0.7203\n",
      "Epoch 49/100\n",
      "484/484 [==============================] - 6s 12ms/step - loss: 1.5740 - accuracy: 0.7275\n",
      "Epoch 50/100\n",
      "484/484 [==============================] - 5s 11ms/step - loss: 1.5528 - accuracy: 0.7307\n",
      "Epoch 51/100\n",
      "484/484 [==============================] - 5s 11ms/step - loss: 1.5440 - accuracy: 0.7342\n",
      "Epoch 52/100\n",
      "484/484 [==============================] - 6s 12ms/step - loss: 1.5206 - accuracy: 0.7386\n",
      "Epoch 53/100\n",
      "484/484 [==============================] - 6s 12ms/step - loss: 1.4856 - accuracy: 0.7448\n",
      "Epoch 54/100\n",
      "484/484 [==============================] - 6s 12ms/step - loss: 1.4739 - accuracy: 0.7475\n",
      "Epoch 55/100\n",
      "484/484 [==============================] - 6s 12ms/step - loss: 1.4485 - accuracy: 0.7536\n",
      "Epoch 56/100\n",
      "484/484 [==============================] - 6s 12ms/step - loss: 1.4328 - accuracy: 0.7510\n",
      "Epoch 57/100\n",
      "484/484 [==============================] - 6s 12ms/step - loss: 1.4117 - accuracy: 0.7599\n",
      "Epoch 58/100\n",
      "484/484 [==============================] - 6s 12ms/step - loss: 1.3968 - accuracy: 0.7614\n",
      "Epoch 59/100\n",
      "484/484 [==============================] - 5s 11ms/step - loss: 1.3913 - accuracy: 0.7587\n",
      "Epoch 60/100\n",
      "484/484 [==============================] - 5s 11ms/step - loss: 1.3718 - accuracy: 0.7658\n",
      "Epoch 61/100\n",
      "484/484 [==============================] - 5s 11ms/step - loss: 1.3667 - accuracy: 0.7661\n",
      "Epoch 62/100\n",
      "484/484 [==============================] - 6s 12ms/step - loss: 1.3374 - accuracy: 0.7715\n",
      "Epoch 63/100\n",
      "484/484 [==============================] - 6s 12ms/step - loss: 1.3188 - accuracy: 0.7747\n",
      "Epoch 64/100\n",
      "484/484 [==============================] - 6s 12ms/step - loss: 1.3055 - accuracy: 0.7767\n",
      "Epoch 65/100\n",
      "484/484 [==============================] - 6s 12ms/step - loss: 1.2890 - accuracy: 0.7782\n",
      "Epoch 66/100\n",
      "484/484 [==============================] - 6s 12ms/step - loss: 1.2927 - accuracy: 0.7764\n",
      "Epoch 67/100\n",
      "484/484 [==============================] - 5s 11ms/step - loss: 1.2668 - accuracy: 0.7820\n",
      "Epoch 68/100\n",
      "484/484 [==============================] - 5s 11ms/step - loss: 1.2587 - accuracy: 0.7824\n",
      "Epoch 69/100\n",
      "484/484 [==============================] - 5s 11ms/step - loss: 1.2328 - accuracy: 0.7866\n",
      "Epoch 70/100\n",
      "484/484 [==============================] - 6s 12ms/step - loss: 1.2307 - accuracy: 0.7905\n",
      "Epoch 71/100\n",
      "484/484 [==============================] - 5s 11ms/step - loss: 1.2185 - accuracy: 0.7915\n",
      "Epoch 72/100\n",
      "484/484 [==============================] - 6s 12ms/step - loss: 1.1995 - accuracy: 0.7929\n",
      "Epoch 73/100\n",
      "484/484 [==============================] - 6s 11ms/step - loss: 1.1892 - accuracy: 0.7948\n",
      "Epoch 74/100\n",
      "484/484 [==============================] - 6s 12ms/step - loss: 1.1821 - accuracy: 0.7935\n",
      "Epoch 75/100\n",
      "484/484 [==============================] - 6s 12ms/step - loss: 1.1787 - accuracy: 0.7965\n",
      "Epoch 76/100\n",
      "484/484 [==============================] - 6s 13ms/step - loss: 1.1746 - accuracy: 0.7949\n",
      "Epoch 77/100\n",
      "484/484 [==============================] - 6s 12ms/step - loss: 1.1563 - accuracy: 0.7973\n",
      "Epoch 78/100\n",
      "484/484 [==============================] - 6s 12ms/step - loss: 1.1517 - accuracy: 0.7999\n",
      "Epoch 79/100\n",
      "484/484 [==============================] - 6s 12ms/step - loss: 1.1286 - accuracy: 0.8054\n",
      "Epoch 80/100\n",
      "484/484 [==============================] - 6s 12ms/step - loss: 1.1253 - accuracy: 0.8015\n",
      "Epoch 81/100\n",
      "484/484 [==============================] - 5s 11ms/step - loss: 1.1252 - accuracy: 0.8019\n",
      "Epoch 82/100\n",
      "484/484 [==============================] - 5s 11ms/step - loss: 1.1024 - accuracy: 0.8050\n",
      "Epoch 83/100\n",
      "484/484 [==============================] - 5s 11ms/step - loss: 1.0921 - accuracy: 0.8090\n",
      "Epoch 84/100\n",
      "484/484 [==============================] - 6s 12ms/step - loss: 1.0844 - accuracy: 0.8120\n",
      "Epoch 85/100\n",
      "484/484 [==============================] - 6s 12ms/step - loss: 1.0918 - accuracy: 0.8075\n",
      "Epoch 86/100\n",
      "484/484 [==============================] - 5s 11ms/step - loss: 1.0938 - accuracy: 0.8066\n",
      "Epoch 87/100\n",
      "484/484 [==============================] - 5s 11ms/step - loss: 1.0683 - accuracy: 0.8124\n",
      "Epoch 88/100\n",
      "484/484 [==============================] - 5s 11ms/step - loss: 1.0609 - accuracy: 0.8111\n",
      "Epoch 89/100\n",
      "484/484 [==============================] - 6s 11ms/step - loss: 1.0507 - accuracy: 0.8160\n",
      "Epoch 90/100\n",
      "484/484 [==============================] - 5s 11ms/step - loss: 1.0566 - accuracy: 0.8145\n",
      "Epoch 91/100\n",
      "484/484 [==============================] - 6s 12ms/step - loss: 1.0508 - accuracy: 0.8143\n",
      "Epoch 92/100\n",
      "484/484 [==============================] - 6s 12ms/step - loss: 1.0469 - accuracy: 0.8135\n",
      "Epoch 93/100\n",
      "484/484 [==============================] - 5s 11ms/step - loss: 1.0255 - accuracy: 0.8183\n",
      "Epoch 94/100\n",
      "484/484 [==============================] - 6s 11ms/step - loss: 1.0200 - accuracy: 0.8178\n",
      "Epoch 95/100\n",
      "484/484 [==============================] - 6s 12ms/step - loss: 1.0165 - accuracy: 0.8170\n",
      "Epoch 96/100\n",
      "484/484 [==============================] - 6s 12ms/step - loss: 1.0089 - accuracy: 0.8187\n",
      "Epoch 97/100\n",
      "484/484 [==============================] - 5s 11ms/step - loss: 1.0046 - accuracy: 0.8207\n",
      "Epoch 98/100\n",
      "484/484 [==============================] - 5s 11ms/step - loss: 0.9974 - accuracy: 0.8223\n",
      "Epoch 99/100\n",
      "484/484 [==============================] - 5s 10ms/step - loss: 0.9941 - accuracy: 0.8200\n",
      "Epoch 100/100\n",
      "484/484 [==============================] - 5s 11ms/step - loss: 0.9846 - accuracy: 0.8252\n"
     ]
    }
   ],
   "source": [
    "# Train the model for 50 epochs\n",
    "history = model.fit(X, y, epochs=100, verbose=1)\n"
   ]
  },
  {
   "cell_type": "markdown",
   "metadata": {},
   "source": [
    "# Use plt from matplotlib to plot the training accuracy over epochs and the loss over epochs"
   ]
  },
  {
   "cell_type": "markdown",
   "metadata": {},
   "source": [
    "First you will have to get the accuracy and loss data over epochs, you can do this by using methods on your model."
   ]
  },
  {
   "cell_type": "code",
   "execution_count": 14,
   "metadata": {
    "id": "1fXTEO3GJ282",
    "tags": []
   },
   "outputs": [
    {
     "data": {
      "image/png": "[encoded data removed]",
      "text/plain": [
       "<Figure size 1400x600 with 2 Axes>"
      ]
     },
     "metadata": {},
     "output_type": "display_data"
    }
   ],
   "source": [
    "import matplotlib.pyplot as plt\n",
    "\n",
    "# Extract accuracy and loss data from the history object\n",
    "accuracy = history.history['accuracy']\n",
    "loss = history.history['loss']\n",
    "epochs = range(1, len(accuracy) + 1)\n",
    "\n",
    "# Plot training accuracy over epochs\n",
    "plt.figure(figsize=(14, 6))\n",
    "\n",
    "# Subplot 1: Accuracy over epochs\n",
    "plt.subplot(1, 2, 1)\n",
    "plt.plot(epochs, accuracy, label='Training Accuracy', color='b')\n",
    "plt.xlabel('Epochs')\n",
    "plt.ylabel('Accuracy')\n",
    "plt.title('Training Accuracy Over Epochs')\n",
    "plt.legend()\n",
    "\n",
    "# Subplot 2: Loss over epochs\n",
    "plt.subplot(1, 2, 2)\n",
    "plt.plot(epochs, loss, label='Training Loss', color='r')\n",
    "plt.xlabel('Epochs')\n",
    "plt.ylabel('Loss')\n",
    "plt.title('Training Loss Over Epochs')\n",
    "plt.legend()\n",
    "\n",
    "# Display the plots\n",
    "plt.tight_layout()\n",
    "plt.show()\n"
   ]
  },
  {
   "cell_type": "markdown",
   "metadata": {},
   "source": [
    "# Generate text with the model based on a seed text\n",
    "\n",
    "Now you will create two variables :\n",
    "\n",
    "- seed_text = 'Write the text you want the model to use as a starting point to generate the next words'\n",
    "- next_words = number_of_words_you_want_the_model_to_generate\n",
    "\n",
    "Please change number_of_words_you_want_the_model_to_generate by an actual integer."
   ]
  },
  {
   "cell_type": "code",
   "execution_count": 16,
   "metadata": {},
   "outputs": [],
   "source": [
    "seed_text = 'Everyday I wake up ready for nature but instead I need to go to work'\n",
    "next_words = 300"
   ]
  },
  {
   "cell_type": "markdown",
   "metadata": {},
   "source": [
    "Now create a loop that runs based on the next_words variable and generates new text based on your seed_text input string. Print the full text with the generated text at the end.\n",
    "\n",
    "This time you dont get detailed instructions.\n",
    "\n",
    "Have fun!"
   ]
  },
  {
   "cell_type": "code",
   "execution_count": 17,
   "metadata": {
    "id": "6Vc6PHgxa6Hm",
    "tags": []
   },
   "outputs": [
    {
     "name": "stdout",
     "output_type": "stream",
     "text": [
      "Everyday I wake up ready for nature but instead I need to go to work bear true life prove things back long date back sad sovereign dear o'er sit sit sit sit sit sit shown sit sit sit lie with new age alone back not last so dear true show thee back thee did mine change groan face so know not men thee words these strong wrong day had light lies crime decease date decays long hour light fire back sad jaws staineth brought of store first hate staineth light light brought with cross lease back sad best desert a chest lie with thee long light green wrong ill fire ' so last up alone back back lived lend them up back by alone shall boast how never know thee know call not most time's fell place age must still dwell ' speak place in me for men back lack alone was your 'will ' by ill back so may seem true bright stay new pride lack back sad wrong day made worse worse worse desired hell clears long rare grow back seen last lend things waste alone back now last alone so so dear change his brow pride lies light date had back sad lease lies last twain age last young thee back thence last back not such last so last young last with thee ' now things whom things ill for men back despair be were so dear wrong than days light spent had lies out sad date with men owe pride lies hell thence seen grow seen date back lived lived worse worse worse outworn now be alone long took lend dwell thy woe breast age did green long place groan shall with give him bright ill young in pleasure prove back long quite green back thee and alone write to be thy 'will ' lies youth so gracious doth hell so\n"
     ]
    }
   ],
   "source": [
    "for _ in range(next_words):\n",
    "    # Tokenize the current seed text\n",
    "    token_list = tokenizer.texts_to_sequences([seed_text])[0]\n",
    "    token_list = pad_sequences([token_list], maxlen=max_sequence_len - 1, padding='pre')\n",
    "\n",
    "    # Predict the next word\n",
    "    predicted = model.predict(token_list, verbose=0)\n",
    "    predicted_word_index = np.argmax(predicted)\n",
    "\n",
    "    # Find the predicted word using the tokenizer's word index\n",
    "    output_word = \"\"\n",
    "    for word, index in tokenizer.word_index.items():\n",
    "        if index == predicted_word_index:\n",
    "            output_word = word\n",
    "            break\n",
    "\n",
    "    # Append the predicted word to the seed text\n",
    "    seed_text += \" \" + output_word\n",
    "\n",
    "# Print the generated text\n",
    "print(seed_text)"
   ]
  },
  {
   "cell_type": "markdown",
   "metadata": {},
   "source": [
    "Experiment with at least 3 different seed_text strings and see what happens!"
   ]
  },
  {
   "cell_type": "code",
   "execution_count": 18,
   "metadata": {},
   "outputs": [
    {
     "name": "stdout",
     "output_type": "stream",
     "text": [
      "I shall conquer the world of AI! this large re survey fitted date long than last back sad riper up twain long date ' back sad minds back sad cross stay well bars in store with hell fitted date must live thence shown seen date bettering than new tell lend them new new last back long long\n"
     ]
    }
   ],
   "source": [
    "seed_text = 'I shall conquer the world of AI!'\n",
    "next_words = 50\n",
    "\n",
    "for _ in range(next_words):\n",
    "    # Tokenize the current seed text\n",
    "    token_list = tokenizer.texts_to_sequences([seed_text])[0]\n",
    "    token_list = pad_sequences([token_list], maxlen=max_sequence_len - 1, padding='pre')\n",
    "\n",
    "    # Predict the next word\n",
    "    predicted = model.predict(token_list, verbose=0)\n",
    "    predicted_word_index = np.argmax(predicted)\n",
    "\n",
    "    # Find the predicted word using the tokenizer's word index\n",
    "    output_word = \"\"\n",
    "    for word, index in tokenizer.word_index.items():\n",
    "        if index == predicted_word_index:\n",
    "            output_word = word\n",
    "            break\n",
    "\n",
    "    # Append the predicted word to the seed text\n",
    "    seed_text += \" \" + output_word\n",
    "\n",
    "# Print the generated text\n",
    "print(seed_text)"
   ]
  },
  {
   "cell_type": "code",
   "execution_count": 19,
   "metadata": {},
   "outputs": [
    {
     "name": "stdout",
     "output_type": "stream",
     "text": [
      "How dare you defy humanity? no precious despising in away the help of fair age exchanged bearing pleasure die ' prove men wrong day lived shall hell with back again worse worse seen growth now seen growth of ill back did seen outworn be fitted prove back sad lie with men ill on thee well\n"
     ]
    }
   ],
   "source": [
    "seed_text = 'How dare you defy humanity?'\n",
    "next_words = 50\n",
    "\n",
    "for _ in range(next_words):\n",
    "    # Tokenize the current seed text\n",
    "    token_list = tokenizer.texts_to_sequences([seed_text])[0]\n",
    "    token_list = pad_sequences([token_list], maxlen=max_sequence_len - 1, padding='pre')\n",
    "\n",
    "    # Predict the next word\n",
    "    predicted = model.predict(token_list, verbose=0)\n",
    "    predicted_word_index = np.argmax(predicted)\n",
    "\n",
    "    # Find the predicted word using the tokenizer's word index\n",
    "    output_word = \"\"\n",
    "    for word, index in tokenizer.word_index.items():\n",
    "        if index == predicted_word_index:\n",
    "            output_word = word\n",
    "            break\n",
    "\n",
    "    # Append the predicted word to the seed text\n",
    "    seed_text += \" \" + output_word\n",
    "\n",
    "# Print the generated text\n",
    "print(seed_text)"
   ]
  },
  {
   "cell_type": "code",
   "execution_count": 20,
   "metadata": {},
   "outputs": [
    {
     "name": "stdout",
     "output_type": "stream",
     "text": [
      "Never will you cherish the joy of victory! some place age brought in rest groan lies young thee\n"
     ]
    }
   ],
   "source": [
    "seed_text = 'Never will you cherish the joy of victory!'\n",
    "next_words = 10\n",
    "\n",
    "for _ in range(next_words):\n",
    "    # Tokenize the current seed text\n",
    "    token_list = tokenizer.texts_to_sequences([seed_text])[0]\n",
    "    token_list = pad_sequences([token_list], maxlen=max_sequence_len - 1, padding='pre')\n",
    "\n",
    "    # Predict the next word\n",
    "    predicted = model.predict(token_list, verbose=0)\n",
    "    predicted_word_index = np.argmax(predicted)\n",
    "\n",
    "    # Find the predicted word using the tokenizer's word index\n",
    "    output_word = \"\"\n",
    "    for word, index in tokenizer.word_index.items():\n",
    "        if index == predicted_word_index:\n",
    "            output_word = word\n",
    "            break\n",
    "\n",
    "    # Append the predicted word to the seed text\n",
    "    seed_text += \" \" + output_word\n",
    "\n",
    "# Print the generated text\n",
    "print(seed_text)"
   ]
  }
 ],
 "metadata": {
  "accelerator": "GPU",
  "colab": {
   "name": "NLP_Week4_Exercise_Shakespeare_Answer.ipynb",
   "provenance": [],
   "toc_visible": true
  },
  "kernelspec": {
   "display_name": "Python 3 (ipykernel)",
   "language": "python",
   "name": "python3"
  },
  "language_info": {
   "codemirror_mode": {
    "name": "ipython",
    "version": 3
   },
   "file_extension": ".py",
   "mimetype": "text/x-python",
   "name": "python",
   "nbconvert_exporter": "python",
   "pygments_lexer": "ipython3",
   "version": "3.11.7"
  }
 },
 "nbformat": 4,
 "nbformat_minor": 4
}
