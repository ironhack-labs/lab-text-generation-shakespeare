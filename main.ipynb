{
 "cells": [
  {
   "cell_type": "markdown",
   "metadata": {},
   "source": [
    "# Lab | Text Generation from Shakespeare's Sonnet\n",
    "\n",
    "This notebook explores the fascinating domain of text generation using a deep learning model trained on Shakespeare's sonnets. \n",
    "\n",
    "The objective is to create a neural network capable of generating text sequences that mimic the style and language of Shakespeare.\n",
    "\n",
    "By utilizing a Recurrent Neural Network (RNN) with Long Short-Term Memory (LSTM) layers, this project aims to demonstrate how a model can learn and replicate the complex patterns of early modern English. \n",
    "\n",
    "The dataset used consists of Shakespeare's sonnets, which are preprocessed and tokenized to serve as input for the model.\n",
    "\n",
    "Throughout this notebook, you will see the steps taken to prepare the data, build and train the model, and evaluate its performance in generating text. \n",
    "\n",
    "This lab provides a hands-on approach to understanding the intricacies of natural language processing (NLP) and the potential of machine learning in creative text generation."
   ]
  },
  {
   "cell_type": "markdown",
   "metadata": {},
   "source": [
    "Let's import necessary libraries"
   ]
  },
  {
   "cell_type": "code",
   "execution_count": 4,
   "metadata": {
    "id": "BOwsuGQQY9OL",
    "tags": []
   },
   "outputs": [],
   "source": [
    "from tensorflow.keras.preprocessing.sequence import pad_sequences\n",
    "from tensorflow.keras.layers import Embedding, LSTM, Dense, Dropout, Bidirectional\n",
    "from tensorflow.keras.preprocessing.text import Tokenizer\n",
    "from tensorflow.keras.models import Sequential\n",
    "from tensorflow.keras.optimizers import Adam\n",
    "from tensorflow.keras import regularizers\n",
    "import tensorflow.keras.utils as ku \n",
    "import numpy as np"
   ]
  },
  {
   "cell_type": "markdown",
   "metadata": {},
   "source": [
    "Let's get the data!"
   ]
  },
  {
   "cell_type": "code",
   "execution_count": 3,
   "metadata": {
    "tags": []
   },
   "outputs": [],
   "source": [
    "import requests\n",
    "url = 'https://raw.githubusercontent.com/martin-gorner/tensorflow-rnn-shakespeare/master/shakespeare/sonnets.txt'\n",
    "resp = requests.get(url)\n",
    "with open('sonnets.txt', 'wb') as f:\n",
    "    f.write(resp.content)\n",
    "\n",
    "data = open('sonnets.txt').read()\n",
    "\n",
    "corpus = data.lower().split(\"\\n\")"
   ]
  },
  {
   "cell_type": "markdown",
   "metadata": {},
   "source": [
    "Step 1: Initialise a tokenizer and fit it on the corpus variable using .fit_on_texts"
   ]
  },
  {
   "cell_type": "code",
   "execution_count": 5,
   "metadata": {},
   "outputs": [],
   "source": [
    "tokenizer = Tokenizer()\n",
    "tokenizer.fit_on_texts(corpus)"
   ]
  },
  {
   "cell_type": "markdown",
   "metadata": {},
   "source": [
    "Step 2: Calculate the Vocabulary Size\n",
    "\n",
    "Let's figure out how many unique words are in your corpus. This will be the size of your vocabulary.\n",
    "\n",
    "Calculate the length of tokenizer.word_index, add 1 to it and store it in a variable called total_words."
   ]
  },
  {
   "cell_type": "code",
   "execution_count": 7,
   "metadata": {},
   "outputs": [
    {
     "name": "stdout",
     "output_type": "stream",
     "text": [
      "3375\n"
     ]
    }
   ],
   "source": [
    "total_words = len(tokenizer.word_index) + 1\n",
    "print(total_words)"
   ]
  },
  {
   "cell_type": "markdown",
   "metadata": {},
   "source": [
    "Create an empty list called input_sequences.\n",
    "\n",
    "For each sentence in your corpus, convert the text into a sequence of integers using the tokenizer.\n",
    "Then, generate n-gram sequences from these tokens.\n",
    "\n",
    "Store the result in the list input_sequences."
   ]
  },
  {
   "cell_type": "markdown",
   "metadata": {},
   "source": [
    "Explanation:\n",
    "tokenizer.texts_to_sequences([line])[0]: Converts the sentence line into a list of integers.\n",
    "n-gram sequence generation: The for-loop generates all possible n-gram sequences from each sentence.\n",
    "Store in input_sequences: Each n-gram sequence is appended to the input_sequences list.\n"
   ]
  },
  {
   "cell_type": "code",
   "execution_count": 10,
   "metadata": {},
   "outputs": [
    {
     "name": "stdout",
     "output_type": "stream",
     "text": [
      "[[878], [3], [3, 2], [3, 2, 313], [3, 2, 313, 1375]]\n"
     ]
    }
   ],
   "source": [
    "input_sequences = []\n",
    "for line in corpus:\n",
    "    token_list = tokenizer.texts_to_sequences([line])[0]\n",
    "        \n",
    "    for i in range(1, len(token_list) + 1):\n",
    "        n_gram_sequence = token_list[:i]\n",
    "        input_sequences.append(n_gram_sequence)\n",
    "\n",
    "print(input_sequences[:5])"
   ]
  },
  {
   "cell_type": "markdown",
   "metadata": {},
   "source": [
    "Calculate the length of the longest sequence in input_sequences. Assign the result to a variable called max_sequence_len.\n",
    "\n",
    "Now pad the sequences using pad_sequences(input_sequences, maxlen=max_sequence_len, padding='pre').\n",
    "Convert it to a numpy array and assign the result back to our variable called input_sequences."
   ]
  },
  {
   "cell_type": "markdown",
   "metadata": {},
   "source": [
    "Explanation:\n",
    "max([len(seq) for seq in input_sequences]): Calculates the length of the longest sequence in input_sequences.\n",
    "pad_sequences(..., maxlen=max_sequence_len, padding='pre'): Pads all sequences to the length of the longest one, adding zeros at the beginning (because of padding='pre').\n",
    "Convert to numpy array: This ensures that the padded sequences are stored in a format that's suitable for model training."
   ]
  },
  {
   "cell_type": "code",
   "execution_count": 11,
   "metadata": {},
   "outputs": [
    {
     "name": "stdout",
     "output_type": "stream",
     "text": [
      "Shape of input_sequences: (17805, 11)\n"
     ]
    }
   ],
   "source": [
    "max_sequence_len = max([len(seq) for seq in input_sequences])\n",
    "input_sequences = pad_sequences(input_sequences, maxlen=max_sequence_len, padding='pre')\n",
    "input_sequences = np.array(input_sequences)\n",
    "print(f\"Shape of input_sequences: {input_sequences.shape}\")\n"
   ]
  },
  {
   "cell_type": "markdown",
   "metadata": {},
   "source": [
    "Prepare Predictors and Labels\n",
    "\n",
    "Split the sequences into two parts:\n",
    "\n",
    "- Predictors: All elements from input_sequences except the last one.\n",
    "- Labels: The last element of each sequence in input_sequences."
   ]
  },
  {
   "cell_type": "code",
   "execution_count": 12,
   "metadata": {
    "id": "PRnDnCW-Z7qv",
    "tags": []
   },
   "outputs": [
    {
     "name": "stdout",
     "output_type": "stream",
     "text": [
      "(17805, 10)\n",
      "(17805,)\n"
     ]
    }
   ],
   "source": [
    "predictors = input_sequences[:, :-1]\n",
    "labels = input_sequences[:, -1]\n",
    "\n",
    "print(predictors.shape)\n",
    "print(labels.shape)\n"
   ]
  },
  {
   "cell_type": "markdown",
   "metadata": {},
   "source": [
    "One-Hot Encode the Labels :\n",
    "\n",
    "Convert the labels (which are integers) into one-hot encoded vectors. \n",
    "\n",
    "Ensure the length of these vectors matches the total number of unique words in your vocabulary.\n",
    "\n",
    "Use ku.to_categorical() on labels with num_classes = total_words\n",
    "\n",
    "Assign the result back to our variable labels."
   ]
  },
  {
   "cell_type": "markdown",
   "metadata": {},
   "source": [
    "Explanation:\n",
    "ku.to_categorical(labels, num_classes=total_words): This converts each integer in labels into a one-hot encoded vector of length total_words. The num_classes=total_words ensures the one-hot vectors correspond to the vocabulary size.\n",
    "\n",
    "Shape verification: The output labels should now have a shape of (number_of_sequences, total_words) where each label is represented by a one-hot encoded vector."
   ]
  },
  {
   "cell_type": "code",
   "execution_count": 13,
   "metadata": {},
   "outputs": [
    {
     "name": "stdout",
     "output_type": "stream",
     "text": [
      "Shape of one-hot encoded labels: (17805, 3375)\n"
     ]
    }
   ],
   "source": [
    "labels = ku.to_categorical(labels, num_classes=total_words)\n",
    "print(f\"Shape of one-hot encoded labels: {labels.shape}\")\n"
   ]
  },
  {
   "cell_type": "markdown",
   "metadata": {},
   "source": [
    "# Initialize the Model\n",
    "\n",
    "Start by creating a Sequential model.\n",
    "\n",
    "Add Layers to the Model:\n",
    "\n",
    "Embedding Layer: The first layer is an embedding layer. It converts word indices into dense vectors of fixed size (100 in this case). Set the input length to the maximum sequence length minus one, which corresponds to the number of previous words the model will consider when predicting the next word.\n",
    "\n",
    "Bidirectional LSTM Layer: Add a Bidirectional LSTM layer with 150 units. This layer allows the model to learn context from both directions (past and future) in the sequence. return_sequences=True\n",
    "\n",
    "Dropout Layer: Add a dropout layer with a rate of 0.2 to prevent overfitting by randomly setting 20% of the input units to 0 during training.\n",
    "\n",
    "LSTM Layer: Add a second LSTM layer with 100 units. This layer processes the sequence and passes its output to the next layer.\n",
    "\n",
    "Dense Layer (Intermediate): Add a dense layer with half the total number of words as units, using ReLU activation. A regularization term (L2) is added to prevent overfitting.\n",
    "\n",
    "Dense Layer (Output): The final dense layer has as many units as there are words in the vocabulary, with a softmax activation function to output a probability distribution over all words."
   ]
  },
  {
   "cell_type": "markdown",
   "metadata": {},
   "source": [
    "Explanation of the Layers:\n",
    "Embedding Layer: Maps word indices to dense vectors of size 100. input_length is set to max_sequence_len-1 because the predictors are one word shorter than the padded sequences.\n",
    "Bidirectional LSTM Layer: Uses 150 units and reads the sequence both forward and backward. return_sequences=True allows this LSTM layer to output the full sequence, needed for subsequent layers.\n",
    "Dropout Layer: Helps reduce overfitting by randomly setting 20% of the input units to zero during each update.\n",
    "Second LSTM Layer: Processes the sequence with 100 units, capturing dependencies between words.\n",
    "Dense Layer (Intermediate): Reduces the number of units to half the vocabulary size and applies ReLU activation. L2 regularization is added to penalize large weights, preventing overfitting.\n",
    "Dense Layer (Output): Outputs a probability distribution over all words in the vocabulary using softmax activation, predicting the next word in the sequence."
   ]
  },
  {
   "cell_type": "code",
   "execution_count": 14,
   "metadata": {},
   "outputs": [
    {
     "name": "stderr",
     "output_type": "stream",
     "text": [
      "2024-10-04 13:30:13.506208: I external/local_xla/xla/stream_executor/cuda/cuda_executor.cc:901] successful NUMA node read from SysFS had negative value (-1), but there must be at least one NUMA node, so returning NUMA node zero. See more at https://github.com/torvalds/linux/blob/v6.0/Documentation/ABI/testing/sysfs-bus-pci#L344-L355\n",
      "2024-10-04 13:30:14.133520: I external/local_xla/xla/stream_executor/cuda/cuda_executor.cc:901] successful NUMA node read from SysFS had negative value (-1), but there must be at least one NUMA node, so returning NUMA node zero. See more at https://github.com/torvalds/linux/blob/v6.0/Documentation/ABI/testing/sysfs-bus-pci#L344-L355\n",
      "2024-10-04 13:30:14.133881: I external/local_xla/xla/stream_executor/cuda/cuda_executor.cc:901] successful NUMA node read from SysFS had negative value (-1), but there must be at least one NUMA node, so returning NUMA node zero. See more at https://github.com/torvalds/linux/blob/v6.0/Documentation/ABI/testing/sysfs-bus-pci#L344-L355\n",
      "2024-10-04 13:30:14.135949: I external/local_xla/xla/stream_executor/cuda/cuda_executor.cc:901] successful NUMA node read from SysFS had negative value (-1), but there must be at least one NUMA node, so returning NUMA node zero. See more at https://github.com/torvalds/linux/blob/v6.0/Documentation/ABI/testing/sysfs-bus-pci#L344-L355\n",
      "2024-10-04 13:30:14.136242: I external/local_xla/xla/stream_executor/cuda/cuda_executor.cc:901] successful NUMA node read from SysFS had negative value (-1), but there must be at least one NUMA node, so returning NUMA node zero. See more at https://github.com/torvalds/linux/blob/v6.0/Documentation/ABI/testing/sysfs-bus-pci#L344-L355\n",
      "2024-10-04 13:30:14.136492: I external/local_xla/xla/stream_executor/cuda/cuda_executor.cc:901] successful NUMA node read from SysFS had negative value (-1), but there must be at least one NUMA node, so returning NUMA node zero. See more at https://github.com/torvalds/linux/blob/v6.0/Documentation/ABI/testing/sysfs-bus-pci#L344-L355\n",
      "2024-10-04 13:30:18.031157: I external/local_xla/xla/stream_executor/cuda/cuda_executor.cc:901] successful NUMA node read from SysFS had negative value (-1), but there must be at least one NUMA node, so returning NUMA node zero. See more at https://github.com/torvalds/linux/blob/v6.0/Documentation/ABI/testing/sysfs-bus-pci#L344-L355\n",
      "2024-10-04 13:30:18.031414: I external/local_xla/xla/stream_executor/cuda/cuda_executor.cc:901] successful NUMA node read from SysFS had negative value (-1), but there must be at least one NUMA node, so returning NUMA node zero. See more at https://github.com/torvalds/linux/blob/v6.0/Documentation/ABI/testing/sysfs-bus-pci#L344-L355\n",
      "2024-10-04 13:30:18.031595: I external/local_xla/xla/stream_executor/cuda/cuda_executor.cc:901] successful NUMA node read from SysFS had negative value (-1), but there must be at least one NUMA node, so returning NUMA node zero. See more at https://github.com/torvalds/linux/blob/v6.0/Documentation/ABI/testing/sysfs-bus-pci#L344-L355\n",
      "2024-10-04 13:30:18.031721: I tensorflow/core/common_runtime/gpu/gpu_device.cc:1929] Created device /job:localhost/replica:0/task:0/device:GPU:0 with 15526 MB memory:  -> device: 0, name: Quadro P5000, pci bus id: 0000:00:05.0, compute capability: 6.1\n"
     ]
    },
    {
     "name": "stdout",
     "output_type": "stream",
     "text": [
      "Model: \"sequential\"\n",
      "_________________________________________________________________\n",
      " Layer (type)                Output Shape              Param #   \n",
      "=================================================================\n",
      " embedding (Embedding)       (None, 10, 100)           337500    \n",
      "                                                                 \n",
      " bidirectional (Bidirection  (None, 10, 300)           301200    \n",
      " al)                                                             \n",
      "                                                                 \n",
      " dropout (Dropout)           (None, 10, 300)           0         \n",
      "                                                                 \n",
      " lstm_1 (LSTM)               (None, 100)               160400    \n",
      "                                                                 \n",
      " dense (Dense)               (None, 1687)              170387    \n",
      "                                                                 \n",
      " dense_1 (Dense)             (None, 3375)              5697000   \n",
      "                                                                 \n",
      "=================================================================\n",
      "Total params: 6666487 (25.43 MB)\n",
      "Trainable params: 6666487 (25.43 MB)\n",
      "Non-trainable params: 0 (0.00 Byte)\n",
      "_________________________________________________________________\n"
     ]
    }
   ],
   "source": [
    "from tensorflow.keras.layers import Embedding, LSTM, Dense, Dropout, Bidirectional\n",
    "from tensorflow.keras.models import Sequential\n",
    "from tensorflow.keras import regularizers\n",
    "\n",
    "model = Sequential([\n",
    "\n",
    "    Embedding(input_dim=total_words, output_dim=100, input_length=max_sequence_len-1),\n",
    "    Bidirectional(LSTM(150, return_sequences=True)),\n",
    "    Dropout(0.2),\n",
    "    LSTM(100),\n",
    "    Dense(total_words // 2, activation='relu', kernel_regularizer=regularizers.l2(0.01)),\n",
    "    Dense(total_words, activation='softmax')\n",
    "])\n",
    "model.summary()\n"
   ]
  },
  {
   "cell_type": "markdown",
   "metadata": {},
   "source": [
    "# Compile the Model:\n",
    "\n",
    "Compile the model using categorical crossentropy as the loss function, the Adam optimizer for efficient training, and accuracy as the metric to evaluate during training."
   ]
  },
  {
   "cell_type": "markdown",
   "metadata": {},
   "source": [
    "Explanation:\n",
    "Loss Function (categorical_crossentropy): This is used for multi-class classification problems where the labels are one-hot encoded, which fits your case since each word is represented as a one-hot vector.\n",
    "Optimizer (Adam): The Adam optimizer is efficient and widely used for training deep learning models because it adapts the learning rate during training.\n",
    "Metrics (accuracy): The accuracy metric evaluates how often the model's predictions match the true labels.\n"
   ]
  },
  {
   "cell_type": "code",
   "execution_count": 17,
   "metadata": {},
   "outputs": [
    {
     "name": "stdout",
     "output_type": "stream",
     "text": [
      "Model compiled successfully!\n"
     ]
    }
   ],
   "source": [
    "from tensorflow.keras.optimizers import Adam\n",
    "\n",
    "model.compile(loss='categorical_crossentropy', \n",
    "              optimizer=Adam(), \n",
    "              metrics=['accuracy'])\n",
    "\n",
    "print(\"Model compiled successfully!\")\n"
   ]
  },
  {
   "cell_type": "markdown",
   "metadata": {},
   "source": [
    "# Print Model Summary:\n",
    "\n",
    "Use model.summary() to print a summary of the model, which shows the layers, their output shapes, and the number of parameters."
   ]
  },
  {
   "cell_type": "code",
   "execution_count": 18,
   "metadata": {},
   "outputs": [
    {
     "name": "stdout",
     "output_type": "stream",
     "text": [
      "Model: \"sequential\"\n",
      "_________________________________________________________________\n",
      " Layer (type)                Output Shape              Param #   \n",
      "=================================================================\n",
      " embedding (Embedding)       (None, 10, 100)           337500    \n",
      "                                                                 \n",
      " bidirectional (Bidirection  (None, 10, 300)           301200    \n",
      " al)                                                             \n",
      "                                                                 \n",
      " dropout (Dropout)           (None, 10, 300)           0         \n",
      "                                                                 \n",
      " lstm_1 (LSTM)               (None, 100)               160400    \n",
      "                                                                 \n",
      " dense (Dense)               (None, 1687)              170387    \n",
      "                                                                 \n",
      " dense_1 (Dense)             (None, 3375)              5697000   \n",
      "                                                                 \n",
      "=================================================================\n",
      "Total params: 6666487 (25.43 MB)\n",
      "Trainable params: 6666487 (25.43 MB)\n",
      "Non-trainable params: 0 (0.00 Byte)\n",
      "_________________________________________________________________\n"
     ]
    }
   ],
   "source": [
    "model.summary()"
   ]
  },
  {
   "cell_type": "markdown",
   "metadata": {},
   "source": [
    "# Now train the model for 50 epochs and assign it to a variable called history.\n",
    "\n",
    "Training the model with 50 epochs should get you around 40% accuracy.\n",
    "\n",
    "You can train the model for as many epochs as you like depending on the time and computing constraints you are facing. Ideally train it for a larger amount of epochs than 50.\n",
    "\n",
    "That way you will get better text generation at the end.\n",
    "\n",
    "However, dont waste your time."
   ]
  },
  {
   "cell_type": "code",
   "execution_count": 22,
   "metadata": {
    "id": "AIg2f1HBxqof",
    "tags": []
   },
   "outputs": [
    {
     "name": "stdout",
     "output_type": "stream",
     "text": [
      "Epoch 1/50\n",
      "279/279 [==============================] - 6s 21ms/step - loss: 5.5373 - accuracy: 0.0713\n",
      "Epoch 2/50\n",
      "279/279 [==============================] - 6s 20ms/step - loss: 5.4496 - accuracy: 0.0777\n",
      "Epoch 3/50\n",
      "279/279 [==============================] - 6s 22ms/step - loss: 5.3619 - accuracy: 0.0828\n",
      "Epoch 4/50\n",
      "279/279 [==============================] - 5s 19ms/step - loss: 5.2722 - accuracy: 0.0886\n",
      "Epoch 5/50\n",
      "279/279 [==============================] - 5s 18ms/step - loss: 5.1803 - accuracy: 0.0938\n",
      "Epoch 6/50\n",
      "279/279 [==============================] - 4s 16ms/step - loss: 5.0853 - accuracy: 0.1019\n",
      "Epoch 7/50\n",
      "279/279 [==============================] - 4s 16ms/step - loss: 4.9918 - accuracy: 0.1056\n",
      "Epoch 8/50\n",
      "279/279 [==============================] - 5s 18ms/step - loss: 4.9010 - accuracy: 0.1113\n",
      "Epoch 9/50\n",
      "279/279 [==============================] - 5s 17ms/step - loss: 4.8103 - accuracy: 0.1206\n",
      "Epoch 10/50\n",
      "279/279 [==============================] - 5s 17ms/step - loss: 4.7255 - accuracy: 0.1256\n",
      "Epoch 11/50\n",
      "279/279 [==============================] - 5s 18ms/step - loss: 4.6347 - accuracy: 0.1346\n",
      "Epoch 12/50\n",
      "279/279 [==============================] - 4s 16ms/step - loss: 4.5525 - accuracy: 0.1437\n",
      "Epoch 13/50\n",
      "279/279 [==============================] - 4s 16ms/step - loss: 4.4597 - accuracy: 0.1526\n",
      "Epoch 14/50\n",
      "279/279 [==============================] - 5s 16ms/step - loss: 4.3696 - accuracy: 0.1630\n",
      "Epoch 15/50\n",
      "279/279 [==============================] - 5s 18ms/step - loss: 4.2857 - accuracy: 0.1749\n",
      "Epoch 16/50\n",
      "279/279 [==============================] - 6s 20ms/step - loss: 4.2038 - accuracy: 0.1846\n",
      "Epoch 17/50\n",
      "279/279 [==============================] - 6s 20ms/step - loss: 4.1128 - accuracy: 0.2017\n",
      "Epoch 18/50\n",
      "279/279 [==============================] - 5s 19ms/step - loss: 4.0268 - accuracy: 0.2133\n",
      "Epoch 19/50\n",
      "279/279 [==============================] - 6s 20ms/step - loss: 3.9513 - accuracy: 0.2297\n",
      "Epoch 20/50\n",
      "279/279 [==============================] - 6s 20ms/step - loss: 3.8777 - accuracy: 0.2460\n",
      "Epoch 21/50\n",
      "279/279 [==============================] - 5s 18ms/step - loss: 3.7968 - accuracy: 0.2575\n",
      "Epoch 22/50\n",
      "279/279 [==============================] - 5s 17ms/step - loss: 3.7147 - accuracy: 0.2771\n",
      "Epoch 23/50\n",
      "279/279 [==============================] - 6s 20ms/step - loss: 3.6438 - accuracy: 0.2912\n",
      "Epoch 24/50\n",
      "279/279 [==============================] - 6s 20ms/step - loss: 3.5724 - accuracy: 0.3076\n",
      "Epoch 25/50\n",
      "279/279 [==============================] - 5s 19ms/step - loss: 3.4989 - accuracy: 0.3266\n",
      "Epoch 26/50\n",
      "279/279 [==============================] - 5s 20ms/step - loss: 3.4375 - accuracy: 0.3378\n",
      "Epoch 27/50\n",
      "279/279 [==============================] - 5s 19ms/step - loss: 3.3721 - accuracy: 0.3548\n",
      "Epoch 28/50\n",
      "279/279 [==============================] - 5s 16ms/step - loss: 3.3065 - accuracy: 0.3670\n",
      "Epoch 29/50\n",
      "279/279 [==============================] - 5s 17ms/step - loss: 3.2471 - accuracy: 0.3816\n",
      "Epoch 30/50\n",
      "279/279 [==============================] - 5s 19ms/step - loss: 3.1827 - accuracy: 0.3971\n",
      "Epoch 31/50\n",
      "279/279 [==============================] - 5s 20ms/step - loss: 3.1171 - accuracy: 0.4135\n",
      "Epoch 32/50\n",
      "279/279 [==============================] - 5s 19ms/step - loss: 3.0736 - accuracy: 0.4185\n",
      "Epoch 33/50\n",
      "279/279 [==============================] - 5s 19ms/step - loss: 3.0136 - accuracy: 0.4341\n",
      "Epoch 34/50\n",
      "279/279 [==============================] - 5s 19ms/step - loss: 2.9599 - accuracy: 0.4471\n",
      "Epoch 35/50\n",
      "279/279 [==============================] - 6s 20ms/step - loss: 2.9163 - accuracy: 0.4589\n",
      "Epoch 36/50\n",
      "279/279 [==============================] - 5s 19ms/step - loss: 2.8623 - accuracy: 0.4697\n",
      "Epoch 37/50\n",
      "279/279 [==============================] - 4s 16ms/step - loss: 2.8005 - accuracy: 0.4841\n",
      "Epoch 38/50\n",
      "279/279 [==============================] - 5s 18ms/step - loss: 2.7698 - accuracy: 0.4914\n",
      "Epoch 39/50\n",
      "279/279 [==============================] - 5s 19ms/step - loss: 2.7241 - accuracy: 0.4974\n",
      "Epoch 40/50\n",
      "279/279 [==============================] - 5s 18ms/step - loss: 2.6819 - accuracy: 0.5140\n",
      "Epoch 41/50\n",
      "279/279 [==============================] - 4s 16ms/step - loss: 2.6378 - accuracy: 0.5192\n",
      "Epoch 42/50\n",
      "279/279 [==============================] - 4s 16ms/step - loss: 2.5958 - accuracy: 0.5299\n",
      "Epoch 43/50\n",
      "279/279 [==============================] - 4s 16ms/step - loss: 2.5655 - accuracy: 0.5363\n",
      "Epoch 44/50\n",
      "279/279 [==============================] - 5s 18ms/step - loss: 2.5297 - accuracy: 0.5435\n",
      "Epoch 45/50\n",
      "279/279 [==============================] - 5s 19ms/step - loss: 2.4754 - accuracy: 0.5560\n",
      "Epoch 46/50\n",
      "279/279 [==============================] - 6s 20ms/step - loss: 2.4540 - accuracy: 0.5605\n",
      "Epoch 47/50\n",
      "279/279 [==============================] - 5s 19ms/step - loss: 2.4122 - accuracy: 0.5716\n",
      "Epoch 48/50\n",
      "279/279 [==============================] - 5s 20ms/step - loss: 2.3845 - accuracy: 0.5779\n",
      "Epoch 49/50\n",
      "279/279 [==============================] - 6s 20ms/step - loss: 2.3636 - accuracy: 0.5820\n",
      "Epoch 50/50\n",
      "279/279 [==============================] - 6s 20ms/step - loss: 2.3242 - accuracy: 0.5892\n"
     ]
    }
   ],
   "source": [
    "history = model.fit(predictors, labels, epochs=50, batch_size=64, verbose=1)\n"
   ]
  },
  {
   "cell_type": "markdown",
   "metadata": {},
   "source": [
    "# Use plt from matplotlib to plot the training accuracy over epochs and the loss over epochs"
   ]
  },
  {
   "cell_type": "markdown",
   "metadata": {},
   "source": [
    "First you will have to get the accuracy and loss data over epochs, you can do this by using methods on your model."
   ]
  },
  {
   "cell_type": "code",
   "execution_count": 23,
   "metadata": {
    "id": "1fXTEO3GJ282",
    "tags": []
   },
   "outputs": [
    {
     "data": {
      "image/png": "[encoded data removed]",
      "text/plain": [
       "<Figure size 1200x500 with 2 Axes>"
      ]
     },
     "metadata": {},
     "output_type": "display_data"
    }
   ],
   "source": [
    "import matplotlib.pyplot as plt\n",
    "\n",
    "accuracy = history.history['accuracy']\n",
    "loss = history.history['loss']\n",
    "epochs = range(1, len(accuracy) + 1)  \n",
    "plt.figure(figsize=(12, 5))\n",
    "\n",
    "plt.subplot(1, 2, 1)\n",
    "plt.plot(epochs, accuracy, label='Training Accuracy', color='blue')\n",
    "plt.title('Model Accuracy')\n",
    "plt.xlabel('Epochs')\n",
    "plt.ylabel('Accuracy')\n",
    "plt.xticks(epochs)  \n",
    "plt.legend()\n",
    "\n",
    "plt.subplot(1, 2, 2)\n",
    "plt.plot(epochs, loss, label='Training Loss', color='red')\n",
    "plt.title('Model Loss')\n",
    "plt.xlabel('Epochs')\n",
    "plt.ylabel('Loss')\n",
    "plt.xticks(epochs)  \n",
    "plt.legend()\n",
    "\n",
    "plt.tight_layout()\n",
    "plt.show()\n"
   ]
  },
  {
   "cell_type": "markdown",
   "metadata": {},
   "source": [
    "# Generate text with the model based on a seed text\n",
    "\n",
    "Now you will create two variables :\n",
    "\n",
    "- seed_text = 'Write the text you want the model to use as a starting point to generate the next words'\n",
    "- next_words = number_of_words_you_want_the_model_to_generate\n",
    "\n",
    "Please change number_of_words_you_want_the_model_to_generate by an actual integer."
   ]
  },
  {
   "cell_type": "code",
   "execution_count": 24,
   "metadata": {},
   "outputs": [],
   "source": [
    "seed_text = 'Shall I compare thee to a summer\\'s day?'\n",
    "next_words = 50  \n"
   ]
  },
  {
   "cell_type": "markdown",
   "metadata": {},
   "source": [
    "Now create a loop that runs based on the next_words variable and generates new text based on your seed_text input string. Print the full text with the generated text at the end.\n",
    "\n",
    "This time you dont get detailed instructions.\n",
    "\n",
    "Have fun!"
   ]
  },
  {
   "cell_type": "code",
   "execution_count": 25,
   "metadata": {
    "id": "6Vc6PHgxa6Hm",
    "tags": []
   },
   "outputs": [
    {
     "name": "stdout",
     "output_type": "stream",
     "text": [
      "Generated Text:\n",
      " Shall I compare thee to a summer's day? leaves pace day groan store taken pace nought days down on name on rolling lease ground growth of thine head another thee told thine own old end ever thee hold her near devised grow none blushing rose eyes live down in him out away so ' so old common deceived\n"
     ]
    }
   ],
   "source": [
    "def generate_text(model, seed_text, next_words, tokenizer, max_sequence_len):\n",
    "    for _ in range(next_words):\n",
    "        token_list = tokenizer.texts_to_sequences([seed_text])[0]\n",
    "        token_list = pad_sequences([token_list], maxlen=max_sequence_len-1, padding='pre')\n",
    "    \n",
    "        predicted = model.predict(token_list, verbose=0)\n",
    "        predicted_word_index = np.argmax(predicted, axis=-1)[0]\n",
    "        output_word = ''\n",
    "        for word, index in tokenizer.word_index.items():\n",
    "            if index == predicted_word_index:\n",
    "                output_word = word\n",
    "                break\n",
    "        seed_text += \" \" + output_word\n",
    "\n",
    "    return seed_text\n",
    "\n",
    "generated_text = generate_text(model, seed_text, next_words, tokenizer, max_sequence_len)\n",
    "\n",
    "print(\"Generated Text:\\n\", generated_text)\n"
   ]
  },
  {
   "cell_type": "markdown",
   "metadata": {},
   "source": [
    "Experiment with at least 3 different seed_text strings and see what happens!"
   ]
  },
  {
   "cell_type": "code",
   "execution_count": 31,
   "metadata": {},
   "outputs": [
    {
     "name": "stdout",
     "output_type": "stream",
     "text": [
      "Generated Text from Seed 'All the leaves are brown, and the sky is grey':\n",
      "All the leaves are brown, and the sky is grey of told days arising days dearer prove thee last on me perjured thee not not\n",
      "\n"
     ]
    }
   ],
   "source": [
    "seed_texts = [\n",
    "    'All the leaves are brown, and the sky is grey'\n",
    "    ]\n",
    "\n",
    "next_words = 15\n",
    "\n",
    "# Loop through each seed text and generate new text\n",
    "for seed in seed_texts:\n",
    "    generated_text = generate_text(model, seed, next_words, tokenizer, max_sequence_len)\n",
    "    print(f\"Generated Text from Seed '{seed}':\\n{generated_text}\\n\")\n"
   ]
  },
  {
   "cell_type": "code",
   "execution_count": 33,
   "metadata": {},
   "outputs": [
    {
     "name": "stdout",
     "output_type": "stream",
     "text": [
      "Generated Text from Seed 'Purple haze, all in my brain...':\n",
      "Purple haze, all in my brain... and stain eyes eyes strong sum new days need done go so so ' young thee mine art bright be\n",
      "\n"
     ]
    }
   ],
   "source": [
    "seed_texts = [\n",
    "    'Purple haze, all in my brain...'\n",
    "    ]\n",
    "\n",
    "next_words = 20\n",
    "\n",
    "# Loop through each seed text and generate new text\n",
    "for seed in seed_texts:\n",
    "    generated_text = generate_text(model, seed, next_words, tokenizer, max_sequence_len)\n",
    "    print(f\"Generated Text from Seed '{seed}':\\n{generated_text}\\n\")\n"
   ]
  },
  {
   "cell_type": "code",
   "execution_count": 34,
   "metadata": {},
   "outputs": [
    {
     "name": "stdout",
     "output_type": "stream",
     "text": [
      "Generated Text from Seed 'People are strange when you are a stranger':\n",
      "People are strange when you are a stranger dream doth flatter new days need convert convert convert heaven told told good friend of\n",
      "\n"
     ]
    }
   ],
   "source": [
    "# List of different seed texts to experiment with\n",
    "seed_texts = [\n",
    "    'People are strange when you are a stranger'\n",
    "    ]\n",
    "\n",
    "# Number of words to generate\n",
    "next_words = 15\n",
    "\n",
    "# Loop through each seed text and generate new text\n",
    "for seed in seed_texts:\n",
    "    generated_text = generate_text(model, seed, next_words, tokenizer, max_sequence_len)\n",
    "    print(f\"Generated Text from Seed '{seed}':\\n{generated_text}\\n\")\n"
   ]
  }
 ],
 "metadata": {
  "accelerator": "GPU",
  "colab": {
   "name": "NLP_Week4_Exercise_Shakespeare_Answer.ipynb",
   "provenance": [],
   "toc_visible": true
  },
  "kernelspec": {
   "display_name": "Python 3 (ipykernel)",
   "language": "python",
   "name": "python3"
  },
  "language_info": {
   "codemirror_mode": {
    "name": "ipython",
    "version": 3
   },
   "file_extension": ".py",
   "mimetype": "text/x-python",
   "name": "python",
   "nbconvert_exporter": "python",
   "pygments_lexer": "ipython3",
   "version": "3.11.7"
  }
 },
 "nbformat": 4,
 "nbformat_minor": 4
}
