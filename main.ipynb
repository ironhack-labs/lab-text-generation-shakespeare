{
 "cells": [
  {
   "cell_type": "markdown",
   "metadata": {},
   "source": [
    "# Lab | Text Generation from Shakespeare's Sonnet\n",
    "\n",
    "This notebook explores the fascinating domain of text generation using a deep learning model trained on Shakespeare's sonnets. \n",
    "\n",
    "The objective is to create a neural network capable of generating text sequences that mimic the style and language of Shakespeare.\n",
    "\n",
    "By utilizing a Recurrent Neural Network (RNN) with Long Short-Term Memory (LSTM) layers, this project aims to demonstrate how a model can learn and replicate the complex patterns of early modern English. \n",
    "\n",
    "The dataset used consists of Shakespeare's sonnets, which are preprocessed and tokenized to serve as input for the model.\n",
    "\n",
    "Throughout this notebook, you will see the steps taken to prepare the data, build and train the model, and evaluate its performance in generating text. \n",
    "\n",
    "This lab provides a hands-on approach to understanding the intricacies of natural language processing (NLP) and the potential of machine learning in creative text generation."
   ]
  },
  {
   "cell_type": "markdown",
   "metadata": {},
   "source": [
    "Let's import necessary libraries"
   ]
  },
  {
   "cell_type": "code",
   "execution_count": 1,
   "metadata": {
    "id": "BOwsuGQQY9OL",
    "tags": []
   },
   "outputs": [
    {
     "name": "stderr",
     "output_type": "stream",
     "text": [
      "2024-10-01 20:03:05.455863: E external/local_xla/xla/stream_executor/cuda/cuda_dnn.cc:9261] Unable to register cuDNN factory: Attempting to register factory for plugin cuDNN when one has already been registered\n",
      "2024-10-01 20:03:05.456060: E external/local_xla/xla/stream_executor/cuda/cuda_fft.cc:607] Unable to register cuFFT factory: Attempting to register factory for plugin cuFFT when one has already been registered\n",
      "2024-10-01 20:03:05.575634: E external/local_xla/xla/stream_executor/cuda/cuda_blas.cc:1515] Unable to register cuBLAS factory: Attempting to register factory for plugin cuBLAS when one has already been registered\n",
      "2024-10-01 20:03:05.816918: I tensorflow/core/platform/cpu_feature_guard.cc:182] This TensorFlow binary is optimized to use available CPU instructions in performance-critical operations.\n",
      "To enable the following instructions: AVX2 FMA, in other operations, rebuild TensorFlow with the appropriate compiler flags.\n",
      "2024-10-01 20:03:07.588264: W tensorflow/compiler/tf2tensorrt/utils/py_utils.cc:38] TF-TRT Warning: Could not find TensorRT\n"
     ]
    }
   ],
   "source": [
    "from tensorflow.keras.preprocessing.sequence import pad_sequences\n",
    "from tensorflow.keras.layers import Embedding, LSTM, Dense, Dropout, Bidirectional\n",
    "from tensorflow.keras.preprocessing.text import Tokenizer\n",
    "from tensorflow.keras.models import Sequential\n",
    "from tensorflow.keras.optimizers import Adam\n",
    "from tensorflow.keras import regularizers\n",
    "import tensorflow.keras.utils as ku \n",
    "import numpy as np"
   ]
  },
  {
   "cell_type": "markdown",
   "metadata": {},
   "source": [
    "Let's get the data!"
   ]
  },
  {
   "cell_type": "code",
   "execution_count": 2,
   "metadata": {
    "tags": []
   },
   "outputs": [],
   "source": [
    "import requests\n",
    "url = 'https://raw.githubusercontent.com/martin-gorner/tensorflow-rnn-shakespeare/master/shakespeare/sonnets.txt'\n",
    "resp = requests.get(url)\n",
    "with open('sonnets.txt', 'wb') as f:\n",
    "    f.write(resp.content)\n",
    "\n",
    "data = open('sonnets.txt').read()\n",
    "\n",
    "corpus = data.lower().split(\"\\n\")"
   ]
  },
  {
   "cell_type": "markdown",
   "metadata": {},
   "source": [
    "Step 1: Initialise a tokenizer and fit it on the corpus variable using .fit_on_texts"
   ]
  },
  {
   "cell_type": "code",
   "execution_count": 3,
   "metadata": {},
   "outputs": [],
   "source": [
    "tokenizer = Tokenizer()  # Create a new Tokenizer object\n",
    "tokenizer.fit_on_texts(corpus)  # Fit the tokenizer on the corpus"
   ]
  },
  {
   "cell_type": "markdown",
   "metadata": {},
   "source": [
    "Step 2: Calculate the Vocabulary Size\n",
    "\n",
    "Let's figure out how many unique words are in your corpus. This will be the size of your vocabulary.\n",
    "\n",
    "Calculate the length of tokenizer.word_index, add 1 to it and store it in a variable called total_words."
   ]
  },
  {
   "cell_type": "code",
   "execution_count": 4,
   "metadata": {},
   "outputs": [
    {
     "name": "stdout",
     "output_type": "stream",
     "text": [
      "Total vocabulary size: 3375\n"
     ]
    }
   ],
   "source": [
    "total_words = len(tokenizer.word_index) + 1  # Get the total number of unique words\n",
    "print(f\"Total vocabulary size: {total_words}\")"
   ]
  },
  {
   "cell_type": "markdown",
   "metadata": {},
   "source": [
    "Create an empty list called input_sequences.\n",
    "\n",
    "For each sentence in your corpus, convert the text into a sequence of integers using the tokenizer.\n",
    "Then, generate n-gram sequences from these tokens.\n",
    "\n",
    "Store the result in the list input_sequences."
   ]
  },
  {
   "cell_type": "code",
   "execution_count": 5,
   "metadata": {},
   "outputs": [
    {
     "name": "stdout",
     "output_type": "stream",
     "text": [
      "[[3, 2], [3, 2, 313], [3, 2, 313, 1375], [3, 2, 313, 1375, 4], [118, 1376]]\n"
     ]
    }
   ],
   "source": [
    "input_sequences = []  # Empty list to store the sequences\n",
    "\n",
    "for line in corpus:\n",
    "    token_list = tokenizer.texts_to_sequences([line])[0]  # Convert each line to a sequence of integers\n",
    "    for i in range(1, len(token_list)):\n",
    "        n_gram_sequence = token_list[:i+1]  # Create n-gram sequences\n",
    "        input_sequences.append(n_gram_sequence)  # Add the sequence to the list\n",
    "\n",
    "# Print the first few sequences to inspect\n",
    "print(input_sequences[:5])\n"
   ]
  },
  {
   "cell_type": "markdown",
   "metadata": {},
   "source": [
    "Calculate the length of the longest sequence in input_sequences. Assign the result to a variable called max_sequence_len.\n",
    "\n",
    "Now pad the sequences using pad_sequences(input_sequences, maxlen=max_sequence_len, padding='pre').\n",
    "Convert it to a numpy array and assign the result back to our variable called input_sequences."
   ]
  },
  {
   "cell_type": "code",
   "execution_count": 6,
   "metadata": {},
   "outputs": [
    {
     "name": "stdout",
     "output_type": "stream",
     "text": [
      "Max sequence length: 11\n",
      "Padded input sequences shape: (15484, 11)\n"
     ]
    }
   ],
   "source": [
    "max_sequence_len = max([len(seq) for seq in input_sequences])\n",
    "print(f\"Max sequence length: {max_sequence_len}\")\n",
    "\n",
    "input_sequences = pad_sequences(input_sequences, maxlen=max_sequence_len, padding='pre')\n",
    "\n",
    "input_sequences = np.array(input_sequences)\n",
    "\n",
    "print(f\"Padded input sequences shape: {input_sequences.shape}\")\n"
   ]
  },
  {
   "cell_type": "markdown",
   "metadata": {},
   "source": [
    "Prepare Predictors and Labels\n",
    "\n",
    "Split the sequences into two parts:\n",
    "\n",
    "- Predictors: All elements from input_sequences except the last one.\n",
    "- Labels: The last element of each sequence in input_sequences."
   ]
  },
  {
   "cell_type": "code",
   "execution_count": 7,
   "metadata": {
    "id": "PRnDnCW-Z7qv",
    "tags": []
   },
   "outputs": [],
   "source": [
    "\n",
    "predictors = input_sequences[:, :-1]  # All elements except the last one\n",
    "labels = input_sequences[:, -1]       # The last element is the label\n"
   ]
  },
  {
   "cell_type": "markdown",
   "metadata": {},
   "source": [
    "One-Hot Encode the Labels :\n",
    "\n",
    "Convert the labels (which are integers) into one-hot encoded vectors. \n",
    "\n",
    "Ensure the length of these vectors matches the total number of unique words in your vocabulary.\n",
    "\n",
    "Use ku.to_categorical() on labels with num_classes = total_words\n",
    "\n",
    "Assign the result back to our variable labels."
   ]
  },
  {
   "cell_type": "code",
   "execution_count": 8,
   "metadata": {},
   "outputs": [
    {
     "name": "stdout",
     "output_type": "stream",
     "text": [
      "Predictors shape: (15484, 10)\n",
      "Labels shape: (15484, 3375)\n"
     ]
    }
   ],
   "source": [
    "\n",
    "labels = ku.to_categorical(labels, num_classes=total_words)\n",
    "\n",
    "print(f\"Predictors shape: {predictors.shape}\")\n",
    "print(f\"Labels shape: {labels.shape}\")\n"
   ]
  },
  {
   "cell_type": "markdown",
   "metadata": {},
   "source": [
    "# Initialize the Model\n",
    "\n",
    "Start by creating a Sequential model.\n",
    "\n",
    "Add Layers to the Model:\n",
    "\n",
    "Embedding Layer: The first layer is an embedding layer. It converts word indices into dense vectors of fixed size (100 in this case). Set the input length to the maximum sequence length minus one, which corresponds to the number of previous words the model will consider when predicting the next word.\n",
    "\n",
    "Bidirectional LSTM Layer: Add a Bidirectional LSTM layer with 150 units. This layer allows the model to learn context from both directions (past and future) in the sequence. return_sequences=True\n",
    "\n",
    "Dropout Layer: Add a dropout layer with a rate of 0.2 to prevent overfitting by randomly setting 20% of the input units to 0 during training.\n",
    "\n",
    "LSTM Layer: Add a second LSTM layer with 100 units. This layer processes the sequence and passes its output to the next layer.\n",
    "\n",
    "Dense Layer (Intermediate): Add a dense layer with half the total number of words as units, using ReLU activation. A regularization term (L2) is added to prevent overfitting.\n",
    "\n",
    "Dense Layer (Output): The final dense layer has as many units as there are words in the vocabulary, with a softmax activation function to output a probability distribution over all words."
   ]
  },
  {
   "cell_type": "code",
   "execution_count": 9,
   "metadata": {},
   "outputs": [
    {
     "name": "stderr",
     "output_type": "stream",
     "text": [
      "2024-10-01 20:03:11.818737: I external/local_xla/xla/stream_executor/cuda/cuda_executor.cc:901] successful NUMA node read from SysFS had negative value (-1), but there must be at least one NUMA node, so returning NUMA node zero. See more at https://github.com/torvalds/linux/blob/v6.0/Documentation/ABI/testing/sysfs-bus-pci#L344-L355\n",
      "2024-10-01 20:03:12.242106: I external/local_xla/xla/stream_executor/cuda/cuda_executor.cc:901] successful NUMA node read from SysFS had negative value (-1), but there must be at least one NUMA node, so returning NUMA node zero. See more at https://github.com/torvalds/linux/blob/v6.0/Documentation/ABI/testing/sysfs-bus-pci#L344-L355\n",
      "2024-10-01 20:03:12.242371: I external/local_xla/xla/stream_executor/cuda/cuda_executor.cc:901] successful NUMA node read from SysFS had negative value (-1), but there must be at least one NUMA node, so returning NUMA node zero. See more at https://github.com/torvalds/linux/blob/v6.0/Documentation/ABI/testing/sysfs-bus-pci#L344-L355\n",
      "2024-10-01 20:03:12.244024: I external/local_xla/xla/stream_executor/cuda/cuda_executor.cc:901] successful NUMA node read from SysFS had negative value (-1), but there must be at least one NUMA node, so returning NUMA node zero. See more at https://github.com/torvalds/linux/blob/v6.0/Documentation/ABI/testing/sysfs-bus-pci#L344-L355\n",
      "2024-10-01 20:03:12.244214: I external/local_xla/xla/stream_executor/cuda/cuda_executor.cc:901] successful NUMA node read from SysFS had negative value (-1), but there must be at least one NUMA node, so returning NUMA node zero. See more at https://github.com/torvalds/linux/blob/v6.0/Documentation/ABI/testing/sysfs-bus-pci#L344-L355\n",
      "2024-10-01 20:03:12.244362: I external/local_xla/xla/stream_executor/cuda/cuda_executor.cc:901] successful NUMA node read from SysFS had negative value (-1), but there must be at least one NUMA node, so returning NUMA node zero. See more at https://github.com/torvalds/linux/blob/v6.0/Documentation/ABI/testing/sysfs-bus-pci#L344-L355\n",
      "2024-10-01 20:03:15.373634: I external/local_xla/xla/stream_executor/cuda/cuda_executor.cc:901] successful NUMA node read from SysFS had negative value (-1), but there must be at least one NUMA node, so returning NUMA node zero. See more at https://github.com/torvalds/linux/blob/v6.0/Documentation/ABI/testing/sysfs-bus-pci#L344-L355\n",
      "2024-10-01 20:03:15.373867: I external/local_xla/xla/stream_executor/cuda/cuda_executor.cc:901] successful NUMA node read from SysFS had negative value (-1), but there must be at least one NUMA node, so returning NUMA node zero. See more at https://github.com/torvalds/linux/blob/v6.0/Documentation/ABI/testing/sysfs-bus-pci#L344-L355\n",
      "2024-10-01 20:03:15.374029: I external/local_xla/xla/stream_executor/cuda/cuda_executor.cc:901] successful NUMA node read from SysFS had negative value (-1), but there must be at least one NUMA node, so returning NUMA node zero. See more at https://github.com/torvalds/linux/blob/v6.0/Documentation/ABI/testing/sysfs-bus-pci#L344-L355\n",
      "2024-10-01 20:03:15.374151: I tensorflow/core/common_runtime/gpu/gpu_device.cc:1929] Created device /job:localhost/replica:0/task:0/device:GPU:0 with 14602 MB memory:  -> device: 0, name: Tesla V100-PCIE-16GB, pci bus id: 0000:00:05.0, compute capability: 7.0\n"
     ]
    }
   ],
   "source": [
    "from tensorflow.keras.regularizers import l2\n",
    "\n",
    "model = Sequential([\n",
    "    # Embedding layer\n",
    "     Embedding(input_dim=total_words, output_dim=100),\n",
    "\n",
    "    # Bidirectional LSTM layer\n",
    "    Bidirectional(LSTM(150, return_sequences=True)),\n",
    "\n",
    "    # Dropout layer to prevent overfitting\n",
    "    Dropout(0.2),\n",
    "\n",
    "    # Another LSTM layer\n",
    "    LSTM(100),\n",
    "\n",
    "    # Dense layer (Intermediate) with L2 regularization\n",
    "    Dense(total_words // 2, activation='relu', kernel_regularizer=l2(0.01)),\n",
    "\n",
    "    # Output dense layer with softmax activation\n",
    "    Dense(total_words, activation='softmax')\n",
    "])\n"
   ]
  },
  {
   "cell_type": "markdown",
   "metadata": {},
   "source": [
    "# Compile the Model:\n",
    "\n",
    "Compile the model using categorical crossentropy as the loss function, the Adam optimizer for efficient training, and accuracy as the metric to evaluate during training."
   ]
  },
  {
   "cell_type": "code",
   "execution_count": 10,
   "metadata": {},
   "outputs": [],
   "source": [
    "# Step 9: Compile the model\n",
    "model.compile(loss='categorical_crossentropy', \n",
    "              optimizer='adam', \n",
    "              metrics=['accuracy'])\n"
   ]
  },
  {
   "cell_type": "markdown",
   "metadata": {},
   "source": [
    "# Print Model Summary:\n",
    "\n",
    "Use model.summary() to print a summary of the model, which shows the layers, their output shapes, and the number of parameters."
   ]
  },
  {
   "cell_type": "code",
   "execution_count": 11,
   "metadata": {},
   "outputs": [
    {
     "name": "stdout",
     "output_type": "stream",
     "text": [
      "Model: \"sequential\"\n",
      "_________________________________________________________________\n",
      " Layer (type)                Output Shape              Param #   \n",
      "=================================================================\n",
      " embedding (Embedding)       (None, None, 100)         337500    \n",
      "                                                                 \n",
      " bidirectional (Bidirection  (None, None, 300)         301200    \n",
      " al)                                                             \n",
      "                                                                 \n",
      " dropout (Dropout)           (None, None, 300)         0         \n",
      "                                                                 \n",
      " lstm_1 (LSTM)               (None, 100)               160400    \n",
      "                                                                 \n",
      " dense (Dense)               (None, 1687)              170387    \n",
      "                                                                 \n",
      " dense_1 (Dense)             (None, 3375)              5697000   \n",
      "                                                                 \n",
      "=================================================================\n",
      "Total params: 6666487 (25.43 MB)\n",
      "Trainable params: 6666487 (25.43 MB)\n",
      "Non-trainable params: 0 (0.00 Byte)\n",
      "_________________________________________________________________\n"
     ]
    }
   ],
   "source": [
    "model.summary()\n"
   ]
  },
  {
   "cell_type": "markdown",
   "metadata": {},
   "source": [
    "# Now train the model for 50 epochs and assign it to a variable called history.\n",
    "\n",
    "Training the model with 50 epochs should get you around 40% accuracy.\n",
    "\n",
    "You can train the model for as many epochs as you like depending on the time and computing constraints you are facing. Ideally train it for a larger amount of epochs than 50.\n",
    "\n",
    "That way you will get better text generation at the end.\n",
    "\n",
    "However, dont waste your time."
   ]
  },
  {
   "cell_type": "code",
   "execution_count": 12,
   "metadata": {
    "id": "AIg2f1HBxqof",
    "tags": []
   },
   "outputs": [
    {
     "name": "stderr",
     "output_type": "stream",
     "text": [
      "2024-10-01 20:03:17.671313: W external/local_tsl/tsl/framework/cpu_allocator_impl.cc:83] Allocation of 209034000 exceeds 10% of free system memory.\n",
      "2024-10-01 20:03:17.967066: W external/local_tsl/tsl/framework/cpu_allocator_impl.cc:83] Allocation of 209034000 exceeds 10% of free system memory.\n"
     ]
    },
    {
     "name": "stdout",
     "output_type": "stream",
     "text": [
      "Epoch 1/50\n"
     ]
    },
    {
     "name": "stderr",
     "output_type": "stream",
     "text": [
      "2024-10-01 20:03:25.312126: I external/local_xla/xla/stream_executor/cuda/cuda_dnn.cc:454] Loaded cuDNN version 8907\n",
      "2024-10-01 20:03:26.658648: I external/local_xla/xla/service/service.cc:168] XLA service 0x7ff4180a7030 initialized for platform CUDA (this does not guarantee that XLA will be used). Devices:\n",
      "2024-10-01 20:03:26.658722: I external/local_xla/xla/service/service.cc:176]   StreamExecutor device (0): Tesla V100-PCIE-16GB, Compute Capability 7.0\n",
      "2024-10-01 20:03:26.687108: I tensorflow/compiler/mlir/tensorflow/utils/dump_mlir_util.cc:269] disabling MLIR crash reproducer, set env var `MLIR_CRASH_REPRODUCER_DIRECTORY` to enable.\n",
      "WARNING: All log messages before absl::InitializeLog() is called are written to STDERR\n",
      "I0000 00:00:1727813006.838417      84 device_compiler.h:186] Compiled cluster using XLA!  This line is logged at most once for the lifetime of the process.\n"
     ]
    },
    {
     "name": "stdout",
     "output_type": "stream",
     "text": [
      "484/484 [==============================] - 21s 23ms/step - loss: 6.9169 - accuracy: 0.0199\n",
      "Epoch 2/50\n",
      "484/484 [==============================] - 5s 11ms/step - loss: 6.5047 - accuracy: 0.0237\n",
      "Epoch 3/50\n",
      "484/484 [==============================] - 5s 10ms/step - loss: 6.4141 - accuracy: 0.0254\n",
      "Epoch 4/50\n",
      "484/484 [==============================] - 5s 10ms/step - loss: 6.2922 - accuracy: 0.0296\n",
      "Epoch 5/50\n",
      "484/484 [==============================] - 5s 10ms/step - loss: 6.1951 - accuracy: 0.0354\n",
      "Epoch 6/50\n",
      "484/484 [==============================] - 5s 10ms/step - loss: 6.1110 - accuracy: 0.0382\n",
      "Epoch 7/50\n",
      "484/484 [==============================] - 5s 9ms/step - loss: 6.0320 - accuracy: 0.0409\n",
      "Epoch 8/50\n",
      "484/484 [==============================] - 5s 9ms/step - loss: 5.9453 - accuracy: 0.0440\n",
      "Epoch 9/50\n",
      "484/484 [==============================] - 5s 10ms/step - loss: 5.8431 - accuracy: 0.0521\n",
      "Epoch 10/50\n",
      "484/484 [==============================] - 5s 10ms/step - loss: 5.7341 - accuracy: 0.0563\n",
      "Epoch 11/50\n",
      "484/484 [==============================] - 5s 10ms/step - loss: 5.6267 - accuracy: 0.0613\n",
      "Epoch 12/50\n",
      "484/484 [==============================] - 5s 10ms/step - loss: 5.5207 - accuracy: 0.0679\n",
      "Epoch 13/50\n",
      "484/484 [==============================] - 5s 10ms/step - loss: 5.4057 - accuracy: 0.0750\n",
      "Epoch 14/50\n",
      "484/484 [==============================] - 5s 10ms/step - loss: 5.2986 - accuracy: 0.0831\n",
      "Epoch 15/50\n",
      "484/484 [==============================] - 5s 9ms/step - loss: 5.1896 - accuracy: 0.0883\n",
      "Epoch 16/50\n",
      "484/484 [==============================] - 5s 10ms/step - loss: 5.0816 - accuracy: 0.0963\n",
      "Epoch 17/50\n",
      "484/484 [==============================] - 5s 10ms/step - loss: 4.9802 - accuracy: 0.1046\n",
      "Epoch 18/50\n",
      "484/484 [==============================] - 5s 10ms/step - loss: 4.8744 - accuracy: 0.1134\n",
      "Epoch 19/50\n",
      "484/484 [==============================] - 5s 10ms/step - loss: 4.7706 - accuracy: 0.1221\n",
      "Epoch 20/50\n",
      "484/484 [==============================] - 5s 10ms/step - loss: 4.6699 - accuracy: 0.1342\n",
      "Epoch 21/50\n",
      "484/484 [==============================] - 5s 10ms/step - loss: 4.5737 - accuracy: 0.1436\n",
      "Epoch 22/50\n",
      "484/484 [==============================] - 5s 9ms/step - loss: 4.4628 - accuracy: 0.1553\n",
      "Epoch 23/50\n",
      "484/484 [==============================] - 5s 10ms/step - loss: 4.3665 - accuracy: 0.1649\n",
      "Epoch 24/50\n",
      "484/484 [==============================] - 5s 10ms/step - loss: 4.2677 - accuracy: 0.1759\n",
      "Epoch 25/50\n",
      "484/484 [==============================] - 5s 9ms/step - loss: 4.1610 - accuracy: 0.1903\n",
      "Epoch 26/50\n",
      "484/484 [==============================] - 5s 10ms/step - loss: 4.0592 - accuracy: 0.2036\n",
      "Epoch 27/50\n",
      "484/484 [==============================] - 5s 9ms/step - loss: 3.9522 - accuracy: 0.2237\n",
      "Epoch 28/50\n",
      "484/484 [==============================] - 5s 10ms/step - loss: 3.8602 - accuracy: 0.2354\n",
      "Epoch 29/50\n",
      "484/484 [==============================] - 5s 9ms/step - loss: 3.7645 - accuracy: 0.2492\n",
      "Epoch 30/50\n",
      "484/484 [==============================] - 5s 9ms/step - loss: 3.6574 - accuracy: 0.2738\n",
      "Epoch 31/50\n",
      "484/484 [==============================] - 5s 9ms/step - loss: 3.5768 - accuracy: 0.2882\n",
      "Epoch 32/50\n",
      "484/484 [==============================] - 5s 10ms/step - loss: 3.4787 - accuracy: 0.3083\n",
      "Epoch 33/50\n",
      "484/484 [==============================] - 5s 9ms/step - loss: 3.3876 - accuracy: 0.3308\n",
      "Epoch 34/50\n",
      "484/484 [==============================] - 4s 9ms/step - loss: 3.3103 - accuracy: 0.3456\n",
      "Epoch 35/50\n",
      "484/484 [==============================] - 5s 10ms/step - loss: 3.2191 - accuracy: 0.3674\n",
      "Epoch 36/50\n",
      "484/484 [==============================] - 5s 10ms/step - loss: 3.1398 - accuracy: 0.3837\n",
      "Epoch 37/50\n",
      "484/484 [==============================] - 5s 10ms/step - loss: 3.0586 - accuracy: 0.3994\n",
      "Epoch 38/50\n",
      "484/484 [==============================] - 5s 10ms/step - loss: 2.9876 - accuracy: 0.4184\n",
      "Epoch 39/50\n",
      "484/484 [==============================] - 5s 9ms/step - loss: 2.9184 - accuracy: 0.4341\n",
      "Epoch 40/50\n",
      "484/484 [==============================] - 5s 10ms/step - loss: 2.8509 - accuracy: 0.4476\n",
      "Epoch 41/50\n",
      "484/484 [==============================] - 5s 9ms/step - loss: 2.7790 - accuracy: 0.4602\n",
      "Epoch 42/50\n",
      "484/484 [==============================] - 5s 10ms/step - loss: 2.7042 - accuracy: 0.4813\n",
      "Epoch 43/50\n",
      "484/484 [==============================] - 5s 9ms/step - loss: 2.6414 - accuracy: 0.4935\n",
      "Epoch 44/50\n",
      "484/484 [==============================] - 5s 9ms/step - loss: 2.5775 - accuracy: 0.5116\n",
      "Epoch 45/50\n",
      "484/484 [==============================] - 5s 9ms/step - loss: 2.5303 - accuracy: 0.5203\n",
      "Epoch 46/50\n",
      "484/484 [==============================] - 5s 10ms/step - loss: 2.4641 - accuracy: 0.5329\n",
      "Epoch 47/50\n",
      "484/484 [==============================] - 5s 10ms/step - loss: 2.4077 - accuracy: 0.5517\n",
      "Epoch 48/50\n",
      "484/484 [==============================] - 5s 10ms/step - loss: 2.3630 - accuracy: 0.5558\n",
      "Epoch 49/50\n",
      "484/484 [==============================] - 5s 10ms/step - loss: 2.3141 - accuracy: 0.5652\n",
      "Epoch 50/50\n",
      "484/484 [==============================] - 5s 10ms/step - loss: 2.2779 - accuracy: 0.5773\n"
     ]
    }
   ],
   "source": [
    "history = model.fit(predictors, labels, epochs=50, verbose=1)\n"
   ]
  },
  {
   "cell_type": "markdown",
   "metadata": {},
   "source": [
    "# Use plt from matplotlib to plot the training accuracy over epochs and the loss over epochs"
   ]
  },
  {
   "cell_type": "markdown",
   "metadata": {},
   "source": [
    "First you will have to get the accuracy and loss data over epochs, you can do this by using methods on your model."
   ]
  },
  {
   "cell_type": "code",
   "execution_count": 17,
   "metadata": {
    "id": "1fXTEO3GJ282",
    "tags": []
   },
   "outputs": [
    {
     "data": {
      "image/png": "[encoded data removed]",
      "text/plain": [
       "<Figure size 1200x600 with 2 Axes>"
      ]
     },
     "metadata": {},
     "output_type": "display_data"
    }
   ],
   "source": [
    "import matplotlib.pyplot as plt\n",
    "\n",
    "# Step 11: Plot training accuracy and loss over epochs\n",
    "\n",
    "# Extract the history data for accuracy and loss\n",
    "accuracy = history.history['accuracy']\n",
    "loss = history.history['loss']\n",
    "epochs = range(1, len(accuracy) + 1)\n",
    "\n",
    "# Plot accuracy over epochs\n",
    "plt.figure(figsize=(12, 6))\n",
    "\n",
    "# Plot accuracy\n",
    "plt.subplot(1, 2, 1)\n",
    "plt.plot(epochs, accuracy, 'b', label='Training Accuracy')\n",
    "plt.title('Training Accuracy over Epochs')\n",
    "plt.xlabel('Epochs')\n",
    "plt.ylabel('Accuracy')\n",
    "plt.legend()\n",
    "\n",
    "# Plot loss over epochs\n",
    "plt.subplot(1, 2, 2)\n",
    "plt.plot(epochs, loss, 'r', label='Training Loss')\n",
    "plt.title('Training Loss over Epochs')\n",
    "plt.xlabel('Epochs')\n",
    "plt.ylabel('Loss')\n",
    "plt.legend()\n",
    "\n",
    "plt.tight_layout()\n",
    "plt.show()"
   ]
  },
  {
   "cell_type": "markdown",
   "metadata": {},
   "source": [
    "# Generate text with the model based on a seed text\n",
    "\n",
    "Now you will create two variables :\n",
    "\n",
    "- seed_text = 'Write the text you want the model to use as a starting point to generate the next words'\n",
    "- next_words = number_of_words_you_want_the_model_to_generate\n",
    "\n",
    "Please change number_of_words_you_want_the_model_to_generate by an actual integer."
   ]
  },
  {
   "cell_type": "code",
   "execution_count": 19,
   "metadata": {},
   "outputs": [],
   "source": [
    "seed_text = \"Shall I compare thee to a summer's day\"\n",
    "next_words = 50 "
   ]
  },
  {
   "cell_type": "markdown",
   "metadata": {},
   "source": [
    "Now create a loop that runs based on the next_words variable and generates new text based on your seed_text input string. Print the full text with the generated text at the end.\n",
    "\n",
    "This time you dont get detailed instructions.\n",
    "\n",
    "Have fun!"
   ]
  },
  {
   "cell_type": "code",
   "execution_count": 21,
   "metadata": {
    "id": "6Vc6PHgxa6Hm",
    "tags": []
   },
   "outputs": [
    {
     "name": "stdout",
     "output_type": "stream",
     "text": [
      "Shall I compare thee to a summer's day fitted staineth staineth staineth quite gone can go did light deceive light light light go ill slow quite light tell her near dwells alive do be hate up that gems cross'd hate yourself and loving place rare 'will ' can speed speed speed see renew'd counted part do me behold it now show thee open slow kept used than day disdain date part ' quite light burn be disdain dyed quite light twain light quite place 'tis new hour than glory so told i dwell in woe grow quite asleep clearer light light warm'd warm'd light quite mother light alive\n"
     ]
    }
   ],
   "source": [
    "for _ in range(next_words):\n",
    "    # Tokenize the current seed text\n",
    "    token_list = tokenizer.texts_to_sequences([seed_text])[0]\n",
    "    \n",
    "    # Pad the tokenized sequence to match the input length\n",
    "    token_list = pad_sequences([token_list], maxlen=max_sequence_len-1, padding='pre')\n",
    "    \n",
    "    # Predict the next word (highest probability)\n",
    "    predicted = model.predict(token_list, verbose=0)\n",
    "    predicted_word_index = np.argmax(predicted, axis=-1)\n",
    "    \n",
    "    # Find the word corresponding to the predicted index\n",
    "    for word, index in tokenizer.word_index.items():\n",
    "        if index == predicted_word_index:\n",
    "            seed_text += \" \" + word  # Append the predicted word to the seed text\n",
    "            break\n",
    "\n",
    "print(seed_text)\n"
   ]
  },
  {
   "cell_type": "markdown",
   "metadata": {},
   "source": [
    "Experiment with at least 3 different seed_text strings and see what happens!"
   ]
  },
  {
   "cell_type": "code",
   "execution_count": 22,
   "metadata": {},
   "outputs": [],
   "source": [
    "seed_text = \"what's the time, honey?\"\n",
    "next_words=10"
   ]
  },
  {
   "cell_type": "code",
   "execution_count": 25,
   "metadata": {},
   "outputs": [
    {
     "name": "stdout",
     "output_type": "stream",
     "text": [
      "what's the time, honey? infant's distemper'd than painted asleep hate lies used pride lies\n"
     ]
    }
   ],
   "source": [
    "for _ in range(next_words):\n",
    "    # Tokenize the current seed text\n",
    "    token_list = tokenizer.texts_to_sequences([seed_text])[0]\n",
    "    \n",
    "    # Pad the tokenized sequence to match the input length\n",
    "    token_list = pad_sequences([token_list], maxlen=max_sequence_len-1, padding='pre')\n",
    "    \n",
    "    # Predict the next word (highest probability)\n",
    "    predicted = model.predict(token_list, verbose=0)\n",
    "    predicted_word_index = np.argmax(predicted, axis=-1)\n",
    "    \n",
    "    # Find the word corresponding to the predicted index\n",
    "    for word, index in tokenizer.word_index.items():\n",
    "        if index == predicted_word_index:\n",
    "            seed_text += \" \" + word  # Append the predicted word to the seed text\n",
    "            break\n",
    "\n",
    "print(seed_text)\n"
   ]
  },
  {
   "cell_type": "code",
   "execution_count": 26,
   "metadata": {},
   "outputs": [],
   "source": [
    "seed_text = \"what are you talking about, Liscisca? \"\n",
    "next_words=10"
   ]
  },
  {
   "cell_type": "code",
   "execution_count": 27,
   "metadata": {},
   "outputs": [
    {
     "name": "stdout",
     "output_type": "stream",
     "text": [
      "what are you talking about, Liscisca?  fairer lodged and lovely deep fall her wind broken decrease\n"
     ]
    }
   ],
   "source": [
    "for _ in range(next_words):\n",
    "    # Tokenize the current seed text\n",
    "    token_list = tokenizer.texts_to_sequences([seed_text])[0]\n",
    "    \n",
    "    # Pad the tokenized sequence to match the input length\n",
    "    token_list = pad_sequences([token_list], maxlen=max_sequence_len-1, padding='pre')\n",
    "    \n",
    "    # Predict the next word (highest probability)\n",
    "    predicted = model.predict(token_list, verbose=0)\n",
    "    predicted_word_index = np.argmax(predicted, axis=-1)\n",
    "    \n",
    "    # Find the word corresponding to the predicted index\n",
    "    for word, index in tokenizer.word_index.items():\n",
    "        if index == predicted_word_index:\n",
    "            seed_text += \" \" + word  # Append the predicted word to the seed text\n",
    "            break\n",
    "\n",
    "print(seed_text)"
   ]
  },
  {
   "cell_type": "code",
   "execution_count": 29,
   "metadata": {},
   "outputs": [],
   "source": [
    "seed_text = \"Girl you're coocko \"\n",
    "next_words=10"
   ]
  },
  {
   "cell_type": "code",
   "execution_count": 30,
   "metadata": {},
   "outputs": [
    {
     "name": "stdout",
     "output_type": "stream",
     "text": [
      "Girl you're coocko  not prizing her a woman woos make woman's son dwell\n"
     ]
    }
   ],
   "source": [
    "for _ in range(next_words):\n",
    "    # Tokenize the current seed text\n",
    "    token_list = tokenizer.texts_to_sequences([seed_text])[0]\n",
    "    \n",
    "    # Pad the tokenized sequence to match the input length\n",
    "    token_list = pad_sequences([token_list], maxlen=max_sequence_len-1, padding='pre')\n",
    "    \n",
    "    # Predict the next word (highest probability)\n",
    "    predicted = model.predict(token_list, verbose=0)\n",
    "    predicted_word_index = np.argmax(predicted, axis=-1)\n",
    "    \n",
    "    # Find the word corresponding to the predicted index\n",
    "    for word, index in tokenizer.word_index.items():\n",
    "        if index == predicted_word_index:\n",
    "            seed_text += \" \" + word  # Append the predicted word to the seed text\n",
    "            break\n",
    "\n",
    "print(seed_text)"
   ]
  }
 ],
 "metadata": {
  "accelerator": "GPU",
  "colab": {
   "name": "NLP_Week4_Exercise_Shakespeare_Answer.ipynb",
   "provenance": [],
   "toc_visible": true
  },
  "kernelspec": {
   "display_name": "Python 3 (ipykernel)",
   "language": "python",
   "name": "python3"
  },
  "language_info": {
   "codemirror_mode": {
    "name": "ipython",
    "version": 3
   },
   "file_extension": ".py",
   "mimetype": "text/x-python",
   "name": "python",
   "nbconvert_exporter": "python",
   "pygments_lexer": "ipython3",
   "version": "3.11.7"
  }
 },
 "nbformat": 4,
 "nbformat_minor": 4
}
